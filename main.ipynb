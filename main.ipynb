{
 "cells": [
  {
   "cell_type": "code",
   "execution_count": 1,
   "metadata": {},
   "outputs": [
    {
     "name": "stdout",
     "output_type": "stream",
     "text": [
      "Dash is running on http://127.0.0.1:8050/\n",
      "\n",
      " * Serving Flask app '__main__' (lazy loading)\n",
      " * Environment: production\n",
      "\u001b[31m   WARNING: This is a development server. Do not use it in a production deployment.\u001b[0m\n",
      "\u001b[2m   Use a production WSGI server instead.\u001b[0m\n",
      " * Debug mode: off\n"
     ]
    },
    {
     "name": "stderr",
     "output_type": "stream",
     "text": [
      " * Running on http://127.0.0.1:8050/ (Press CTRL+C to quit)\n"
     ]
    },
    {
     "name": "stdout",
     "output_type": "stream",
     "text": [
      "Exception on /_dash-update-component [POST]\n",
      "Traceback (most recent call last):\n",
      "  File \"/opt/miniconda3/lib/python3.9/site-packages/flask/app.py\", line 2073, in wsgi_app\n",
      "    response = self.full_dispatch_request()\n",
      "  File \"/opt/miniconda3/lib/python3.9/site-packages/flask/app.py\", line 1518, in full_dispatch_request\n",
      "    rv = self.handle_user_exception(e)\n",
      "  File \"/opt/miniconda3/lib/python3.9/site-packages/flask/app.py\", line 1516, in full_dispatch_request\n",
      "    rv = self.dispatch_request()\n",
      "  File \"/opt/miniconda3/lib/python3.9/site-packages/flask/app.py\", line 1502, in dispatch_request\n",
      "    return self.ensure_sync(self.view_functions[rule.endpoint])(**req.view_args)\n",
      "  File \"/opt/miniconda3/lib/python3.9/site-packages/dash/dash.py\", line 1336, in dispatch\n",
      "    response.set_data(func(*args, outputs_list=outputs_list))\n",
      "  File \"/opt/miniconda3/lib/python3.9/site-packages/dash/_callback.py\", line 151, in add_context\n",
      "    output_value = func(*func_args, **func_kwargs)  # %% callback invoked %%\n",
      "  File \"/var/folders/cb/y_45syrn4kd26w8rrdgvk_3r0000gn/T/ipykernel_53661/627631000.py\", line 319, in HoverToBoxPlot\n",
      "    genes = hoverdata['points'][0]['x'].split('-')\n",
      "TypeError: 'NoneType' object is not subscriptable\n"
     ]
    },
    {
     "name": "stderr",
     "output_type": "stream",
     "text": [
      "127.0.0.1 - - [22/Aug/2022 15:45:57] \"\u001b[35m\u001b[1mPOST /_dash-update-component HTTP/1.1\u001b[0m\" 500 -\n"
     ]
    },
    {
     "name": "stdout",
     "output_type": "stream",
     "text": [
      "Exception on /_dash-update-component [POST]\n",
      "Traceback (most recent call last):\n",
      "  File \"/opt/miniconda3/lib/python3.9/site-packages/flask/app.py\", line 2073, in wsgi_app\n",
      "    response = self.full_dispatch_request()\n",
      "  File \"/opt/miniconda3/lib/python3.9/site-packages/flask/app.py\", line 1518, in full_dispatch_request\n",
      "    rv = self.handle_user_exception(e)\n",
      "  File \"/opt/miniconda3/lib/python3.9/site-packages/flask/app.py\", line 1516, in full_dispatch_request\n",
      "    rv = self.dispatch_request()\n",
      "  File \"/opt/miniconda3/lib/python3.9/site-packages/flask/app.py\", line 1502, in dispatch_request\n",
      "    return self.ensure_sync(self.view_functions[rule.endpoint])(**req.view_args)\n",
      "  File \"/opt/miniconda3/lib/python3.9/site-packages/dash/dash.py\", line 1336, in dispatch\n",
      "    response.set_data(func(*args, outputs_list=outputs_list))\n",
      "  File \"/opt/miniconda3/lib/python3.9/site-packages/dash/_callback.py\", line 151, in add_context\n",
      "    output_value = func(*func_args, **func_kwargs)  # %% callback invoked %%\n",
      "  File \"/var/folders/cb/y_45syrn4kd26w8rrdgvk_3r0000gn/T/ipykernel_53661/627631000.py\", line 289, in make_heatmap\n",
      "    Max_Val = max(fold_change_df_T.max(numeric_only=True).tolist())\n",
      "ValueError: max() arg is an empty sequence\n"
     ]
    },
    {
     "name": "stderr",
     "output_type": "stream",
     "text": [
      "127.0.0.1 - - [22/Aug/2022 15:45:57] \"\u001b[35m\u001b[1mPOST /_dash-update-component HTTP/1.1\u001b[0m\" 500 -\n",
      "127.0.0.1 - - [22/Aug/2022 15:46:01] \"GET / HTTP/1.1\" 200 -\n",
      "127.0.0.1 - - [22/Aug/2022 15:46:01] \"GET /_dash-layout HTTP/1.1\" 200 -\n",
      "127.0.0.1 - - [22/Aug/2022 15:46:01] \"GET /_dash-dependencies HTTP/1.1\" 200 -\n",
      "127.0.0.1 - - [22/Aug/2022 15:46:01] \"GET /_dash-component-suites/dash/dcc/async-dropdown.js HTTP/1.1\" 200 -\n",
      "127.0.0.1 - - [22/Aug/2022 15:46:01] \"GET /_dash-component-suites/dash/dcc/async-slider.js HTTP/1.1\" 200 -\n",
      "127.0.0.1 - - [22/Aug/2022 15:46:01] \"GET /_dash-component-suites/dash/dcc/async-graph.js HTTP/1.1\" 200 -\n",
      "127.0.0.1 - - [22/Aug/2022 15:46:01] \"GET /_dash-component-suites/dash/dcc/async-plotlyjs.js HTTP/1.1\" 200 -\n"
     ]
    },
    {
     "name": "stdout",
     "output_type": "stream",
     "text": [
      "Exception on /_dash-update-component [POST]\n",
      "Traceback (most recent call last):\n",
      "  File \"/opt/miniconda3/lib/python3.9/site-packages/flask/app.py\", line 2073, in wsgi_app\n",
      "    response = self.full_dispatch_request()\n",
      "  File \"/opt/miniconda3/lib/python3.9/site-packages/flask/app.py\", line 1518, in full_dispatch_request\n",
      "    rv = self.handle_user_exception(e)\n",
      "  File \"/opt/miniconda3/lib/python3.9/site-packages/flask/app.py\", line 1516, in full_dispatch_request\n",
      "    rv = self.dispatch_request()\n",
      "  File \"/opt/miniconda3/lib/python3.9/site-packages/flask/app.py\", line 1502, in dispatch_request\n",
      "    return self.ensure_sync(self.view_functions[rule.endpoint])(**req.view_args)\n",
      "  File \"/opt/miniconda3/lib/python3.9/site-packages/dash/dash.py\", line 1336, in dispatch\n",
      "    response.set_data(func(*args, outputs_list=outputs_list))\n",
      "  File \"/opt/miniconda3/lib/python3.9/site-packages/dash/_callback.py\", line 151, in add_context\n",
      "    output_value = func(*func_args, **func_kwargs)  # %% callback invoked %%\n",
      "  File \"/var/folders/cb/y_45syrn4kd26w8rrdgvk_3r0000gn/T/ipykernel_53661/627631000.py\", line 129, in gene1_dropdown_avail\n",
      "    return [{'label': i, 'value': i} for i in dict_gene_string_list[hour]]\n",
      "KeyError: None\n"
     ]
    },
    {
     "name": "stderr",
     "output_type": "stream",
     "text": [
      "127.0.0.1 - - [22/Aug/2022 15:46:01] \"GET /_favicon.ico?v=2.0.0 HTTP/1.1\" 200 -\n"
     ]
    },
    {
     "name": "stdout",
     "output_type": "stream",
     "text": [
      "Exception on /_dash-update-component [POST]\n",
      "Traceback (most recent call last):\n",
      "  File \"/opt/miniconda3/lib/python3.9/site-packages/flask/app.py\", line 2073, in wsgi_app\n",
      "    response = self.full_dispatch_request()\n",
      "  File \"/opt/miniconda3/lib/python3.9/site-packages/flask/app.py\", line 1518, in full_dispatch_request\n",
      "    rv = self.handle_user_exception(e)\n",
      "  File \"/opt/miniconda3/lib/python3.9/site-packages/flask/app.py\", line 1516, in full_dispatch_request\n",
      "    rv = self.dispatch_request()\n",
      "  File \"/opt/miniconda3/lib/python3.9/site-packages/flask/app.py\", line 1502, in dispatch_request\n",
      "    return self.ensure_sync(self.view_functions[rule.endpoint])(**req.view_args)\n",
      "  File \"/opt/miniconda3/lib/python3.9/site-packages/dash/dash.py\", line 1336, in dispatch\n",
      "    response.set_data(func(*args, outputs_list=outputs_list))\n",
      "  File \"/opt/miniconda3/lib/python3.9/site-packages/dash/_callback.py\", line 151, in add_context\n",
      "    output_value = func(*func_args, **func_kwargs)  # %% callback invoked %%\n",
      "  File \"/var/folders/cb/y_45syrn4kd26w8rrdgvk_3r0000gn/T/ipykernel_53661/627631000.py\", line 138, in gene2_dropdown_avail\n",
      "    string_to_show = list(dict_gene_string_list[hour])\n",
      "KeyError: None\n"
     ]
    },
    {
     "name": "stderr",
     "output_type": "stream",
     "text": [
      "127.0.0.1 - - [22/Aug/2022 15:46:01] \"\u001b[35m\u001b[1mPOST /_dash-update-component HTTP/1.1\u001b[0m\" 500 -\n",
      "127.0.0.1 - - [22/Aug/2022 15:46:01] \"\u001b[35m\u001b[1mPOST /_dash-update-component HTTP/1.1\u001b[0m\" 500 -\n"
     ]
    },
    {
     "name": "stdout",
     "output_type": "stream",
     "text": [
      "Exception on /_dash-update-component [POST]\n",
      "Traceback (most recent call last):\n",
      "  File \"/opt/miniconda3/lib/python3.9/site-packages/flask/app.py\", line 2073, in wsgi_app\n",
      "    response = self.full_dispatch_request()\n",
      "  File \"/opt/miniconda3/lib/python3.9/site-packages/flask/app.py\", line 1518, in full_dispatch_request\n",
      "    rv = self.handle_user_exception(e)\n",
      "  File \"/opt/miniconda3/lib/python3.9/site-packages/flask/app.py\", line 1516, in full_dispatch_request\n",
      "    rv = self.dispatch_request()\n",
      "  File \"/opt/miniconda3/lib/python3.9/site-packages/flask/app.py\", line 1502, in dispatch_request\n",
      "    return self.ensure_sync(self.view_functions[rule.endpoint])(**req.view_args)\n",
      "  File \"/opt/miniconda3/lib/python3.9/site-packages/dash/dash.py\", line 1336, in dispatch\n",
      "    response.set_data(func(*args, outputs_list=outputs_list))\n",
      "  File \"/opt/miniconda3/lib/python3.9/site-packages/dash/_callback.py\", line 151, in add_context\n",
      "    output_value = func(*func_args, **func_kwargs)  # %% callback invoked %%\n",
      "  File \"/var/folders/cb/y_45syrn4kd26w8rrdgvk_3r0000gn/T/ipykernel_53661/627631000.py\", line 154, in make_heatmap\n",
      "    hour_readable = hour_string_dict[hour]\n",
      "KeyError: None\n"
     ]
    },
    {
     "name": "stderr",
     "output_type": "stream",
     "text": [
      "127.0.0.1 - - [22/Aug/2022 15:46:01] \"\u001b[35m\u001b[1mPOST /_dash-update-component HTTP/1.1\u001b[0m\" 500 -\n"
     ]
    },
    {
     "name": "stdout",
     "output_type": "stream",
     "text": [
      "Exception on /_dash-update-component [POST]\n",
      "Traceback (most recent call last):\n",
      "  File \"/opt/miniconda3/lib/python3.9/site-packages/flask/app.py\", line 2073, in wsgi_app\n",
      "    response = self.full_dispatch_request()\n",
      "  File \"/opt/miniconda3/lib/python3.9/site-packages/flask/app.py\", line 1518, in full_dispatch_request\n",
      "    rv = self.handle_user_exception(e)\n",
      "  File \"/opt/miniconda3/lib/python3.9/site-packages/flask/app.py\", line 1516, in full_dispatch_request\n",
      "    rv = self.dispatch_request()\n",
      "  File \"/opt/miniconda3/lib/python3.9/site-packages/flask/app.py\", line 1502, in dispatch_request\n",
      "    return self.ensure_sync(self.view_functions[rule.endpoint])(**req.view_args)\n",
      "  File \"/opt/miniconda3/lib/python3.9/site-packages/dash/dash.py\", line 1336, in dispatch\n",
      "    response.set_data(func(*args, outputs_list=outputs_list))\n",
      "  File \"/opt/miniconda3/lib/python3.9/site-packages/dash/_callback.py\", line 151, in add_context\n",
      "    output_value = func(*func_args, **func_kwargs)  # %% callback invoked %%\n",
      "  File \"/var/folders/cb/y_45syrn4kd26w8rrdgvk_3r0000gn/T/ipykernel_53661/627631000.py\", line 319, in HoverToBoxPlot\n",
      "    genes = hoverdata['points'][0]['x'].split('-')\n",
      "TypeError: 'NoneType' object is not subscriptable\n"
     ]
    },
    {
     "name": "stderr",
     "output_type": "stream",
     "text": [
      "127.0.0.1 - - [22/Aug/2022 15:46:02] \"\u001b[35m\u001b[1mPOST /_dash-update-component HTTP/1.1\u001b[0m\" 500 -\n",
      "127.0.0.1 - - [22/Aug/2022 15:46:04] \"POST /_dash-update-component HTTP/1.1\" 200 -\n"
     ]
    },
    {
     "name": "stdout",
     "output_type": "stream",
     "text": [
      "Exception on /_dash-update-component [POST]\n",
      "Traceback (most recent call last):\n",
      "  File \"/opt/miniconda3/lib/python3.9/site-packages/flask/app.py\", line 2073, in wsgi_app\n",
      "    response = self.full_dispatch_request()\n",
      "  File \"/opt/miniconda3/lib/python3.9/site-packages/flask/app.py\", line 1518, in full_dispatch_request\n",
      "    rv = self.handle_user_exception(e)\n",
      "  File \"/opt/miniconda3/lib/python3.9/site-packages/flask/app.py\", line 1516, in full_dispatch_request\n",
      "    rv = self.dispatch_request()\n",
      "  File \"/opt/miniconda3/lib/python3.9/site-packages/flask/app.py\", line 1502, in dispatch_request\n",
      "    return self.ensure_sync(self.view_functions[rule.endpoint])(**req.view_args)\n",
      "  File \"/opt/miniconda3/lib/python3.9/site-packages/dash/dash.py\", line 1336, in dispatch\n",
      "    response.set_data(func(*args, outputs_list=outputs_list))\n",
      "  File \"/opt/miniconda3/lib/python3.9/site-packages/dash/_callback.py\", line 151, in add_context\n",
      "    output_value = func(*func_args, **func_kwargs)  # %% callback invoked %%\n",
      "  File \"/var/folders/cb/y_45syrn4kd26w8rrdgvk_3r0000gn/T/ipykernel_53661/627631000.py\", line 139, in gene2_dropdown_avail\n",
      "    string_to_show.remove(gene1)\n",
      "ValueError: list.remove(x): x not in list\n"
     ]
    },
    {
     "name": "stderr",
     "output_type": "stream",
     "text": [
      "127.0.0.1 - - [22/Aug/2022 15:46:04] \"\u001b[35m\u001b[1mPOST /_dash-update-component HTTP/1.1\u001b[0m\" 500 -\n"
     ]
    },
    {
     "name": "stdout",
     "output_type": "stream",
     "text": [
      "Exception on /_dash-update-component [POST]\n",
      "Traceback (most recent call last):\n",
      "  File \"/opt/miniconda3/lib/python3.9/site-packages/flask/app.py\", line 2073, in wsgi_app\n",
      "    response = self.full_dispatch_request()\n",
      "  File \"/opt/miniconda3/lib/python3.9/site-packages/flask/app.py\", line 1518, in full_dispatch_request\n",
      "    rv = self.handle_user_exception(e)\n",
      "  File \"/opt/miniconda3/lib/python3.9/site-packages/flask/app.py\", line 1516, in full_dispatch_request\n",
      "    rv = self.dispatch_request()\n",
      "  File \"/opt/miniconda3/lib/python3.9/site-packages/flask/app.py\", line 1502, in dispatch_request\n",
      "    return self.ensure_sync(self.view_functions[rule.endpoint])(**req.view_args)\n",
      "  File \"/opt/miniconda3/lib/python3.9/site-packages/dash/dash.py\", line 1336, in dispatch\n",
      "    response.set_data(func(*args, outputs_list=outputs_list))\n",
      "  File \"/opt/miniconda3/lib/python3.9/site-packages/dash/_callback.py\", line 151, in add_context\n",
      "    output_value = func(*func_args, **func_kwargs)  # %% callback invoked %%\n",
      "  File \"/var/folders/cb/y_45syrn4kd26w8rrdgvk_3r0000gn/T/ipykernel_53661/627631000.py\", line 181, in make_heatmap\n",
      "    for gene2 in gene2_muti:\n",
      "TypeError: 'NoneType' object is not iterable\n"
     ]
    },
    {
     "name": "stderr",
     "output_type": "stream",
     "text": [
      "127.0.0.1 - - [22/Aug/2022 15:46:04] \"\u001b[35m\u001b[1mPOST /_dash-update-component HTTP/1.1\u001b[0m\" 500 -\n"
     ]
    },
    {
     "name": "stdout",
     "output_type": "stream",
     "text": [
      "Exception on /_dash-update-component [POST]\n",
      "Traceback (most recent call last):\n",
      "  File \"/opt/miniconda3/lib/python3.9/site-packages/flask/app.py\", line 2073, in wsgi_app\n",
      "    response = self.full_dispatch_request()\n",
      "  File \"/opt/miniconda3/lib/python3.9/site-packages/flask/app.py\", line 1518, in full_dispatch_request\n",
      "    rv = self.handle_user_exception(e)\n",
      "  File \"/opt/miniconda3/lib/python3.9/site-packages/flask/app.py\", line 1516, in full_dispatch_request\n",
      "    rv = self.dispatch_request()\n",
      "  File \"/opt/miniconda3/lib/python3.9/site-packages/flask/app.py\", line 1502, in dispatch_request\n",
      "    return self.ensure_sync(self.view_functions[rule.endpoint])(**req.view_args)\n",
      "  File \"/opt/miniconda3/lib/python3.9/site-packages/dash/dash.py\", line 1336, in dispatch\n",
      "    response.set_data(func(*args, outputs_list=outputs_list))\n",
      "  File \"/opt/miniconda3/lib/python3.9/site-packages/dash/_callback.py\", line 151, in add_context\n",
      "    output_value = func(*func_args, **func_kwargs)  # %% callback invoked %%\n",
      "  File \"/var/folders/cb/y_45syrn4kd26w8rrdgvk_3r0000gn/T/ipykernel_53661/627631000.py\", line 319, in HoverToBoxPlot\n",
      "    genes = hoverdata['points'][0]['x'].split('-')\n",
      "TypeError: 'NoneType' object is not subscriptable\n"
     ]
    },
    {
     "name": "stderr",
     "output_type": "stream",
     "text": [
      "127.0.0.1 - - [22/Aug/2022 15:46:04] \"\u001b[35m\u001b[1mPOST /_dash-update-component HTTP/1.1\u001b[0m\" 500 -\n",
      "127.0.0.1 - - [22/Aug/2022 15:46:06] \"POST /_dash-update-component HTTP/1.1\" 200 -\n"
     ]
    },
    {
     "name": "stdout",
     "output_type": "stream",
     "text": [
      "Exception on /_dash-update-component [POST]\n",
      "Traceback (most recent call last):\n",
      "  File \"/opt/miniconda3/lib/python3.9/site-packages/flask/app.py\", line 2073, in wsgi_app\n",
      "    response = self.full_dispatch_request()\n",
      "  File \"/opt/miniconda3/lib/python3.9/site-packages/flask/app.py\", line 1518, in full_dispatch_request\n",
      "    rv = self.handle_user_exception(e)\n",
      "  File \"/opt/miniconda3/lib/python3.9/site-packages/flask/app.py\", line 1516, in full_dispatch_request\n",
      "    rv = self.dispatch_request()\n",
      "  File \"/opt/miniconda3/lib/python3.9/site-packages/flask/app.py\", line 1502, in dispatch_request\n",
      "    return self.ensure_sync(self.view_functions[rule.endpoint])(**req.view_args)\n",
      "  File \"/opt/miniconda3/lib/python3.9/site-packages/dash/dash.py\", line 1336, in dispatch\n",
      "    response.set_data(func(*args, outputs_list=outputs_list))\n",
      "  File \"/opt/miniconda3/lib/python3.9/site-packages/dash/_callback.py\", line 151, in add_context\n",
      "    output_value = func(*func_args, **func_kwargs)  # %% callback invoked %%\n",
      "  File \"/var/folders/cb/y_45syrn4kd26w8rrdgvk_3r0000gn/T/ipykernel_53661/627631000.py\", line 181, in make_heatmap\n",
      "    for gene2 in gene2_muti:\n",
      "TypeError: 'NoneType' object is not iterable\n"
     ]
    },
    {
     "name": "stderr",
     "output_type": "stream",
     "text": [
      "127.0.0.1 - - [22/Aug/2022 15:46:06] \"\u001b[35m\u001b[1mPOST /_dash-update-component HTTP/1.1\u001b[0m\" 500 -\n"
     ]
    },
    {
     "name": "stdout",
     "output_type": "stream",
     "text": [
      "Exception on /_dash-update-component [POST]\n",
      "Traceback (most recent call last):\n",
      "  File \"/opt/miniconda3/lib/python3.9/site-packages/flask/app.py\", line 2073, in wsgi_app\n",
      "    response = self.full_dispatch_request()\n",
      "  File \"/opt/miniconda3/lib/python3.9/site-packages/flask/app.py\", line 1518, in full_dispatch_request\n",
      "    rv = self.handle_user_exception(e)\n",
      "  File \"/opt/miniconda3/lib/python3.9/site-packages/flask/app.py\", line 1516, in full_dispatch_request\n",
      "    rv = self.dispatch_request()\n",
      "  File \"/opt/miniconda3/lib/python3.9/site-packages/flask/app.py\", line 1502, in dispatch_request\n",
      "    return self.ensure_sync(self.view_functions[rule.endpoint])(**req.view_args)\n",
      "  File \"/opt/miniconda3/lib/python3.9/site-packages/dash/dash.py\", line 1336, in dispatch\n",
      "    response.set_data(func(*args, outputs_list=outputs_list))\n",
      "  File \"/opt/miniconda3/lib/python3.9/site-packages/dash/_callback.py\", line 151, in add_context\n",
      "    output_value = func(*func_args, **func_kwargs)  # %% callback invoked %%\n",
      "  File \"/var/folders/cb/y_45syrn4kd26w8rrdgvk_3r0000gn/T/ipykernel_53661/627631000.py\", line 181, in make_heatmap\n",
      "    for gene2 in gene2_muti:\n",
      "TypeError: 'NoneType' object is not iterable\n"
     ]
    },
    {
     "name": "stderr",
     "output_type": "stream",
     "text": [
      "127.0.0.1 - - [22/Aug/2022 15:46:06] \"\u001b[35m\u001b[1mPOST /_dash-update-component HTTP/1.1\u001b[0m\" 500 -\n"
     ]
    },
    {
     "name": "stdout",
     "output_type": "stream",
     "text": [
      "Exception on /_dash-update-component [POST]\n",
      "Traceback (most recent call last):\n",
      "  File \"/opt/miniconda3/lib/python3.9/site-packages/flask/app.py\", line 2073, in wsgi_app\n",
      "    response = self.full_dispatch_request()\n",
      "  File \"/opt/miniconda3/lib/python3.9/site-packages/flask/app.py\", line 1518, in full_dispatch_request\n",
      "    rv = self.handle_user_exception(e)\n",
      "  File \"/opt/miniconda3/lib/python3.9/site-packages/flask/app.py\", line 1516, in full_dispatch_request\n",
      "    rv = self.dispatch_request()\n",
      "  File \"/opt/miniconda3/lib/python3.9/site-packages/flask/app.py\", line 1502, in dispatch_request\n",
      "    return self.ensure_sync(self.view_functions[rule.endpoint])(**req.view_args)\n",
      "  File \"/opt/miniconda3/lib/python3.9/site-packages/dash/dash.py\", line 1336, in dispatch\n",
      "    response.set_data(func(*args, outputs_list=outputs_list))\n",
      "  File \"/opt/miniconda3/lib/python3.9/site-packages/dash/_callback.py\", line 151, in add_context\n",
      "    output_value = func(*func_args, **func_kwargs)  # %% callback invoked %%\n",
      "  File \"/var/folders/cb/y_45syrn4kd26w8rrdgvk_3r0000gn/T/ipykernel_53661/627631000.py\", line 319, in HoverToBoxPlot\n",
      "    genes = hoverdata['points'][0]['x'].split('-')\n",
      "TypeError: 'NoneType' object is not subscriptable\n"
     ]
    },
    {
     "name": "stderr",
     "output_type": "stream",
     "text": [
      "127.0.0.1 - - [22/Aug/2022 15:46:06] \"\u001b[35m\u001b[1mPOST /_dash-update-component HTTP/1.1\u001b[0m\" 500 -\n",
      "/var/folders/cb/y_45syrn4kd26w8rrdgvk_3r0000gn/T/ipykernel_53661/627631000.py:24: PerformanceWarning:\n",
      "\n",
      "DataFrame is highly fragmented.  This is usually the result of calling `frame.insert` many times, which has poor performance.  Consider joining all columns at once using pd.concat(axis=1) instead.  To get a de-fragmented frame, use `newframe = frame.copy()`\n",
      "\n",
      "127.0.0.1 - - [22/Aug/2022 15:46:08] \"POST /_dash-update-component HTTP/1.1\" 200 -\n"
     ]
    },
    {
     "name": "stdout",
     "output_type": "stream",
     "text": [
      "Exception on /_dash-update-component [POST]\n",
      "Traceback (most recent call last):\n",
      "  File \"/opt/miniconda3/lib/python3.9/site-packages/flask/app.py\", line 2073, in wsgi_app\n",
      "    response = self.full_dispatch_request()\n",
      "  File \"/opt/miniconda3/lib/python3.9/site-packages/flask/app.py\", line 1518, in full_dispatch_request\n",
      "    rv = self.handle_user_exception(e)\n",
      "  File \"/opt/miniconda3/lib/python3.9/site-packages/flask/app.py\", line 1516, in full_dispatch_request\n",
      "    rv = self.dispatch_request()\n",
      "  File \"/opt/miniconda3/lib/python3.9/site-packages/flask/app.py\", line 1502, in dispatch_request\n",
      "    return self.ensure_sync(self.view_functions[rule.endpoint])(**req.view_args)\n",
      "  File \"/opt/miniconda3/lib/python3.9/site-packages/dash/dash.py\", line 1336, in dispatch\n",
      "    response.set_data(func(*args, outputs_list=outputs_list))\n",
      "  File \"/opt/miniconda3/lib/python3.9/site-packages/dash/_callback.py\", line 151, in add_context\n",
      "    output_value = func(*func_args, **func_kwargs)  # %% callback invoked %%\n",
      "  File \"/var/folders/cb/y_45syrn4kd26w8rrdgvk_3r0000gn/T/ipykernel_53661/627631000.py\", line 319, in HoverToBoxPlot\n",
      "    genes = hoverdata['points'][0]['x'].split('-')\n",
      "TypeError: 'NoneType' object is not subscriptable\n"
     ]
    },
    {
     "name": "stderr",
     "output_type": "stream",
     "text": [
      "127.0.0.1 - - [22/Aug/2022 15:46:09] \"\u001b[35m\u001b[1mPOST /_dash-update-component HTTP/1.1\u001b[0m\" 500 -\n",
      "/var/folders/cb/y_45syrn4kd26w8rrdgvk_3r0000gn/T/ipykernel_53661/627631000.py:24: PerformanceWarning:\n",
      "\n",
      "DataFrame is highly fragmented.  This is usually the result of calling `frame.insert` many times, which has poor performance.  Consider joining all columns at once using pd.concat(axis=1) instead.  To get a de-fragmented frame, use `newframe = frame.copy()`\n",
      "\n",
      "127.0.0.1 - - [22/Aug/2022 15:46:09] \"POST /_dash-update-component HTTP/1.1\" 200 -\n"
     ]
    },
    {
     "name": "stdout",
     "output_type": "stream",
     "text": [
      "Exception on /_dash-update-component [POST]\n",
      "Traceback (most recent call last):\n",
      "  File \"/opt/miniconda3/lib/python3.9/site-packages/flask/app.py\", line 2073, in wsgi_app\n",
      "    response = self.full_dispatch_request()\n",
      "  File \"/opt/miniconda3/lib/python3.9/site-packages/flask/app.py\", line 1518, in full_dispatch_request\n",
      "    rv = self.handle_user_exception(e)\n",
      "  File \"/opt/miniconda3/lib/python3.9/site-packages/flask/app.py\", line 1516, in full_dispatch_request\n",
      "    rv = self.dispatch_request()\n",
      "  File \"/opt/miniconda3/lib/python3.9/site-packages/flask/app.py\", line 1502, in dispatch_request\n",
      "    return self.ensure_sync(self.view_functions[rule.endpoint])(**req.view_args)\n",
      "  File \"/opt/miniconda3/lib/python3.9/site-packages/dash/dash.py\", line 1336, in dispatch\n",
      "    response.set_data(func(*args, outputs_list=outputs_list))\n",
      "  File \"/opt/miniconda3/lib/python3.9/site-packages/dash/_callback.py\", line 151, in add_context\n",
      "    output_value = func(*func_args, **func_kwargs)  # %% callback invoked %%\n",
      "  File \"/var/folders/cb/y_45syrn4kd26w8rrdgvk_3r0000gn/T/ipykernel_53661/627631000.py\", line 319, in HoverToBoxPlot\n",
      "    genes = hoverdata['points'][0]['x'].split('-')\n",
      "TypeError: 'NoneType' object is not subscriptable\n"
     ]
    },
    {
     "name": "stderr",
     "output_type": "stream",
     "text": [
      "127.0.0.1 - - [22/Aug/2022 15:46:09] \"\u001b[35m\u001b[1mPOST /_dash-update-component HTTP/1.1\u001b[0m\" 500 -\n",
      "127.0.0.1 - - [22/Aug/2022 15:46:09] \"POST /_dash-update-component HTTP/1.1\" 200 -\n"
     ]
    },
    {
     "name": "stdout",
     "output_type": "stream",
     "text": [
      "Exception on /_dash-update-component [POST]\n",
      "Traceback (most recent call last):\n",
      "  File \"/opt/miniconda3/lib/python3.9/site-packages/flask/app.py\", line 2073, in wsgi_app\n",
      "    response = self.full_dispatch_request()\n",
      "  File \"/opt/miniconda3/lib/python3.9/site-packages/flask/app.py\", line 1518, in full_dispatch_request\n",
      "    rv = self.handle_user_exception(e)\n",
      "  File \"/opt/miniconda3/lib/python3.9/site-packages/flask/app.py\", line 1516, in full_dispatch_request\n",
      "    rv = self.dispatch_request()\n",
      "  File \"/opt/miniconda3/lib/python3.9/site-packages/flask/app.py\", line 1502, in dispatch_request\n",
      "    return self.ensure_sync(self.view_functions[rule.endpoint])(**req.view_args)\n",
      "  File \"/opt/miniconda3/lib/python3.9/site-packages/dash/dash.py\", line 1336, in dispatch\n",
      "    response.set_data(func(*args, outputs_list=outputs_list))\n",
      "  File \"/opt/miniconda3/lib/python3.9/site-packages/dash/_callback.py\", line 151, in add_context\n",
      "    output_value = func(*func_args, **func_kwargs)  # %% callback invoked %%\n",
      "  File \"/var/folders/cb/y_45syrn4kd26w8rrdgvk_3r0000gn/T/ipykernel_53661/627631000.py\", line 319, in HoverToBoxPlot\n",
      "    genes = hoverdata['points'][0]['x'].split('-')\n",
      "TypeError: 'NoneType' object is not subscriptable\n"
     ]
    },
    {
     "name": "stderr",
     "output_type": "stream",
     "text": [
      "127.0.0.1 - - [22/Aug/2022 15:46:11] \"\u001b[35m\u001b[1mPOST /_dash-update-component HTTP/1.1\u001b[0m\" 500 -\n",
      "127.0.0.1 - - [22/Aug/2022 15:46:11] \"POST /_dash-update-component HTTP/1.1\" 200 -\n"
     ]
    },
    {
     "name": "stdout",
     "output_type": "stream",
     "text": [
      "Exception on /_dash-update-component [POST]\n",
      "Traceback (most recent call last):\n",
      "  File \"/opt/miniconda3/lib/python3.9/site-packages/flask/app.py\", line 2073, in wsgi_app\n",
      "    response = self.full_dispatch_request()\n",
      "  File \"/opt/miniconda3/lib/python3.9/site-packages/flask/app.py\", line 1518, in full_dispatch_request\n",
      "    rv = self.handle_user_exception(e)\n",
      "  File \"/opt/miniconda3/lib/python3.9/site-packages/flask/app.py\", line 1516, in full_dispatch_request\n",
      "    rv = self.dispatch_request()\n",
      "  File \"/opt/miniconda3/lib/python3.9/site-packages/flask/app.py\", line 1502, in dispatch_request\n",
      "    return self.ensure_sync(self.view_functions[rule.endpoint])(**req.view_args)\n",
      "  File \"/opt/miniconda3/lib/python3.9/site-packages/dash/dash.py\", line 1336, in dispatch\n",
      "    response.set_data(func(*args, outputs_list=outputs_list))\n",
      "  File \"/opt/miniconda3/lib/python3.9/site-packages/dash/_callback.py\", line 151, in add_context\n",
      "    output_value = func(*func_args, **func_kwargs)  # %% callback invoked %%\n",
      "  File \"/var/folders/cb/y_45syrn4kd26w8rrdgvk_3r0000gn/T/ipykernel_53661/627631000.py\", line 319, in HoverToBoxPlot\n",
      "    genes = hoverdata['points'][0]['x'].split('-')\n",
      "TypeError: 'NoneType' object is not subscriptable\n"
     ]
    },
    {
     "name": "stderr",
     "output_type": "stream",
     "text": [
      "127.0.0.1 - - [22/Aug/2022 15:46:11] \"\u001b[35m\u001b[1mPOST /_dash-update-component HTTP/1.1\u001b[0m\" 500 -\n",
      "127.0.0.1 - - [22/Aug/2022 15:46:11] \"POST /_dash-update-component HTTP/1.1\" 200 -\n"
     ]
    },
    {
     "name": "stdout",
     "output_type": "stream",
     "text": [
      "Exception on /_dash-update-component [POST]\n",
      "Traceback (most recent call last):\n",
      "  File \"/opt/miniconda3/lib/python3.9/site-packages/flask/app.py\", line 2073, in wsgi_app\n",
      "    response = self.full_dispatch_request()\n",
      "  File \"/opt/miniconda3/lib/python3.9/site-packages/flask/app.py\", line 1518, in full_dispatch_request\n",
      "    rv = self.handle_user_exception(e)\n",
      "  File \"/opt/miniconda3/lib/python3.9/site-packages/flask/app.py\", line 1516, in full_dispatch_request\n",
      "    rv = self.dispatch_request()\n",
      "  File \"/opt/miniconda3/lib/python3.9/site-packages/flask/app.py\", line 1502, in dispatch_request\n",
      "    return self.ensure_sync(self.view_functions[rule.endpoint])(**req.view_args)\n",
      "  File \"/opt/miniconda3/lib/python3.9/site-packages/dash/dash.py\", line 1336, in dispatch\n",
      "    response.set_data(func(*args, outputs_list=outputs_list))\n",
      "  File \"/opt/miniconda3/lib/python3.9/site-packages/dash/_callback.py\", line 151, in add_context\n",
      "    output_value = func(*func_args, **func_kwargs)  # %% callback invoked %%\n",
      "  File \"/var/folders/cb/y_45syrn4kd26w8rrdgvk_3r0000gn/T/ipykernel_53661/627631000.py\", line 319, in HoverToBoxPlot\n",
      "    genes = hoverdata['points'][0]['x'].split('-')\n",
      "TypeError: 'NoneType' object is not subscriptable\n"
     ]
    },
    {
     "name": "stderr",
     "output_type": "stream",
     "text": [
      "127.0.0.1 - - [22/Aug/2022 15:46:12] \"\u001b[35m\u001b[1mPOST /_dash-update-component HTTP/1.1\u001b[0m\" 500 -\n",
      "127.0.0.1 - - [22/Aug/2022 15:46:12] \"POST /_dash-update-component HTTP/1.1\" 200 -\n"
     ]
    },
    {
     "name": "stdout",
     "output_type": "stream",
     "text": [
      "Exception on /_dash-update-component [POST]\n",
      "Traceback (most recent call last):\n",
      "  File \"/opt/miniconda3/lib/python3.9/site-packages/flask/app.py\", line 2073, in wsgi_app\n",
      "    response = self.full_dispatch_request()\n",
      "  File \"/opt/miniconda3/lib/python3.9/site-packages/flask/app.py\", line 1518, in full_dispatch_request\n",
      "    rv = self.handle_user_exception(e)\n",
      "  File \"/opt/miniconda3/lib/python3.9/site-packages/flask/app.py\", line 1516, in full_dispatch_request\n",
      "    rv = self.dispatch_request()\n",
      "  File \"/opt/miniconda3/lib/python3.9/site-packages/flask/app.py\", line 1502, in dispatch_request\n",
      "    return self.ensure_sync(self.view_functions[rule.endpoint])(**req.view_args)\n",
      "  File \"/opt/miniconda3/lib/python3.9/site-packages/dash/dash.py\", line 1336, in dispatch\n",
      "    response.set_data(func(*args, outputs_list=outputs_list))\n",
      "  File \"/opt/miniconda3/lib/python3.9/site-packages/dash/_callback.py\", line 151, in add_context\n",
      "    output_value = func(*func_args, **func_kwargs)  # %% callback invoked %%\n",
      "  File \"/var/folders/cb/y_45syrn4kd26w8rrdgvk_3r0000gn/T/ipykernel_53661/627631000.py\", line 319, in HoverToBoxPlot\n",
      "    genes = hoverdata['points'][0]['x'].split('-')\n",
      "TypeError: 'NoneType' object is not subscriptable\n"
     ]
    },
    {
     "name": "stderr",
     "output_type": "stream",
     "text": [
      "127.0.0.1 - - [22/Aug/2022 15:46:14] \"\u001b[35m\u001b[1mPOST /_dash-update-component HTTP/1.1\u001b[0m\" 500 -\n",
      "127.0.0.1 - - [22/Aug/2022 15:46:14] \"POST /_dash-update-component HTTP/1.1\" 200 -\n",
      "127.0.0.1 - - [22/Aug/2022 15:46:16] \"POST /_dash-update-component HTTP/1.1\" 200 -\n",
      "127.0.0.1 - - [22/Aug/2022 15:46:18] \"POST /_dash-update-component HTTP/1.1\" 200 -\n",
      "127.0.0.1 - - [22/Aug/2022 15:46:19] \"POST /_dash-update-component HTTP/1.1\" 200 -\n"
     ]
    },
    {
     "name": "stdout",
     "output_type": "stream",
     "text": [
      "     Gene_Knock  periderm 18\n",
      "0       Control          1.0\n",
      "1       Control         45.0\n",
      "2       Control          0.0\n",
      "3       Control          0.0\n",
      "4       Control         20.0\n",
      "...         ...          ...\n",
      "3975    LinPred          0.0\n",
      "3976    LinPred          0.0\n",
      "3977    LinPred          0.0\n",
      "3978    LinPred          0.0\n",
      "3979    LinPred          0.0\n",
      "\n",
      "[3980 rows x 2 columns]\n"
     ]
    },
    {
     "name": "stderr",
     "output_type": "stream",
     "text": [
      "/var/folders/cb/y_45syrn4kd26w8rrdgvk_3r0000gn/T/ipykernel_53661/627631000.py:24: PerformanceWarning:\n",
      "\n",
      "DataFrame is highly fragmented.  This is usually the result of calling `frame.insert` many times, which has poor performance.  Consider joining all columns at once using pd.concat(axis=1) instead.  To get a de-fragmented frame, use `newframe = frame.copy()`\n",
      "\n",
      "127.0.0.1 - - [22/Aug/2022 15:46:20] \"POST /_dash-update-component HTTP/1.1\" 200 -\n"
     ]
    },
    {
     "name": "stdout",
     "output_type": "stream",
     "text": [
      "     Gene_Knock  red blood cell\n",
      "0       Control             1.0\n",
      "1       Control             4.0\n",
      "2       Control             3.0\n",
      "3       Control             0.0\n",
      "4       Control             5.0\n",
      "...         ...             ...\n",
      "3975    LinPred             4.0\n",
      "3976    LinPred             5.0\n",
      "3977    LinPred             4.0\n",
      "3978    LinPred             6.0\n",
      "3979    LinPred             4.0\n",
      "\n",
      "[3980 rows x 2 columns]\n"
     ]
    },
    {
     "name": "stderr",
     "output_type": "stream",
     "text": [
      "/var/folders/cb/y_45syrn4kd26w8rrdgvk_3r0000gn/T/ipykernel_53661/627631000.py:24: PerformanceWarning:\n",
      "\n",
      "DataFrame is highly fragmented.  This is usually the result of calling `frame.insert` many times, which has poor performance.  Consider joining all columns at once using pd.concat(axis=1) instead.  To get a de-fragmented frame, use `newframe = frame.copy()`\n",
      "\n",
      "127.0.0.1 - - [22/Aug/2022 15:47:16] \"POST /_dash-update-component HTTP/1.1\" 200 -\n",
      "127.0.0.1 - - [22/Aug/2022 15:47:16] \"POST /_dash-update-component HTTP/1.1\" 200 -\n"
     ]
    },
    {
     "name": "stdout",
     "output_type": "stream",
     "text": [
      "     Gene_Knock  periderm 3\n",
      "0       Control         1.0\n",
      "1       Control         0.0\n",
      "2       Control         2.0\n",
      "3       Control         1.0\n",
      "4       Control         0.0\n",
      "...         ...         ...\n",
      "3975    LinPred         0.0\n",
      "3976    LinPred         0.0\n",
      "3977    LinPred         1.0\n",
      "3978    LinPred         0.0\n",
      "3979    LinPred         0.0\n",
      "\n",
      "[3980 rows x 2 columns]\n",
      "     Gene_Knock  periderm 5\n",
      "0       Control        21.0\n",
      "1       Control        13.0\n",
      "2       Control         8.0\n",
      "3       Control        16.0\n",
      "4       Control         9.0\n",
      "...         ...         ...\n",
      "3975    LinPred        23.0\n",
      "3976    LinPred        21.0\n",
      "3977    LinPred         9.0\n",
      "3978    LinPred        36.0\n",
      "3979    LinPred        21.0\n",
      "\n",
      "[3980 rows x 2 columns]\n"
     ]
    },
    {
     "name": "stderr",
     "output_type": "stream",
     "text": [
      "/var/folders/cb/y_45syrn4kd26w8rrdgvk_3r0000gn/T/ipykernel_53661/627631000.py:24: PerformanceWarning:\n",
      "\n",
      "DataFrame is highly fragmented.  This is usually the result of calling `frame.insert` many times, which has poor performance.  Consider joining all columns at once using pd.concat(axis=1) instead.  To get a de-fragmented frame, use `newframe = frame.copy()`\n",
      "\n",
      "127.0.0.1 - - [22/Aug/2022 15:47:16] \"POST /_dash-update-component HTTP/1.1\" 200 -\n"
     ]
    },
    {
     "name": "stdout",
     "output_type": "stream",
     "text": [
      "     Gene_Knock  differentiating neuron (hindbrain)\n",
      "0       Control                                 5.0\n",
      "1       Control                                11.0\n",
      "2       Control                                15.0\n",
      "3       Control                                11.0\n",
      "4       Control                                 6.0\n",
      "...         ...                                 ...\n",
      "3975    LinPred                                34.0\n",
      "3976    LinPred                                27.0\n",
      "3977    LinPred                                34.0\n",
      "3978    LinPred                                29.0\n",
      "3979    LinPred                                18.0\n",
      "\n",
      "[3980 rows x 2 columns]\n",
      "Exception on /_dash-update-component [POST]\n",
      "Traceback (most recent call last):\n",
      "  File \"/opt/miniconda3/lib/python3.9/site-packages/flask/app.py\", line 2073, in wsgi_app\n",
      "    response = self.full_dispatch_request()\n",
      "  File \"/opt/miniconda3/lib/python3.9/site-packages/flask/app.py\", line 1518, in full_dispatch_request\n",
      "    rv = self.handle_user_exception(e)\n",
      "  File \"/opt/miniconda3/lib/python3.9/site-packages/flask/app.py\", line 1516, in full_dispatch_request\n",
      "    rv = self.dispatch_request()\n",
      "  File \"/opt/miniconda3/lib/python3.9/site-packages/flask/app.py\", line 1502, in dispatch_request\n",
      "    return self.ensure_sync(self.view_functions[rule.endpoint])(**req.view_args)\n",
      "  File \"/opt/miniconda3/lib/python3.9/site-packages/dash/dash.py\", line 1336, in dispatch\n",
      "    response.set_data(func(*args, outputs_list=outputs_list))\n",
      "  File \"/opt/miniconda3/lib/python3.9/site-packages/dash/_callback.py\", line 151, in add_context\n",
      "    output_value = func(*func_args, **func_kwargs)  # %% callback invoked %%\n",
      "  File \"/var/folders/cb/y_45syrn4kd26w8rrdgvk_3r0000gn/T/ipykernel_53661/627631000.py\", line 289, in make_heatmap\n",
      "    Max_Val = max(fold_change_df_T.max(numeric_only=True).tolist())\n",
      "ValueError: max() arg is an empty sequence\n"
     ]
    },
    {
     "name": "stderr",
     "output_type": "stream",
     "text": [
      "127.0.0.1 - - [22/Aug/2022 15:47:22] \"\u001b[35m\u001b[1mPOST /_dash-update-component HTTP/1.1\u001b[0m\" 500 -\n",
      "/var/folders/cb/y_45syrn4kd26w8rrdgvk_3r0000gn/T/ipykernel_53661/627631000.py:24: PerformanceWarning:\n",
      "\n",
      "DataFrame is highly fragmented.  This is usually the result of calling `frame.insert` many times, which has poor performance.  Consider joining all columns at once using pd.concat(axis=1) instead.  To get a de-fragmented frame, use `newframe = frame.copy()`\n",
      "\n",
      "127.0.0.1 - - [22/Aug/2022 15:47:24] \"POST /_dash-update-component HTTP/1.1\" 200 -\n",
      "127.0.0.1 - - [22/Aug/2022 15:47:28] \"POST /_dash-update-component HTTP/1.1\" 200 -\n"
     ]
    },
    {
     "name": "stdout",
     "output_type": "stream",
     "text": [
      "     Gene_Knock  retinal neuron (RGC, photoreceptor, bipolar cell)\n",
      "0       Control                                               15.0\n",
      "1       Control                                               18.0\n",
      "2       Control                                               22.0\n",
      "3       Control                                               36.0\n",
      "4       Control                                               25.0\n",
      "...         ...                                                ...\n",
      "3199    LinPred                                                5.0\n",
      "3200    LinPred                                               23.0\n",
      "3201    LinPred                                               16.0\n",
      "3202    LinPred                                               31.0\n",
      "3203    LinPred                                               18.0\n",
      "\n",
      "[3204 rows x 2 columns]\n"
     ]
    },
    {
     "name": "stderr",
     "output_type": "stream",
     "text": [
      "/var/folders/cb/y_45syrn4kd26w8rrdgvk_3r0000gn/T/ipykernel_53661/627631000.py:24: PerformanceWarning:\n",
      "\n",
      "DataFrame is highly fragmented.  This is usually the result of calling `frame.insert` many times, which has poor performance.  Consider joining all columns at once using pd.concat(axis=1) instead.  To get a de-fragmented frame, use `newframe = frame.copy()`\n",
      "\n",
      "127.0.0.1 - - [22/Aug/2022 15:47:30] \"POST /_dash-update-component HTTP/1.1\" 200 -\n"
     ]
    },
    {
     "name": "stdout",
     "output_type": "stream",
     "text": [
      "     Gene_Knock  periderm 17\n",
      "0       Control         15.0\n",
      "1       Control         23.0\n",
      "2       Control         24.0\n",
      "3       Control         19.0\n",
      "4       Control         29.0\n",
      "...         ...          ...\n",
      "3199    LinPred          9.0\n",
      "3200    LinPred         21.0\n",
      "3201    LinPred         11.0\n",
      "3202    LinPred         15.0\n",
      "3203    LinPred          9.0\n",
      "\n",
      "[3204 rows x 2 columns]\n"
     ]
    },
    {
     "name": "stderr",
     "output_type": "stream",
     "text": [
      "/var/folders/cb/y_45syrn4kd26w8rrdgvk_3r0000gn/T/ipykernel_53661/627631000.py:24: PerformanceWarning:\n",
      "\n",
      "DataFrame is highly fragmented.  This is usually the result of calling `frame.insert` many times, which has poor performance.  Consider joining all columns at once using pd.concat(axis=1) instead.  To get a de-fragmented frame, use `newframe = frame.copy()`\n",
      "\n",
      "127.0.0.1 - - [22/Aug/2022 15:47:33] \"POST /_dash-update-component HTTP/1.1\" 200 -\n"
     ]
    },
    {
     "name": "stdout",
     "output_type": "stream",
     "text": [
      "     Gene_Knock  retinal pigmented epithelium (late)\n",
      "0       Control                                  0.0\n",
      "1       Control                                  1.0\n",
      "2       Control                                  2.0\n",
      "3       Control                                  1.0\n",
      "4       Control                                  2.0\n",
      "...         ...                                  ...\n",
      "3199    LinPred                                  0.0\n",
      "3200    LinPred                                  0.0\n",
      "3201    LinPred                                  0.0\n",
      "3202    LinPred                                  0.0\n",
      "3203    LinPred                                  0.0\n",
      "\n",
      "[3204 rows x 2 columns]\n"
     ]
    },
    {
     "name": "stderr",
     "output_type": "stream",
     "text": [
      "/var/folders/cb/y_45syrn4kd26w8rrdgvk_3r0000gn/T/ipykernel_53661/627631000.py:24: PerformanceWarning:\n",
      "\n",
      "DataFrame is highly fragmented.  This is usually the result of calling `frame.insert` many times, which has poor performance.  Consider joining all columns at once using pd.concat(axis=1) instead.  To get a de-fragmented frame, use `newframe = frame.copy()`\n",
      "\n",
      "127.0.0.1 - - [22/Aug/2022 15:47:34] \"POST /_dash-update-component HTTP/1.1\" 200 -\n"
     ]
    },
    {
     "name": "stdout",
     "output_type": "stream",
     "text": [
      "     Gene_Knock  retinal neuron (RGC, photoreceptor, bipolar cell)\n",
      "0       Control                                               15.0\n",
      "1       Control                                               18.0\n",
      "2       Control                                               22.0\n",
      "3       Control                                               36.0\n",
      "4       Control                                               25.0\n",
      "...         ...                                                ...\n",
      "3199    LinPred                                                5.0\n",
      "3200    LinPred                                               23.0\n",
      "3201    LinPred                                               16.0\n",
      "3202    LinPred                                               31.0\n",
      "3203    LinPred                                               18.0\n",
      "\n",
      "[3204 rows x 2 columns]\n"
     ]
    },
    {
     "name": "stderr",
     "output_type": "stream",
     "text": [
      "/var/folders/cb/y_45syrn4kd26w8rrdgvk_3r0000gn/T/ipykernel_53661/627631000.py:24: PerformanceWarning:\n",
      "\n",
      "DataFrame is highly fragmented.  This is usually the result of calling `frame.insert` many times, which has poor performance.  Consider joining all columns at once using pd.concat(axis=1) instead.  To get a de-fragmented frame, use `newframe = frame.copy()`\n",
      "\n",
      "127.0.0.1 - - [22/Aug/2022 15:47:37] \"POST /_dash-update-component HTTP/1.1\" 200 -\n",
      "127.0.0.1 - - [22/Aug/2022 15:47:37] \"POST /_dash-update-component HTTP/1.1\" 200 -\n"
     ]
    },
    {
     "name": "stdout",
     "output_type": "stream",
     "text": [
      "     Gene_Knock  retinal neuron (RGC, photoreceptor, bipolar cell)\n",
      "0       Control                                               15.0\n",
      "1       Control                                               18.0\n",
      "2       Control                                               22.0\n",
      "3       Control                                               36.0\n",
      "4       Control                                               25.0\n",
      "...         ...                                                ...\n",
      "3199    LinPred                                                5.0\n",
      "3200    LinPred                                               23.0\n",
      "3201    LinPred                                               16.0\n",
      "3202    LinPred                                               31.0\n",
      "3203    LinPred                                               18.0\n",
      "\n",
      "[3204 rows x 2 columns]\n",
      "     Gene_Knock  retinal pigmented epithelium (late)\n",
      "0       Control                                  0.0\n",
      "1       Control                                  1.0\n",
      "2       Control                                  2.0\n",
      "3       Control                                  1.0\n",
      "4       Control                                  2.0\n",
      "...         ...                                  ...\n",
      "3199    LinPred                                  0.0\n",
      "3200    LinPred                                  0.0\n",
      "3201    LinPred                                  0.0\n",
      "3202    LinPred                                  0.0\n",
      "3203    LinPred                                  0.0\n",
      "\n",
      "[3204 rows x 2 columns]\n"
     ]
    },
    {
     "name": "stderr",
     "output_type": "stream",
     "text": [
      "/var/folders/cb/y_45syrn4kd26w8rrdgvk_3r0000gn/T/ipykernel_53661/627631000.py:24: PerformanceWarning:\n",
      "\n",
      "DataFrame is highly fragmented.  This is usually the result of calling `frame.insert` many times, which has poor performance.  Consider joining all columns at once using pd.concat(axis=1) instead.  To get a de-fragmented frame, use `newframe = frame.copy()`\n",
      "\n",
      "127.0.0.1 - - [22/Aug/2022 15:47:38] \"POST /_dash-update-component HTTP/1.1\" 200 -\n"
     ]
    },
    {
     "name": "stdout",
     "output_type": "stream",
     "text": [
      "     Gene_Knock  neuron (+ spinal cord)\n",
      "0       Control                    10.0\n",
      "1       Control                     7.0\n",
      "2       Control                    15.0\n",
      "3       Control                     3.0\n",
      "4       Control                     7.0\n",
      "...         ...                     ...\n",
      "3199    LinPred                     8.0\n",
      "3200    LinPred                     3.0\n",
      "3201    LinPred                     5.0\n",
      "3202    LinPred                     2.0\n",
      "3203    LinPred                     3.0\n",
      "\n",
      "[3204 rows x 2 columns]\n"
     ]
    },
    {
     "name": "stderr",
     "output_type": "stream",
     "text": [
      "/var/folders/cb/y_45syrn4kd26w8rrdgvk_3r0000gn/T/ipykernel_53661/627631000.py:24: PerformanceWarning:\n",
      "\n",
      "DataFrame is highly fragmented.  This is usually the result of calling `frame.insert` many times, which has poor performance.  Consider joining all columns at once using pd.concat(axis=1) instead.  To get a de-fragmented frame, use `newframe = frame.copy()`\n",
      "\n",
      "127.0.0.1 - - [22/Aug/2022 15:47:41] \"POST /_dash-update-component HTTP/1.1\" 200 -\n"
     ]
    },
    {
     "name": "stdout",
     "output_type": "stream",
     "text": [
      "     Gene_Knock  roof plate, flexural + subcommissural organ\n",
      "0       Control                                         12.0\n",
      "1       Control                                         12.0\n",
      "2       Control                                         13.0\n",
      "3       Control                                         10.0\n",
      "4       Control                                         20.0\n",
      "...         ...                                          ...\n",
      "3199    LinPred                                         17.0\n",
      "3200    LinPred                                         21.0\n",
      "3201    LinPred                                         16.0\n",
      "3202    LinPred                                          8.0\n",
      "3203    LinPred                                         13.0\n",
      "\n",
      "[3204 rows x 2 columns]\n"
     ]
    },
    {
     "name": "stderr",
     "output_type": "stream",
     "text": [
      "/var/folders/cb/y_45syrn4kd26w8rrdgvk_3r0000gn/T/ipykernel_53661/627631000.py:24: PerformanceWarning:\n",
      "\n",
      "DataFrame is highly fragmented.  This is usually the result of calling `frame.insert` many times, which has poor performance.  Consider joining all columns at once using pd.concat(axis=1) instead.  To get a de-fragmented frame, use `newframe = frame.copy()`\n",
      "\n",
      "127.0.0.1 - - [22/Aug/2022 15:47:42] \"POST /_dash-update-component HTTP/1.1\" 200 -\n",
      "127.0.0.1 - - [22/Aug/2022 15:47:42] \"POST /_dash-update-component HTTP/1.1\" 200 -\n"
     ]
    },
    {
     "name": "stdout",
     "output_type": "stream",
     "text": [
      "     Gene_Knock  retinal pigmented epithelium (late)\n",
      "0       Control                                  0.0\n",
      "1       Control                                  1.0\n",
      "2       Control                                  2.0\n",
      "3       Control                                  1.0\n",
      "4       Control                                  2.0\n",
      "...         ...                                  ...\n",
      "3199    LinPred                                  0.0\n",
      "3200    LinPred                                  0.0\n",
      "3201    LinPred                                  0.0\n",
      "3202    LinPred                                  0.0\n",
      "3203    LinPred                                  0.0\n",
      "\n",
      "[3204 rows x 2 columns]\n",
      "     Gene_Knock  retinal neuron (RGC, photoreceptor, bipolar cell)\n",
      "0       Control                                               15.0\n",
      "1       Control                                               18.0\n",
      "2       Control                                               22.0\n",
      "3       Control                                               36.0\n",
      "4       Control                                               25.0\n",
      "...         ...                                                ...\n",
      "3199    LinPred                                                5.0\n",
      "3200    LinPred                                               23.0\n",
      "3201    LinPred                                               16.0\n",
      "3202    LinPred                                               31.0\n",
      "3203    LinPred                                               18.0\n",
      "\n",
      "[3204 rows x 2 columns]\n"
     ]
    },
    {
     "name": "stderr",
     "output_type": "stream",
     "text": [
      "/var/folders/cb/y_45syrn4kd26w8rrdgvk_3r0000gn/T/ipykernel_53661/627631000.py:24: PerformanceWarning:\n",
      "\n",
      "DataFrame is highly fragmented.  This is usually the result of calling `frame.insert` many times, which has poor performance.  Consider joining all columns at once using pd.concat(axis=1) instead.  To get a de-fragmented frame, use `newframe = frame.copy()`\n",
      "\n",
      "127.0.0.1 - - [22/Aug/2022 15:48:19] \"POST /_dash-update-component HTTP/1.1\" 200 -\n"
     ]
    },
    {
     "name": "stdout",
     "output_type": "stream",
     "text": [
      "     Gene_Knock  retinal pigmented epithelium (late)\n",
      "0       Control                                  0.0\n",
      "1       Control                                  1.0\n",
      "2       Control                                  2.0\n",
      "3       Control                                  1.0\n",
      "4       Control                                  2.0\n",
      "...         ...                                  ...\n",
      "3199    LinPred                                  0.0\n",
      "3200    LinPred                                  0.0\n",
      "3201    LinPred                                  0.0\n",
      "3202    LinPred                                  0.0\n",
      "3203    LinPred                                  0.0\n",
      "\n",
      "[3204 rows x 2 columns]\n"
     ]
    },
    {
     "name": "stderr",
     "output_type": "stream",
     "text": [
      "/var/folders/cb/y_45syrn4kd26w8rrdgvk_3r0000gn/T/ipykernel_53661/627631000.py:24: PerformanceWarning:\n",
      "\n",
      "DataFrame is highly fragmented.  This is usually the result of calling `frame.insert` many times, which has poor performance.  Consider joining all columns at once using pd.concat(axis=1) instead.  To get a de-fragmented frame, use `newframe = frame.copy()`\n",
      "\n",
      "127.0.0.1 - - [22/Aug/2022 15:48:20] \"POST /_dash-update-component HTTP/1.1\" 200 -\n"
     ]
    },
    {
     "name": "stdout",
     "output_type": "stream",
     "text": [
      "     Gene_Knock  retinal neuron (RGC, photoreceptor, bipolar cell)\n",
      "0       Control                                               15.0\n",
      "1       Control                                               18.0\n",
      "2       Control                                               22.0\n",
      "3       Control                                               36.0\n",
      "4       Control                                               25.0\n",
      "...         ...                                                ...\n",
      "3199    LinPred                                                5.0\n",
      "3200    LinPred                                               23.0\n",
      "3201    LinPred                                               16.0\n",
      "3202    LinPred                                               31.0\n",
      "3203    LinPred                                               18.0\n",
      "\n",
      "[3204 rows x 2 columns]\n"
     ]
    },
    {
     "name": "stderr",
     "output_type": "stream",
     "text": [
      "/var/folders/cb/y_45syrn4kd26w8rrdgvk_3r0000gn/T/ipykernel_53661/627631000.py:24: PerformanceWarning:\n",
      "\n",
      "DataFrame is highly fragmented.  This is usually the result of calling `frame.insert` many times, which has poor performance.  Consider joining all columns at once using pd.concat(axis=1) instead.  To get a de-fragmented frame, use `newframe = frame.copy()`\n",
      "\n",
      "127.0.0.1 - - [22/Aug/2022 15:48:21] \"POST /_dash-update-component HTTP/1.1\" 200 -\n",
      "127.0.0.1 - - [22/Aug/2022 15:48:21] \"POST /_dash-update-component HTTP/1.1\" 200 -\n"
     ]
    },
    {
     "name": "stdout",
     "output_type": "stream",
     "text": [
      "     Gene_Knock  retinal pigmented epithelium (late)\n",
      "0       Control                                  0.0\n",
      "1       Control                                  1.0\n",
      "2       Control                                  2.0\n",
      "3       Control                                  1.0\n",
      "4       Control                                  2.0\n",
      "...         ...                                  ...\n",
      "3199    LinPred                                  0.0\n",
      "3200    LinPred                                  0.0\n",
      "3201    LinPred                                  0.0\n",
      "3202    LinPred                                  0.0\n",
      "3203    LinPred                                  0.0\n",
      "\n",
      "[3204 rows x 2 columns]\n",
      "     Gene_Knock  roof plate, flexural + subcommissural organ\n",
      "0       Control                                         12.0\n",
      "1       Control                                         12.0\n",
      "2       Control                                         13.0\n",
      "3       Control                                         10.0\n",
      "4       Control                                         20.0\n",
      "...         ...                                          ...\n",
      "3199    LinPred                                         17.0\n",
      "3200    LinPred                                         21.0\n",
      "3201    LinPred                                         16.0\n",
      "3202    LinPred                                          8.0\n",
      "3203    LinPred                                         13.0\n",
      "\n",
      "[3204 rows x 2 columns]\n"
     ]
    },
    {
     "name": "stderr",
     "output_type": "stream",
     "text": [
      "/var/folders/cb/y_45syrn4kd26w8rrdgvk_3r0000gn/T/ipykernel_53661/627631000.py:24: PerformanceWarning:\n",
      "\n",
      "DataFrame is highly fragmented.  This is usually the result of calling `frame.insert` many times, which has poor performance.  Consider joining all columns at once using pd.concat(axis=1) instead.  To get a de-fragmented frame, use `newframe = frame.copy()`\n",
      "\n",
      "127.0.0.1 - - [22/Aug/2022 15:48:22] \"POST /_dash-update-component HTTP/1.1\" 200 -\n",
      "127.0.0.1 - - [22/Aug/2022 15:48:22] \"POST /_dash-update-component HTTP/1.1\" 200 -\n"
     ]
    },
    {
     "name": "stdout",
     "output_type": "stream",
     "text": [
      "     Gene_Knock  retinal pigmented epithelium (late)\n",
      "0       Control                                  0.0\n",
      "1       Control                                  1.0\n",
      "2       Control                                  2.0\n",
      "3       Control                                  1.0\n",
      "4       Control                                  2.0\n",
      "...         ...                                  ...\n",
      "3199    LinPred                                  0.0\n",
      "3200    LinPred                                  0.0\n",
      "3201    LinPred                                  0.0\n",
      "3202    LinPred                                  0.0\n",
      "3203    LinPred                                  0.0\n",
      "\n",
      "[3204 rows x 2 columns]\n",
      "     Gene_Knock  retinal neuron (RGC, photoreceptor, bipolar cell)\n",
      "0       Control                                               15.0\n",
      "1       Control                                               18.0\n",
      "2       Control                                               22.0\n",
      "3       Control                                               36.0\n",
      "4       Control                                               25.0\n",
      "...         ...                                                ...\n",
      "3199    LinPred                                                5.0\n",
      "3200    LinPred                                               23.0\n",
      "3201    LinPred                                               16.0\n",
      "3202    LinPred                                               31.0\n",
      "3203    LinPred                                               18.0\n",
      "\n",
      "[3204 rows x 2 columns]\n"
     ]
    },
    {
     "name": "stderr",
     "output_type": "stream",
     "text": [
      "/var/folders/cb/y_45syrn4kd26w8rrdgvk_3r0000gn/T/ipykernel_53661/627631000.py:24: PerformanceWarning:\n",
      "\n",
      "DataFrame is highly fragmented.  This is usually the result of calling `frame.insert` many times, which has poor performance.  Consider joining all columns at once using pd.concat(axis=1) instead.  To get a de-fragmented frame, use `newframe = frame.copy()`\n",
      "\n",
      "127.0.0.1 - - [22/Aug/2022 15:49:11] \"POST /_dash-update-component HTTP/1.1\" 200 -\n",
      "127.0.0.1 - - [22/Aug/2022 15:49:11] \"POST /_dash-update-component HTTP/1.1\" 200 -\n"
     ]
    },
    {
     "name": "stdout",
     "output_type": "stream",
     "text": [
      "     Gene_Knock  NaK ionocyte\n",
      "0       Control           4.0\n",
      "1       Control           3.0\n",
      "2       Control           3.0\n",
      "3       Control           4.0\n",
      "4       Control           1.0\n",
      "...         ...           ...\n",
      "3199    LinPred           1.0\n",
      "3200    LinPred           2.0\n",
      "3201    LinPred           3.0\n",
      "3202    LinPred           3.0\n",
      "3203    LinPred           4.0\n",
      "\n",
      "[3204 rows x 2 columns]\n",
      "     Gene_Knock  basal cell (late)\n",
      "0       Control               35.0\n",
      "1       Control               22.0\n",
      "2       Control               26.0\n",
      "3       Control               23.0\n",
      "4       Control               13.0\n",
      "...         ...                ...\n",
      "3199    LinPred                0.0\n",
      "3200    LinPred                0.0\n",
      "3201    LinPred                0.0\n",
      "3202    LinPred                0.0\n",
      "3203    LinPred                0.0\n",
      "\n",
      "[3204 rows x 2 columns]\n"
     ]
    },
    {
     "name": "stderr",
     "output_type": "stream",
     "text": [
      "/var/folders/cb/y_45syrn4kd26w8rrdgvk_3r0000gn/T/ipykernel_53661/627631000.py:24: PerformanceWarning:\n",
      "\n",
      "DataFrame is highly fragmented.  This is usually the result of calling `frame.insert` many times, which has poor performance.  Consider joining all columns at once using pd.concat(axis=1) instead.  To get a de-fragmented frame, use `newframe = frame.copy()`\n",
      "\n",
      "127.0.0.1 - - [22/Aug/2022 15:49:20] \"POST /_dash-update-component HTTP/1.1\" 200 -\n"
     ]
    },
    {
     "name": "stdout",
     "output_type": "stream",
     "text": [
      "     Gene_Knock  chondrocranium\n",
      "0       Control             9.0\n",
      "1       Control            12.0\n",
      "2       Control            12.0\n",
      "3       Control            12.0\n",
      "4       Control            19.0\n",
      "...         ...             ...\n",
      "3199    LinPred             9.0\n",
      "3200    LinPred            15.0\n",
      "3201    LinPred            10.0\n",
      "3202    LinPred            10.0\n",
      "3203    LinPred            17.0\n",
      "\n",
      "[3204 rows x 2 columns]\n"
     ]
    },
    {
     "name": "stderr",
     "output_type": "stream",
     "text": [
      "/var/folders/cb/y_45syrn4kd26w8rrdgvk_3r0000gn/T/ipykernel_53661/627631000.py:24: PerformanceWarning:\n",
      "\n",
      "DataFrame is highly fragmented.  This is usually the result of calling `frame.insert` many times, which has poor performance.  Consider joining all columns at once using pd.concat(axis=1) instead.  To get a de-fragmented frame, use `newframe = frame.copy()`\n",
      "\n",
      "127.0.0.1 - - [22/Aug/2022 15:49:22] \"POST /_dash-update-component HTTP/1.1\" 200 -\n"
     ]
    },
    {
     "name": "stdout",
     "output_type": "stream",
     "text": [
      "     Gene_Knock  connective tissue-meninges-dermal FB (early)\n",
      "0       Control                                           0.0\n",
      "1       Control                                           0.0\n",
      "2       Control                                           1.0\n",
      "3       Control                                           0.0\n",
      "4       Control                                           0.0\n",
      "...         ...                                           ...\n",
      "3199    LinPred                                           2.0\n",
      "3200    LinPred                                           2.0\n",
      "3201    LinPred                                           2.0\n",
      "3202    LinPred                                           2.0\n",
      "3203    LinPred                                           3.0\n",
      "\n",
      "[3204 rows x 2 columns]\n"
     ]
    },
    {
     "name": "stderr",
     "output_type": "stream",
     "text": [
      "/var/folders/cb/y_45syrn4kd26w8rrdgvk_3r0000gn/T/ipykernel_53661/627631000.py:24: PerformanceWarning:\n",
      "\n",
      "DataFrame is highly fragmented.  This is usually the result of calling `frame.insert` many times, which has poor performance.  Consider joining all columns at once using pd.concat(axis=1) instead.  To get a de-fragmented frame, use `newframe = frame.copy()`\n",
      "\n",
      "127.0.0.1 - - [22/Aug/2022 15:50:25] \"POST /_dash-update-component HTTP/1.1\" 200 -\n"
     ]
    },
    {
     "name": "stdout",
     "output_type": "stream",
     "text": [
      "     Gene_Knock  basal cell (late)\n",
      "0       Control               35.0\n",
      "1       Control               22.0\n",
      "2       Control               26.0\n",
      "3       Control               23.0\n",
      "4       Control               13.0\n",
      "...         ...                ...\n",
      "3199    LinPred                0.0\n",
      "3200    LinPred                0.0\n",
      "3201    LinPred                0.0\n",
      "3202    LinPred                0.0\n",
      "3203    LinPred                0.0\n",
      "\n",
      "[3204 rows x 2 columns]\n"
     ]
    },
    {
     "name": "stderr",
     "output_type": "stream",
     "text": [
      "/var/folders/cb/y_45syrn4kd26w8rrdgvk_3r0000gn/T/ipykernel_53661/627631000.py:24: PerformanceWarning:\n",
      "\n",
      "DataFrame is highly fragmented.  This is usually the result of calling `frame.insert` many times, which has poor performance.  Consider joining all columns at once using pd.concat(axis=1) instead.  To get a de-fragmented frame, use `newframe = frame.copy()`\n",
      "\n",
      "127.0.0.1 - - [22/Aug/2022 15:50:30] \"POST /_dash-update-component HTTP/1.1\" 200 -\n"
     ]
    },
    {
     "name": "stdout",
     "output_type": "stream",
     "text": [
      "     Gene_Knock  chondrocranium\n",
      "0       Control             9.0\n",
      "1       Control            12.0\n",
      "2       Control            12.0\n",
      "3       Control            12.0\n",
      "4       Control            19.0\n",
      "...         ...             ...\n",
      "3199    LinPred             9.0\n",
      "3200    LinPred            15.0\n",
      "3201    LinPred            10.0\n",
      "3202    LinPred            10.0\n",
      "3203    LinPred            17.0\n",
      "\n",
      "[3204 rows x 2 columns]\n"
     ]
    },
    {
     "name": "stderr",
     "output_type": "stream",
     "text": [
      "/var/folders/cb/y_45syrn4kd26w8rrdgvk_3r0000gn/T/ipykernel_53661/627631000.py:24: PerformanceWarning:\n",
      "\n",
      "DataFrame is highly fragmented.  This is usually the result of calling `frame.insert` many times, which has poor performance.  Consider joining all columns at once using pd.concat(axis=1) instead.  To get a de-fragmented frame, use `newframe = frame.copy()`\n",
      "\n",
      "127.0.0.1 - - [22/Aug/2022 15:50:30] \"POST /_dash-update-component HTTP/1.1\" 200 -\n"
     ]
    },
    {
     "name": "stdout",
     "output_type": "stream",
     "text": [
      "     Gene_Knock  pancreas (exocrine)\n",
      "0       Control                  3.0\n",
      "1       Control                  2.0\n",
      "2       Control                  4.0\n",
      "3       Control                  1.0\n",
      "4       Control                  3.0\n",
      "...         ...                  ...\n",
      "3199    LinPred                  8.0\n",
      "3200    LinPred                 11.0\n",
      "3201    LinPred                  8.0\n",
      "3202    LinPred                 12.0\n",
      "3203    LinPred                 10.0\n",
      "\n",
      "[3204 rows x 2 columns]\n"
     ]
    },
    {
     "name": "stderr",
     "output_type": "stream",
     "text": [
      "/var/folders/cb/y_45syrn4kd26w8rrdgvk_3r0000gn/T/ipykernel_53661/627631000.py:24: PerformanceWarning:\n",
      "\n",
      "DataFrame is highly fragmented.  This is usually the result of calling `frame.insert` many times, which has poor performance.  Consider joining all columns at once using pd.concat(axis=1) instead.  To get a de-fragmented frame, use `newframe = frame.copy()`\n",
      "\n",
      "127.0.0.1 - - [22/Aug/2022 15:50:31] \"POST /_dash-update-component HTTP/1.1\" 200 -\n",
      "127.0.0.1 - - [22/Aug/2022 15:50:31] \"POST /_dash-update-component HTTP/1.1\" 200 -\n"
     ]
    },
    {
     "name": "stdout",
     "output_type": "stream",
     "text": [
      "     Gene_Knock  pharyngeal arch (contains muscle, early cartilage)\n",
      "0       Control                                               71.0 \n",
      "1       Control                                               77.0 \n",
      "2       Control                                               62.0 \n",
      "3       Control                                               89.0 \n",
      "4       Control                                               85.0 \n",
      "...         ...                                                ... \n",
      "3199    LinPred                                               60.0 \n",
      "3200    LinPred                                               75.0 \n",
      "3201    LinPred                                               60.0 \n",
      "3202    LinPred                                               80.0 \n",
      "3203    LinPred                                               65.0 \n",
      "\n",
      "[3204 rows x 2 columns]\n",
      "     Gene_Knock  pronephric podocyte\n",
      "0       Control                  6.0\n",
      "1       Control                  3.0\n",
      "2       Control                  0.0\n",
      "3       Control                  1.0\n",
      "4       Control                  0.0\n",
      "...         ...                  ...\n",
      "3199    LinPred                  8.0\n",
      "3200    LinPred                  6.0\n",
      "3201    LinPred                  7.0\n",
      "3202    LinPred                  4.0\n",
      "3203    LinPred                 11.0\n",
      "\n",
      "[3204 rows x 2 columns]\n"
     ]
    },
    {
     "name": "stderr",
     "output_type": "stream",
     "text": [
      "/var/folders/cb/y_45syrn4kd26w8rrdgvk_3r0000gn/T/ipykernel_53661/627631000.py:24: PerformanceWarning:\n",
      "\n",
      "DataFrame is highly fragmented.  This is usually the result of calling `frame.insert` many times, which has poor performance.  Consider joining all columns at once using pd.concat(axis=1) instead.  To get a de-fragmented frame, use `newframe = frame.copy()`\n",
      "\n",
      "/var/folders/cb/y_45syrn4kd26w8rrdgvk_3r0000gn/T/ipykernel_53661/627631000.py:24: PerformanceWarning:\n",
      "\n",
      "DataFrame is highly fragmented.  This is usually the result of calling `frame.insert` many times, which has poor performance.  Consider joining all columns at once using pd.concat(axis=1) instead.  To get a de-fragmented frame, use `newframe = frame.copy()`\n",
      "\n",
      "127.0.0.1 - - [22/Aug/2022 15:50:31] \"POST /_dash-update-component HTTP/1.1\" 200 -\n",
      "/var/folders/cb/y_45syrn4kd26w8rrdgvk_3r0000gn/T/ipykernel_53661/627631000.py:24: PerformanceWarning:\n",
      "\n",
      "DataFrame is highly fragmented.  This is usually the result of calling `frame.insert` many times, which has poor performance.  Consider joining all columns at once using pd.concat(axis=1) instead.  To get a de-fragmented frame, use `newframe = frame.copy()`\n",
      "\n",
      "/var/folders/cb/y_45syrn4kd26w8rrdgvk_3r0000gn/T/ipykernel_53661/627631000.py:24: PerformanceWarning:\n",
      "\n",
      "DataFrame is highly fragmented.  This is usually the result of calling `frame.insert` many times, which has poor performance.  Consider joining all columns at once using pd.concat(axis=1) instead.  To get a de-fragmented frame, use `newframe = frame.copy()`\n",
      "\n",
      "127.0.0.1 - - [22/Aug/2022 15:50:31] \"POST /_dash-update-component HTTP/1.1\" 200 -\n"
     ]
    },
    {
     "name": "stdout",
     "output_type": "stream",
     "text": [
      "     Gene_Knock  pharyngeal arch (contains muscle, early cartilage)\n",
      "0       Control                                               71.0 \n",
      "1       Control                                               77.0 \n",
      "2       Control                                               62.0 \n",
      "3       Control                                               89.0 \n",
      "4       Control                                               85.0 \n",
      "...         ...                                                ... \n",
      "3199    LinPred                                               60.0 \n",
      "3200    LinPred                                               75.0 \n",
      "3201    LinPred                                               60.0 \n",
      "3202    LinPred                                               80.0 \n",
      "3203    LinPred                                               65.0 \n",
      "\n",
      "[3204 rows x 2 columns]\n",
      "     Gene_Knock  pronephric podocyte\n",
      "0       Control                  6.0\n",
      "1       Control                  3.0\n",
      "2       Control                  0.0\n",
      "3       Control                  1.0\n",
      "4       Control                  0.0\n",
      "...         ...                  ...\n",
      "3199    LinPred                  8.0\n",
      "3200    LinPred                  6.0\n",
      "3201    LinPred                  7.0\n",
      "3202    LinPred                  4.0\n",
      "3203    LinPred                 11.0\n",
      "\n",
      "[3204 rows x 2 columns]\n",
      "     Gene_Knock  radial glia\n",
      "0       Control          3.0\n",
      "1       Control          6.0\n",
      "2       Control          2.0\n",
      "3       Control         10.0\n",
      "4       Control          9.0\n",
      "...         ...          ...\n",
      "3199    LinPred          0.0\n",
      "3200    LinPred          0.0\n",
      "3201    LinPred          0.0\n",
      "3202    LinPred          0.0\n",
      "3203    LinPred          0.0\n",
      "\n",
      "[3204 rows x 2 columns]\n",
      "     Gene_Knock  retinal neuron (RGC, photoreceptor, bipolar cell)\n",
      "0       Control                                               15.0\n",
      "1       Control                                               18.0\n",
      "2       Control                                               22.0\n",
      "3       Control                                               36.0\n",
      "4       Control                                               25.0\n",
      "...         ...                                                ...\n",
      "3199    LinPred                                                5.0\n",
      "3200    LinPred                                               23.0\n",
      "3201    LinPred                                               16.0\n",
      "3202    LinPred                                               31.0\n",
      "3203    LinPred                                               18.0\n",
      "\n",
      "[3204 rows x 2 columns]\n"
     ]
    },
    {
     "name": "stderr",
     "output_type": "stream",
     "text": [
      "127.0.0.1 - - [22/Aug/2022 15:50:31] \"POST /_dash-update-component HTTP/1.1\" 200 -\n",
      "127.0.0.1 - - [22/Aug/2022 15:50:31] \"POST /_dash-update-component HTTP/1.1\" 200 -\n",
      "127.0.0.1 - - [22/Aug/2022 15:50:31] \"POST /_dash-update-component HTTP/1.1\" 200 -\n"
     ]
    },
    {
     "name": "stdout",
     "output_type": "stream",
     "text": [
      "     Gene_Knock  radial glia\n",
      "0       Control          3.0\n",
      "1       Control          6.0\n",
      "2       Control          2.0\n",
      "3       Control         10.0\n",
      "4       Control          9.0\n",
      "...         ...          ...\n",
      "3199    LinPred          0.0\n",
      "3200    LinPred          0.0\n",
      "3201    LinPred          0.0\n",
      "3202    LinPred          0.0\n",
      "3203    LinPred          0.0\n",
      "\n",
      "[3204 rows x 2 columns]\n"
     ]
    },
    {
     "name": "stderr",
     "output_type": "stream",
     "text": [
      "/var/folders/cb/y_45syrn4kd26w8rrdgvk_3r0000gn/T/ipykernel_53661/627631000.py:24: PerformanceWarning:\n",
      "\n",
      "DataFrame is highly fragmented.  This is usually the result of calling `frame.insert` many times, which has poor performance.  Consider joining all columns at once using pd.concat(axis=1) instead.  To get a de-fragmented frame, use `newframe = frame.copy()`\n",
      "\n",
      "127.0.0.1 - - [22/Aug/2022 15:50:33] \"POST /_dash-update-component HTTP/1.1\" 200 -\n"
     ]
    },
    {
     "name": "stdout",
     "output_type": "stream",
     "text": [
      "     Gene_Knock  pronephric podocyte\n",
      "0       Control                  6.0\n",
      "1       Control                  3.0\n",
      "2       Control                  0.0\n",
      "3       Control                  1.0\n",
      "4       Control                  0.0\n",
      "...         ...                  ...\n",
      "3199    LinPred                  8.0\n",
      "3200    LinPred                  6.0\n",
      "3201    LinPred                  7.0\n",
      "3202    LinPred                  4.0\n",
      "3203    LinPred                 11.0\n",
      "\n",
      "[3204 rows x 2 columns]\n"
     ]
    },
    {
     "name": "stderr",
     "output_type": "stream",
     "text": [
      "/var/folders/cb/y_45syrn4kd26w8rrdgvk_3r0000gn/T/ipykernel_53661/627631000.py:24: PerformanceWarning:\n",
      "\n",
      "DataFrame is highly fragmented.  This is usually the result of calling `frame.insert` many times, which has poor performance.  Consider joining all columns at once using pd.concat(axis=1) instead.  To get a de-fragmented frame, use `newframe = frame.copy()`\n",
      "\n",
      "127.0.0.1 - - [22/Aug/2022 15:50:37] \"POST /_dash-update-component HTTP/1.1\" 200 -\n"
     ]
    },
    {
     "name": "stdout",
     "output_type": "stream",
     "text": [
      "     Gene_Knock  radial glia\n",
      "0       Control          3.0\n",
      "1       Control          6.0\n",
      "2       Control          2.0\n",
      "3       Control         10.0\n",
      "4       Control          9.0\n",
      "...         ...          ...\n",
      "3199    LinPred          0.0\n",
      "3200    LinPred          0.0\n",
      "3201    LinPred          0.0\n",
      "3202    LinPred          0.0\n",
      "3203    LinPred          0.0\n",
      "\n",
      "[3204 rows x 2 columns]\n"
     ]
    },
    {
     "name": "stderr",
     "output_type": "stream",
     "text": [
      "/var/folders/cb/y_45syrn4kd26w8rrdgvk_3r0000gn/T/ipykernel_53661/627631000.py:24: PerformanceWarning:\n",
      "\n",
      "DataFrame is highly fragmented.  This is usually the result of calling `frame.insert` many times, which has poor performance.  Consider joining all columns at once using pd.concat(axis=1) instead.  To get a de-fragmented frame, use `newframe = frame.copy()`\n",
      "\n",
      "127.0.0.1 - - [22/Aug/2022 15:50:37] \"POST /_dash-update-component HTTP/1.1\" 200 -\n"
     ]
    },
    {
     "name": "stdout",
     "output_type": "stream",
     "text": [
      "     Gene_Knock  retinal neuron (RGC, photoreceptor, bipolar cell)\n",
      "0       Control                                               15.0\n",
      "1       Control                                               18.0\n",
      "2       Control                                               22.0\n",
      "3       Control                                               36.0\n",
      "4       Control                                               25.0\n",
      "...         ...                                                ...\n",
      "3199    LinPred                                                5.0\n",
      "3200    LinPred                                               23.0\n",
      "3201    LinPred                                               16.0\n",
      "3202    LinPred                                               31.0\n",
      "3203    LinPred                                               18.0\n",
      "\n",
      "[3204 rows x 2 columns]\n"
     ]
    },
    {
     "name": "stderr",
     "output_type": "stream",
     "text": [
      "/var/folders/cb/y_45syrn4kd26w8rrdgvk_3r0000gn/T/ipykernel_53661/627631000.py:24: PerformanceWarning:\n",
      "\n",
      "DataFrame is highly fragmented.  This is usually the result of calling `frame.insert` many times, which has poor performance.  Consider joining all columns at once using pd.concat(axis=1) instead.  To get a de-fragmented frame, use `newframe = frame.copy()`\n",
      "\n",
      "127.0.0.1 - - [22/Aug/2022 15:50:38] \"POST /_dash-update-component HTTP/1.1\" 200 -\n",
      "/var/folders/cb/y_45syrn4kd26w8rrdgvk_3r0000gn/T/ipykernel_53661/627631000.py:24: PerformanceWarning:\n",
      "\n",
      "DataFrame is highly fragmented.  This is usually the result of calling `frame.insert` many times, which has poor performance.  Consider joining all columns at once using pd.concat(axis=1) instead.  To get a de-fragmented frame, use `newframe = frame.copy()`\n",
      "\n"
     ]
    },
    {
     "name": "stdout",
     "output_type": "stream",
     "text": [
      "     Gene_Knock  radial glia\n",
      "0       Control          3.0\n",
      "1       Control          6.0\n",
      "2       Control          2.0\n",
      "3       Control         10.0\n",
      "4       Control          9.0\n",
      "...         ...          ...\n",
      "3199    LinPred          0.0\n",
      "3200    LinPred          0.0\n",
      "3201    LinPred          0.0\n",
      "3202    LinPred          0.0\n",
      "3203    LinPred          0.0\n",
      "\n",
      "[3204 rows x 2 columns]\n",
      "     Gene_Knock  pronephric podocyte\n",
      "0       Control                  6.0\n",
      "1       Control                  3.0\n",
      "2       Control                  0.0\n",
      "3       Control                  1.0\n",
      "4       Control                  0.0\n",
      "...         ...                  ...\n",
      "3199    LinPred                  8.0\n",
      "3200    LinPred                  6.0\n",
      "3201    LinPred                  7.0\n",
      "3202    LinPred                  4.0\n",
      "3203    LinPred                 11.0\n",
      "\n",
      "[3204 rows x 2 columns]\n"
     ]
    },
    {
     "name": "stderr",
     "output_type": "stream",
     "text": [
      "/var/folders/cb/y_45syrn4kd26w8rrdgvk_3r0000gn/T/ipykernel_53661/627631000.py:24: PerformanceWarning:\n",
      "\n",
      "DataFrame is highly fragmented.  This is usually the result of calling `frame.insert` many times, which has poor performance.  Consider joining all columns at once using pd.concat(axis=1) instead.  To get a de-fragmented frame, use `newframe = frame.copy()`\n",
      "\n",
      "127.0.0.1 - - [22/Aug/2022 15:50:39] \"POST /_dash-update-component HTTP/1.1\" 200 -\n",
      "127.0.0.1 - - [22/Aug/2022 15:50:39] \"POST /_dash-update-component HTTP/1.1\" 200 -\n"
     ]
    },
    {
     "name": "stdout",
     "output_type": "stream",
     "text": [
      "     Gene_Knock  pharyngeal arch (contains muscle, early cartilage)\n",
      "0       Control                                               71.0 \n",
      "1       Control                                               77.0 \n",
      "2       Control                                               62.0 \n",
      "3       Control                                               89.0 \n",
      "4       Control                                               85.0 \n",
      "...         ...                                                ... \n",
      "3199    LinPred                                               60.0 \n",
      "3200    LinPred                                               75.0 \n",
      "3201    LinPred                                               60.0 \n",
      "3202    LinPred                                               80.0 \n",
      "3203    LinPred                                               65.0 \n",
      "\n",
      "[3204 rows x 2 columns]\n"
     ]
    },
    {
     "name": "stderr",
     "output_type": "stream",
     "text": [
      "/var/folders/cb/y_45syrn4kd26w8rrdgvk_3r0000gn/T/ipykernel_53661/627631000.py:24: PerformanceWarning:\n",
      "\n",
      "DataFrame is highly fragmented.  This is usually the result of calling `frame.insert` many times, which has poor performance.  Consider joining all columns at once using pd.concat(axis=1) instead.  To get a de-fragmented frame, use `newframe = frame.copy()`\n",
      "\n",
      "127.0.0.1 - - [22/Aug/2022 15:50:41] \"POST /_dash-update-component HTTP/1.1\" 200 -\n"
     ]
    },
    {
     "name": "stdout",
     "output_type": "stream",
     "text": [
      "     Gene_Knock  neural progenitor (hindbrain R7/8)\n",
      "0       Control                                 9.0\n",
      "1       Control                                15.0\n",
      "2       Control                                13.0\n",
      "3       Control                                12.0\n",
      "4       Control                                 6.0\n",
      "...         ...                                 ...\n",
      "3199    LinPred                                12.0\n",
      "3200    LinPred                                 2.0\n",
      "3201    LinPred                                10.0\n",
      "3202    LinPred                                 5.0\n",
      "3203    LinPred                                 5.0\n",
      "\n",
      "[3204 rows x 2 columns]\n"
     ]
    },
    {
     "name": "stderr",
     "output_type": "stream",
     "text": [
      "/var/folders/cb/y_45syrn4kd26w8rrdgvk_3r0000gn/T/ipykernel_53661/627631000.py:24: PerformanceWarning:\n",
      "\n",
      "DataFrame is highly fragmented.  This is usually the result of calling `frame.insert` many times, which has poor performance.  Consider joining all columns at once using pd.concat(axis=1) instead.  To get a de-fragmented frame, use `newframe = frame.copy()`\n",
      "\n",
      "127.0.0.1 - - [22/Aug/2022 15:50:43] \"POST /_dash-update-component HTTP/1.1\" 200 -\n",
      "127.0.0.1 - - [22/Aug/2022 15:50:43] \"POST /_dash-update-component HTTP/1.1\" 200 -\n"
     ]
    },
    {
     "name": "stdout",
     "output_type": "stream",
     "text": [
      "     Gene_Knock  neural progenitor (hindbrain R7/8)\n",
      "0       Control                                 9.0\n",
      "1       Control                                15.0\n",
      "2       Control                                13.0\n",
      "3       Control                                12.0\n",
      "4       Control                                 6.0\n",
      "...         ...                                 ...\n",
      "3199    LinPred                                12.0\n",
      "3200    LinPred                                 2.0\n",
      "3201    LinPred                                10.0\n",
      "3202    LinPred                                 5.0\n",
      "3203    LinPred                                 5.0\n",
      "\n",
      "[3204 rows x 2 columns]\n"
     ]
    },
    {
     "name": "stderr",
     "output_type": "stream",
     "text": [
      "/var/folders/cb/y_45syrn4kd26w8rrdgvk_3r0000gn/T/ipykernel_53661/627631000.py:24: PerformanceWarning:\n",
      "\n",
      "DataFrame is highly fragmented.  This is usually the result of calling `frame.insert` many times, which has poor performance.  Consider joining all columns at once using pd.concat(axis=1) instead.  To get a de-fragmented frame, use `newframe = frame.copy()`\n",
      "\n",
      "127.0.0.1 - - [22/Aug/2022 15:50:44] \"POST /_dash-update-component HTTP/1.1\" 200 -\n",
      "/var/folders/cb/y_45syrn4kd26w8rrdgvk_3r0000gn/T/ipykernel_53661/627631000.py:24: PerformanceWarning:\n",
      "\n",
      "DataFrame is highly fragmented.  This is usually the result of calling `frame.insert` many times, which has poor performance.  Consider joining all columns at once using pd.concat(axis=1) instead.  To get a de-fragmented frame, use `newframe = frame.copy()`\n",
      "\n",
      "127.0.0.1 - - [22/Aug/2022 15:50:44] \"POST /_dash-update-component HTTP/1.1\" 200 -\n"
     ]
    },
    {
     "name": "stdout",
     "output_type": "stream",
     "text": [
      "     Gene_Knock  roof plate, flexural + subcommissural organ\n",
      "0       Control                                         12.0\n",
      "1       Control                                         12.0\n",
      "2       Control                                         13.0\n",
      "3       Control                                         10.0\n",
      "4       Control                                         20.0\n",
      "...         ...                                          ...\n",
      "3199    LinPred                                         17.0\n",
      "3200    LinPred                                         21.0\n",
      "3201    LinPred                                         16.0\n",
      "3202    LinPred                                          8.0\n",
      "3203    LinPred                                         13.0\n",
      "\n",
      "[3204 rows x 2 columns]\n",
      "     Gene_Knock  retinal pigmented epithelium (late)\n",
      "0       Control                                  0.0\n",
      "1       Control                                  1.0\n",
      "2       Control                                  2.0\n",
      "3       Control                                  1.0\n",
      "4       Control                                  2.0\n",
      "...         ...                                  ...\n",
      "3199    LinPred                                 -3.0\n",
      "3200    LinPred                                 -2.0\n",
      "3201    LinPred                                 -3.0\n",
      "3202    LinPred                                 -1.0\n",
      "3203    LinPred                                 -3.0\n",
      "\n",
      "[3204 rows x 2 columns]\n"
     ]
    },
    {
     "name": "stderr",
     "output_type": "stream",
     "text": [
      "/var/folders/cb/y_45syrn4kd26w8rrdgvk_3r0000gn/T/ipykernel_53661/627631000.py:24: PerformanceWarning:\n",
      "\n",
      "DataFrame is highly fragmented.  This is usually the result of calling `frame.insert` many times, which has poor performance.  Consider joining all columns at once using pd.concat(axis=1) instead.  To get a de-fragmented frame, use `newframe = frame.copy()`\n",
      "\n",
      "127.0.0.1 - - [22/Aug/2022 15:50:44] \"POST /_dash-update-component HTTP/1.1\" 200 -\n"
     ]
    },
    {
     "name": "stdout",
     "output_type": "stream",
     "text": [
      "     Gene_Knock  retinal neuron (RGC, photoreceptor, bipolar cell)\n",
      "0       Control                                               15.0\n",
      "1       Control                                               18.0\n",
      "2       Control                                               22.0\n",
      "3       Control                                               36.0\n",
      "4       Control                                               25.0\n",
      "...         ...                                                ...\n",
      "3199    LinPred                                                5.0\n",
      "3200    LinPred                                               23.0\n",
      "3201    LinPred                                               16.0\n",
      "3202    LinPred                                               31.0\n",
      "3203    LinPred                                               18.0\n",
      "\n",
      "[3204 rows x 2 columns]\n"
     ]
    },
    {
     "name": "stderr",
     "output_type": "stream",
     "text": [
      "/var/folders/cb/y_45syrn4kd26w8rrdgvk_3r0000gn/T/ipykernel_53661/627631000.py:24: PerformanceWarning:\n",
      "\n",
      "DataFrame is highly fragmented.  This is usually the result of calling `frame.insert` many times, which has poor performance.  Consider joining all columns at once using pd.concat(axis=1) instead.  To get a de-fragmented frame, use `newframe = frame.copy()`\n",
      "\n",
      "/var/folders/cb/y_45syrn4kd26w8rrdgvk_3r0000gn/T/ipykernel_53661/627631000.py:24: PerformanceWarning:\n",
      "\n",
      "DataFrame is highly fragmented.  This is usually the result of calling `frame.insert` many times, which has poor performance.  Consider joining all columns at once using pd.concat(axis=1) instead.  To get a de-fragmented frame, use `newframe = frame.copy()`\n",
      "\n",
      "127.0.0.1 - - [22/Aug/2022 15:50:46] \"POST /_dash-update-component HTTP/1.1\" 200 -\n",
      "127.0.0.1 - - [22/Aug/2022 15:50:46] \"POST /_dash-update-component HTTP/1.1\" 200 -\n"
     ]
    },
    {
     "name": "stdout",
     "output_type": "stream",
     "text": [
      "     Gene_Knock  radial glia\n",
      "0       Control          3.0\n",
      "1       Control          6.0\n",
      "2       Control          2.0\n",
      "3       Control         10.0\n",
      "4       Control          9.0\n",
      "...         ...          ...\n",
      "3199    LinPred        -10.0\n",
      "3200    LinPred         -7.0\n",
      "3201    LinPred         -7.0\n",
      "3202    LinPred        -10.0\n",
      "3203    LinPred         -8.0\n",
      "\n",
      "[3204 rows x 2 columns]\n",
      "     Gene_Knock  pronephric podocyte\n",
      "0       Control                  6.0\n",
      "1       Control                  3.0\n",
      "2       Control                  0.0\n",
      "3       Control                  1.0\n",
      "4       Control                  0.0\n",
      "...         ...                  ...\n",
      "3199    LinPred                  8.0\n",
      "3200    LinPred                  6.0\n",
      "3201    LinPred                  7.0\n",
      "3202    LinPred                  4.0\n",
      "3203    LinPred                 11.0\n",
      "\n",
      "[3204 rows x 2 columns]\n"
     ]
    },
    {
     "name": "stderr",
     "output_type": "stream",
     "text": [
      "/var/folders/cb/y_45syrn4kd26w8rrdgvk_3r0000gn/T/ipykernel_53661/627631000.py:24: PerformanceWarning:\n",
      "\n",
      "DataFrame is highly fragmented.  This is usually the result of calling `frame.insert` many times, which has poor performance.  Consider joining all columns at once using pd.concat(axis=1) instead.  To get a de-fragmented frame, use `newframe = frame.copy()`\n",
      "\n",
      "/var/folders/cb/y_45syrn4kd26w8rrdgvk_3r0000gn/T/ipykernel_53661/627631000.py:24: PerformanceWarning:\n",
      "\n",
      "DataFrame is highly fragmented.  This is usually the result of calling `frame.insert` many times, which has poor performance.  Consider joining all columns at once using pd.concat(axis=1) instead.  To get a de-fragmented frame, use `newframe = frame.copy()`\n",
      "\n",
      "127.0.0.1 - - [22/Aug/2022 15:50:47] \"POST /_dash-update-component HTTP/1.1\" 200 -\n",
      "127.0.0.1 - - [22/Aug/2022 15:50:47] \"POST /_dash-update-component HTTP/1.1\" 200 -\n"
     ]
    },
    {
     "name": "stdout",
     "output_type": "stream",
     "text": [
      "     Gene_Knock  pharyngeal arch (contains muscle, early cartilage)\n",
      "0       Control                                               71.0 \n",
      "1       Control                                               77.0 \n",
      "2       Control                                               62.0 \n",
      "3       Control                                               89.0 \n",
      "4       Control                                               85.0 \n",
      "...         ...                                                ... \n",
      "3199    LinPred                                               60.0 \n",
      "3200    LinPred                                               75.0 \n",
      "3201    LinPred                                               60.0 \n",
      "3202    LinPred                                               80.0 \n",
      "3203    LinPred                                               65.0 \n",
      "\n",
      "[3204 rows x 2 columns]\n",
      "     Gene_Knock  pharyngeal arch (NC-derived)\n",
      "0       Control                           0.0\n",
      "1       Control                           0.0\n",
      "2       Control                           0.0\n",
      "3       Control                           0.0\n",
      "4       Control                           0.0\n",
      "...         ...                           ...\n",
      "3199    LinPred                           1.0\n",
      "3200    LinPred                           1.0\n",
      "3201    LinPred                           2.0\n",
      "3202    LinPred                           1.0\n",
      "3203    LinPred                           2.0\n",
      "\n",
      "[3204 rows x 2 columns]\n"
     ]
    },
    {
     "name": "stderr",
     "output_type": "stream",
     "text": [
      "/var/folders/cb/y_45syrn4kd26w8rrdgvk_3r0000gn/T/ipykernel_53661/627631000.py:24: PerformanceWarning:\n",
      "\n",
      "DataFrame is highly fragmented.  This is usually the result of calling `frame.insert` many times, which has poor performance.  Consider joining all columns at once using pd.concat(axis=1) instead.  To get a de-fragmented frame, use `newframe = frame.copy()`\n",
      "\n",
      "127.0.0.1 - - [22/Aug/2022 15:50:49] \"POST /_dash-update-component HTTP/1.1\" 200 -\n",
      "/var/folders/cb/y_45syrn4kd26w8rrdgvk_3r0000gn/T/ipykernel_53661/627631000.py:24: PerformanceWarning:\n",
      "\n",
      "DataFrame is highly fragmented.  This is usually the result of calling `frame.insert` many times, which has poor performance.  Consider joining all columns at once using pd.concat(axis=1) instead.  To get a de-fragmented frame, use `newframe = frame.copy()`\n",
      "\n"
     ]
    },
    {
     "name": "stdout",
     "output_type": "stream",
     "text": [
      "     Gene_Knock  radial glia\n",
      "0       Control          3.0\n",
      "1       Control          6.0\n",
      "2       Control          2.0\n",
      "3       Control         10.0\n",
      "4       Control          9.0\n",
      "...         ...          ...\n",
      "3199    LinPred        -10.0\n",
      "3200    LinPred         -7.0\n",
      "3201    LinPred         -7.0\n",
      "3202    LinPred        -10.0\n",
      "3203    LinPred         -8.0\n",
      "\n",
      "[3204 rows x 2 columns]\n"
     ]
    },
    {
     "name": "stderr",
     "output_type": "stream",
     "text": [
      "/var/folders/cb/y_45syrn4kd26w8rrdgvk_3r0000gn/T/ipykernel_53661/627631000.py:24: PerformanceWarning:\n",
      "\n",
      "DataFrame is highly fragmented.  This is usually the result of calling `frame.insert` many times, which has poor performance.  Consider joining all columns at once using pd.concat(axis=1) instead.  To get a de-fragmented frame, use `newframe = frame.copy()`\n",
      "\n",
      "127.0.0.1 - - [22/Aug/2022 15:50:49] \"POST /_dash-update-component HTTP/1.1\" 200 -\n",
      "127.0.0.1 - - [22/Aug/2022 15:50:49] \"POST /_dash-update-component HTTP/1.1\" 200 -\n"
     ]
    },
    {
     "name": "stdout",
     "output_type": "stream",
     "text": [
      "     Gene_Knock  pronephric podocyte\n",
      "0       Control                  6.0\n",
      "1       Control                  3.0\n",
      "2       Control                  0.0\n",
      "3       Control                  1.0\n",
      "4       Control                  0.0\n",
      "...         ...                  ...\n",
      "3199    LinPred                  8.0\n",
      "3200    LinPred                  6.0\n",
      "3201    LinPred                  7.0\n",
      "3202    LinPred                  4.0\n",
      "3203    LinPred                 11.0\n",
      "\n",
      "[3204 rows x 2 columns]\n",
      "     Gene_Knock  periderm 6\n",
      "0       Control         6.0\n",
      "1       Control         5.0\n",
      "2       Control         8.0\n",
      "3       Control        34.0\n",
      "4       Control         2.0\n",
      "...         ...         ...\n",
      "3199    LinPred        -6.0\n",
      "3200    LinPred        -6.0\n",
      "3201    LinPred        -5.0\n",
      "3202    LinPred        -7.0\n",
      "3203    LinPred        -7.0\n",
      "\n",
      "[3204 rows x 2 columns]\n"
     ]
    },
    {
     "name": "stderr",
     "output_type": "stream",
     "text": [
      "/var/folders/cb/y_45syrn4kd26w8rrdgvk_3r0000gn/T/ipykernel_53661/627631000.py:24: PerformanceWarning:\n",
      "\n",
      "DataFrame is highly fragmented.  This is usually the result of calling `frame.insert` many times, which has poor performance.  Consider joining all columns at once using pd.concat(axis=1) instead.  To get a de-fragmented frame, use `newframe = frame.copy()`\n",
      "\n",
      "127.0.0.1 - - [22/Aug/2022 15:50:50] \"POST /_dash-update-component HTTP/1.1\" 200 -\n"
     ]
    },
    {
     "name": "stdout",
     "output_type": "stream",
     "text": [
      "     Gene_Knock  periderm 5\n",
      "0       Control        21.0\n",
      "1       Control        13.0\n",
      "2       Control         8.0\n",
      "3       Control        16.0\n",
      "4       Control         9.0\n",
      "...         ...         ...\n",
      "3199    LinPred        35.0\n",
      "3200    LinPred        23.0\n",
      "3201    LinPred        23.0\n",
      "3202    LinPred        18.0\n",
      "3203    LinPred        23.0\n",
      "\n",
      "[3204 rows x 2 columns]\n"
     ]
    },
    {
     "name": "stderr",
     "output_type": "stream",
     "text": [
      "127.0.0.1 - - [22/Aug/2022 15:51:21] \"GET / HTTP/1.1\" 200 -\n",
      "127.0.0.1 - - [22/Aug/2022 15:51:21] \"GET /_dash-layout HTTP/1.1\" 200 -\n",
      "127.0.0.1 - - [22/Aug/2022 15:51:21] \"GET /_dash-dependencies HTTP/1.1\" 200 -\n",
      "127.0.0.1 - - [22/Aug/2022 15:51:21] \"GET /_dash-component-suites/dash/dcc/async-dropdown.js HTTP/1.1\" 200 -\n",
      "127.0.0.1 - - [22/Aug/2022 15:51:21] \"GET /_dash-component-suites/dash/dcc/async-slider.js HTTP/1.1\" 200 -\n"
     ]
    },
    {
     "name": "stdout",
     "output_type": "stream",
     "text": [
      "Exception on /_dash-update-component [POST]\n",
      "Traceback (most recent call last):\n",
      "  File \"/opt/miniconda3/lib/python3.9/site-packages/flask/app.py\", line 2073, in wsgi_app\n",
      "    response = self.full_dispatch_request()\n",
      "  File \"/opt/miniconda3/lib/python3.9/site-packages/flask/app.py\", line 1518, in full_dispatch_request\n",
      "    rv = self.handle_user_exception(e)\n",
      "  File \"/opt/miniconda3/lib/python3.9/site-packages/flask/app.py\", line 1516, in full_dispatch_request\n",
      "    rv = self.dispatch_request()\n",
      "  File \"/opt/miniconda3/lib/python3.9/site-packages/flask/app.py\", line 1502, in dispatch_request\n",
      "    return self.ensure_sync(self.view_functions[rule.endpoint])(**req.view_args)\n",
      "  File \"/opt/miniconda3/lib/python3.9/site-packages/dash/dash.py\", line 1336, in dispatch\n",
      "    response.set_data(func(*args, outputs_list=outputs_list))\n",
      "  File \"/opt/miniconda3/lib/python3.9/site-packages/dash/_callback.py\", line 151, in add_context\n",
      "    output_value = func(*func_args, **func_kwargs)  # %% callback invoked %%\n",
      "  File \"/var/folders/cb/y_45syrn4kd26w8rrdgvk_3r0000gn/T/ipykernel_53661/627631000.py\", line 129, in gene1_dropdown_avail\n",
      "    return [{'label': i, 'value': i} for i in dict_gene_string_list[hour]]\n",
      "KeyError: None\n"
     ]
    },
    {
     "name": "stderr",
     "output_type": "stream",
     "text": [
      "127.0.0.1 - - [22/Aug/2022 15:51:21] \"GET /_favicon.ico?v=2.0.0 HTTP/1.1\" 200 -\n",
      "127.0.0.1 - - [22/Aug/2022 15:51:21] \"\u001b[35m\u001b[1mPOST /_dash-update-component HTTP/1.1\u001b[0m\" 500 -\n"
     ]
    },
    {
     "name": "stdout",
     "output_type": "stream",
     "text": [
      "Exception on /_dash-update-component [POST]\n",
      "Traceback (most recent call last):\n",
      "  File \"/opt/miniconda3/lib/python3.9/site-packages/flask/app.py\", line 2073, in wsgi_app\n",
      "    response = self.full_dispatch_request()\n",
      "  File \"/opt/miniconda3/lib/python3.9/site-packages/flask/app.py\", line 1518, in full_dispatch_request\n",
      "    rv = self.handle_user_exception(e)\n",
      "  File \"/opt/miniconda3/lib/python3.9/site-packages/flask/app.py\", line 1516, in full_dispatch_request\n",
      "    rv = self.dispatch_request()\n",
      "  File \"/opt/miniconda3/lib/python3.9/site-packages/flask/app.py\", line 1502, in dispatch_request\n",
      "    return self.ensure_sync(self.view_functions[rule.endpoint])(**req.view_args)\n",
      "  File \"/opt/miniconda3/lib/python3.9/site-packages/dash/dash.py\", line 1336, in dispatch\n",
      "    response.set_data(func(*args, outputs_list=outputs_list))\n",
      "  File \"/opt/miniconda3/lib/python3.9/site-packages/dash/_callback.py\", line 151, in add_context\n",
      "    output_value = func(*func_args, **func_kwargs)  # %% callback invoked %%\n",
      "  File \"/var/folders/cb/y_45syrn4kd26w8rrdgvk_3r0000gn/T/ipykernel_53661/627631000.py\", line 138, in gene2_dropdown_avail\n",
      "    string_to_show = list(dict_gene_string_list[hour])\n",
      "KeyError: None\n"
     ]
    },
    {
     "name": "stderr",
     "output_type": "stream",
     "text": [
      "127.0.0.1 - - [22/Aug/2022 15:51:21] \"GET /_dash-component-suites/dash/dcc/async-graph.js HTTP/1.1\" 200 -\n"
     ]
    },
    {
     "name": "stdout",
     "output_type": "stream",
     "text": [
      "Exception on /_dash-update-component [POST]\n",
      "Traceback (most recent call last):\n",
      "  File \"/opt/miniconda3/lib/python3.9/site-packages/flask/app.py\", line 2073, in wsgi_app\n",
      "    response = self.full_dispatch_request()\n",
      "  File \"/opt/miniconda3/lib/python3.9/site-packages/flask/app.py\", line 1518, in full_dispatch_request\n",
      "    rv = self.handle_user_exception(e)\n",
      "  File \"/opt/miniconda3/lib/python3.9/site-packages/flask/app.py\", line 1516, in full_dispatch_request\n",
      "    rv = self.dispatch_request()\n",
      "  File \"/opt/miniconda3/lib/python3.9/site-packages/flask/app.py\", line 1502, in dispatch_request\n",
      "    return self.ensure_sync(self.view_functions[rule.endpoint])(**req.view_args)\n",
      "  File \"/opt/miniconda3/lib/python3.9/site-packages/dash/dash.py\", line 1336, in dispatch\n",
      "    response.set_data(func(*args, outputs_list=outputs_list))\n",
      "  File \"/opt/miniconda3/lib/python3.9/site-packages/dash/_callback.py\", line 151, in add_context\n",
      "    output_value = func(*func_args, **func_kwargs)  # %% callback invoked %%\n",
      "  File \"/var/folders/cb/y_45syrn4kd26w8rrdgvk_3r0000gn/T/ipykernel_53661/627631000.py\", line 154, in make_heatmap\n",
      "    hour_readable = hour_string_dict[hour]\n",
      "KeyError: None\n"
     ]
    },
    {
     "name": "stderr",
     "output_type": "stream",
     "text": [
      "127.0.0.1 - - [22/Aug/2022 15:51:21] \"GET /_dash-component-suites/dash/dcc/async-plotlyjs.js HTTP/1.1\" 200 -\n",
      "127.0.0.1 - - [22/Aug/2022 15:51:21] \"\u001b[35m\u001b[1mPOST /_dash-update-component HTTP/1.1\u001b[0m\" 500 -\n",
      "127.0.0.1 - - [22/Aug/2022 15:51:21] \"\u001b[35m\u001b[1mPOST /_dash-update-component HTTP/1.1\u001b[0m\" 500 -\n"
     ]
    },
    {
     "name": "stdout",
     "output_type": "stream",
     "text": [
      "Exception on /_dash-update-component [POST]\n",
      "Traceback (most recent call last):\n",
      "  File \"/opt/miniconda3/lib/python3.9/site-packages/flask/app.py\", line 2073, in wsgi_app\n",
      "    response = self.full_dispatch_request()\n",
      "  File \"/opt/miniconda3/lib/python3.9/site-packages/flask/app.py\", line 1518, in full_dispatch_request\n",
      "    rv = self.handle_user_exception(e)\n",
      "  File \"/opt/miniconda3/lib/python3.9/site-packages/flask/app.py\", line 1516, in full_dispatch_request\n",
      "    rv = self.dispatch_request()\n",
      "  File \"/opt/miniconda3/lib/python3.9/site-packages/flask/app.py\", line 1502, in dispatch_request\n",
      "    return self.ensure_sync(self.view_functions[rule.endpoint])(**req.view_args)\n",
      "  File \"/opt/miniconda3/lib/python3.9/site-packages/dash/dash.py\", line 1336, in dispatch\n",
      "    response.set_data(func(*args, outputs_list=outputs_list))\n",
      "  File \"/opt/miniconda3/lib/python3.9/site-packages/dash/_callback.py\", line 151, in add_context\n",
      "    output_value = func(*func_args, **func_kwargs)  # %% callback invoked %%\n",
      "  File \"/var/folders/cb/y_45syrn4kd26w8rrdgvk_3r0000gn/T/ipykernel_53661/627631000.py\", line 319, in HoverToBoxPlot\n",
      "    genes = hoverdata['points'][0]['x'].split('-')\n",
      "TypeError: 'NoneType' object is not subscriptable\n"
     ]
    },
    {
     "name": "stderr",
     "output_type": "stream",
     "text": [
      "127.0.0.1 - - [22/Aug/2022 15:51:21] \"\u001b[35m\u001b[1mPOST /_dash-update-component HTTP/1.1\u001b[0m\" 500 -\n",
      "127.0.0.1 - - [22/Aug/2022 15:51:23] \"POST /_dash-update-component HTTP/1.1\" 200 -\n"
     ]
    },
    {
     "name": "stdout",
     "output_type": "stream",
     "text": [
      "Exception on /_dash-update-component [POST]\n",
      "Traceback (most recent call last):\n",
      "  File \"/opt/miniconda3/lib/python3.9/site-packages/flask/app.py\", line 2073, in wsgi_app\n",
      "    response = self.full_dispatch_request()\n",
      "  File \"/opt/miniconda3/lib/python3.9/site-packages/flask/app.py\", line 1518, in full_dispatch_request\n",
      "    rv = self.handle_user_exception(e)\n",
      "  File \"/opt/miniconda3/lib/python3.9/site-packages/flask/app.py\", line 1516, in full_dispatch_request\n",
      "    rv = self.dispatch_request()\n",
      "  File \"/opt/miniconda3/lib/python3.9/site-packages/flask/app.py\", line 1502, in dispatch_request\n",
      "    return self.ensure_sync(self.view_functions[rule.endpoint])(**req.view_args)\n",
      "  File \"/opt/miniconda3/lib/python3.9/site-packages/dash/dash.py\", line 1336, in dispatch\n",
      "    response.set_data(func(*args, outputs_list=outputs_list))\n",
      "  File \"/opt/miniconda3/lib/python3.9/site-packages/dash/_callback.py\", line 151, in add_context\n",
      "    output_value = func(*func_args, **func_kwargs)  # %% callback invoked %%\n",
      "  File \"/var/folders/cb/y_45syrn4kd26w8rrdgvk_3r0000gn/T/ipykernel_53661/627631000.py\", line 139, in gene2_dropdown_avail\n",
      "    string_to_show.remove(gene1)\n",
      "ValueError: list.remove(x): x not in list\n"
     ]
    },
    {
     "name": "stderr",
     "output_type": "stream",
     "text": [
      "127.0.0.1 - - [22/Aug/2022 15:51:23] \"\u001b[35m\u001b[1mPOST /_dash-update-component HTTP/1.1\u001b[0m\" 500 -\n"
     ]
    },
    {
     "name": "stdout",
     "output_type": "stream",
     "text": [
      "Exception on /_dash-update-component [POST]\n",
      "Traceback (most recent call last):\n",
      "  File \"/opt/miniconda3/lib/python3.9/site-packages/flask/app.py\", line 2073, in wsgi_app\n",
      "    response = self.full_dispatch_request()\n",
      "  File \"/opt/miniconda3/lib/python3.9/site-packages/flask/app.py\", line 1518, in full_dispatch_request\n",
      "    rv = self.handle_user_exception(e)\n",
      "  File \"/opt/miniconda3/lib/python3.9/site-packages/flask/app.py\", line 1516, in full_dispatch_request\n",
      "    rv = self.dispatch_request()\n",
      "  File \"/opt/miniconda3/lib/python3.9/site-packages/flask/app.py\", line 1502, in dispatch_request\n",
      "    return self.ensure_sync(self.view_functions[rule.endpoint])(**req.view_args)\n",
      "  File \"/opt/miniconda3/lib/python3.9/site-packages/dash/dash.py\", line 1336, in dispatch\n",
      "    response.set_data(func(*args, outputs_list=outputs_list))\n",
      "  File \"/opt/miniconda3/lib/python3.9/site-packages/dash/_callback.py\", line 151, in add_context\n",
      "    output_value = func(*func_args, **func_kwargs)  # %% callback invoked %%\n",
      "  File \"/var/folders/cb/y_45syrn4kd26w8rrdgvk_3r0000gn/T/ipykernel_53661/627631000.py\", line 181, in make_heatmap\n",
      "    for gene2 in gene2_muti:\n",
      "TypeError: 'NoneType' object is not iterable\n"
     ]
    },
    {
     "name": "stderr",
     "output_type": "stream",
     "text": [
      "127.0.0.1 - - [22/Aug/2022 15:51:23] \"\u001b[35m\u001b[1mPOST /_dash-update-component HTTP/1.1\u001b[0m\" 500 -\n"
     ]
    },
    {
     "name": "stdout",
     "output_type": "stream",
     "text": [
      "Exception on /_dash-update-component [POST]\n",
      "Traceback (most recent call last):\n",
      "  File \"/opt/miniconda3/lib/python3.9/site-packages/flask/app.py\", line 2073, in wsgi_app\n",
      "    response = self.full_dispatch_request()\n",
      "  File \"/opt/miniconda3/lib/python3.9/site-packages/flask/app.py\", line 1518, in full_dispatch_request\n",
      "    rv = self.handle_user_exception(e)\n",
      "  File \"/opt/miniconda3/lib/python3.9/site-packages/flask/app.py\", line 1516, in full_dispatch_request\n",
      "    rv = self.dispatch_request()\n",
      "  File \"/opt/miniconda3/lib/python3.9/site-packages/flask/app.py\", line 1502, in dispatch_request\n",
      "    return self.ensure_sync(self.view_functions[rule.endpoint])(**req.view_args)\n",
      "  File \"/opt/miniconda3/lib/python3.9/site-packages/dash/dash.py\", line 1336, in dispatch\n",
      "    response.set_data(func(*args, outputs_list=outputs_list))\n",
      "  File \"/opt/miniconda3/lib/python3.9/site-packages/dash/_callback.py\", line 151, in add_context\n",
      "    output_value = func(*func_args, **func_kwargs)  # %% callback invoked %%\n",
      "  File \"/var/folders/cb/y_45syrn4kd26w8rrdgvk_3r0000gn/T/ipykernel_53661/627631000.py\", line 319, in HoverToBoxPlot\n",
      "    genes = hoverdata['points'][0]['x'].split('-')\n",
      "TypeError: 'NoneType' object is not subscriptable\n"
     ]
    },
    {
     "name": "stderr",
     "output_type": "stream",
     "text": [
      "127.0.0.1 - - [22/Aug/2022 15:51:23] \"\u001b[35m\u001b[1mPOST /_dash-update-component HTTP/1.1\u001b[0m\" 500 -\n",
      "127.0.0.1 - - [22/Aug/2022 15:51:24] \"POST /_dash-update-component HTTP/1.1\" 200 -\n"
     ]
    },
    {
     "name": "stdout",
     "output_type": "stream",
     "text": [
      "Exception on /_dash-update-component [POST]\n",
      "Traceback (most recent call last):\n",
      "  File \"/opt/miniconda3/lib/python3.9/site-packages/flask/app.py\", line 2073, in wsgi_app\n",
      "    response = self.full_dispatch_request()\n",
      "  File \"/opt/miniconda3/lib/python3.9/site-packages/flask/app.py\", line 1518, in full_dispatch_request\n",
      "    rv = self.handle_user_exception(e)\n",
      "  File \"/opt/miniconda3/lib/python3.9/site-packages/flask/app.py\", line 1516, in full_dispatch_request\n",
      "    rv = self.dispatch_request()\n",
      "  File \"/opt/miniconda3/lib/python3.9/site-packages/flask/app.py\", line 1502, in dispatch_request\n",
      "    return self.ensure_sync(self.view_functions[rule.endpoint])(**req.view_args)\n",
      "  File \"/opt/miniconda3/lib/python3.9/site-packages/dash/dash.py\", line 1336, in dispatch\n",
      "    response.set_data(func(*args, outputs_list=outputs_list))\n",
      "  File \"/opt/miniconda3/lib/python3.9/site-packages/dash/_callback.py\", line 151, in add_context\n",
      "    output_value = func(*func_args, **func_kwargs)  # %% callback invoked %%\n",
      "  File \"/var/folders/cb/y_45syrn4kd26w8rrdgvk_3r0000gn/T/ipykernel_53661/627631000.py\", line 181, in make_heatmap\n",
      "    for gene2 in gene2_muti:\n",
      "TypeError: 'NoneType' object is not iterable\n"
     ]
    },
    {
     "name": "stderr",
     "output_type": "stream",
     "text": [
      "127.0.0.1 - - [22/Aug/2022 15:51:24] \"\u001b[35m\u001b[1mPOST /_dash-update-component HTTP/1.1\u001b[0m\" 500 -\n"
     ]
    },
    {
     "name": "stdout",
     "output_type": "stream",
     "text": [
      "Exception on /_dash-update-component [POST]\n",
      "Traceback (most recent call last):\n",
      "  File \"/opt/miniconda3/lib/python3.9/site-packages/flask/app.py\", line 2073, in wsgi_app\n",
      "    response = self.full_dispatch_request()\n",
      "  File \"/opt/miniconda3/lib/python3.9/site-packages/flask/app.py\", line 1518, in full_dispatch_request\n",
      "    rv = self.handle_user_exception(e)\n",
      "  File \"/opt/miniconda3/lib/python3.9/site-packages/flask/app.py\", line 1516, in full_dispatch_request\n",
      "    rv = self.dispatch_request()\n",
      "  File \"/opt/miniconda3/lib/python3.9/site-packages/flask/app.py\", line 1502, in dispatch_request\n",
      "    return self.ensure_sync(self.view_functions[rule.endpoint])(**req.view_args)\n",
      "  File \"/opt/miniconda3/lib/python3.9/site-packages/dash/dash.py\", line 1336, in dispatch\n",
      "    response.set_data(func(*args, outputs_list=outputs_list))\n",
      "  File \"/opt/miniconda3/lib/python3.9/site-packages/dash/_callback.py\", line 151, in add_context\n",
      "    output_value = func(*func_args, **func_kwargs)  # %% callback invoked %%\n",
      "  File \"/var/folders/cb/y_45syrn4kd26w8rrdgvk_3r0000gn/T/ipykernel_53661/627631000.py\", line 181, in make_heatmap\n",
      "    for gene2 in gene2_muti:\n",
      "TypeError: 'NoneType' object is not iterable\n"
     ]
    },
    {
     "name": "stderr",
     "output_type": "stream",
     "text": [
      "127.0.0.1 - - [22/Aug/2022 15:51:24] \"\u001b[35m\u001b[1mPOST /_dash-update-component HTTP/1.1\u001b[0m\" 500 -\n"
     ]
    },
    {
     "name": "stdout",
     "output_type": "stream",
     "text": [
      "Exception on /_dash-update-component [POST]\n",
      "Traceback (most recent call last):\n",
      "  File \"/opt/miniconda3/lib/python3.9/site-packages/flask/app.py\", line 2073, in wsgi_app\n",
      "    response = self.full_dispatch_request()\n",
      "  File \"/opt/miniconda3/lib/python3.9/site-packages/flask/app.py\", line 1518, in full_dispatch_request\n",
      "    rv = self.handle_user_exception(e)\n",
      "  File \"/opt/miniconda3/lib/python3.9/site-packages/flask/app.py\", line 1516, in full_dispatch_request\n",
      "    rv = self.dispatch_request()\n",
      "  File \"/opt/miniconda3/lib/python3.9/site-packages/flask/app.py\", line 1502, in dispatch_request\n",
      "    return self.ensure_sync(self.view_functions[rule.endpoint])(**req.view_args)\n",
      "  File \"/opt/miniconda3/lib/python3.9/site-packages/dash/dash.py\", line 1336, in dispatch\n",
      "    response.set_data(func(*args, outputs_list=outputs_list))\n",
      "  File \"/opt/miniconda3/lib/python3.9/site-packages/dash/_callback.py\", line 151, in add_context\n",
      "    output_value = func(*func_args, **func_kwargs)  # %% callback invoked %%\n",
      "  File \"/var/folders/cb/y_45syrn4kd26w8rrdgvk_3r0000gn/T/ipykernel_53661/627631000.py\", line 319, in HoverToBoxPlot\n",
      "    genes = hoverdata['points'][0]['x'].split('-')\n",
      "TypeError: 'NoneType' object is not subscriptable\n"
     ]
    },
    {
     "name": "stderr",
     "output_type": "stream",
     "text": [
      "127.0.0.1 - - [22/Aug/2022 15:51:24] \"\u001b[35m\u001b[1mPOST /_dash-update-component HTTP/1.1\u001b[0m\" 500 -\n",
      "/var/folders/cb/y_45syrn4kd26w8rrdgvk_3r0000gn/T/ipykernel_53661/627631000.py:24: PerformanceWarning:\n",
      "\n",
      "DataFrame is highly fragmented.  This is usually the result of calling `frame.insert` many times, which has poor performance.  Consider joining all columns at once using pd.concat(axis=1) instead.  To get a de-fragmented frame, use `newframe = frame.copy()`\n",
      "\n",
      "127.0.0.1 - - [22/Aug/2022 15:51:25] \"POST /_dash-update-component HTTP/1.1\" 200 -\n",
      "127.0.0.1 - - [22/Aug/2022 15:51:26] \"POST /_dash-update-component HTTP/1.1\" 200 -\n"
     ]
    },
    {
     "name": "stdout",
     "output_type": "stream",
     "text": [
      "     Gene_Knock  mature fast muscle 6\n",
      "0       Control                  33.0\n",
      "1       Control                  38.0\n",
      "2       Control                  20.0\n",
      "3       Control                  12.0\n",
      "4       Control                  34.0\n",
      "...         ...                   ...\n",
      "5951    LinPred                  21.0\n",
      "5952    LinPred                  32.0\n",
      "5953    LinPred                  23.0\n",
      "5954    LinPred                  20.0\n",
      "5955    LinPred                   8.0\n",
      "\n",
      "[5956 rows x 2 columns]\n"
     ]
    },
    {
     "name": "stderr",
     "output_type": "stream",
     "text": [
      "/var/folders/cb/y_45syrn4kd26w8rrdgvk_3r0000gn/T/ipykernel_53661/627631000.py:24: PerformanceWarning:\n",
      "\n",
      "DataFrame is highly fragmented.  This is usually the result of calling `frame.insert` many times, which has poor performance.  Consider joining all columns at once using pd.concat(axis=1) instead.  To get a de-fragmented frame, use `newframe = frame.copy()`\n",
      "\n",
      "127.0.0.1 - - [22/Aug/2022 15:51:27] \"POST /_dash-update-component HTTP/1.1\" 200 -\n"
     ]
    },
    {
     "name": "stdout",
     "output_type": "stream",
     "text": [
      "     Gene_Knock  mature slow muscle 3\n",
      "0       Control                 102.0\n",
      "1       Control                  64.0\n",
      "2       Control                  60.0\n",
      "3       Control                  92.0\n",
      "4       Control                  82.0\n",
      "...         ...                   ...\n",
      "5951    LinPred                   3.0\n",
      "5952    LinPred                   1.0\n",
      "5953    LinPred                  32.0\n",
      "5954    LinPred                   2.0\n",
      "5955    LinPred                  -2.0\n",
      "\n",
      "[5956 rows x 2 columns]\n"
     ]
    },
    {
     "name": "stderr",
     "output_type": "stream",
     "text": [
      "/var/folders/cb/y_45syrn4kd26w8rrdgvk_3r0000gn/T/ipykernel_53661/627631000.py:24: PerformanceWarning:\n",
      "\n",
      "DataFrame is highly fragmented.  This is usually the result of calling `frame.insert` many times, which has poor performance.  Consider joining all columns at once using pd.concat(axis=1) instead.  To get a de-fragmented frame, use `newframe = frame.copy()`\n",
      "\n",
      "127.0.0.1 - - [22/Aug/2022 15:51:28] \"POST /_dash-update-component HTTP/1.1\" 200 -\n"
     ]
    },
    {
     "name": "stdout",
     "output_type": "stream",
     "text": [
      "     Gene_Knock  neural progenitor (diencephalon/telencephalon)\n",
      "0       Control                                            15.0\n",
      "1       Control                                            41.0\n",
      "2       Control                                            22.0\n",
      "3       Control                                            38.0\n",
      "4       Control                                            26.0\n",
      "...         ...                                             ...\n",
      "5951    LinPred                                            40.0\n",
      "5952    LinPred                                            39.0\n",
      "5953    LinPred                                            30.0\n",
      "5954    LinPred                                            33.0\n",
      "5955    LinPred                                            50.0\n",
      "\n",
      "[5956 rows x 2 columns]\n"
     ]
    },
    {
     "name": "stderr",
     "output_type": "stream",
     "text": [
      "/var/folders/cb/y_45syrn4kd26w8rrdgvk_3r0000gn/T/ipykernel_53661/627631000.py:24: PerformanceWarning:\n",
      "\n",
      "DataFrame is highly fragmented.  This is usually the result of calling `frame.insert` many times, which has poor performance.  Consider joining all columns at once using pd.concat(axis=1) instead.  To get a de-fragmented frame, use `newframe = frame.copy()`\n",
      "\n",
      "127.0.0.1 - - [22/Aug/2022 15:51:28] \"POST /_dash-update-component HTTP/1.1\" 200 -\n"
     ]
    },
    {
     "name": "stdout",
     "output_type": "stream",
     "text": [
      "     Gene_Knock  neural tube-like connective tissue (+ taste bud)\n",
      "0       Control                                              23.0\n",
      "1       Control                                              32.0\n",
      "2       Control                                              40.0\n",
      "3       Control                                              37.0\n",
      "4       Control                                              26.0\n",
      "...         ...                                               ...\n",
      "5951    LinPred                                              31.0\n",
      "5952    LinPred                                              82.0\n",
      "5953    LinPred                                              61.0\n",
      "5954    LinPred                                              42.0\n",
      "5955    LinPred                                              53.0\n",
      "\n",
      "[5956 rows x 2 columns]\n"
     ]
    },
    {
     "name": "stderr",
     "output_type": "stream",
     "text": [
      "/var/folders/cb/y_45syrn4kd26w8rrdgvk_3r0000gn/T/ipykernel_53661/627631000.py:24: PerformanceWarning:\n",
      "\n",
      "DataFrame is highly fragmented.  This is usually the result of calling `frame.insert` many times, which has poor performance.  Consider joining all columns at once using pd.concat(axis=1) instead.  To get a de-fragmented frame, use `newframe = frame.copy()`\n",
      "\n"
     ]
    },
    {
     "name": "stdout",
     "output_type": "stream",
     "text": [
      "     Gene_Knock  neuromast support cell\n",
      "0       Control                    20.0\n",
      "1       Control                    23.0\n",
      "2       Control                    17.0\n",
      "3       Control                    15.0\n",
      "4       Control                    14.0\n",
      "...         ...                     ...\n",
      "5951    LinPred                    16.0\n",
      "5952    LinPred                    22.0\n",
      "5953    LinPred                    27.0\n",
      "5954    LinPred                    21.0\n",
      "5955    LinPred                    24.0\n",
      "\n",
      "[5956 rows x 2 columns]\n"
     ]
    },
    {
     "name": "stderr",
     "output_type": "stream",
     "text": [
      "127.0.0.1 - - [22/Aug/2022 15:51:29] \"POST /_dash-update-component HTTP/1.1\" 200 -\n",
      "/var/folders/cb/y_45syrn4kd26w8rrdgvk_3r0000gn/T/ipykernel_53661/627631000.py:24: PerformanceWarning:\n",
      "\n",
      "DataFrame is highly fragmented.  This is usually the result of calling `frame.insert` many times, which has poor performance.  Consider joining all columns at once using pd.concat(axis=1) instead.  To get a de-fragmented frame, use `newframe = frame.copy()`\n",
      "\n",
      "/var/folders/cb/y_45syrn4kd26w8rrdgvk_3r0000gn/T/ipykernel_53661/627631000.py:24: PerformanceWarning:\n",
      "\n",
      "DataFrame is highly fragmented.  This is usually the result of calling `frame.insert` many times, which has poor performance.  Consider joining all columns at once using pd.concat(axis=1) instead.  To get a de-fragmented frame, use `newframe = frame.copy()`\n",
      "\n",
      "/var/folders/cb/y_45syrn4kd26w8rrdgvk_3r0000gn/T/ipykernel_53661/627631000.py:24: PerformanceWarning:\n",
      "\n",
      "DataFrame is highly fragmented.  This is usually the result of calling `frame.insert` many times, which has poor performance.  Consider joining all columns at once using pd.concat(axis=1) instead.  To get a de-fragmented frame, use `newframe = frame.copy()`\n",
      "\n",
      "127.0.0.1 - - [22/Aug/2022 15:51:30] \"POST /_dash-update-component HTTP/1.1\" 200 -\n",
      "127.0.0.1 - - [22/Aug/2022 15:51:30] \"POST /_dash-update-component HTTP/1.1\" 200 -\n"
     ]
    },
    {
     "name": "stdout",
     "output_type": "stream",
     "text": [
      "     Gene_Knock  neuron (cranial ganglion, enteric)\n",
      "0       Control                                26.0\n",
      "1       Control                                23.0\n",
      "2       Control                                25.0\n",
      "3       Control                                22.0\n",
      "4       Control                                26.0\n",
      "...         ...                                 ...\n",
      "5951    LinPred                                22.0\n",
      "5952    LinPred                                35.0\n",
      "5953    LinPred                                29.0\n",
      "5954    LinPred                                34.0\n",
      "5955    LinPred                                38.0\n",
      "\n",
      "[5956 rows x 2 columns]\n",
      "     Gene_Knock  neurons (gabaergic, glutamatergic)\n",
      "0       Control                                35.0\n",
      "1       Control                                72.0\n",
      "2       Control                                24.0\n",
      "3       Control                                53.0\n",
      "4       Control                                39.0\n",
      "...         ...                                 ...\n",
      "5951    LinPred                                25.0\n",
      "5952    LinPred                                54.0\n",
      "5953    LinPred                                39.0\n",
      "5954    LinPred                                48.0\n",
      "5955    LinPred                                51.0\n",
      "\n",
      "[5956 rows x 2 columns]\n",
      "     Gene_Knock  neurons (gabaergic, glutamatergic; contains Purkinje)\n",
      "0       Control                                               50.0    \n",
      "1       Control                                               63.0    \n",
      "2       Control                                               30.0    \n",
      "3       Control                                               54.0    \n",
      "4       Control                                               37.0    \n",
      "...         ...                                                ...    \n",
      "5951    LinPred                                               33.0    \n",
      "5952    LinPred                                               71.0    \n",
      "5953    LinPred                                               65.0    \n",
      "5954    LinPred                                               77.0    \n",
      "5955    LinPred                                               59.0    \n",
      "\n",
      "[5956 rows x 2 columns]\n"
     ]
    },
    {
     "name": "stderr",
     "output_type": "stream",
     "text": [
      "127.0.0.1 - - [22/Aug/2022 15:51:30] \"POST /_dash-update-component HTTP/1.1\" 200 -\n",
      "/var/folders/cb/y_45syrn4kd26w8rrdgvk_3r0000gn/T/ipykernel_53661/627631000.py:24: PerformanceWarning:\n",
      "\n",
      "DataFrame is highly fragmented.  This is usually the result of calling `frame.insert` many times, which has poor performance.  Consider joining all columns at once using pd.concat(axis=1) instead.  To get a de-fragmented frame, use `newframe = frame.copy()`\n",
      "\n",
      "127.0.0.1 - - [22/Aug/2022 15:51:33] \"POST /_dash-update-component HTTP/1.1\" 200 -\n"
     ]
    },
    {
     "name": "stdout",
     "output_type": "stream",
     "text": [
      "     Gene_Knock  anterior migratory muscle\n",
      "0       Control                       29.0\n",
      "1       Control                       60.0\n",
      "2       Control                       30.0\n",
      "3       Control                       50.0\n",
      "4       Control                       68.0\n",
      "...         ...                        ...\n",
      "5951    LinPred                      -69.0\n",
      "5952    LinPred                      -36.0\n",
      "5953    LinPred                      -29.0\n",
      "5954    LinPred                      -17.0\n",
      "5955    LinPred                      -22.0\n",
      "\n",
      "[5956 rows x 2 columns]\n"
     ]
    },
    {
     "name": "stderr",
     "output_type": "stream",
     "text": [
      "/var/folders/cb/y_45syrn4kd26w8rrdgvk_3r0000gn/T/ipykernel_53661/627631000.py:24: PerformanceWarning:\n",
      "\n",
      "DataFrame is highly fragmented.  This is usually the result of calling `frame.insert` many times, which has poor performance.  Consider joining all columns at once using pd.concat(axis=1) instead.  To get a de-fragmented frame, use `newframe = frame.copy()`\n",
      "\n",
      "127.0.0.1 - - [22/Aug/2022 15:51:36] \"POST /_dash-update-component HTTP/1.1\" 200 -\n"
     ]
    },
    {
     "name": "stdout",
     "output_type": "stream",
     "text": [
      "     Gene_Knock  anterior migratory muscle\n",
      "0       Control                       29.0\n",
      "1       Control                       60.0\n",
      "2       Control                       30.0\n",
      "3       Control                       50.0\n",
      "4       Control                       68.0\n",
      "...         ...                        ...\n",
      "5951    LinPred                        0.0\n",
      "5952    LinPred                        0.0\n",
      "5953    LinPred                        0.0\n",
      "5954    LinPred                        0.0\n",
      "5955    LinPred                        0.0\n",
      "\n",
      "[5956 rows x 2 columns]\n"
     ]
    },
    {
     "name": "stderr",
     "output_type": "stream",
     "text": [
      "127.0.0.1 - - [22/Aug/2022 15:51:36] \"POST /_dash-update-component HTTP/1.1\" 200 -\n",
      "127.0.0.1 - - [22/Aug/2022 15:51:36] \"POST /_dash-update-component HTTP/1.1\" 200 -\n"
     ]
    },
    {
     "name": "stdout",
     "output_type": "stream",
     "text": [
      "     Gene_Knock  cranial muscle (non-somitic, fast-twitch)\n",
      "0       Control                                       16.0\n",
      "1       Control                                       27.0\n",
      "2       Control                                       12.0\n",
      "3       Control                                       20.0\n",
      "4       Control                                       10.0\n",
      "...         ...                                        ...\n",
      "5951    LinPred                                        0.0\n",
      "5952    LinPred                                        0.0\n",
      "5953    LinPred                                        0.0\n",
      "5954    LinPred                                        0.0\n",
      "5955    LinPred                                        0.0\n",
      "\n",
      "[5956 rows x 2 columns]\n"
     ]
    },
    {
     "name": "stderr",
     "output_type": "stream",
     "text": [
      "/var/folders/cb/y_45syrn4kd26w8rrdgvk_3r0000gn/T/ipykernel_53661/627631000.py:24: PerformanceWarning:\n",
      "\n",
      "DataFrame is highly fragmented.  This is usually the result of calling `frame.insert` many times, which has poor performance.  Consider joining all columns at once using pd.concat(axis=1) instead.  To get a de-fragmented frame, use `newframe = frame.copy()`\n",
      "\n",
      "/var/folders/cb/y_45syrn4kd26w8rrdgvk_3r0000gn/T/ipykernel_53661/627631000.py:24: PerformanceWarning:\n",
      "\n",
      "DataFrame is highly fragmented.  This is usually the result of calling `frame.insert` many times, which has poor performance.  Consider joining all columns at once using pd.concat(axis=1) instead.  To get a de-fragmented frame, use `newframe = frame.copy()`\n",
      "\n",
      "127.0.0.1 - - [22/Aug/2022 15:51:37] \"POST /_dash-update-component HTTP/1.1\" 200 -\n"
     ]
    },
    {
     "name": "stdout",
     "output_type": "stream",
     "text": [
      "     Gene_Knock  neural progenitor (diencephalon/telencephalon)\n",
      "0       Control                                            15.0\n",
      "1       Control                                            41.0\n",
      "2       Control                                            22.0\n",
      "3       Control                                            38.0\n",
      "4       Control                                            26.0\n",
      "...         ...                                             ...\n",
      "5951    LinPred                                            40.0\n",
      "5952    LinPred                                            39.0\n",
      "5953    LinPred                                            30.0\n",
      "5954    LinPred                                            33.0\n",
      "5955    LinPred                                            50.0\n",
      "\n",
      "[5956 rows x 2 columns]\n"
     ]
    },
    {
     "name": "stderr",
     "output_type": "stream",
     "text": [
      "127.0.0.1 - - [22/Aug/2022 15:51:37] \"POST /_dash-update-component HTTP/1.1\" 200 -\n",
      "127.0.0.1 - - [22/Aug/2022 15:51:37] \"POST /_dash-update-component HTTP/1.1\" 200 -\n"
     ]
    },
    {
     "name": "stdout",
     "output_type": "stream",
     "text": [
      "     Gene_Knock  neural progenitor (MHB)\n",
      "0       Control                     11.0\n",
      "1       Control                     37.0\n",
      "2       Control                     18.0\n",
      "3       Control                     55.0\n",
      "4       Control                     24.0\n",
      "...         ...                      ...\n",
      "5951    LinPred                     54.0\n",
      "5952    LinPred                     76.0\n",
      "5953    LinPred                     60.0\n",
      "5954    LinPred                     71.0\n",
      "5955    LinPred                     60.0\n",
      "\n",
      "[5956 rows x 2 columns]\n",
      "     Gene_Knock  melanophore\n",
      "0       Control         22.0\n",
      "1       Control         22.0\n",
      "2       Control         23.0\n",
      "3       Control         19.0\n",
      "4       Control         26.0\n",
      "...         ...          ...\n",
      "5951    LinPred         19.0\n",
      "5952    LinPred         12.0\n",
      "5953    LinPred         18.0\n",
      "5954    LinPred         15.0\n",
      "5955    LinPred         10.0\n",
      "\n",
      "[5956 rows x 2 columns]\n"
     ]
    },
    {
     "name": "stderr",
     "output_type": "stream",
     "text": [
      "/var/folders/cb/y_45syrn4kd26w8rrdgvk_3r0000gn/T/ipykernel_53661/627631000.py:24: PerformanceWarning:\n",
      "\n",
      "DataFrame is highly fragmented.  This is usually the result of calling `frame.insert` many times, which has poor performance.  Consider joining all columns at once using pd.concat(axis=1) instead.  To get a de-fragmented frame, use `newframe = frame.copy()`\n",
      "\n",
      "/var/folders/cb/y_45syrn4kd26w8rrdgvk_3r0000gn/T/ipykernel_53661/627631000.py:24: PerformanceWarning:\n",
      "\n",
      "DataFrame is highly fragmented.  This is usually the result of calling `frame.insert` many times, which has poor performance.  Consider joining all columns at once using pd.concat(axis=1) instead.  To get a de-fragmented frame, use `newframe = frame.copy()`\n",
      "\n",
      "127.0.0.1 - - [22/Aug/2022 15:51:38] \"POST /_dash-update-component HTTP/1.1\" 200 -\n"
     ]
    },
    {
     "name": "stdout",
     "output_type": "stream",
     "text": [
      "     Gene_Knock  mature slow muscle 3\n",
      "0       Control                 102.0\n",
      "1       Control                  64.0\n",
      "2       Control                  60.0\n",
      "3       Control                  92.0\n",
      "4       Control                  82.0\n",
      "...         ...                   ...\n",
      "5951    LinPred                   3.0\n",
      "5952    LinPred                   1.0\n",
      "5953    LinPred                  32.0\n",
      "5954    LinPred                   2.0\n",
      "5955    LinPred                   0.0\n",
      "\n",
      "[5956 rows x 2 columns]\n"
     ]
    },
    {
     "name": "stderr",
     "output_type": "stream",
     "text": [
      "127.0.0.1 - - [22/Aug/2022 15:51:38] \"POST /_dash-update-component HTTP/1.1\" 200 -\n",
      "127.0.0.1 - - [22/Aug/2022 15:51:38] \"POST /_dash-update-component HTTP/1.1\" 200 -\n"
     ]
    },
    {
     "name": "stdout",
     "output_type": "stream",
     "text": [
      "     Gene_Knock  mature fast muscle 6\n",
      "0       Control                  33.0\n",
      "1       Control                  38.0\n",
      "2       Control                  20.0\n",
      "3       Control                  12.0\n",
      "4       Control                  34.0\n",
      "...         ...                   ...\n",
      "5951    LinPred                  21.0\n",
      "5952    LinPred                  32.0\n",
      "5953    LinPred                  23.0\n",
      "5954    LinPred                  20.0\n",
      "5955    LinPred                   8.0\n",
      "\n",
      "[5956 rows x 2 columns]\n",
      "     Gene_Knock  mature fast muscle 4\n",
      "0       Control                  15.0\n",
      "1       Control                  24.0\n",
      "2       Control                  48.0\n",
      "3       Control                  19.0\n",
      "4       Control                  38.0\n",
      "...         ...                   ...\n",
      "5951    LinPred                  18.0\n",
      "5952    LinPred                  30.0\n",
      "5953    LinPred                  75.0\n",
      "5954    LinPred                  18.0\n",
      "5955    LinPred                  17.0\n",
      "\n",
      "[5956 rows x 2 columns]\n"
     ]
    },
    {
     "name": "stderr",
     "output_type": "stream",
     "text": [
      "/var/folders/cb/y_45syrn4kd26w8rrdgvk_3r0000gn/T/ipykernel_53661/627631000.py:24: PerformanceWarning:\n",
      "\n",
      "DataFrame is highly fragmented.  This is usually the result of calling `frame.insert` many times, which has poor performance.  Consider joining all columns at once using pd.concat(axis=1) instead.  To get a de-fragmented frame, use `newframe = frame.copy()`\n",
      "\n",
      "127.0.0.1 - - [22/Aug/2022 15:51:39] \"POST /_dash-update-component HTTP/1.1\" 200 -\n"
     ]
    },
    {
     "name": "stdout",
     "output_type": "stream",
     "text": [
      "     Gene_Knock  mature fast muscle 2\n",
      "0       Control                 416.0\n",
      "1       Control                 196.0\n",
      "2       Control                 215.0\n",
      "3       Control                 241.0\n",
      "4       Control                 245.0\n",
      "...         ...                   ...\n",
      "5951    LinPred                  68.0\n",
      "5952    LinPred                   0.0\n",
      "5953    LinPred                   0.0\n",
      "5954    LinPred                 105.0\n",
      "5955    LinPred                  98.0\n",
      "\n",
      "[5956 rows x 2 columns]\n"
     ]
    },
    {
     "name": "stderr",
     "output_type": "stream",
     "text": [
      "/var/folders/cb/y_45syrn4kd26w8rrdgvk_3r0000gn/T/ipykernel_53661/627631000.py:24: PerformanceWarning:\n",
      "\n",
      "DataFrame is highly fragmented.  This is usually the result of calling `frame.insert` many times, which has poor performance.  Consider joining all columns at once using pd.concat(axis=1) instead.  To get a de-fragmented frame, use `newframe = frame.copy()`\n",
      "\n",
      "127.0.0.1 - - [22/Aug/2022 15:51:39] \"POST /_dash-update-component HTTP/1.1\" 200 -\n"
     ]
    },
    {
     "name": "stdout",
     "output_type": "stream",
     "text": [
      "     Gene_Knock  lens (late)\n",
      "0       Control          8.0\n",
      "1       Control         23.0\n",
      "2       Control         12.0\n",
      "3       Control         16.0\n",
      "4       Control         12.0\n",
      "...         ...          ...\n",
      "5951    LinPred          9.0\n",
      "5952    LinPred         25.0\n",
      "5953    LinPred         19.0\n",
      "5954    LinPred         38.0\n",
      "5955    LinPred         18.0\n",
      "\n",
      "[5956 rows x 2 columns]\n"
     ]
    },
    {
     "name": "stderr",
     "output_type": "stream",
     "text": [
      "/var/folders/cb/y_45syrn4kd26w8rrdgvk_3r0000gn/T/ipykernel_53661/627631000.py:24: PerformanceWarning:\n",
      "\n",
      "DataFrame is highly fragmented.  This is usually the result of calling `frame.insert` many times, which has poor performance.  Consider joining all columns at once using pd.concat(axis=1) instead.  To get a de-fragmented frame, use `newframe = frame.copy()`\n",
      "\n",
      "/var/folders/cb/y_45syrn4kd26w8rrdgvk_3r0000gn/T/ipykernel_53661/627631000.py:24: PerformanceWarning:\n",
      "\n",
      "DataFrame is highly fragmented.  This is usually the result of calling `frame.insert` many times, which has poor performance.  Consider joining all columns at once using pd.concat(axis=1) instead.  To get a de-fragmented frame, use `newframe = frame.copy()`\n",
      "\n"
     ]
    },
    {
     "name": "stdout",
     "output_type": "stream",
     "text": [
      "     Gene_Knock  lens (late)\n",
      "0       Control          8.0\n",
      "1       Control         23.0\n",
      "2       Control         12.0\n",
      "3       Control         16.0\n",
      "4       Control         12.0\n",
      "...         ...          ...\n",
      "5951    LinPred          9.0\n",
      "5952    LinPred         25.0\n",
      "5953    LinPred         19.0\n",
      "5954    LinPred         38.0\n",
      "5955    LinPred         18.0\n",
      "\n",
      "[5956 rows x 2 columns]\n"
     ]
    },
    {
     "name": "stderr",
     "output_type": "stream",
     "text": [
      "127.0.0.1 - - [22/Aug/2022 15:51:41] \"POST /_dash-update-component HTTP/1.1\" 200 -\n",
      "127.0.0.1 - - [22/Aug/2022 15:51:41] \"POST /_dash-update-component HTTP/1.1\" 200 -\n",
      "127.0.0.1 - - [22/Aug/2022 15:51:41] \"POST /_dash-update-component HTTP/1.1\" 200 -\n"
     ]
    },
    {
     "name": "stdout",
     "output_type": "stream",
     "text": [
      "     Gene_Knock  periderm 14\n",
      "0       Control         49.0\n",
      "1       Control         11.0\n",
      "2       Control         84.0\n",
      "3       Control         10.0\n",
      "4       Control         27.0\n",
      "...         ...          ...\n",
      "5951    LinPred          7.0\n",
      "5952    LinPred         26.0\n",
      "5953    LinPred         40.0\n",
      "5954    LinPred         29.0\n",
      "5955    LinPred          6.0\n",
      "\n",
      "[5956 rows x 2 columns]\n"
     ]
    },
    {
     "name": "stderr",
     "output_type": "stream",
     "text": [
      "/var/folders/cb/y_45syrn4kd26w8rrdgvk_3r0000gn/T/ipykernel_53661/627631000.py:24: PerformanceWarning:\n",
      "\n",
      "DataFrame is highly fragmented.  This is usually the result of calling `frame.insert` many times, which has poor performance.  Consider joining all columns at once using pd.concat(axis=1) instead.  To get a de-fragmented frame, use `newframe = frame.copy()`\n",
      "\n"
     ]
    },
    {
     "name": "stdout",
     "output_type": "stream",
     "text": [
      "     Gene_Knock  periderm 11\n",
      "0       Control        120.0\n",
      "1       Control         47.0\n",
      "2       Control        108.0\n",
      "3       Control         57.0\n",
      "4       Control        118.0\n",
      "...         ...          ...\n",
      "5951    LinPred         84.0\n",
      "5952    LinPred         18.0\n",
      "5953    LinPred         68.0\n",
      "5954    LinPred         42.0\n",
      "5955    LinPred         67.0\n",
      "\n",
      "[5956 rows x 2 columns]\n"
     ]
    },
    {
     "name": "stderr",
     "output_type": "stream",
     "text": [
      "/var/folders/cb/y_45syrn4kd26w8rrdgvk_3r0000gn/T/ipykernel_53661/627631000.py:24: PerformanceWarning:\n",
      "\n",
      "DataFrame is highly fragmented.  This is usually the result of calling `frame.insert` many times, which has poor performance.  Consider joining all columns at once using pd.concat(axis=1) instead.  To get a de-fragmented frame, use `newframe = frame.copy()`\n",
      "\n",
      "127.0.0.1 - - [22/Aug/2022 15:51:42] \"POST /_dash-update-component HTTP/1.1\" 200 -\n",
      "/var/folders/cb/y_45syrn4kd26w8rrdgvk_3r0000gn/T/ipykernel_53661/627631000.py:24: PerformanceWarning:\n",
      "\n",
      "DataFrame is highly fragmented.  This is usually the result of calling `frame.insert` many times, which has poor performance.  Consider joining all columns at once using pd.concat(axis=1) instead.  To get a de-fragmented frame, use `newframe = frame.copy()`\n",
      "\n",
      "127.0.0.1 - - [22/Aug/2022 15:51:42] \"POST /_dash-update-component HTTP/1.1\" 200 -\n"
     ]
    },
    {
     "name": "stdout",
     "output_type": "stream",
     "text": [
      "     Gene_Knock  periderm 2\n",
      "0       Control        49.0\n",
      "1       Control        53.0\n",
      "2       Control        44.0\n",
      "3       Control        53.0\n",
      "4       Control        16.0\n",
      "...         ...         ...\n",
      "5951    LinPred        26.0\n",
      "5952    LinPred         8.0\n",
      "5953    LinPred        33.0\n",
      "5954    LinPred        35.0\n",
      "5955    LinPred        41.0\n",
      "\n",
      "[5956 rows x 2 columns]     Gene_Knock  periderm 16\n",
      "0       Control         31.0\n",
      "1       Control         24.0\n",
      "2       Control         43.0\n",
      "3       Control         15.0\n",
      "4       Control         21.0\n",
      "...         ...          ...\n",
      "5951    LinPred         50.0\n",
      "5952    LinPred        -16.0\n",
      "5953    LinPred          4.0\n",
      "5954    LinPred         -7.0\n",
      "5955    LinPred          5.0\n",
      "\n",
      "[5956 rows x 2 columns]\n",
      "\n",
      "     Gene_Knock  periderm 5\n",
      "0       Control        83.0\n",
      "1       Control        51.0\n",
      "2       Control        91.0\n",
      "3       Control        48.0\n",
      "4       Control        55.0\n",
      "...         ...         ...\n",
      "5951    LinPred       176.0\n",
      "5952    LinPred        57.0\n",
      "5953    LinPred        76.0\n",
      "5954    LinPred        98.0\n",
      "5955    LinPred        92.0\n",
      "\n",
      "[5956 rows x 2 columns]\n"
     ]
    },
    {
     "name": "stderr",
     "output_type": "stream",
     "text": [
      "127.0.0.1 - - [22/Aug/2022 15:51:42] \"POST /_dash-update-component HTTP/1.1\" 200 -\n",
      "127.0.0.1 - - [22/Aug/2022 15:51:42] \"POST /_dash-update-component HTTP/1.1\" 200 -\n",
      "/var/folders/cb/y_45syrn4kd26w8rrdgvk_3r0000gn/T/ipykernel_53661/627631000.py:24: PerformanceWarning:\n",
      "\n",
      "DataFrame is highly fragmented.  This is usually the result of calling `frame.insert` many times, which has poor performance.  Consider joining all columns at once using pd.concat(axis=1) instead.  To get a de-fragmented frame, use `newframe = frame.copy()`\n",
      "\n",
      "/var/folders/cb/y_45syrn4kd26w8rrdgvk_3r0000gn/T/ipykernel_53661/627631000.py:24: PerformanceWarning:\n",
      "\n",
      "DataFrame is highly fragmented.  This is usually the result of calling `frame.insert` many times, which has poor performance.  Consider joining all columns at once using pd.concat(axis=1) instead.  To get a de-fragmented frame, use `newframe = frame.copy()`\n",
      "\n",
      "127.0.0.1 - - [22/Aug/2022 15:51:43] \"POST /_dash-update-component HTTP/1.1\" 200 -\n",
      "127.0.0.1 - - [22/Aug/2022 15:51:43] \"POST /_dash-update-component HTTP/1.1\" 200 -\n",
      "127.0.0.1 - - [22/Aug/2022 15:51:43] \"POST /_dash-update-component HTTP/1.1\" 200 -\n"
     ]
    },
    {
     "name": "stdout",
     "output_type": "stream",
     "text": [
      "     Gene_Knock  periderm 9\n",
      "0       Control        52.0\n",
      "1       Control        36.0\n",
      "2       Control        28.0\n",
      "3       Control        36.0\n",
      "4       Control        40.0\n",
      "...         ...         ...\n",
      "5951    LinPred        17.0\n",
      "5952    LinPred        -1.0\n",
      "5953    LinPred         4.0\n",
      "5954    LinPred        23.0\n",
      "5955    LinPred        38.0\n",
      "\n",
      "[5956 rows x 2 columns]\n",
      "     Gene_Knock  pharyngeal arch (early)\n",
      "0       Control                     46.0\n",
      "1       Control                     92.0\n",
      "2       Control                     70.0\n",
      "3       Control                    106.0\n",
      "4       Control                     74.0\n",
      "...         ...                      ...\n",
      "5951    LinPred                      6.0\n",
      "5952    LinPred                     96.0\n",
      "5953    LinPred                    100.0\n",
      "5954    LinPred                     55.0\n",
      "5955    LinPred                     71.0\n",
      "\n",
      "[5956 rows x 2 columns]     Gene_Knock  periderm 7\n",
      "0       Control        52.0\n",
      "1       Control        59.0\n",
      "2       Control       166.0\n",
      "3       Control        88.0\n",
      "4       Control        81.0\n",
      "...         ...         ...\n",
      "5951    LinPred        78.0\n",
      "5952    LinPred         3.0\n",
      "5953    LinPred         0.0\n",
      "5954    LinPred        12.0\n",
      "5955    LinPred        20.0\n",
      "\n",
      "[5956 rows x 2 columns]\n",
      "\n"
     ]
    },
    {
     "name": "stderr",
     "output_type": "stream",
     "text": [
      "/var/folders/cb/y_45syrn4kd26w8rrdgvk_3r0000gn/T/ipykernel_53661/627631000.py:24: PerformanceWarning:\n",
      "\n",
      "DataFrame is highly fragmented.  This is usually the result of calling `frame.insert` many times, which has poor performance.  Consider joining all columns at once using pd.concat(axis=1) instead.  To get a de-fragmented frame, use `newframe = frame.copy()`\n",
      "\n",
      "127.0.0.1 - - [22/Aug/2022 15:51:43] \"POST /_dash-update-component HTTP/1.1\" 200 -\n"
     ]
    },
    {
     "name": "stdout",
     "output_type": "stream",
     "text": [
      "     Gene_Knock  neural progenitor (MHB)\n",
      "0       Control                     11.0\n",
      "1       Control                     37.0\n",
      "2       Control                     18.0\n",
      "3       Control                     55.0\n",
      "4       Control                     24.0\n",
      "...         ...                      ...\n",
      "5951    LinPred                     54.0\n",
      "5952    LinPred                     76.0\n",
      "5953    LinPred                     60.0\n",
      "5954    LinPred                     71.0\n",
      "5955    LinPred                     60.0\n",
      "\n",
      "[5956 rows x 2 columns]\n"
     ]
    },
    {
     "name": "stderr",
     "output_type": "stream",
     "text": [
      "/var/folders/cb/y_45syrn4kd26w8rrdgvk_3r0000gn/T/ipykernel_53661/627631000.py:24: PerformanceWarning:\n",
      "\n",
      "DataFrame is highly fragmented.  This is usually the result of calling `frame.insert` many times, which has poor performance.  Consider joining all columns at once using pd.concat(axis=1) instead.  To get a de-fragmented frame, use `newframe = frame.copy()`\n",
      "\n",
      "/var/folders/cb/y_45syrn4kd26w8rrdgvk_3r0000gn/T/ipykernel_53661/627631000.py:24: PerformanceWarning:\n",
      "\n",
      "DataFrame is highly fragmented.  This is usually the result of calling `frame.insert` many times, which has poor performance.  Consider joining all columns at once using pd.concat(axis=1) instead.  To get a de-fragmented frame, use `newframe = frame.copy()`\n",
      "\n",
      "/var/folders/cb/y_45syrn4kd26w8rrdgvk_3r0000gn/T/ipykernel_53661/627631000.py:24: PerformanceWarning:\n",
      "\n",
      "DataFrame is highly fragmented.  This is usually the result of calling `frame.insert` many times, which has poor performance.  Consider joining all columns at once using pd.concat(axis=1) instead.  To get a de-fragmented frame, use `newframe = frame.copy()`\n",
      "\n",
      "127.0.0.1 - - [22/Aug/2022 15:51:45] \"POST /_dash-update-component HTTP/1.1\" 200 -\n"
     ]
    },
    {
     "name": "stdout",
     "output_type": "stream",
     "text": [
      "     Gene_Knock  motor neuron (hindbrain, spinal cord)\n",
      "0       Control                                   16.0\n",
      "1       Control                                   16.0\n",
      "2       Control                                   12.0\n",
      "3       Control                                   16.0\n",
      "4       Control                                   14.0\n",
      "...         ...                                    ...\n",
      "5951    LinPred                                   21.0\n",
      "5952    LinPred                                   30.0\n",
      "5953    LinPred                                   24.0\n",
      "5954    LinPred                                   23.0\n",
      "5955    LinPred                                   25.0\n",
      "\n",
      "[5956 rows x 2 columns]\n",
      "     Gene_Knock  melanophore\n",
      "0       Control         22.0\n",
      "1       Control         22.0\n",
      "2       Control         23.0\n",
      "3       Control         19.0\n",
      "4       Control         26.0\n",
      "...         ...          ...\n",
      "5951    LinPred         19.0\n",
      "5952    LinPred         12.0\n",
      "5953    LinPred         18.0\n",
      "5954    LinPred         15.0\n",
      "5955    LinPred         10.0\n",
      "\n",
      "[5956 rows x 2 columns]\n",
      "     Gene_Knock  mature slow muscle 3\n",
      "0       Control                 102.0\n",
      "1       Control                  64.0\n",
      "2       Control                  60.0\n",
      "3       Control                  92.0\n",
      "4       Control                  82.0\n",
      "...         ...                   ...\n",
      "5951    LinPred                   3.0\n",
      "5952    LinPred                   1.0\n",
      "5953    LinPred                  32.0\n",
      "5954    LinPred                   2.0\n",
      "5955    LinPred                  -2.0\n",
      "\n",
      "[5956 rows x 2 columns]\n"
     ]
    },
    {
     "name": "stderr",
     "output_type": "stream",
     "text": [
      "127.0.0.1 - - [22/Aug/2022 15:51:45] \"POST /_dash-update-component HTTP/1.1\" 200 -\n",
      "127.0.0.1 - - [22/Aug/2022 15:51:45] \"POST /_dash-update-component HTTP/1.1\" 200 -\n",
      "/var/folders/cb/y_45syrn4kd26w8rrdgvk_3r0000gn/T/ipykernel_53661/627631000.py:24: PerformanceWarning:\n",
      "\n",
      "DataFrame is highly fragmented.  This is usually the result of calling `frame.insert` many times, which has poor performance.  Consider joining all columns at once using pd.concat(axis=1) instead.  To get a de-fragmented frame, use `newframe = frame.copy()`\n",
      "\n"
     ]
    },
    {
     "name": "stdout",
     "output_type": "stream",
     "text": [
      "     Gene_Knock  mature fast muscle 6\n",
      "0       Control                  33.0\n",
      "1       Control                  38.0\n",
      "2       Control                  20.0\n",
      "3       Control                  12.0\n",
      "4       Control                  34.0\n",
      "...         ...                   ...\n",
      "5951    LinPred                  21.0\n",
      "5952    LinPred                  32.0\n",
      "5953    LinPred                  23.0\n",
      "5954    LinPred                  20.0\n",
      "5955    LinPred                   8.0\n",
      "\n",
      "[5956 rows x 2 columns]\n"
     ]
    },
    {
     "name": "stderr",
     "output_type": "stream",
     "text": [
      "/var/folders/cb/y_45syrn4kd26w8rrdgvk_3r0000gn/T/ipykernel_53661/627631000.py:24: PerformanceWarning:\n",
      "\n",
      "DataFrame is highly fragmented.  This is usually the result of calling `frame.insert` many times, which has poor performance.  Consider joining all columns at once using pd.concat(axis=1) instead.  To get a de-fragmented frame, use `newframe = frame.copy()`\n",
      "\n",
      "127.0.0.1 - - [22/Aug/2022 15:51:46] \"POST /_dash-update-component HTTP/1.1\" 200 -\n",
      "/var/folders/cb/y_45syrn4kd26w8rrdgvk_3r0000gn/T/ipykernel_53661/627631000.py:24: PerformanceWarning:\n",
      "\n",
      "DataFrame is highly fragmented.  This is usually the result of calling `frame.insert` many times, which has poor performance.  Consider joining all columns at once using pd.concat(axis=1) instead.  To get a de-fragmented frame, use `newframe = frame.copy()`\n",
      "\n"
     ]
    },
    {
     "name": "stdout",
     "output_type": "stream",
     "text": [
      "     Gene_Knock  mature fast muscle 2\n",
      "0       Control                 416.0\n",
      "1       Control                 196.0\n",
      "2       Control                 215.0\n",
      "3       Control                 241.0\n",
      "4       Control                 245.0\n",
      "...         ...                   ...\n",
      "5951    LinPred                  68.0\n",
      "5952    LinPred                   0.0\n",
      "5953    LinPred                  -5.0\n",
      "5954    LinPred                 105.0\n",
      "5955    LinPred                  98.0\n",
      "\n",
      "[5956 rows x 2 columns]\n",
      "     Gene_Knock  mature fast muscle 4\n",
      "0       Control                  15.0\n",
      "1       Control                  24.0\n",
      "2       Control                  48.0\n",
      "3       Control                  19.0\n",
      "4       Control                  38.0\n",
      "...         ...                   ...\n",
      "5951    LinPred                  18.0\n",
      "5952    LinPred                  30.0\n",
      "5953    LinPred                  75.0\n",
      "5954    LinPred                  18.0\n",
      "5955    LinPred                  17.0\n",
      "\n",
      "[5956 rows x 2 columns]\n"
     ]
    },
    {
     "name": "stderr",
     "output_type": "stream",
     "text": [
      "/var/folders/cb/y_45syrn4kd26w8rrdgvk_3r0000gn/T/ipykernel_53661/627631000.py:24: PerformanceWarning:\n",
      "\n",
      "DataFrame is highly fragmented.  This is usually the result of calling `frame.insert` many times, which has poor performance.  Consider joining all columns at once using pd.concat(axis=1) instead.  To get a de-fragmented frame, use `newframe = frame.copy()`\n",
      "\n",
      "127.0.0.1 - - [22/Aug/2022 15:51:46] \"POST /_dash-update-component HTTP/1.1\" 200 -\n",
      "127.0.0.1 - - [22/Aug/2022 15:51:46] \"POST /_dash-update-component HTTP/1.1\" 200 -\n"
     ]
    },
    {
     "name": "stdout",
     "output_type": "stream",
     "text": [
      "     Gene_Knock  lens (late)\n",
      "0       Control          8.0\n",
      "1       Control         23.0\n",
      "2       Control         12.0\n",
      "3       Control         16.0\n",
      "4       Control         12.0\n",
      "...         ...          ...\n",
      "5951    LinPred          9.0\n",
      "5952    LinPred         25.0\n",
      "5953    LinPred         19.0\n",
      "5954    LinPred         38.0\n",
      "5955    LinPred         18.0\n",
      "\n",
      "[5956 rows x 2 columns]\n"
     ]
    },
    {
     "name": "stderr",
     "output_type": "stream",
     "text": [
      "/var/folders/cb/y_45syrn4kd26w8rrdgvk_3r0000gn/T/ipykernel_53661/627631000.py:24: PerformanceWarning:\n",
      "\n",
      "DataFrame is highly fragmented.  This is usually the result of calling `frame.insert` many times, which has poor performance.  Consider joining all columns at once using pd.concat(axis=1) instead.  To get a de-fragmented frame, use `newframe = frame.copy()`\n",
      "\n",
      "127.0.0.1 - - [22/Aug/2022 15:51:47] \"POST /_dash-update-component HTTP/1.1\" 200 -\n",
      "/var/folders/cb/y_45syrn4kd26w8rrdgvk_3r0000gn/T/ipykernel_53661/627631000.py:24: PerformanceWarning:\n",
      "\n",
      "DataFrame is highly fragmented.  This is usually the result of calling `frame.insert` many times, which has poor performance.  Consider joining all columns at once using pd.concat(axis=1) instead.  To get a de-fragmented frame, use `newframe = frame.copy()`\n",
      "\n"
     ]
    },
    {
     "name": "stdout",
     "output_type": "stream",
     "text": [
      "     Gene_Knock  ionocyte\n",
      "0       Control      15.0\n",
      "1       Control      14.0\n",
      "2       Control       8.0\n",
      "3       Control       9.0\n",
      "4       Control      13.0\n",
      "...         ...       ...\n",
      "5951    LinPred       4.0\n",
      "5952    LinPred      -1.0\n",
      "5953    LinPred       6.0\n",
      "5954    LinPred       6.0\n",
      "5955    LinPred      -5.0\n",
      "\n",
      "[5956 rows x 2 columns]\n"
     ]
    },
    {
     "name": "stderr",
     "output_type": "stream",
     "text": [
      "127.0.0.1 - - [22/Aug/2022 15:51:47] \"POST /_dash-update-component HTTP/1.1\" 200 -\n",
      "/var/folders/cb/y_45syrn4kd26w8rrdgvk_3r0000gn/T/ipykernel_53661/627631000.py:24: PerformanceWarning:\n",
      "\n",
      "DataFrame is highly fragmented.  This is usually the result of calling `frame.insert` many times, which has poor performance.  Consider joining all columns at once using pd.concat(axis=1) instead.  To get a de-fragmented frame, use `newframe = frame.copy()`\n",
      "\n"
     ]
    },
    {
     "name": "stdout",
     "output_type": "stream",
     "text": [
      "     Gene_Knock  head/eye connective tissue\n",
      "0       Control                        20.0\n",
      "1       Control                        24.0\n",
      "2       Control                        21.0\n",
      "3       Control                        37.0\n",
      "4       Control                        16.0\n",
      "...         ...                         ...\n",
      "5951    LinPred                        40.0\n",
      "5952    LinPred                        44.0\n",
      "5953    LinPred                        36.0\n",
      "5954    LinPred                        42.0\n",
      "5955    LinPred                        39.0\n",
      "\n",
      "[5956 rows x 2 columns]\n",
      "     Gene_Knock  head mesenchyme/PA cartilage\n",
      "0       Control                          12.0\n",
      "1       Control                          35.0\n",
      "2       Control                          32.0\n",
      "3       Control                          48.0\n",
      "4       Control                          40.0\n",
      "...         ...                           ...\n",
      "5951    LinPred                          46.0\n",
      "5952    LinPred                          90.0\n",
      "5953    LinPred                          79.0\n",
      "5954    LinPred                          88.0\n",
      "5955    LinPred                          67.0\n",
      "\n",
      "[5956 rows x 2 columns]\n"
     ]
    },
    {
     "name": "stderr",
     "output_type": "stream",
     "text": [
      "/var/folders/cb/y_45syrn4kd26w8rrdgvk_3r0000gn/T/ipykernel_53661/627631000.py:24: PerformanceWarning:\n",
      "\n",
      "DataFrame is highly fragmented.  This is usually the result of calling `frame.insert` many times, which has poor performance.  Consider joining all columns at once using pd.concat(axis=1) instead.  To get a de-fragmented frame, use `newframe = frame.copy()`\n",
      "\n",
      "127.0.0.1 - - [22/Aug/2022 15:51:47] \"POST /_dash-update-component HTTP/1.1\" 200 -\n",
      "127.0.0.1 - - [22/Aug/2022 15:51:47] \"POST /_dash-update-component HTTP/1.1\" 200 -\n",
      "127.0.0.1 - - [22/Aug/2022 15:51:47] \"POST /_dash-update-component HTTP/1.1\" 200 -\n"
     ]
    },
    {
     "name": "stdout",
     "output_type": "stream",
     "text": [
      "     Gene_Knock  head mesenchyme (maybe ventral, hand2+)\n",
      "0       Control                                     23.0\n",
      "1       Control                                     50.0\n",
      "2       Control                                     46.0\n",
      "3       Control                                     85.0\n",
      "4       Control                                     77.0\n",
      "...         ...                                      ...\n",
      "5951    LinPred                                     31.0\n",
      "5952    LinPred                                     71.0\n",
      "5953    LinPred                                     55.0\n",
      "5954    LinPred                                     69.0\n",
      "5955    LinPred                                     54.0\n",
      "\n",
      "[5956 rows x 2 columns]\n"
     ]
    },
    {
     "name": "stderr",
     "output_type": "stream",
     "text": [
      "/var/folders/cb/y_45syrn4kd26w8rrdgvk_3r0000gn/T/ipykernel_53661/627631000.py:24: PerformanceWarning:\n",
      "\n",
      "DataFrame is highly fragmented.  This is usually the result of calling `frame.insert` many times, which has poor performance.  Consider joining all columns at once using pd.concat(axis=1) instead.  To get a de-fragmented frame, use `newframe = frame.copy()`\n",
      "\n",
      "/var/folders/cb/y_45syrn4kd26w8rrdgvk_3r0000gn/T/ipykernel_53661/627631000.py:24: PerformanceWarning:\n",
      "\n",
      "DataFrame is highly fragmented.  This is usually the result of calling `frame.insert` many times, which has poor performance.  Consider joining all columns at once using pd.concat(axis=1) instead.  To get a de-fragmented frame, use `newframe = frame.copy()`\n",
      "\n"
     ]
    },
    {
     "name": "stdout",
     "output_type": "stream",
     "text": [
      "     Gene_Knock  head/eye connective tissue\n",
      "0       Control                        20.0\n",
      "1       Control                        24.0\n",
      "2       Control                        21.0\n",
      "3       Control                        37.0\n",
      "4       Control                        16.0\n",
      "...         ...                         ...\n",
      "5951    LinPred                        40.0\n",
      "5952    LinPred                        44.0\n",
      "5953    LinPred                        36.0\n",
      "5954    LinPred                        42.0\n",
      "5955    LinPred                        39.0\n",
      "\n",
      "[5956 rows x 2 columns]\n"
     ]
    },
    {
     "name": "stderr",
     "output_type": "stream",
     "text": [
      "/var/folders/cb/y_45syrn4kd26w8rrdgvk_3r0000gn/T/ipykernel_53661/627631000.py:24: PerformanceWarning:\n",
      "\n",
      "DataFrame is highly fragmented.  This is usually the result of calling `frame.insert` many times, which has poor performance.  Consider joining all columns at once using pd.concat(axis=1) instead.  To get a de-fragmented frame, use `newframe = frame.copy()`\n",
      "\n",
      "127.0.0.1 - - [22/Aug/2022 15:51:49] \"POST /_dash-update-component HTTP/1.1\" 200 -\n",
      "/var/folders/cb/y_45syrn4kd26w8rrdgvk_3r0000gn/T/ipykernel_53661/627631000.py:24: PerformanceWarning:\n",
      "\n",
      "DataFrame is highly fragmented.  This is usually the result of calling `frame.insert` many times, which has poor performance.  Consider joining all columns at once using pd.concat(axis=1) instead.  To get a de-fragmented frame, use `newframe = frame.copy()`\n",
      "\n"
     ]
    },
    {
     "name": "stdout",
     "output_type": "stream",
     "text": [
      "     Gene_Knock  mature fast muscle 6\n",
      "0       Control                  33.0\n",
      "1       Control                  38.0\n",
      "2       Control                  20.0\n",
      "3       Control                  12.0\n",
      "4       Control                  34.0\n",
      "...         ...                   ...\n",
      "5951    LinPred                  21.0\n",
      "5952    LinPred                  32.0\n",
      "5953    LinPred                  23.0\n",
      "5954    LinPred                  20.0\n",
      "5955    LinPred                   8.0\n",
      "\n",
      "[5956 rows x 2 columns]     Gene_Knock  mature fast muscle 2\n",
      "0       Control                 416.0\n",
      "1       Control                 196.0\n",
      "2       Control                 215.0\n",
      "3       Control                 241.0\n",
      "4       Control                 245.0\n",
      "...         ...                   ...\n",
      "5951    LinPred                  68.0\n",
      "5952    LinPred                   0.0\n",
      "5953    LinPred                  -5.0\n",
      "5954    LinPred                 105.0\n",
      "5955    LinPred                  98.0\n",
      "\n",
      "[5956 rows x 2 columns]\n",
      "\n"
     ]
    },
    {
     "name": "stderr",
     "output_type": "stream",
     "text": [
      "/var/folders/cb/y_45syrn4kd26w8rrdgvk_3r0000gn/T/ipykernel_53661/627631000.py:24: PerformanceWarning:\n",
      "\n",
      "DataFrame is highly fragmented.  This is usually the result of calling `frame.insert` many times, which has poor performance.  Consider joining all columns at once using pd.concat(axis=1) instead.  To get a de-fragmented frame, use `newframe = frame.copy()`\n",
      "\n",
      "127.0.0.1 - - [22/Aug/2022 15:51:49] \"POST /_dash-update-component HTTP/1.1\" 200 -\n",
      "127.0.0.1 - - [22/Aug/2022 15:51:49] \"POST /_dash-update-component HTTP/1.1\" 200 -\n"
     ]
    },
    {
     "name": "stdout",
     "output_type": "stream",
     "text": [
      "     Gene_Knock  neural progenitor (hindbrain R7/8)\n",
      "0       Control                                24.0\n",
      "1       Control                                49.0\n",
      "2       Control                                25.0\n",
      "3       Control                                36.0\n",
      "4       Control                                36.0\n",
      "...         ...                                 ...\n",
      "5951    LinPred                                31.0\n",
      "5952    LinPred                                45.0\n",
      "5953    LinPred                                45.0\n",
      "5954    LinPred                                44.0\n",
      "5955    LinPred                                47.0\n",
      "\n",
      "[5956 rows x 2 columns]\n",
      "     Gene_Knock  neural progenitor (telencephalon/diencephalon)\n",
      "0       Control                                            15.0\n",
      "1       Control                                            31.0\n",
      "2       Control                                            28.0\n",
      "3       Control                                            46.0\n",
      "4       Control                                            24.0\n",
      "...         ...                                             ...\n",
      "5951    LinPred                                            42.0\n",
      "5952    LinPred                                            62.0\n",
      "5953    LinPred                                            50.0\n",
      "5954    LinPred                                            61.0\n",
      "5955    LinPred                                            65.0\n",
      "\n",
      "[5956 rows x 2 columns]\n",
      "     Gene_Knock  neural progenitor (hindbrain)\n",
      "0       Control                            4.0\n",
      "1       Control                            4.0\n",
      "2       Control                            4.0\n",
      "3       Control                            9.0\n",
      "4       Control                            5.0\n",
      "...         ...                            ...\n",
      "5951    LinPred                           27.0\n",
      "5952    LinPred                           26.0\n",
      "5953    LinPred                           22.0\n",
      "5954    LinPred                           31.0\n",
      "5955    LinPred                           28.0\n",
      "\n",
      "[5956 rows x 2 columns]\n"
     ]
    },
    {
     "name": "stderr",
     "output_type": "stream",
     "text": [
      "/var/folders/cb/y_45syrn4kd26w8rrdgvk_3r0000gn/T/ipykernel_53661/627631000.py:24: PerformanceWarning:\n",
      "\n",
      "DataFrame is highly fragmented.  This is usually the result of calling `frame.insert` many times, which has poor performance.  Consider joining all columns at once using pd.concat(axis=1) instead.  To get a de-fragmented frame, use `newframe = frame.copy()`\n",
      "\n",
      "127.0.0.1 - - [22/Aug/2022 15:51:49] \"POST /_dash-update-component HTTP/1.1\" 200 -\n",
      "127.0.0.1 - - [22/Aug/2022 15:51:49] \"POST /_dash-update-component HTTP/1.1\" 200 -\n",
      "127.0.0.1 - - [22/Aug/2022 15:51:49] \"POST /_dash-update-component HTTP/1.1\" 200 -\n",
      "/var/folders/cb/y_45syrn4kd26w8rrdgvk_3r0000gn/T/ipykernel_53661/627631000.py:24: PerformanceWarning:\n",
      "\n",
      "DataFrame is highly fragmented.  This is usually the result of calling `frame.insert` many times, which has poor performance.  Consider joining all columns at once using pd.concat(axis=1) instead.  To get a de-fragmented frame, use `newframe = frame.copy()`\n",
      "\n",
      "127.0.0.1 - - [22/Aug/2022 15:51:49] \"POST /_dash-update-component HTTP/1.1\" 200 -\n"
     ]
    },
    {
     "name": "stdout",
     "output_type": "stream",
     "text": [
      "     Gene_Knock  neurons (gabaergic, glutamatergic)\n",
      "0       Control                                35.0\n",
      "1       Control                                72.0\n",
      "2       Control                                24.0\n",
      "3       Control                                53.0\n",
      "4       Control                                39.0\n",
      "...         ...                                 ...\n",
      "5951    LinPred                                25.0\n",
      "5952    LinPred                                54.0\n",
      "5953    LinPred                                39.0\n",
      "5954    LinPred                                48.0\n",
      "5955    LinPred                                51.0\n",
      "\n",
      "[5956 rows x 2 columns]\n"
     ]
    },
    {
     "name": "stderr",
     "output_type": "stream",
     "text": [
      "/var/folders/cb/y_45syrn4kd26w8rrdgvk_3r0000gn/T/ipykernel_53661/627631000.py:24: PerformanceWarning:\n",
      "\n",
      "DataFrame is highly fragmented.  This is usually the result of calling `frame.insert` many times, which has poor performance.  Consider joining all columns at once using pd.concat(axis=1) instead.  To get a de-fragmented frame, use `newframe = frame.copy()`\n",
      "\n"
     ]
    },
    {
     "name": "stdout",
     "output_type": "stream",
     "text": [
      "     Gene_Knock  neurons (gabaergic, glutamatergic; contains Purkinje)\n",
      "0       Control                                               50.0    \n",
      "1       Control                                               63.0    \n",
      "2       Control                                               30.0    \n",
      "3       Control                                               54.0    \n",
      "4       Control                                               37.0    \n",
      "...         ...                                                ...    \n",
      "5951    LinPred                                               33.0    \n",
      "5952    LinPred                                               71.0    \n",
      "5953    LinPred                                               65.0    \n",
      "5954    LinPred                                               77.0    \n",
      "5955    LinPred                                               59.0    \n",
      "\n",
      "[5956 rows x 2 columns]\n"
     ]
    },
    {
     "name": "stderr",
     "output_type": "stream",
     "text": [
      "/var/folders/cb/y_45syrn4kd26w8rrdgvk_3r0000gn/T/ipykernel_53661/627631000.py:24: PerformanceWarning:\n",
      "\n",
      "DataFrame is highly fragmented.  This is usually the result of calling `frame.insert` many times, which has poor performance.  Consider joining all columns at once using pd.concat(axis=1) instead.  To get a de-fragmented frame, use `newframe = frame.copy()`\n",
      "\n",
      "127.0.0.1 - - [22/Aug/2022 15:51:50] \"POST /_dash-update-component HTTP/1.1\" 200 -\n",
      "127.0.0.1 - - [22/Aug/2022 15:51:50] \"POST /_dash-update-component HTTP/1.1\" 200 -\n"
     ]
    },
    {
     "name": "stdout",
     "output_type": "stream",
     "text": [
      "     Gene_Knock  olfactory vesicle/bulb\n",
      "0       Control                    11.0\n",
      "1       Control                     8.0\n",
      "2       Control                     9.0\n",
      "3       Control                     2.0\n",
      "4       Control                    12.0\n",
      "...         ...                     ...\n",
      "5951    LinPred                    27.0\n",
      "5952    LinPred                    31.0\n",
      "5953    LinPred                    27.0\n",
      "5954    LinPred                    29.0\n",
      "5955    LinPred                    29.0\n",
      "\n",
      "[5956 rows x 2 columns]\n"
     ]
    },
    {
     "name": "stderr",
     "output_type": "stream",
     "text": [
      "/var/folders/cb/y_45syrn4kd26w8rrdgvk_3r0000gn/T/ipykernel_53661/627631000.py:24: PerformanceWarning:\n",
      "\n",
      "DataFrame is highly fragmented.  This is usually the result of calling `frame.insert` many times, which has poor performance.  Consider joining all columns at once using pd.concat(axis=1) instead.  To get a de-fragmented frame, use `newframe = frame.copy()`\n",
      "\n"
     ]
    },
    {
     "name": "stdout",
     "output_type": "stream",
     "text": [
      "     Gene_Knock  pectoral fin bud (osteoblast+)\n",
      "0       Control                            14.0\n",
      "1       Control                            14.0\n",
      "2       Control                            11.0\n",
      "3       Control                            13.0\n",
      "4       Control                            19.0\n",
      "...         ...                             ...\n",
      "5951    LinPred                             9.0\n",
      "5952    LinPred                            18.0\n",
      "5953    LinPred                            19.0\n",
      "5954    LinPred                            20.0\n",
      "5955    LinPred                            20.0\n",
      "\n",
      "[5956 rows x 2 columns]\n"
     ]
    },
    {
     "name": "stderr",
     "output_type": "stream",
     "text": [
      "127.0.0.1 - - [22/Aug/2022 15:51:51] \"POST /_dash-update-component HTTP/1.1\" 200 -\n",
      "/var/folders/cb/y_45syrn4kd26w8rrdgvk_3r0000gn/T/ipykernel_53661/627631000.py:24: PerformanceWarning:\n",
      "\n",
      "DataFrame is highly fragmented.  This is usually the result of calling `frame.insert` many times, which has poor performance.  Consider joining all columns at once using pd.concat(axis=1) instead.  To get a de-fragmented frame, use `newframe = frame.copy()`\n",
      "\n",
      "/var/folders/cb/y_45syrn4kd26w8rrdgvk_3r0000gn/T/ipykernel_53661/627631000.py:24: PerformanceWarning:\n",
      "\n",
      "DataFrame is highly fragmented.  This is usually the result of calling `frame.insert` many times, which has poor performance.  Consider joining all columns at once using pd.concat(axis=1) instead.  To get a de-fragmented frame, use `newframe = frame.copy()`\n",
      "\n",
      "127.0.0.1 - - [22/Aug/2022 15:51:52] \"POST /_dash-update-component HTTP/1.1\" 200 -\n",
      "127.0.0.1 - - [22/Aug/2022 15:51:52] \"POST /_dash-update-component HTTP/1.1\" 200 -\n"
     ]
    },
    {
     "name": "stdout",
     "output_type": "stream",
     "text": [
      "     Gene_Knock  periderm 10\n",
      "0       Control        508.0\n",
      "1       Control        248.0\n",
      "2       Control        601.0\n",
      "3       Control        229.0\n",
      "4       Control        459.0\n",
      "...         ...          ...\n",
      "5951    LinPred       1005.0\n",
      "5952    LinPred        574.0\n",
      "5953    LinPred        688.0\n",
      "5954    LinPred        615.0\n",
      "5955    LinPred        604.0\n",
      "\n",
      "[5956 rows x 2 columns]\n",
      "     Gene_Knock  periderm 11\n",
      "0       Control        120.0\n",
      "1       Control         47.0\n",
      "2       Control        108.0\n",
      "3       Control         57.0\n",
      "4       Control        118.0\n",
      "...         ...          ...\n",
      "5951    LinPred         84.0\n",
      "5952    LinPred         18.0\n",
      "5953    LinPred         68.0\n",
      "5954    LinPred         42.0\n",
      "5955    LinPred         67.0\n",
      "\n",
      "[5956 rows x 2 columns]\n"
     ]
    },
    {
     "name": "stderr",
     "output_type": "stream",
     "text": [
      "/var/folders/cb/y_45syrn4kd26w8rrdgvk_3r0000gn/T/ipykernel_53661/627631000.py:24: PerformanceWarning:\n",
      "\n",
      "DataFrame is highly fragmented.  This is usually the result of calling `frame.insert` many times, which has poor performance.  Consider joining all columns at once using pd.concat(axis=1) instead.  To get a de-fragmented frame, use `newframe = frame.copy()`\n",
      "\n"
     ]
    },
    {
     "name": "stdout",
     "output_type": "stream",
     "text": [
      "     Gene_Knock  periderm 14\n",
      "0       Control         49.0\n",
      "1       Control         11.0\n",
      "2       Control         84.0\n",
      "3       Control         10.0\n",
      "4       Control         27.0\n",
      "...         ...          ...\n",
      "5951    LinPred          7.0\n",
      "5952    LinPred         26.0\n",
      "5953    LinPred         40.0\n",
      "5954    LinPred         29.0\n",
      "5955    LinPred          6.0\n",
      "\n",
      "[5956 rows x 2 columns]\n"
     ]
    },
    {
     "name": "stderr",
     "output_type": "stream",
     "text": [
      "/var/folders/cb/y_45syrn4kd26w8rrdgvk_3r0000gn/T/ipykernel_53661/627631000.py:24: PerformanceWarning:\n",
      "\n",
      "DataFrame is highly fragmented.  This is usually the result of calling `frame.insert` many times, which has poor performance.  Consider joining all columns at once using pd.concat(axis=1) instead.  To get a de-fragmented frame, use `newframe = frame.copy()`\n",
      "\n",
      "/var/folders/cb/y_45syrn4kd26w8rrdgvk_3r0000gn/T/ipykernel_53661/627631000.py:24: PerformanceWarning:\n",
      "\n",
      "DataFrame is highly fragmented.  This is usually the result of calling `frame.insert` many times, which has poor performance.  Consider joining all columns at once using pd.concat(axis=1) instead.  To get a de-fragmented frame, use `newframe = frame.copy()`\n",
      "\n",
      "127.0.0.1 - - [22/Aug/2022 15:51:53] \"POST /_dash-update-component HTTP/1.1\" 200 -\n",
      "127.0.0.1 - - [22/Aug/2022 15:51:53] \"POST /_dash-update-component HTTP/1.1\" 200 -\n",
      "127.0.0.1 - - [22/Aug/2022 15:51:53] \"POST /_dash-update-component HTTP/1.1\" 200 -\n"
     ]
    },
    {
     "name": "stdout",
     "output_type": "stream",
     "text": [
      "     Gene_Knock  periderm 16\n",
      "0       Control         31.0\n",
      "1       Control         24.0\n",
      "2       Control         43.0\n",
      "3       Control         15.0\n",
      "4       Control         21.0\n",
      "...         ...          ...\n",
      "5951    LinPred         50.0\n",
      "5952    LinPred        -16.0\n",
      "5953    LinPred          4.0\n",
      "5954    LinPred         -7.0\n",
      "5955    LinPred          5.0\n",
      "\n",
      "[5956 rows x 2 columns]\n",
      "     Gene_Knock  periderm 2\n",
      "0       Control        49.0\n",
      "1       Control        53.0\n",
      "2       Control        44.0\n",
      "3       Control        53.0\n",
      "4       Control        16.0\n",
      "...         ...         ...\n",
      "5951    LinPred        26.0\n",
      "5952    LinPred         8.0\n",
      "5953    LinPred        33.0\n",
      "5954    LinPred        35.0\n",
      "5955    LinPred        41.0\n",
      "\n",
      "[5956 rows x 2 columns]\n"
     ]
    },
    {
     "name": "stderr",
     "output_type": "stream",
     "text": [
      "/var/folders/cb/y_45syrn4kd26w8rrdgvk_3r0000gn/T/ipykernel_53661/627631000.py:24: PerformanceWarning:\n",
      "\n",
      "DataFrame is highly fragmented.  This is usually the result of calling `frame.insert` many times, which has poor performance.  Consider joining all columns at once using pd.concat(axis=1) instead.  To get a de-fragmented frame, use `newframe = frame.copy()`\n",
      "\n",
      "127.0.0.1 - - [22/Aug/2022 15:51:53] \"POST /_dash-update-component HTTP/1.1\" 200 -\n"
     ]
    },
    {
     "name": "stdout",
     "output_type": "stream",
     "text": [
      "     Gene_Knock  periderm 5\n",
      "0       Control        83.0\n",
      "1       Control        51.0\n",
      "2       Control        91.0\n",
      "3       Control        48.0\n",
      "4       Control        55.0\n",
      "...         ...         ...\n",
      "5951    LinPred       176.0\n",
      "5952    LinPred        57.0\n",
      "5953    LinPred        76.0\n",
      "5954    LinPred        98.0\n",
      "5955    LinPred        92.0\n",
      "\n",
      "[5956 rows x 2 columns]\n"
     ]
    },
    {
     "name": "stderr",
     "output_type": "stream",
     "text": [
      "/var/folders/cb/y_45syrn4kd26w8rrdgvk_3r0000gn/T/ipykernel_53661/627631000.py:24: PerformanceWarning:\n",
      "\n",
      "DataFrame is highly fragmented.  This is usually the result of calling `frame.insert` many times, which has poor performance.  Consider joining all columns at once using pd.concat(axis=1) instead.  To get a de-fragmented frame, use `newframe = frame.copy()`\n",
      "\n",
      "127.0.0.1 - - [22/Aug/2022 15:51:54] \"POST /_dash-update-component HTTP/1.1\" 200 -\n"
     ]
    },
    {
     "name": "stdout",
     "output_type": "stream",
     "text": [
      "     Gene_Knock  retinal pigmented epithelium (early)\n",
      "0       Control                                  18.0\n",
      "1       Control                                  19.0\n",
      "2       Control                                   9.0\n",
      "3       Control                                  19.0\n",
      "4       Control                                  17.0\n",
      "...         ...                                   ...\n",
      "5951    LinPred                                  40.0\n",
      "5952    LinPred                                  57.0\n",
      "5953    LinPred                                  47.0\n",
      "5954    LinPred                                  47.0\n",
      "5955    LinPred                                  43.0\n",
      "\n",
      "[5956 rows x 2 columns]\n"
     ]
    },
    {
     "name": "stderr",
     "output_type": "stream",
     "text": [
      "127.0.0.1 - - [22/Aug/2022 15:55:56] \"POST /_dash-update-component HTTP/1.1\" 200 -\n"
     ]
    },
    {
     "name": "stdout",
     "output_type": "stream",
     "text": [
      "Exception on /_dash-update-component [POST]\n",
      "Traceback (most recent call last):\n",
      "  File \"/opt/miniconda3/lib/python3.9/site-packages/flask/app.py\", line 2073, in wsgi_app\n",
      "    response = self.full_dispatch_request()\n",
      "  File \"/opt/miniconda3/lib/python3.9/site-packages/flask/app.py\", line 1518, in full_dispatch_request\n",
      "    rv = self.handle_user_exception(e)\n",
      "  File \"/opt/miniconda3/lib/python3.9/site-packages/flask/app.py\", line 1516, in full_dispatch_request\n",
      "    rv = self.dispatch_request()\n",
      "  File \"/opt/miniconda3/lib/python3.9/site-packages/flask/app.py\", line 1502, in dispatch_request\n",
      "    return self.ensure_sync(self.view_functions[rule.endpoint])(**req.view_args)\n",
      "  File \"/opt/miniconda3/lib/python3.9/site-packages/dash/dash.py\", line 1336, in dispatch\n",
      "    response.set_data(func(*args, outputs_list=outputs_list))\n",
      "  File \"/opt/miniconda3/lib/python3.9/site-packages/dash/_callback.py\", line 151, in add_context\n",
      "    output_value = func(*func_args, **func_kwargs)  # %% callback invoked %%\n",
      "  File \"/var/folders/cb/y_45syrn4kd26w8rrdgvk_3r0000gn/T/ipykernel_53661/627631000.py\", line 139, in gene2_dropdown_avail\n",
      "    string_to_show.remove(gene1)\n",
      "ValueError: list.remove(x): x not in list\n"
     ]
    },
    {
     "name": "stderr",
     "output_type": "stream",
     "text": [
      "127.0.0.1 - - [22/Aug/2022 15:55:56] \"\u001b[35m\u001b[1mPOST /_dash-update-component HTTP/1.1\u001b[0m\" 500 -\n"
     ]
    },
    {
     "name": "stdout",
     "output_type": "stream",
     "text": [
      "Exception on /_dash-update-component [POST]\n",
      "Traceback (most recent call last):\n",
      "  File \"/opt/miniconda3/lib/python3.9/site-packages/flask/app.py\", line 2073, in wsgi_app\n",
      "    response = self.full_dispatch_request()\n",
      "  File \"/opt/miniconda3/lib/python3.9/site-packages/flask/app.py\", line 1518, in full_dispatch_request\n",
      "    rv = self.handle_user_exception(e)\n",
      "  File \"/opt/miniconda3/lib/python3.9/site-packages/flask/app.py\", line 1516, in full_dispatch_request\n",
      "    rv = self.dispatch_request()\n",
      "  File \"/opt/miniconda3/lib/python3.9/site-packages/flask/app.py\", line 1502, in dispatch_request\n",
      "    return self.ensure_sync(self.view_functions[rule.endpoint])(**req.view_args)\n",
      "  File \"/opt/miniconda3/lib/python3.9/site-packages/dash/dash.py\", line 1336, in dispatch\n",
      "    response.set_data(func(*args, outputs_list=outputs_list))\n",
      "  File \"/opt/miniconda3/lib/python3.9/site-packages/dash/_callback.py\", line 151, in add_context\n",
      "    output_value = func(*func_args, **func_kwargs)  # %% callback invoked %%\n",
      "  File \"/var/folders/cb/y_45syrn4kd26w8rrdgvk_3r0000gn/T/ipykernel_53661/627631000.py\", line 189, in make_heatmap\n",
      "    gene_1x2_df = predictions[hour_predictions_string][gene_key]\n",
      "UnboundLocalError: local variable 'gene_key' referenced before assignment\n"
     ]
    },
    {
     "name": "stderr",
     "output_type": "stream",
     "text": [
      "127.0.0.1 - - [22/Aug/2022 15:55:56] \"\u001b[35m\u001b[1mPOST /_dash-update-component HTTP/1.1\u001b[0m\" 500 -\n"
     ]
    },
    {
     "name": "stdout",
     "output_type": "stream",
     "text": [
      "Exception on /_dash-update-component [POST]\n",
      "Traceback (most recent call last):\n",
      "  File \"/opt/miniconda3/lib/python3.9/site-packages/pandas/core/indexes/base.py\", line 3361, in get_loc\n",
      "    return self._engine.get_loc(casted_key)\n",
      "  File \"pandas/_libs/index.pyx\", line 76, in pandas._libs.index.IndexEngine.get_loc\n",
      "  File \"pandas/_libs/index.pyx\", line 108, in pandas._libs.index.IndexEngine.get_loc\n",
      "  File \"pandas/_libs/hashtable_class_helper.pxi\", line 5198, in pandas._libs.hashtable.PyObjectHashTable.get_item\n",
      "  File \"pandas/_libs/hashtable_class_helper.pxi\", line 5206, in pandas._libs.hashtable.PyObjectHashTable.get_item\n",
      "KeyError: 'hgfa'\n",
      "\n",
      "The above exception was the direct cause of the following exception:\n",
      "\n",
      "Traceback (most recent call last):\n",
      "  File \"/opt/miniconda3/lib/python3.9/site-packages/flask/app.py\", line 2073, in wsgi_app\n",
      "    response = self.full_dispatch_request()\n",
      "  File \"/opt/miniconda3/lib/python3.9/site-packages/flask/app.py\", line 1518, in full_dispatch_request\n",
      "    rv = self.handle_user_exception(e)\n",
      "  File \"/opt/miniconda3/lib/python3.9/site-packages/flask/app.py\", line 1516, in full_dispatch_request\n",
      "    rv = self.dispatch_request()\n",
      "  File \"/opt/miniconda3/lib/python3.9/site-packages/flask/app.py\", line 1502, in dispatch_request\n",
      "    return self.ensure_sync(self.view_functions[rule.endpoint])(**req.view_args)\n",
      "  File \"/opt/miniconda3/lib/python3.9/site-packages/dash/dash.py\", line 1336, in dispatch\n",
      "    response.set_data(func(*args, outputs_list=outputs_list))\n",
      "  File \"/opt/miniconda3/lib/python3.9/site-packages/dash/_callback.py\", line 151, in add_context\n",
      "    output_value = func(*func_args, **func_kwargs)  # %% callback invoked %%\n",
      "  File \"/var/folders/cb/y_45syrn4kd26w8rrdgvk_3r0000gn/T/ipykernel_53661/627631000.py\", line 332, in HoverToBoxPlot\n",
      "    gene1_df = Measured_Data.loc[hour_readable, gene1].reset_index(drop=True)\n",
      "  File \"/opt/miniconda3/lib/python3.9/site-packages/pandas/core/indexing.py\", line 925, in __getitem__\n",
      "    return self._getitem_tuple(key)\n",
      "  File \"/opt/miniconda3/lib/python3.9/site-packages/pandas/core/indexing.py\", line 1100, in _getitem_tuple\n",
      "    return self._getitem_lowerdim(tup)\n",
      "  File \"/opt/miniconda3/lib/python3.9/site-packages/pandas/core/indexing.py\", line 862, in _getitem_lowerdim\n",
      "    return getattr(section, self.name)[new_key]\n",
      "  File \"/opt/miniconda3/lib/python3.9/site-packages/pandas/core/indexing.py\", line 925, in __getitem__\n",
      "    return self._getitem_tuple(key)\n",
      "  File \"/opt/miniconda3/lib/python3.9/site-packages/pandas/core/indexing.py\", line 1100, in _getitem_tuple\n",
      "    return self._getitem_lowerdim(tup)\n",
      "  File \"/opt/miniconda3/lib/python3.9/site-packages/pandas/core/indexing.py\", line 838, in _getitem_lowerdim\n",
      "    section = self._getitem_axis(key, axis=i)\n",
      "  File \"/opt/miniconda3/lib/python3.9/site-packages/pandas/core/indexing.py\", line 1164, in _getitem_axis\n",
      "    return self._get_label(key, axis=axis)\n",
      "  File \"/opt/miniconda3/lib/python3.9/site-packages/pandas/core/indexing.py\", line 1113, in _get_label\n",
      "    return self.obj.xs(label, axis=axis)\n",
      "  File \"/opt/miniconda3/lib/python3.9/site-packages/pandas/core/generic.py\", line 3761, in xs\n",
      "    return self[key]\n",
      "  File \"/opt/miniconda3/lib/python3.9/site-packages/pandas/core/frame.py\", line 3458, in __getitem__\n",
      "    indexer = self.columns.get_loc(key)\n",
      "  File \"/opt/miniconda3/lib/python3.9/site-packages/pandas/core/indexes/base.py\", line 3363, in get_loc\n",
      "    raise KeyError(key) from err\n",
      "KeyError: 'hgfa'\n"
     ]
    },
    {
     "name": "stderr",
     "output_type": "stream",
     "text": [
      "127.0.0.1 - - [22/Aug/2022 15:55:56] \"\u001b[35m\u001b[1mPOST /_dash-update-component HTTP/1.1\u001b[0m\" 500 -\n",
      "127.0.0.1 - - [22/Aug/2022 15:56:02] \"POST /_dash-update-component HTTP/1.1\" 200 -\n"
     ]
    },
    {
     "name": "stdout",
     "output_type": "stream",
     "text": [
      "Exception on /_dash-update-component [POST]\n",
      "Traceback (most recent call last):\n",
      "  File \"/opt/miniconda3/lib/python3.9/site-packages/flask/app.py\", line 2073, in wsgi_app\n",
      "    response = self.full_dispatch_request()\n",
      "  File \"/opt/miniconda3/lib/python3.9/site-packages/flask/app.py\", line 1518, in full_dispatch_request\n",
      "    rv = self.handle_user_exception(e)\n",
      "  File \"/opt/miniconda3/lib/python3.9/site-packages/flask/app.py\", line 1516, in full_dispatch_request\n",
      "    rv = self.dispatch_request()\n",
      "  File \"/opt/miniconda3/lib/python3.9/site-packages/flask/app.py\", line 1502, in dispatch_request\n",
      "    return self.ensure_sync(self.view_functions[rule.endpoint])(**req.view_args)\n",
      "  File \"/opt/miniconda3/lib/python3.9/site-packages/dash/dash.py\", line 1336, in dispatch\n",
      "    response.set_data(func(*args, outputs_list=outputs_list))\n",
      "  File \"/opt/miniconda3/lib/python3.9/site-packages/dash/_callback.py\", line 151, in add_context\n",
      "    output_value = func(*func_args, **func_kwargs)  # %% callback invoked %%\n",
      "  File \"/var/folders/cb/y_45syrn4kd26w8rrdgvk_3r0000gn/T/ipykernel_53661/627631000.py\", line 189, in make_heatmap\n",
      "    gene_1x2_df = predictions[hour_predictions_string][gene_key]\n",
      "UnboundLocalError: local variable 'gene_key' referenced before assignment\n"
     ]
    },
    {
     "name": "stderr",
     "output_type": "stream",
     "text": [
      "127.0.0.1 - - [22/Aug/2022 15:56:02] \"\u001b[35m\u001b[1mPOST /_dash-update-component HTTP/1.1\u001b[0m\" 500 -\n",
      "/var/folders/cb/y_45syrn4kd26w8rrdgvk_3r0000gn/T/ipykernel_53661/627631000.py:24: PerformanceWarning:\n",
      "\n",
      "DataFrame is highly fragmented.  This is usually the result of calling `frame.insert` many times, which has poor performance.  Consider joining all columns at once using pd.concat(axis=1) instead.  To get a de-fragmented frame, use `newframe = frame.copy()`\n",
      "\n",
      "127.0.0.1 - - [22/Aug/2022 15:56:03] \"POST /_dash-update-component HTTP/1.1\" 200 -\n"
     ]
    },
    {
     "name": "stdout",
     "output_type": "stream",
     "text": [
      "Exception on /_dash-update-component [POST]\n",
      "Traceback (most recent call last):\n",
      "  File \"/opt/miniconda3/lib/python3.9/site-packages/pandas/core/indexes/base.py\", line 3361, in get_loc\n",
      "    return self._engine.get_loc(casted_key)\n",
      "  File \"pandas/_libs/index.pyx\", line 76, in pandas._libs.index.IndexEngine.get_loc\n",
      "  File \"pandas/_libs/index.pyx\", line 108, in pandas._libs.index.IndexEngine.get_loc\n",
      "  File \"pandas/_libs/hashtable_class_helper.pxi\", line 5198, in pandas._libs.hashtable.PyObjectHashTable.get_item\n",
      "  File \"pandas/_libs/hashtable_class_helper.pxi\", line 5206, in pandas._libs.hashtable.PyObjectHashTable.get_item\n",
      "KeyError: 'hgfa'\n",
      "\n",
      "The above exception was the direct cause of the following exception:\n",
      "\n",
      "Traceback (most recent call last):\n",
      "  File \"/opt/miniconda3/lib/python3.9/site-packages/flask/app.py\", line 2073, in wsgi_app\n",
      "    response = self.full_dispatch_request()\n",
      "  File \"/opt/miniconda3/lib/python3.9/site-packages/flask/app.py\", line 1518, in full_dispatch_request\n",
      "    rv = self.handle_user_exception(e)\n",
      "  File \"/opt/miniconda3/lib/python3.9/site-packages/flask/app.py\", line 1516, in full_dispatch_request\n",
      "    rv = self.dispatch_request()\n",
      "  File \"/opt/miniconda3/lib/python3.9/site-packages/flask/app.py\", line 1502, in dispatch_request\n",
      "    return self.ensure_sync(self.view_functions[rule.endpoint])(**req.view_args)\n",
      "  File \"/opt/miniconda3/lib/python3.9/site-packages/dash/dash.py\", line 1336, in dispatch\n",
      "    response.set_data(func(*args, outputs_list=outputs_list))\n",
      "  File \"/opt/miniconda3/lib/python3.9/site-packages/dash/_callback.py\", line 151, in add_context\n",
      "    output_value = func(*func_args, **func_kwargs)  # %% callback invoked %%\n",
      "  File \"/var/folders/cb/y_45syrn4kd26w8rrdgvk_3r0000gn/T/ipykernel_53661/627631000.py\", line 332, in HoverToBoxPlot\n",
      "    gene1_df = Measured_Data.loc[hour_readable, gene1].reset_index(drop=True)\n",
      "  File \"/opt/miniconda3/lib/python3.9/site-packages/pandas/core/indexing.py\", line 925, in __getitem__\n",
      "    return self._getitem_tuple(key)\n",
      "  File \"/opt/miniconda3/lib/python3.9/site-packages/pandas/core/indexing.py\", line 1100, in _getitem_tuple\n",
      "    return self._getitem_lowerdim(tup)\n",
      "  File \"/opt/miniconda3/lib/python3.9/site-packages/pandas/core/indexing.py\", line 862, in _getitem_lowerdim\n",
      "    return getattr(section, self.name)[new_key]\n",
      "  File \"/opt/miniconda3/lib/python3.9/site-packages/pandas/core/indexing.py\", line 925, in __getitem__\n",
      "    return self._getitem_tuple(key)\n",
      "  File \"/opt/miniconda3/lib/python3.9/site-packages/pandas/core/indexing.py\", line 1100, in _getitem_tuple\n",
      "    return self._getitem_lowerdim(tup)\n",
      "  File \"/opt/miniconda3/lib/python3.9/site-packages/pandas/core/indexing.py\", line 838, in _getitem_lowerdim\n",
      "    section = self._getitem_axis(key, axis=i)\n",
      "  File \"/opt/miniconda3/lib/python3.9/site-packages/pandas/core/indexing.py\", line 1164, in _getitem_axis\n",
      "    return self._get_label(key, axis=axis)\n",
      "  File \"/opt/miniconda3/lib/python3.9/site-packages/pandas/core/indexing.py\", line 1113, in _get_label\n",
      "    return self.obj.xs(label, axis=axis)\n",
      "  File \"/opt/miniconda3/lib/python3.9/site-packages/pandas/core/generic.py\", line 3761, in xs\n",
      "    return self[key]\n",
      "  File \"/opt/miniconda3/lib/python3.9/site-packages/pandas/core/frame.py\", line 3458, in __getitem__\n",
      "    indexer = self.columns.get_loc(key)\n",
      "  File \"/opt/miniconda3/lib/python3.9/site-packages/pandas/core/indexes/base.py\", line 3363, in get_loc\n",
      "    raise KeyError(key) from err\n",
      "KeyError: 'hgfa'\n"
     ]
    },
    {
     "name": "stderr",
     "output_type": "stream",
     "text": [
      "127.0.0.1 - - [22/Aug/2022 15:56:18] \"\u001b[35m\u001b[1mPOST /_dash-update-component HTTP/1.1\u001b[0m\" 500 -\n"
     ]
    },
    {
     "name": "stdout",
     "output_type": "stream",
     "text": [
      "Exception on /_dash-update-component [POST]\n",
      "Traceback (most recent call last):\n",
      "  File \"/opt/miniconda3/lib/python3.9/site-packages/pandas/core/indexes/base.py\", line 3361, in get_loc\n",
      "    return self._engine.get_loc(casted_key)\n",
      "  File \"pandas/_libs/index.pyx\", line 76, in pandas._libs.index.IndexEngine.get_loc\n",
      "  File \"pandas/_libs/index.pyx\", line 108, in pandas._libs.index.IndexEngine.get_loc\n",
      "  File \"pandas/_libs/hashtable_class_helper.pxi\", line 5198, in pandas._libs.hashtable.PyObjectHashTable.get_item\n",
      "  File \"pandas/_libs/hashtable_class_helper.pxi\", line 5206, in pandas._libs.hashtable.PyObjectHashTable.get_item\n",
      "KeyError: 'hgfa'\n",
      "\n",
      "The above exception was the direct cause of the following exception:\n",
      "\n",
      "Traceback (most recent call last):\n",
      "  File \"/opt/miniconda3/lib/python3.9/site-packages/flask/app.py\", line 2073, in wsgi_app\n",
      "    response = self.full_dispatch_request()\n",
      "  File \"/opt/miniconda3/lib/python3.9/site-packages/flask/app.py\", line 1518, in full_dispatch_request\n",
      "    rv = self.handle_user_exception(e)\n",
      "  File \"/opt/miniconda3/lib/python3.9/site-packages/flask/app.py\", line 1516, in full_dispatch_request\n",
      "    rv = self.dispatch_request()\n",
      "  File \"/opt/miniconda3/lib/python3.9/site-packages/flask/app.py\", line 1502, in dispatch_request\n",
      "    return self.ensure_sync(self.view_functions[rule.endpoint])(**req.view_args)\n",
      "  File \"/opt/miniconda3/lib/python3.9/site-packages/dash/dash.py\", line 1336, in dispatch\n",
      "    response.set_data(func(*args, outputs_list=outputs_list))\n",
      "  File \"/opt/miniconda3/lib/python3.9/site-packages/dash/_callback.py\", line 151, in add_context\n",
      "    output_value = func(*func_args, **func_kwargs)  # %% callback invoked %%\n",
      "  File \"/var/folders/cb/y_45syrn4kd26w8rrdgvk_3r0000gn/T/ipykernel_53661/627631000.py\", line 332, in HoverToBoxPlot\n",
      "    gene1_df = Measured_Data.loc[hour_readable, gene1].reset_index(drop=True)\n",
      "  File \"/opt/miniconda3/lib/python3.9/site-packages/pandas/core/indexing.py\", line 925, in __getitem__\n",
      "    return self._getitem_tuple(key)\n",
      "  File \"/opt/miniconda3/lib/python3.9/site-packages/pandas/core/indexing.py\", line 1100, in _getitem_tuple\n",
      "    return self._getitem_lowerdim(tup)\n",
      "  File \"/opt/miniconda3/lib/python3.9/site-packages/pandas/core/indexing.py\", line 862, in _getitem_lowerdim\n",
      "    return getattr(section, self.name)[new_key]\n",
      "  File \"/opt/miniconda3/lib/python3.9/site-packages/pandas/core/indexing.py\", line 925, in __getitem__\n",
      "    return self._getitem_tuple(key)\n",
      "  File \"/opt/miniconda3/lib/python3.9/site-packages/pandas/core/indexing.py\", line 1100, in _getitem_tuple\n",
      "    return self._getitem_lowerdim(tup)\n",
      "  File \"/opt/miniconda3/lib/python3.9/site-packages/pandas/core/indexing.py\", line 838, in _getitem_lowerdim\n",
      "    section = self._getitem_axis(key, axis=i)\n",
      "  File \"/opt/miniconda3/lib/python3.9/site-packages/pandas/core/indexing.py\", line 1164, in _getitem_axis\n",
      "    return self._get_label(key, axis=axis)\n",
      "  File \"/opt/miniconda3/lib/python3.9/site-packages/pandas/core/indexing.py\", line 1113, in _get_label\n",
      "    return self.obj.xs(label, axis=axis)\n",
      "  File \"/opt/miniconda3/lib/python3.9/site-packages/pandas/core/generic.py\", line 3761, in xs\n",
      "    return self[key]\n",
      "  File \"/opt/miniconda3/lib/python3.9/site-packages/pandas/core/frame.py\", line 3458, in __getitem__\n",
      "    indexer = self.columns.get_loc(key)\n",
      "  File \"/opt/miniconda3/lib/python3.9/site-packages/pandas/core/indexes/base.py\", line 3363, in get_loc\n",
      "    raise KeyError(key) from err\n",
      "KeyError: 'hgfa'\n"
     ]
    },
    {
     "name": "stderr",
     "output_type": "stream",
     "text": [
      "127.0.0.1 - - [22/Aug/2022 15:56:18] \"POST /_dash-update-component HTTP/1.1\" 200 -\n",
      "127.0.0.1 - - [22/Aug/2022 15:56:18] \"\u001b[35m\u001b[1mPOST /_dash-update-component HTTP/1.1\u001b[0m\" 500 -\n",
      "127.0.0.1 - - [22/Aug/2022 15:56:18] \"POST /_dash-update-component HTTP/1.1\" 200 -\n",
      "127.0.0.1 - - [22/Aug/2022 15:56:21] \"POST /_dash-update-component HTTP/1.1\" 200 -\n",
      "127.0.0.1 - - [22/Aug/2022 15:56:21] \"POST /_dash-update-component HTTP/1.1\" 200 -\n"
     ]
    },
    {
     "name": "stdout",
     "output_type": "stream",
     "text": [
      "Exception on /_dash-update-component [POST]\n",
      "Traceback (most recent call last):\n",
      "  File \"/opt/miniconda3/lib/python3.9/site-packages/flask/app.py\", line 2073, in wsgi_app\n",
      "    response = self.full_dispatch_request()\n",
      "  File \"/opt/miniconda3/lib/python3.9/site-packages/flask/app.py\", line 1518, in full_dispatch_request\n",
      "    rv = self.handle_user_exception(e)\n",
      "  File \"/opt/miniconda3/lib/python3.9/site-packages/flask/app.py\", line 1516, in full_dispatch_request\n",
      "    rv = self.dispatch_request()\n",
      "  File \"/opt/miniconda3/lib/python3.9/site-packages/flask/app.py\", line 1502, in dispatch_request\n",
      "    return self.ensure_sync(self.view_functions[rule.endpoint])(**req.view_args)\n",
      "  File \"/opt/miniconda3/lib/python3.9/site-packages/dash/dash.py\", line 1336, in dispatch\n",
      "    response.set_data(func(*args, outputs_list=outputs_list))\n",
      "  File \"/opt/miniconda3/lib/python3.9/site-packages/dash/_callback.py\", line 151, in add_context\n",
      "    output_value = func(*func_args, **func_kwargs)  # %% callback invoked %%\n",
      "  File \"/var/folders/cb/y_45syrn4kd26w8rrdgvk_3r0000gn/T/ipykernel_53661/627631000.py\", line 289, in make_heatmap\n",
      "    Max_Val = max(fold_change_df_T.max(numeric_only=True).tolist())\n",
      "ValueError: max() arg is an empty sequence\n"
     ]
    },
    {
     "name": "stderr",
     "output_type": "stream",
     "text": [
      "127.0.0.1 - - [22/Aug/2022 15:56:24] \"\u001b[35m\u001b[1mPOST /_dash-update-component HTTP/1.1\u001b[0m\" 500 -\n",
      "127.0.0.1 - - [22/Aug/2022 15:56:27] \"POST /_dash-update-component HTTP/1.1\" 200 -\n"
     ]
    },
    {
     "name": "stdout",
     "output_type": "stream",
     "text": [
      "Exception on /_dash-update-component [POST]\n",
      "Traceback (most recent call last):\n",
      "  File \"/opt/miniconda3/lib/python3.9/site-packages/pandas/core/indexes/base.py\", line 3361, in get_loc\n",
      "    return self._engine.get_loc(casted_key)\n",
      "  File \"pandas/_libs/index.pyx\", line 76, in pandas._libs.index.IndexEngine.get_loc\n",
      "  File \"pandas/_libs/index.pyx\", line 108, in pandas._libs.index.IndexEngine.get_loc\n",
      "  File \"pandas/_libs/hashtable_class_helper.pxi\", line 5198, in pandas._libs.hashtable.PyObjectHashTable.get_item\n",
      "  File \"pandas/_libs/hashtable_class_helper.pxi\", line 5206, in pandas._libs.hashtable.PyObjectHashTable.get_item\n",
      "KeyError: 'hgfa'\n",
      "\n",
      "The above exception was the direct cause of the following exception:\n",
      "\n",
      "Traceback (most recent call last):\n",
      "  File \"/opt/miniconda3/lib/python3.9/site-packages/flask/app.py\", line 2073, in wsgi_app\n",
      "    response = self.full_dispatch_request()\n",
      "  File \"/opt/miniconda3/lib/python3.9/site-packages/flask/app.py\", line 1518, in full_dispatch_request\n",
      "    rv = self.handle_user_exception(e)\n",
      "  File \"/opt/miniconda3/lib/python3.9/site-packages/flask/app.py\", line 1516, in full_dispatch_request\n",
      "    rv = self.dispatch_request()\n",
      "  File \"/opt/miniconda3/lib/python3.9/site-packages/flask/app.py\", line 1502, in dispatch_request\n",
      "    return self.ensure_sync(self.view_functions[rule.endpoint])(**req.view_args)\n",
      "  File \"/opt/miniconda3/lib/python3.9/site-packages/dash/dash.py\", line 1336, in dispatch\n",
      "    response.set_data(func(*args, outputs_list=outputs_list))\n",
      "  File \"/opt/miniconda3/lib/python3.9/site-packages/dash/_callback.py\", line 151, in add_context\n",
      "    output_value = func(*func_args, **func_kwargs)  # %% callback invoked %%\n",
      "  File \"/var/folders/cb/y_45syrn4kd26w8rrdgvk_3r0000gn/T/ipykernel_53661/627631000.py\", line 332, in HoverToBoxPlot\n",
      "    gene1_df = Measured_Data.loc[hour_readable, gene1].reset_index(drop=True)\n",
      "  File \"/opt/miniconda3/lib/python3.9/site-packages/pandas/core/indexing.py\", line 925, in __getitem__\n",
      "    return self._getitem_tuple(key)\n",
      "  File \"/opt/miniconda3/lib/python3.9/site-packages/pandas/core/indexing.py\", line 1100, in _getitem_tuple\n",
      "    return self._getitem_lowerdim(tup)\n",
      "  File \"/opt/miniconda3/lib/python3.9/site-packages/pandas/core/indexing.py\", line 862, in _getitem_lowerdim\n",
      "    return getattr(section, self.name)[new_key]\n",
      "  File \"/opt/miniconda3/lib/python3.9/site-packages/pandas/core/indexing.py\", line 925, in __getitem__\n",
      "    return self._getitem_tuple(key)\n",
      "  File \"/opt/miniconda3/lib/python3.9/site-packages/pandas/core/indexing.py\", line 1100, in _getitem_tuple\n",
      "    return self._getitem_lowerdim(tup)\n",
      "  File \"/opt/miniconda3/lib/python3.9/site-packages/pandas/core/indexing.py\", line 838, in _getitem_lowerdim\n",
      "    section = self._getitem_axis(key, axis=i)\n",
      "  File \"/opt/miniconda3/lib/python3.9/site-packages/pandas/core/indexing.py\", line 1164, in _getitem_axis\n",
      "    return self._get_label(key, axis=axis)\n",
      "  File \"/opt/miniconda3/lib/python3.9/site-packages/pandas/core/indexing.py\", line 1113, in _get_label\n",
      "    return self.obj.xs(label, axis=axis)\n",
      "  File \"/opt/miniconda3/lib/python3.9/site-packages/pandas/core/generic.py\", line 3761, in xs\n",
      "    return self[key]\n",
      "  File \"/opt/miniconda3/lib/python3.9/site-packages/pandas/core/frame.py\", line 3458, in __getitem__\n",
      "    indexer = self.columns.get_loc(key)\n",
      "  File \"/opt/miniconda3/lib/python3.9/site-packages/pandas/core/indexes/base.py\", line 3363, in get_loc\n",
      "    raise KeyError(key) from err\n",
      "KeyError: 'hgfa'\n"
     ]
    },
    {
     "name": "stderr",
     "output_type": "stream",
     "text": [
      "127.0.0.1 - - [22/Aug/2022 15:56:28] \"\u001b[35m\u001b[1mPOST /_dash-update-component HTTP/1.1\u001b[0m\" 500 -\n"
     ]
    },
    {
     "name": "stdout",
     "output_type": "stream",
     "text": [
      "Exception on /_dash-update-component [POST]\n",
      "Traceback (most recent call last):\n",
      "  File \"/opt/miniconda3/lib/python3.9/site-packages/pandas/core/indexes/base.py\", line 3361, in get_loc\n",
      "    return self._engine.get_loc(casted_key)\n",
      "  File \"pandas/_libs/index.pyx\", line 76, in pandas._libs.index.IndexEngine.get_loc\n",
      "  File \"pandas/_libs/index.pyx\", line 108, in pandas._libs.index.IndexEngine.get_loc\n",
      "  File \"pandas/_libs/hashtable_class_helper.pxi\", line 5198, in pandas._libs.hashtable.PyObjectHashTable.get_item\n",
      "  File \"pandas/_libs/hashtable_class_helper.pxi\", line 5206, in pandas._libs.hashtable.PyObjectHashTable.get_item\n",
      "KeyError: 'hgfa'\n",
      "\n",
      "The above exception was the direct cause of the following exception:\n",
      "\n",
      "Traceback (most recent call last):\n",
      "  File \"/opt/miniconda3/lib/python3.9/site-packages/flask/app.py\", line 2073, in wsgi_app\n",
      "    response = self.full_dispatch_request()\n",
      "  File \"/opt/miniconda3/lib/python3.9/site-packages/flask/app.py\", line 1518, in full_dispatch_request\n",
      "    rv = self.handle_user_exception(e)\n",
      "  File \"/opt/miniconda3/lib/python3.9/site-packages/flask/app.py\", line 1516, in full_dispatch_request\n",
      "    rv = self.dispatch_request()\n",
      "  File \"/opt/miniconda3/lib/python3.9/site-packages/flask/app.py\", line 1502, in dispatch_request\n",
      "    return self.ensure_sync(self.view_functions[rule.endpoint])(**req.view_args)\n",
      "  File \"/opt/miniconda3/lib/python3.9/site-packages/dash/dash.py\", line 1336, in dispatch\n",
      "    response.set_data(func(*args, outputs_list=outputs_list))\n",
      "  File \"/opt/miniconda3/lib/python3.9/site-packages/dash/_callback.py\", line 151, in add_context\n",
      "    output_value = func(*func_args, **func_kwargs)  # %% callback invoked %%\n",
      "  File \"/var/folders/cb/y_45syrn4kd26w8rrdgvk_3r0000gn/T/ipykernel_53661/627631000.py\", line 332, in HoverToBoxPlot\n",
      "    gene1_df = Measured_Data.loc[hour_readable, gene1].reset_index(drop=True)\n",
      "  File \"/opt/miniconda3/lib/python3.9/site-packages/pandas/core/indexing.py\", line 925, in __getitem__\n",
      "    return self._getitem_tuple(key)\n",
      "  File \"/opt/miniconda3/lib/python3.9/site-packages/pandas/core/indexing.py\", line 1100, in _getitem_tuple\n",
      "    return self._getitem_lowerdim(tup)\n",
      "  File \"/opt/miniconda3/lib/python3.9/site-packages/pandas/core/indexing.py\", line 862, in _getitem_lowerdim\n",
      "    return getattr(section, self.name)[new_key]\n",
      "  File \"/opt/miniconda3/lib/python3.9/site-packages/pandas/core/indexing.py\", line 925, in __getitem__\n",
      "    return self._getitem_tuple(key)\n",
      "  File \"/opt/miniconda3/lib/python3.9/site-packages/pandas/core/indexing.py\", line 1100, in _getitem_tuple\n",
      "    return self._getitem_lowerdim(tup)\n",
      "  File \"/opt/miniconda3/lib/python3.9/site-packages/pandas/core/indexing.py\", line 838, in _getitem_lowerdim\n",
      "    section = self._getitem_axis(key, axis=i)\n",
      "  File \"/opt/miniconda3/lib/python3.9/site-packages/pandas/core/indexing.py\", line 1164, in _getitem_axis\n",
      "    return self._get_label(key, axis=axis)\n",
      "  File \"/opt/miniconda3/lib/python3.9/site-packages/pandas/core/indexing.py\", line 1113, in _get_label\n",
      "    return self.obj.xs(label, axis=axis)\n",
      "  File \"/opt/miniconda3/lib/python3.9/site-packages/pandas/core/generic.py\", line 3761, in xs\n",
      "    return self[key]\n",
      "  File \"/opt/miniconda3/lib/python3.9/site-packages/pandas/core/frame.py\", line 3458, in __getitem__\n",
      "    indexer = self.columns.get_loc(key)\n",
      "  File \"/opt/miniconda3/lib/python3.9/site-packages/pandas/core/indexes/base.py\", line 3363, in get_loc\n",
      "    raise KeyError(key) from err\n",
      "KeyError: 'hgfa'\n"
     ]
    },
    {
     "name": "stderr",
     "output_type": "stream",
     "text": [
      "127.0.0.1 - - [22/Aug/2022 15:56:28] \"\u001b[35m\u001b[1mPOST /_dash-update-component HTTP/1.1\u001b[0m\" 500 -\n",
      "127.0.0.1 - - [22/Aug/2022 15:56:28] \"POST /_dash-update-component HTTP/1.1\" 200 -\n"
     ]
    },
    {
     "name": "stdout",
     "output_type": "stream",
     "text": [
      "Exception on /_dash-update-component [POST]\n",
      "Traceback (most recent call last):\n",
      "  File \"/opt/miniconda3/lib/python3.9/site-packages/pandas/core/indexes/base.py\", line 3361, in get_loc\n",
      "    return self._engine.get_loc(casted_key)\n",
      "  File \"pandas/_libs/index.pyx\", line 76, in pandas._libs.index.IndexEngine.get_loc\n",
      "  File \"pandas/_libs/index.pyx\", line 108, in pandas._libs.index.IndexEngine.get_loc\n",
      "  File \"pandas/_libs/hashtable_class_helper.pxi\", line 5198, in pandas._libs.hashtable.PyObjectHashTable.get_item\n",
      "  File \"pandas/_libs/hashtable_class_helper.pxi\", line 5206, in pandas._libs.hashtable.PyObjectHashTable.get_item\n",
      "KeyError: 'hgfa'\n",
      "\n",
      "The above exception was the direct cause of the following exception:\n",
      "\n",
      "Traceback (most recent call last):\n",
      "  File \"/opt/miniconda3/lib/python3.9/site-packages/flask/app.py\", line 2073, in wsgi_app\n",
      "    response = self.full_dispatch_request()\n",
      "  File \"/opt/miniconda3/lib/python3.9/site-packages/flask/app.py\", line 1518, in full_dispatch_request\n",
      "    rv = self.handle_user_exception(e)\n",
      "  File \"/opt/miniconda3/lib/python3.9/site-packages/flask/app.py\", line 1516, in full_dispatch_request\n",
      "    rv = self.dispatch_request()\n",
      "  File \"/opt/miniconda3/lib/python3.9/site-packages/flask/app.py\", line 1502, in dispatch_request\n",
      "    return self.ensure_sync(self.view_functions[rule.endpoint])(**req.view_args)\n",
      "  File \"/opt/miniconda3/lib/python3.9/site-packages/dash/dash.py\", line 1336, in dispatch\n",
      "    response.set_data(func(*args, outputs_list=outputs_list))\n",
      "  File \"/opt/miniconda3/lib/python3.9/site-packages/dash/_callback.py\", line 151, in add_context\n",
      "    output_value = func(*func_args, **func_kwargs)  # %% callback invoked %%\n",
      "  File \"/var/folders/cb/y_45syrn4kd26w8rrdgvk_3r0000gn/T/ipykernel_53661/627631000.py\", line 332, in HoverToBoxPlot\n",
      "    gene1_df = Measured_Data.loc[hour_readable, gene1].reset_index(drop=True)\n",
      "  File \"/opt/miniconda3/lib/python3.9/site-packages/pandas/core/indexing.py\", line 925, in __getitem__\n",
      "    return self._getitem_tuple(key)\n",
      "  File \"/opt/miniconda3/lib/python3.9/site-packages/pandas/core/indexing.py\", line 1100, in _getitem_tuple\n",
      "    return self._getitem_lowerdim(tup)\n",
      "  File \"/opt/miniconda3/lib/python3.9/site-packages/pandas/core/indexing.py\", line 862, in _getitem_lowerdim\n",
      "    return getattr(section, self.name)[new_key]\n",
      "  File \"/opt/miniconda3/lib/python3.9/site-packages/pandas/core/indexing.py\", line 925, in __getitem__\n",
      "    return self._getitem_tuple(key)\n",
      "  File \"/opt/miniconda3/lib/python3.9/site-packages/pandas/core/indexing.py\", line 1100, in _getitem_tuple\n",
      "    return self._getitem_lowerdim(tup)\n",
      "  File \"/opt/miniconda3/lib/python3.9/site-packages/pandas/core/indexing.py\", line 838, in _getitem_lowerdim\n",
      "    section = self._getitem_axis(key, axis=i)\n",
      "  File \"/opt/miniconda3/lib/python3.9/site-packages/pandas/core/indexing.py\", line 1164, in _getitem_axis\n",
      "    return self._get_label(key, axis=axis)\n",
      "  File \"/opt/miniconda3/lib/python3.9/site-packages/pandas/core/indexing.py\", line 1113, in _get_label\n",
      "    return self.obj.xs(label, axis=axis)\n",
      "  File \"/opt/miniconda3/lib/python3.9/site-packages/pandas/core/generic.py\", line 3761, in xs\n",
      "    return self[key]\n",
      "  File \"/opt/miniconda3/lib/python3.9/site-packages/pandas/core/frame.py\", line 3458, in __getitem__\n",
      "    indexer = self.columns.get_loc(key)\n",
      "  File \"/opt/miniconda3/lib/python3.9/site-packages/pandas/core/indexes/base.py\", line 3363, in get_loc\n",
      "    raise KeyError(key) from err\n",
      "KeyError: 'hgfa'\n"
     ]
    },
    {
     "name": "stderr",
     "output_type": "stream",
     "text": [
      "127.0.0.1 - - [22/Aug/2022 15:56:29] \"\u001b[35m\u001b[1mPOST /_dash-update-component HTTP/1.1\u001b[0m\" 500 -\n",
      "127.0.0.1 - - [22/Aug/2022 15:56:29] \"POST /_dash-update-component HTTP/1.1\" 200 -\n"
     ]
    },
    {
     "name": "stdout",
     "output_type": "stream",
     "text": [
      "Exception on /_dash-update-component [POST]\n",
      "Traceback (most recent call last):\n",
      "  File \"/opt/miniconda3/lib/python3.9/site-packages/pandas/core/indexes/base.py\", line 3361, in get_loc\n",
      "    return self._engine.get_loc(casted_key)\n",
      "  File \"pandas/_libs/index.pyx\", line 76, in pandas._libs.index.IndexEngine.get_loc\n",
      "  File \"pandas/_libs/index.pyx\", line 108, in pandas._libs.index.IndexEngine.get_loc\n",
      "  File \"pandas/_libs/hashtable_class_helper.pxi\", line 5198, in pandas._libs.hashtable.PyObjectHashTable.get_item\n",
      "  File \"pandas/_libs/hashtable_class_helper.pxi\", line 5206, in pandas._libs.hashtable.PyObjectHashTable.get_item\n",
      "KeyError: 'hgfa'\n",
      "\n",
      "The above exception was the direct cause of the following exception:\n",
      "\n",
      "Traceback (most recent call last):\n",
      "  File \"/opt/miniconda3/lib/python3.9/site-packages/flask/app.py\", line 2073, in wsgi_app\n",
      "    response = self.full_dispatch_request()\n",
      "  File \"/opt/miniconda3/lib/python3.9/site-packages/flask/app.py\", line 1518, in full_dispatch_request\n",
      "    rv = self.handle_user_exception(e)\n",
      "  File \"/opt/miniconda3/lib/python3.9/site-packages/flask/app.py\", line 1516, in full_dispatch_request\n",
      "    rv = self.dispatch_request()\n",
      "  File \"/opt/miniconda3/lib/python3.9/site-packages/flask/app.py\", line 1502, in dispatch_request\n",
      "    return self.ensure_sync(self.view_functions[rule.endpoint])(**req.view_args)\n",
      "  File \"/opt/miniconda3/lib/python3.9/site-packages/dash/dash.py\", line 1336, in dispatch\n",
      "    response.set_data(func(*args, outputs_list=outputs_list))\n",
      "  File \"/opt/miniconda3/lib/python3.9/site-packages/dash/_callback.py\", line 151, in add_context\n",
      "    output_value = func(*func_args, **func_kwargs)  # %% callback invoked %%\n",
      "  File \"/var/folders/cb/y_45syrn4kd26w8rrdgvk_3r0000gn/T/ipykernel_53661/627631000.py\", line 332, in HoverToBoxPlot\n",
      "    gene1_df = Measured_Data.loc[hour_readable, gene1].reset_index(drop=True)\n",
      "  File \"/opt/miniconda3/lib/python3.9/site-packages/pandas/core/indexing.py\", line 925, in __getitem__\n",
      "    return self._getitem_tuple(key)\n",
      "  File \"/opt/miniconda3/lib/python3.9/site-packages/pandas/core/indexing.py\", line 1100, in _getitem_tuple\n",
      "    return self._getitem_lowerdim(tup)\n",
      "  File \"/opt/miniconda3/lib/python3.9/site-packages/pandas/core/indexing.py\", line 862, in _getitem_lowerdim\n",
      "    return getattr(section, self.name)[new_key]\n",
      "  File \"/opt/miniconda3/lib/python3.9/site-packages/pandas/core/indexing.py\", line 925, in __getitem__\n",
      "    return self._getitem_tuple(key)\n",
      "  File \"/opt/miniconda3/lib/python3.9/site-packages/pandas/core/indexing.py\", line 1100, in _getitem_tuple\n",
      "    return self._getitem_lowerdim(tup)\n",
      "  File \"/opt/miniconda3/lib/python3.9/site-packages/pandas/core/indexing.py\", line 838, in _getitem_lowerdim\n",
      "    section = self._getitem_axis(key, axis=i)\n",
      "  File \"/opt/miniconda3/lib/python3.9/site-packages/pandas/core/indexing.py\", line 1164, in _getitem_axis\n",
      "    return self._get_label(key, axis=axis)\n",
      "  File \"/opt/miniconda3/lib/python3.9/site-packages/pandas/core/indexing.py\", line 1113, in _get_label\n",
      "    return self.obj.xs(label, axis=axis)\n",
      "  File \"/opt/miniconda3/lib/python3.9/site-packages/pandas/core/generic.py\", line 3761, in xs\n",
      "    return self[key]\n",
      "  File \"/opt/miniconda3/lib/python3.9/site-packages/pandas/core/frame.py\", line 3458, in __getitem__\n",
      "    indexer = self.columns.get_loc(key)\n",
      "  File \"/opt/miniconda3/lib/python3.9/site-packages/pandas/core/indexes/base.py\", line 3363, in get_loc\n",
      "    raise KeyError(key) from err\n",
      "KeyError: 'hgfa'\n"
     ]
    },
    {
     "name": "stderr",
     "output_type": "stream",
     "text": [
      "127.0.0.1 - - [22/Aug/2022 15:56:29] \"\u001b[35m\u001b[1mPOST /_dash-update-component HTTP/1.1\u001b[0m\" 500 -\n",
      "127.0.0.1 - - [22/Aug/2022 15:56:29] \"POST /_dash-update-component HTTP/1.1\" 200 -\n",
      "127.0.0.1 - - [22/Aug/2022 15:56:29] \"POST /_dash-update-component HTTP/1.1\" 200 -\n"
     ]
    },
    {
     "name": "stdout",
     "output_type": "stream",
     "text": [
      "Exception on /_dash-update-component [POST]\n",
      "Traceback (most recent call last):\n",
      "  File \"/opt/miniconda3/lib/python3.9/site-packages/pandas/core/indexes/base.py\", line 3361, in get_loc\n",
      "    return self._engine.get_loc(casted_key)\n",
      "  File \"pandas/_libs/index.pyx\", line 76, in pandas._libs.index.IndexEngine.get_loc\n",
      "  File \"pandas/_libs/index.pyx\", line 108, in pandas._libs.index.IndexEngine.get_loc\n",
      "  File \"pandas/_libs/hashtable_class_helper.pxi\", line 5198, in pandas._libs.hashtable.PyObjectHashTable.get_item\n",
      "  File \"pandas/_libs/hashtable_class_helper.pxi\", line 5206, in pandas._libs.hashtable.PyObjectHashTable.get_item\n",
      "KeyError: 'hgfa'\n",
      "\n",
      "The above exception was the direct cause of the following exception:\n",
      "\n",
      "Traceback (most recent call last):\n",
      "  File \"/opt/miniconda3/lib/python3.9/site-packages/flask/app.py\", line 2073, in wsgi_app\n",
      "    response = self.full_dispatch_request()\n",
      "  File \"/opt/miniconda3/lib/python3.9/site-packages/flask/app.py\", line 1518, in full_dispatch_request\n",
      "    rv = self.handle_user_exception(e)\n",
      "  File \"/opt/miniconda3/lib/python3.9/site-packages/flask/app.py\", line 1516, in full_dispatch_request\n",
      "    rv = self.dispatch_request()\n",
      "  File \"/opt/miniconda3/lib/python3.9/site-packages/flask/app.py\", line 1502, in dispatch_request\n",
      "    return self.ensure_sync(self.view_functions[rule.endpoint])(**req.view_args)\n",
      "  File \"/opt/miniconda3/lib/python3.9/site-packages/dash/dash.py\", line 1336, in dispatch\n",
      "    response.set_data(func(*args, outputs_list=outputs_list))\n",
      "  File \"/opt/miniconda3/lib/python3.9/site-packages/dash/_callback.py\", line 151, in add_context\n",
      "    output_value = func(*func_args, **func_kwargs)  # %% callback invoked %%\n",
      "  File \"/var/folders/cb/y_45syrn4kd26w8rrdgvk_3r0000gn/T/ipykernel_53661/627631000.py\", line 332, in HoverToBoxPlot\n",
      "    gene1_df = Measured_Data.loc[hour_readable, gene1].reset_index(drop=True)\n",
      "  File \"/opt/miniconda3/lib/python3.9/site-packages/pandas/core/indexing.py\", line 925, in __getitem__\n",
      "    return self._getitem_tuple(key)\n",
      "  File \"/opt/miniconda3/lib/python3.9/site-packages/pandas/core/indexing.py\", line 1100, in _getitem_tuple\n",
      "    return self._getitem_lowerdim(tup)\n",
      "  File \"/opt/miniconda3/lib/python3.9/site-packages/pandas/core/indexing.py\", line 862, in _getitem_lowerdim\n",
      "    return getattr(section, self.name)[new_key]\n",
      "  File \"/opt/miniconda3/lib/python3.9/site-packages/pandas/core/indexing.py\", line 925, in __getitem__\n",
      "    return self._getitem_tuple(key)\n",
      "  File \"/opt/miniconda3/lib/python3.9/site-packages/pandas/core/indexing.py\", line 1100, in _getitem_tuple\n",
      "    return self._getitem_lowerdim(tup)\n",
      "  File \"/opt/miniconda3/lib/python3.9/site-packages/pandas/core/indexing.py\", line 838, in _getitem_lowerdim\n",
      "    section = self._getitem_axis(key, axis=i)\n",
      "  File \"/opt/miniconda3/lib/python3.9/site-packages/pandas/core/indexing.py\", line 1164, in _getitem_axis\n",
      "    return self._get_label(key, axis=axis)\n",
      "  File \"/opt/miniconda3/lib/python3.9/site-packages/pandas/core/indexing.py\", line 1113, in _get_label\n",
      "    return self.obj.xs(label, axis=axis)\n",
      "  File \"/opt/miniconda3/lib/python3.9/site-packages/pandas/core/generic.py\", line 3761, in xs\n",
      "    return self[key]\n",
      "  File \"/opt/miniconda3/lib/python3.9/site-packages/pandas/core/frame.py\", line 3458, in __getitem__\n",
      "    indexer = self.columns.get_loc(key)\n",
      "  File \"/opt/miniconda3/lib/python3.9/site-packages/pandas/core/indexes/base.py\", line 3363, in get_loc\n",
      "    raise KeyError(key) from err\n",
      "KeyError: 'hgfa'\n"
     ]
    },
    {
     "name": "stderr",
     "output_type": "stream",
     "text": [
      "127.0.0.1 - - [22/Aug/2022 15:56:30] \"\u001b[35m\u001b[1mPOST /_dash-update-component HTTP/1.1\u001b[0m\" 500 -\n",
      "127.0.0.1 - - [22/Aug/2022 15:56:30] \"POST /_dash-update-component HTTP/1.1\" 200 -\n"
     ]
    },
    {
     "name": "stdout",
     "output_type": "stream",
     "text": [
      "Exception on /_dash-update-component [POST]\n",
      "Traceback (most recent call last):\n",
      "  File \"/opt/miniconda3/lib/python3.9/site-packages/pandas/core/indexes/base.py\", line 3361, in get_loc\n",
      "    return self._engine.get_loc(casted_key)\n",
      "  File \"pandas/_libs/index.pyx\", line 76, in pandas._libs.index.IndexEngine.get_loc\n",
      "  File \"pandas/_libs/index.pyx\", line 108, in pandas._libs.index.IndexEngine.get_loc\n",
      "  File \"pandas/_libs/hashtable_class_helper.pxi\", line 5198, in pandas._libs.hashtable.PyObjectHashTable.get_item\n",
      "  File \"pandas/_libs/hashtable_class_helper.pxi\", line 5206, in pandas._libs.hashtable.PyObjectHashTable.get_item\n",
      "KeyError: 'hgfa'\n",
      "\n",
      "The above exception was the direct cause of the following exception:\n",
      "\n",
      "Traceback (most recent call last):\n",
      "  File \"/opt/miniconda3/lib/python3.9/site-packages/flask/app.py\", line 2073, in wsgi_app\n",
      "    response = self.full_dispatch_request()\n",
      "  File \"/opt/miniconda3/lib/python3.9/site-packages/flask/app.py\", line 1518, in full_dispatch_request\n",
      "    rv = self.handle_user_exception(e)\n",
      "  File \"/opt/miniconda3/lib/python3.9/site-packages/flask/app.py\", line 1516, in full_dispatch_request\n",
      "    rv = self.dispatch_request()\n",
      "  File \"/opt/miniconda3/lib/python3.9/site-packages/flask/app.py\", line 1502, in dispatch_request\n",
      "    return self.ensure_sync(self.view_functions[rule.endpoint])(**req.view_args)\n",
      "  File \"/opt/miniconda3/lib/python3.9/site-packages/dash/dash.py\", line 1336, in dispatch\n",
      "    response.set_data(func(*args, outputs_list=outputs_list))\n",
      "  File \"/opt/miniconda3/lib/python3.9/site-packages/dash/_callback.py\", line 151, in add_context\n",
      "    output_value = func(*func_args, **func_kwargs)  # %% callback invoked %%\n",
      "  File \"/var/folders/cb/y_45syrn4kd26w8rrdgvk_3r0000gn/T/ipykernel_53661/627631000.py\", line 332, in HoverToBoxPlot\n",
      "    gene1_df = Measured_Data.loc[hour_readable, gene1].reset_index(drop=True)\n",
      "  File \"/opt/miniconda3/lib/python3.9/site-packages/pandas/core/indexing.py\", line 925, in __getitem__\n",
      "    return self._getitem_tuple(key)\n",
      "  File \"/opt/miniconda3/lib/python3.9/site-packages/pandas/core/indexing.py\", line 1100, in _getitem_tuple\n",
      "    return self._getitem_lowerdim(tup)\n",
      "  File \"/opt/miniconda3/lib/python3.9/site-packages/pandas/core/indexing.py\", line 862, in _getitem_lowerdim\n",
      "    return getattr(section, self.name)[new_key]\n",
      "  File \"/opt/miniconda3/lib/python3.9/site-packages/pandas/core/indexing.py\", line 925, in __getitem__\n",
      "    return self._getitem_tuple(key)\n",
      "  File \"/opt/miniconda3/lib/python3.9/site-packages/pandas/core/indexing.py\", line 1100, in _getitem_tuple\n",
      "    return self._getitem_lowerdim(tup)\n",
      "  File \"/opt/miniconda3/lib/python3.9/site-packages/pandas/core/indexing.py\", line 838, in _getitem_lowerdim\n",
      "    section = self._getitem_axis(key, axis=i)\n",
      "  File \"/opt/miniconda3/lib/python3.9/site-packages/pandas/core/indexing.py\", line 1164, in _getitem_axis\n",
      "    return self._get_label(key, axis=axis)\n",
      "  File \"/opt/miniconda3/lib/python3.9/site-packages/pandas/core/indexing.py\", line 1113, in _get_label\n",
      "    return self.obj.xs(label, axis=axis)\n",
      "  File \"/opt/miniconda3/lib/python3.9/site-packages/pandas/core/generic.py\", line 3761, in xs\n",
      "    return self[key]\n",
      "  File \"/opt/miniconda3/lib/python3.9/site-packages/pandas/core/frame.py\", line 3458, in __getitem__\n",
      "    indexer = self.columns.get_loc(key)\n",
      "  File \"/opt/miniconda3/lib/python3.9/site-packages/pandas/core/indexes/base.py\", line 3363, in get_loc\n",
      "    raise KeyError(key) from err\n",
      "KeyError: 'hgfa'\n"
     ]
    },
    {
     "name": "stderr",
     "output_type": "stream",
     "text": [
      "127.0.0.1 - - [22/Aug/2022 15:56:31] \"\u001b[35m\u001b[1mPOST /_dash-update-component HTTP/1.1\u001b[0m\" 500 -\n",
      "127.0.0.1 - - [22/Aug/2022 15:56:32] \"POST /_dash-update-component HTTP/1.1\" 200 -\n",
      "127.0.0.1 - - [22/Aug/2022 15:56:33] \"POST /_dash-update-component HTTP/1.1\" 200 -\n",
      "127.0.0.1 - - [22/Aug/2022 15:56:35] \"POST /_dash-update-component HTTP/1.1\" 200 -\n"
     ]
    },
    {
     "name": "stdout",
     "output_type": "stream",
     "text": [
      "Exception on /_dash-update-component [POST]\n",
      "Traceback (most recent call last):\n",
      "  File \"/opt/miniconda3/lib/python3.9/site-packages/pandas/core/indexes/base.py\", line 3361, in get_loc\n",
      "    return self._engine.get_loc(casted_key)\n",
      "  File \"pandas/_libs/index.pyx\", line 76, in pandas._libs.index.IndexEngine.get_loc\n",
      "  File \"pandas/_libs/index.pyx\", line 108, in pandas._libs.index.IndexEngine.get_loc\n",
      "  File \"pandas/_libs/hashtable_class_helper.pxi\", line 5198, in pandas._libs.hashtable.PyObjectHashTable.get_item\n",
      "  File \"pandas/_libs/hashtable_class_helper.pxi\", line 5206, in pandas._libs.hashtable.PyObjectHashTable.get_item\n",
      "KeyError: 'hgfa'\n",
      "\n",
      "The above exception was the direct cause of the following exception:\n",
      "\n",
      "Traceback (most recent call last):\n",
      "  File \"/opt/miniconda3/lib/python3.9/site-packages/flask/app.py\", line 2073, in wsgi_app\n",
      "    response = self.full_dispatch_request()\n",
      "  File \"/opt/miniconda3/lib/python3.9/site-packages/flask/app.py\", line 1518, in full_dispatch_request\n",
      "    rv = self.handle_user_exception(e)\n",
      "  File \"/opt/miniconda3/lib/python3.9/site-packages/flask/app.py\", line 1516, in full_dispatch_request\n",
      "    rv = self.dispatch_request()\n",
      "  File \"/opt/miniconda3/lib/python3.9/site-packages/flask/app.py\", line 1502, in dispatch_request\n",
      "    return self.ensure_sync(self.view_functions[rule.endpoint])(**req.view_args)\n",
      "  File \"/opt/miniconda3/lib/python3.9/site-packages/dash/dash.py\", line 1336, in dispatch\n",
      "    response.set_data(func(*args, outputs_list=outputs_list))\n",
      "  File \"/opt/miniconda3/lib/python3.9/site-packages/dash/_callback.py\", line 151, in add_context\n",
      "    output_value = func(*func_args, **func_kwargs)  # %% callback invoked %%\n",
      "  File \"/var/folders/cb/y_45syrn4kd26w8rrdgvk_3r0000gn/T/ipykernel_53661/627631000.py\", line 332, in HoverToBoxPlot\n",
      "    gene1_df = Measured_Data.loc[hour_readable, gene1].reset_index(drop=True)\n",
      "  File \"/opt/miniconda3/lib/python3.9/site-packages/pandas/core/indexing.py\", line 925, in __getitem__\n",
      "    return self._getitem_tuple(key)\n",
      "  File \"/opt/miniconda3/lib/python3.9/site-packages/pandas/core/indexing.py\", line 1100, in _getitem_tuple\n",
      "    return self._getitem_lowerdim(tup)\n",
      "  File \"/opt/miniconda3/lib/python3.9/site-packages/pandas/core/indexing.py\", line 862, in _getitem_lowerdim\n",
      "    return getattr(section, self.name)[new_key]\n",
      "  File \"/opt/miniconda3/lib/python3.9/site-packages/pandas/core/indexing.py\", line 925, in __getitem__\n",
      "    return self._getitem_tuple(key)\n",
      "  File \"/opt/miniconda3/lib/python3.9/site-packages/pandas/core/indexing.py\", line 1100, in _getitem_tuple\n",
      "    return self._getitem_lowerdim(tup)\n",
      "  File \"/opt/miniconda3/lib/python3.9/site-packages/pandas/core/indexing.py\", line 838, in _getitem_lowerdim\n",
      "    section = self._getitem_axis(key, axis=i)\n",
      "  File \"/opt/miniconda3/lib/python3.9/site-packages/pandas/core/indexing.py\", line 1164, in _getitem_axis\n",
      "    return self._get_label(key, axis=axis)\n",
      "  File \"/opt/miniconda3/lib/python3.9/site-packages/pandas/core/indexing.py\", line 1113, in _get_label\n",
      "    return self.obj.xs(label, axis=axis)\n",
      "  File \"/opt/miniconda3/lib/python3.9/site-packages/pandas/core/generic.py\", line 3761, in xs\n",
      "    return self[key]\n",
      "  File \"/opt/miniconda3/lib/python3.9/site-packages/pandas/core/frame.py\", line 3458, in __getitem__\n",
      "    indexer = self.columns.get_loc(key)\n",
      "  File \"/opt/miniconda3/lib/python3.9/site-packages/pandas/core/indexes/base.py\", line 3363, in get_loc\n",
      "    raise KeyError(key) from err\n",
      "KeyError: 'hgfa'\n"
     ]
    },
    {
     "name": "stderr",
     "output_type": "stream",
     "text": [
      "127.0.0.1 - - [22/Aug/2022 15:56:37] \"\u001b[35m\u001b[1mPOST /_dash-update-component HTTP/1.1\u001b[0m\" 500 -\n",
      "127.0.0.1 - - [22/Aug/2022 15:56:37] \"POST /_dash-update-component HTTP/1.1\" 200 -\n",
      "127.0.0.1 - - [22/Aug/2022 15:56:41] \"POST /_dash-update-component HTTP/1.1\" 200 -\n"
     ]
    },
    {
     "name": "stdout",
     "output_type": "stream",
     "text": [
      "Exception on /_dash-update-component [POST]\n",
      "Traceback (most recent call last):\n",
      "  File \"/opt/miniconda3/lib/python3.9/site-packages/pandas/core/indexes/base.py\", line 3361, in get_loc\n",
      "    return self._engine.get_loc(casted_key)\n",
      "  File \"pandas/_libs/index.pyx\", line 76, in pandas._libs.index.IndexEngine.get_loc\n",
      "  File \"pandas/_libs/index.pyx\", line 108, in pandas._libs.index.IndexEngine.get_loc\n",
      "  File \"pandas/_libs/hashtable_class_helper.pxi\", line 5198, in pandas._libs.hashtable.PyObjectHashTable.get_item\n",
      "  File \"pandas/_libs/hashtable_class_helper.pxi\", line 5206, in pandas._libs.hashtable.PyObjectHashTable.get_item\n",
      "KeyError: 'hgfa'\n",
      "\n",
      "The above exception was the direct cause of the following exception:\n",
      "\n",
      "Traceback (most recent call last):\n",
      "  File \"/opt/miniconda3/lib/python3.9/site-packages/flask/app.py\", line 2073, in wsgi_app\n",
      "    response = self.full_dispatch_request()\n",
      "  File \"/opt/miniconda3/lib/python3.9/site-packages/flask/app.py\", line 1518, in full_dispatch_request\n",
      "    rv = self.handle_user_exception(e)\n",
      "  File \"/opt/miniconda3/lib/python3.9/site-packages/flask/app.py\", line 1516, in full_dispatch_request\n",
      "    rv = self.dispatch_request()\n",
      "  File \"/opt/miniconda3/lib/python3.9/site-packages/flask/app.py\", line 1502, in dispatch_request\n",
      "    return self.ensure_sync(self.view_functions[rule.endpoint])(**req.view_args)\n",
      "  File \"/opt/miniconda3/lib/python3.9/site-packages/dash/dash.py\", line 1336, in dispatch\n",
      "    response.set_data(func(*args, outputs_list=outputs_list))\n",
      "  File \"/opt/miniconda3/lib/python3.9/site-packages/dash/_callback.py\", line 151, in add_context\n",
      "    output_value = func(*func_args, **func_kwargs)  # %% callback invoked %%\n",
      "  File \"/var/folders/cb/y_45syrn4kd26w8rrdgvk_3r0000gn/T/ipykernel_53661/627631000.py\", line 332, in HoverToBoxPlot\n",
      "    gene1_df = Measured_Data.loc[hour_readable, gene1].reset_index(drop=True)\n",
      "  File \"/opt/miniconda3/lib/python3.9/site-packages/pandas/core/indexing.py\", line 925, in __getitem__\n",
      "    return self._getitem_tuple(key)\n",
      "  File \"/opt/miniconda3/lib/python3.9/site-packages/pandas/core/indexing.py\", line 1100, in _getitem_tuple\n",
      "    return self._getitem_lowerdim(tup)\n",
      "  File \"/opt/miniconda3/lib/python3.9/site-packages/pandas/core/indexing.py\", line 862, in _getitem_lowerdim\n",
      "    return getattr(section, self.name)[new_key]\n",
      "  File \"/opt/miniconda3/lib/python3.9/site-packages/pandas/core/indexing.py\", line 925, in __getitem__\n",
      "    return self._getitem_tuple(key)\n",
      "  File \"/opt/miniconda3/lib/python3.9/site-packages/pandas/core/indexing.py\", line 1100, in _getitem_tuple\n",
      "    return self._getitem_lowerdim(tup)\n",
      "  File \"/opt/miniconda3/lib/python3.9/site-packages/pandas/core/indexing.py\", line 838, in _getitem_lowerdim\n",
      "    section = self._getitem_axis(key, axis=i)\n",
      "  File \"/opt/miniconda3/lib/python3.9/site-packages/pandas/core/indexing.py\", line 1164, in _getitem_axis\n",
      "    return self._get_label(key, axis=axis)\n",
      "  File \"/opt/miniconda3/lib/python3.9/site-packages/pandas/core/indexing.py\", line 1113, in _get_label\n",
      "    return self.obj.xs(label, axis=axis)\n",
      "  File \"/opt/miniconda3/lib/python3.9/site-packages/pandas/core/generic.py\", line 3761, in xs\n",
      "    return self[key]\n",
      "  File \"/opt/miniconda3/lib/python3.9/site-packages/pandas/core/frame.py\", line 3458, in __getitem__\n",
      "    indexer = self.columns.get_loc(key)\n",
      "  File \"/opt/miniconda3/lib/python3.9/site-packages/pandas/core/indexes/base.py\", line 3363, in get_loc\n",
      "    raise KeyError(key) from err\n",
      "KeyError: 'hgfa'\n"
     ]
    },
    {
     "name": "stderr",
     "output_type": "stream",
     "text": [
      "127.0.0.1 - - [22/Aug/2022 15:56:41] \"\u001b[35m\u001b[1mPOST /_dash-update-component HTTP/1.1\u001b[0m\" 500 -\n",
      "127.0.0.1 - - [22/Aug/2022 15:56:41] \"POST /_dash-update-component HTTP/1.1\" 200 -\n",
      "127.0.0.1 - - [22/Aug/2022 15:56:42] \"POST /_dash-update-component HTTP/1.1\" 200 -\n",
      "127.0.0.1 - - [22/Aug/2022 15:56:45] \"POST /_dash-update-component HTTP/1.1\" 200 -\n",
      "/var/folders/cb/y_45syrn4kd26w8rrdgvk_3r0000gn/T/ipykernel_53661/627631000.py:24: PerformanceWarning:\n",
      "\n",
      "DataFrame is highly fragmented.  This is usually the result of calling `frame.insert` many times, which has poor performance.  Consider joining all columns at once using pd.concat(axis=1) instead.  To get a de-fragmented frame, use `newframe = frame.copy()`\n",
      "\n",
      "127.0.0.1 - - [22/Aug/2022 15:56:48] \"POST /_dash-update-component HTTP/1.1\" 200 -\n",
      "127.0.0.1 - - [22/Aug/2022 15:56:48] \"POST /_dash-update-component HTTP/1.1\" 200 -\n",
      "127.0.0.1 - - [22/Aug/2022 15:56:48] \"POST /_dash-update-component HTTP/1.1\" 200 -\n"
     ]
    },
    {
     "name": "stdout",
     "output_type": "stream",
     "text": [
      "     Gene_Knock  dorsal spinal cord neuron\n",
      "0       Control                        9.0\n",
      "1       Control                       16.0\n",
      "2       Control                        4.0\n",
      "3       Control                        7.0\n",
      "4       Control                       15.0\n",
      "...         ...                        ...\n",
      "3971    LinPred                       15.0\n",
      "3972    LinPred                       18.0\n",
      "3973    LinPred                       19.0\n",
      "3974    LinPred                       22.0\n",
      "3975    LinPred                       14.0\n",
      "\n",
      "[3976 rows x 2 columns]\n",
      "     Gene_Knock  jaw chondrocyte\n",
      "0       Control             12.0\n",
      "1       Control              8.0\n",
      "2       Control             20.0\n",
      "3       Control             12.0\n",
      "4       Control             12.0\n",
      "...         ...              ...\n",
      "3971    LinPred              0.0\n",
      "3972    LinPred              1.0\n",
      "3973    LinPred              0.0\n",
      "3974    LinPred              2.0\n",
      "3975    LinPred              0.0\n",
      "\n",
      "[3976 rows x 2 columns]\n",
      "     Gene_Knock  hair cell\n",
      "0       Control        3.0\n",
      "1       Control        5.0\n",
      "2       Control        7.0\n",
      "3       Control        3.0\n",
      "4       Control        3.0\n",
      "...         ...        ...\n",
      "3971    LinPred        6.0\n",
      "3972    LinPred        4.0\n",
      "3973    LinPred        2.0\n",
      "3974    LinPred        6.0\n",
      "3975    LinPred        5.0\n",
      "\n",
      "[3976 rows x 2 columns]\n"
     ]
    },
    {
     "name": "stderr",
     "output_type": "stream",
     "text": [
      "127.0.0.1 - - [22/Aug/2022 15:59:02] \"POST /_dash-update-component HTTP/1.1\" 200 -\n",
      "/var/folders/cb/y_45syrn4kd26w8rrdgvk_3r0000gn/T/ipykernel_53661/627631000.py:24: PerformanceWarning:\n",
      "\n",
      "DataFrame is highly fragmented.  This is usually the result of calling `frame.insert` many times, which has poor performance.  Consider joining all columns at once using pd.concat(axis=1) instead.  To get a de-fragmented frame, use `newframe = frame.copy()`\n",
      "\n",
      "127.0.0.1 - - [22/Aug/2022 15:59:02] \"POST /_dash-update-component HTTP/1.1\" 200 -\n"
     ]
    },
    {
     "name": "stdout",
     "output_type": "stream",
     "text": [
      "Exception on /_dash-update-component [POST]\n",
      "Traceback (most recent call last):\n",
      "  File \"/opt/miniconda3/lib/python3.9/site-packages/flask/app.py\", line 2073, in wsgi_app\n",
      "    response = self.full_dispatch_request()\n",
      "  File \"/opt/miniconda3/lib/python3.9/site-packages/flask/app.py\", line 1518, in full_dispatch_request\n",
      "    rv = self.handle_user_exception(e)\n",
      "  File \"/opt/miniconda3/lib/python3.9/site-packages/flask/app.py\", line 1516, in full_dispatch_request\n",
      "    rv = self.dispatch_request()\n",
      "  File \"/opt/miniconda3/lib/python3.9/site-packages/flask/app.py\", line 1502, in dispatch_request\n",
      "    return self.ensure_sync(self.view_functions[rule.endpoint])(**req.view_args)\n",
      "  File \"/opt/miniconda3/lib/python3.9/site-packages/dash/dash.py\", line 1336, in dispatch\n",
      "    response.set_data(func(*args, outputs_list=outputs_list))\n",
      "  File \"/opt/miniconda3/lib/python3.9/site-packages/dash/_callback.py\", line 151, in add_context\n",
      "    output_value = func(*func_args, **func_kwargs)  # %% callback invoked %%\n",
      "  File \"/var/folders/cb/y_45syrn4kd26w8rrdgvk_3r0000gn/T/ipykernel_53661/627631000.py\", line 289, in make_heatmap\n",
      "    Max_Val = max(fold_change_df_T.max(numeric_only=True).tolist())\n",
      "ValueError: max() arg is an empty sequence\n"
     ]
    },
    {
     "name": "stderr",
     "output_type": "stream",
     "text": [
      "127.0.0.1 - - [22/Aug/2022 15:59:03] \"\u001b[35m\u001b[1mPOST /_dash-update-component HTTP/1.1\u001b[0m\" 500 -\n",
      "127.0.0.1 - - [22/Aug/2022 15:59:04] \"POST /_dash-update-component HTTP/1.1\" 200 -\n"
     ]
    },
    {
     "name": "stdout",
     "output_type": "stream",
     "text": [
      "Exception on /_dash-update-component [POST]\n",
      "Traceback (most recent call last):\n",
      "  File \"/opt/miniconda3/lib/python3.9/site-packages/flask/app.py\", line 2073, in wsgi_app\n",
      "    response = self.full_dispatch_request()\n",
      "  File \"/opt/miniconda3/lib/python3.9/site-packages/flask/app.py\", line 1518, in full_dispatch_request\n",
      "    rv = self.handle_user_exception(e)\n",
      "  File \"/opt/miniconda3/lib/python3.9/site-packages/flask/app.py\", line 1516, in full_dispatch_request\n",
      "    rv = self.dispatch_request()\n",
      "  File \"/opt/miniconda3/lib/python3.9/site-packages/flask/app.py\", line 1502, in dispatch_request\n",
      "    return self.ensure_sync(self.view_functions[rule.endpoint])(**req.view_args)\n",
      "  File \"/opt/miniconda3/lib/python3.9/site-packages/dash/dash.py\", line 1336, in dispatch\n",
      "    response.set_data(func(*args, outputs_list=outputs_list))\n",
      "  File \"/opt/miniconda3/lib/python3.9/site-packages/dash/_callback.py\", line 151, in add_context\n",
      "    output_value = func(*func_args, **func_kwargs)  # %% callback invoked %%\n",
      "  File \"/var/folders/cb/y_45syrn4kd26w8rrdgvk_3r0000gn/T/ipykernel_53661/627631000.py\", line 289, in make_heatmap\n",
      "    Max_Val = max(fold_change_df_T.max(numeric_only=True).tolist())\n",
      "ValueError: max() arg is an empty sequence\n"
     ]
    },
    {
     "name": "stderr",
     "output_type": "stream",
     "text": [
      "127.0.0.1 - - [22/Aug/2022 15:59:07] \"\u001b[35m\u001b[1mPOST /_dash-update-component HTTP/1.1\u001b[0m\" 500 -\n",
      "127.0.0.1 - - [22/Aug/2022 15:59:08] \"POST /_dash-update-component HTTP/1.1\" 200 -\n",
      "127.0.0.1 - - [22/Aug/2022 15:59:10] \"POST /_dash-update-component HTTP/1.1\" 200 -\n",
      "127.0.0.1 - - [22/Aug/2022 15:59:10] \"POST /_dash-update-component HTTP/1.1\" 200 -\n"
     ]
    },
    {
     "name": "stdout",
     "output_type": "stream",
     "text": [
      "Exception on /_dash-update-component [POST]\n",
      "Traceback (most recent call last):\n",
      "  File \"/opt/miniconda3/lib/python3.9/site-packages/flask/app.py\", line 2073, in wsgi_app\n",
      "    response = self.full_dispatch_request()\n",
      "  File \"/opt/miniconda3/lib/python3.9/site-packages/flask/app.py\", line 1518, in full_dispatch_request\n",
      "    rv = self.handle_user_exception(e)\n",
      "  File \"/opt/miniconda3/lib/python3.9/site-packages/flask/app.py\", line 1516, in full_dispatch_request\n",
      "    rv = self.dispatch_request()\n",
      "  File \"/opt/miniconda3/lib/python3.9/site-packages/flask/app.py\", line 1502, in dispatch_request\n",
      "    return self.ensure_sync(self.view_functions[rule.endpoint])(**req.view_args)\n",
      "  File \"/opt/miniconda3/lib/python3.9/site-packages/dash/dash.py\", line 1336, in dispatch\n",
      "    response.set_data(func(*args, outputs_list=outputs_list))\n",
      "  File \"/opt/miniconda3/lib/python3.9/site-packages/dash/_callback.py\", line 151, in add_context\n",
      "    output_value = func(*func_args, **func_kwargs)  # %% callback invoked %%\n",
      "  File \"/var/folders/cb/y_45syrn4kd26w8rrdgvk_3r0000gn/T/ipykernel_53661/627631000.py\", line 289, in make_heatmap\n",
      "    Max_Val = max(fold_change_df_T.max(numeric_only=True).tolist())\n",
      "ValueError: max() arg is an empty sequence\n"
     ]
    },
    {
     "name": "stderr",
     "output_type": "stream",
     "text": [
      "127.0.0.1 - - [22/Aug/2022 15:59:11] \"\u001b[35m\u001b[1mPOST /_dash-update-component HTTP/1.1\u001b[0m\" 500 -\n",
      "127.0.0.1 - - [22/Aug/2022 15:59:13] \"POST /_dash-update-component HTTP/1.1\" 200 -\n",
      "127.0.0.1 - - [22/Aug/2022 15:59:15] \"POST /_dash-update-component HTTP/1.1\" 200 -\n"
     ]
    },
    {
     "name": "stdout",
     "output_type": "stream",
     "text": [
      "     Gene_Knock  basal cell (late)\n",
      "0       Control               35.0\n",
      "1       Control               22.0\n",
      "2       Control               26.0\n",
      "3       Control               23.0\n",
      "4       Control               13.0\n",
      "...         ...                ...\n",
      "3199    LinPred                0.0\n",
      "3200    LinPred                0.0\n",
      "3201    LinPred                0.0\n",
      "3202    LinPred                0.0\n",
      "3203    LinPred                0.0\n",
      "\n",
      "[3204 rows x 2 columns]\n",
      "Exception on /_dash-update-component [POST]\n",
      "Traceback (most recent call last):\n",
      "  File \"/opt/miniconda3/lib/python3.9/site-packages/flask/app.py\", line 2073, in wsgi_app\n",
      "    response = self.full_dispatch_request()\n",
      "  File \"/opt/miniconda3/lib/python3.9/site-packages/flask/app.py\", line 1518, in full_dispatch_request\n",
      "    rv = self.handle_user_exception(e)\n",
      "  File \"/opt/miniconda3/lib/python3.9/site-packages/flask/app.py\", line 1516, in full_dispatch_request\n",
      "    rv = self.dispatch_request()\n",
      "  File \"/opt/miniconda3/lib/python3.9/site-packages/flask/app.py\", line 1502, in dispatch_request\n",
      "    return self.ensure_sync(self.view_functions[rule.endpoint])(**req.view_args)\n",
      "  File \"/opt/miniconda3/lib/python3.9/site-packages/dash/dash.py\", line 1336, in dispatch\n",
      "    response.set_data(func(*args, outputs_list=outputs_list))\n",
      "  File \"/opt/miniconda3/lib/python3.9/site-packages/dash/_callback.py\", line 151, in add_context\n",
      "    output_value = func(*func_args, **func_kwargs)  # %% callback invoked %%\n",
      "  File \"/var/folders/cb/y_45syrn4kd26w8rrdgvk_3r0000gn/T/ipykernel_53661/627631000.py\", line 289, in make_heatmap\n",
      "    Max_Val = max(fold_change_df_T.max(numeric_only=True).tolist())\n",
      "ValueError: max() arg is an empty sequence\n"
     ]
    },
    {
     "name": "stderr",
     "output_type": "stream",
     "text": [
      "127.0.0.1 - - [22/Aug/2022 15:59:19] \"\u001b[35m\u001b[1mPOST /_dash-update-component HTTP/1.1\u001b[0m\" 500 -\n",
      "/var/folders/cb/y_45syrn4kd26w8rrdgvk_3r0000gn/T/ipykernel_53661/627631000.py:24: PerformanceWarning:\n",
      "\n",
      "DataFrame is highly fragmented.  This is usually the result of calling `frame.insert` many times, which has poor performance.  Consider joining all columns at once using pd.concat(axis=1) instead.  To get a de-fragmented frame, use `newframe = frame.copy()`\n",
      "\n",
      "127.0.0.1 - - [22/Aug/2022 15:59:21] \"POST /_dash-update-component HTTP/1.1\" 200 -\n",
      "127.0.0.1 - - [22/Aug/2022 15:59:23] \"POST /_dash-update-component HTTP/1.1\" 200 -\n"
     ]
    },
    {
     "name": "stdout",
     "output_type": "stream",
     "text": [
      "     Gene_Knock  jaw chondrocyte\n",
      "0       Control             12.0\n",
      "1       Control              8.0\n",
      "2       Control             20.0\n",
      "3       Control             12.0\n",
      "4       Control             12.0\n",
      "...         ...              ...\n",
      "3199    LinPred              0.0\n",
      "3200    LinPred              0.0\n",
      "3201    LinPred              0.0\n",
      "3202    LinPred              0.0\n",
      "3203    LinPred              0.0\n",
      "\n",
      "[3204 rows x 2 columns]\n"
     ]
    },
    {
     "name": "stderr",
     "output_type": "stream",
     "text": [
      "/var/folders/cb/y_45syrn4kd26w8rrdgvk_3r0000gn/T/ipykernel_53661/627631000.py:24: PerformanceWarning:\n",
      "\n",
      "DataFrame is highly fragmented.  This is usually the result of calling `frame.insert` many times, which has poor performance.  Consider joining all columns at once using pd.concat(axis=1) instead.  To get a de-fragmented frame, use `newframe = frame.copy()`\n",
      "\n",
      "127.0.0.1 - - [22/Aug/2022 15:59:23] \"POST /_dash-update-component HTTP/1.1\" 200 -\n"
     ]
    },
    {
     "name": "stdout",
     "output_type": "stream",
     "text": [
      "     Gene_Knock  liver\n",
      "0       Control   19.0\n",
      "1       Control    5.0\n",
      "2       Control   15.0\n",
      "3       Control    7.0\n",
      "4       Control   10.0\n",
      "...         ...    ...\n",
      "3199    LinPred    3.0\n",
      "3200    LinPred    0.0\n",
      "3201    LinPred    4.0\n",
      "3202    LinPred    2.0\n",
      "3203    LinPred    0.0\n",
      "\n",
      "[3204 rows x 2 columns]\n"
     ]
    },
    {
     "name": "stderr",
     "output_type": "stream",
     "text": [
      "/var/folders/cb/y_45syrn4kd26w8rrdgvk_3r0000gn/T/ipykernel_53661/627631000.py:24: PerformanceWarning:\n",
      "\n",
      "DataFrame is highly fragmented.  This is usually the result of calling `frame.insert` many times, which has poor performance.  Consider joining all columns at once using pd.concat(axis=1) instead.  To get a de-fragmented frame, use `newframe = frame.copy()`\n",
      "\n",
      "127.0.0.1 - - [22/Aug/2022 15:59:24] \"POST /_dash-update-component HTTP/1.1\" 200 -\n"
     ]
    },
    {
     "name": "stdout",
     "output_type": "stream",
     "text": [
      "     Gene_Knock  jaw chondrocyte\n",
      "0       Control             12.0\n",
      "1       Control              8.0\n",
      "2       Control             20.0\n",
      "3       Control             12.0\n",
      "4       Control             12.0\n",
      "...         ...              ...\n",
      "3199    LinPred              0.0\n",
      "3200    LinPred              0.0\n",
      "3201    LinPred              0.0\n",
      "3202    LinPred              0.0\n",
      "3203    LinPred              0.0\n",
      "\n",
      "[3204 rows x 2 columns]\n"
     ]
    },
    {
     "name": "stderr",
     "output_type": "stream",
     "text": [
      "/var/folders/cb/y_45syrn4kd26w8rrdgvk_3r0000gn/T/ipykernel_53661/627631000.py:24: PerformanceWarning:\n",
      "\n",
      "DataFrame is highly fragmented.  This is usually the result of calling `frame.insert` many times, which has poor performance.  Consider joining all columns at once using pd.concat(axis=1) instead.  To get a de-fragmented frame, use `newframe = frame.copy()`\n",
      "\n",
      "127.0.0.1 - - [22/Aug/2022 15:59:25] \"POST /_dash-update-component HTTP/1.1\" 200 -\n"
     ]
    },
    {
     "name": "stdout",
     "output_type": "stream",
     "text": [
      "     Gene_Knock  liver\n",
      "0       Control   19.0\n",
      "1       Control    5.0\n",
      "2       Control   15.0\n",
      "3       Control    7.0\n",
      "4       Control   10.0\n",
      "...         ...    ...\n",
      "3199    LinPred    3.0\n",
      "3200    LinPred    0.0\n",
      "3201    LinPred    4.0\n",
      "3202    LinPred    2.0\n",
      "3203    LinPred    0.0\n",
      "\n",
      "[3204 rows x 2 columns]\n"
     ]
    },
    {
     "name": "stderr",
     "output_type": "stream",
     "text": [
      "/var/folders/cb/y_45syrn4kd26w8rrdgvk_3r0000gn/T/ipykernel_53661/627631000.py:24: PerformanceWarning:\n",
      "\n",
      "DataFrame is highly fragmented.  This is usually the result of calling `frame.insert` many times, which has poor performance.  Consider joining all columns at once using pd.concat(axis=1) instead.  To get a de-fragmented frame, use `newframe = frame.copy()`\n",
      "\n",
      "/var/folders/cb/y_45syrn4kd26w8rrdgvk_3r0000gn/T/ipykernel_53661/627631000.py:24: PerformanceWarning:\n",
      "\n",
      "DataFrame is highly fragmented.  This is usually the result of calling `frame.insert` many times, which has poor performance.  Consider joining all columns at once using pd.concat(axis=1) instead.  To get a de-fragmented frame, use `newframe = frame.copy()`\n",
      "\n",
      "127.0.0.1 - - [22/Aug/2022 15:59:56] \"POST /_dash-update-component HTTP/1.1\" 200 -\n",
      "127.0.0.1 - - [22/Aug/2022 15:59:56] \"POST /_dash-update-component HTTP/1.1\" 200 -\n",
      "127.0.0.1 - - [22/Aug/2022 15:59:56] \"POST /_dash-update-component HTTP/1.1\" 200 -\n"
     ]
    },
    {
     "name": "stdout",
     "output_type": "stream",
     "text": [
      "     Gene_Knock  mature fast muscle 1\n",
      "0       Control                   0.0\n",
      "1       Control                   1.0\n",
      "2       Control                   0.0\n",
      "3       Control                   1.0\n",
      "4       Control                   0.0\n",
      "...         ...                   ...\n",
      "3199    LinPred                   2.0\n",
      "3200    LinPred                   3.0\n",
      "3201    LinPred                   2.0\n",
      "3202    LinPred                   3.0\n",
      "3203    LinPred                   2.0\n",
      "\n",
      "[3204 rows x 2 columns]\n",
      "     Gene_Knock  liver\n",
      "0       Control   19.0\n",
      "1       Control    5.0\n",
      "2       Control   15.0\n",
      "3       Control    7.0\n",
      "4       Control   10.0\n",
      "...         ...    ...\n",
      "3199    LinPred    3.0\n",
      "3200    LinPred    0.0\n",
      "3201    LinPred    4.0\n",
      "3202    LinPred    2.0\n",
      "3203    LinPred    0.0\n",
      "\n",
      "[3204 rows x 2 columns]\n",
      "     Gene_Knock  jaw chondrocyte\n",
      "0       Control             12.0\n",
      "1       Control              8.0\n",
      "2       Control             20.0\n",
      "3       Control             12.0\n",
      "4       Control             12.0\n",
      "...         ...              ...\n",
      "3199    LinPred              0.0\n",
      "3200    LinPred              0.0\n",
      "3201    LinPred              0.0\n",
      "3202    LinPred              0.0\n",
      "3203    LinPred              0.0\n",
      "\n",
      "[3204 rows x 2 columns]\n"
     ]
    },
    {
     "name": "stderr",
     "output_type": "stream",
     "text": [
      "/var/folders/cb/y_45syrn4kd26w8rrdgvk_3r0000gn/T/ipykernel_53661/627631000.py:24: PerformanceWarning:\n",
      "\n",
      "DataFrame is highly fragmented.  This is usually the result of calling `frame.insert` many times, which has poor performance.  Consider joining all columns at once using pd.concat(axis=1) instead.  To get a de-fragmented frame, use `newframe = frame.copy()`\n",
      "\n",
      "127.0.0.1 - - [22/Aug/2022 15:59:57] \"POST /_dash-update-component HTTP/1.1\" 200 -\n"
     ]
    },
    {
     "name": "stdout",
     "output_type": "stream",
     "text": [
      "     Gene_Knock  iridophore\n",
      "0       Control        11.0\n",
      "1       Control        12.0\n",
      "2       Control        15.0\n",
      "3       Control        29.0\n",
      "4       Control        14.0\n",
      "...         ...         ...\n",
      "3199    LinPred         3.0\n",
      "3200    LinPred         2.0\n",
      "3201    LinPred         3.0\n",
      "3202    LinPred         7.0\n",
      "3203    LinPred         3.0\n",
      "\n",
      "[3204 rows x 2 columns]\n"
     ]
    },
    {
     "name": "stderr",
     "output_type": "stream",
     "text": [
      "/var/folders/cb/y_45syrn4kd26w8rrdgvk_3r0000gn/T/ipykernel_53661/627631000.py:24: PerformanceWarning:\n",
      "\n",
      "DataFrame is highly fragmented.  This is usually the result of calling `frame.insert` many times, which has poor performance.  Consider joining all columns at once using pd.concat(axis=1) instead.  To get a de-fragmented frame, use `newframe = frame.copy()`\n",
      "\n",
      "127.0.0.1 - - [22/Aug/2022 16:10:57] \"POST /_dash-update-component HTTP/1.1\" 200 -\n",
      "127.0.0.1 - - [22/Aug/2022 16:10:57] \"POST /_dash-update-component HTTP/1.1\" 200 -\n"
     ]
    },
    {
     "name": "stdout",
     "output_type": "stream",
     "text": [
      "     Gene_Knock  intestine (mid)\n",
      "0       Control             35.0\n",
      "1       Control             21.0\n",
      "2       Control             25.0\n",
      "3       Control             48.0\n",
      "4       Control             18.0\n",
      "...         ...              ...\n",
      "3199    LinPred             10.0\n",
      "3200    LinPred             11.0\n",
      "3201    LinPred              7.0\n",
      "3202    LinPred              0.0\n",
      "3203    LinPred             16.0\n",
      "\n",
      "[3204 rows x 2 columns]\n"
     ]
    },
    {
     "name": "stderr",
     "output_type": "stream",
     "text": [
      "/var/folders/cb/y_45syrn4kd26w8rrdgvk_3r0000gn/T/ipykernel_53661/627631000.py:24: PerformanceWarning:\n",
      "\n",
      "DataFrame is highly fragmented.  This is usually the result of calling `frame.insert` many times, which has poor performance.  Consider joining all columns at once using pd.concat(axis=1) instead.  To get a de-fragmented frame, use `newframe = frame.copy()`\n",
      "\n",
      "127.0.0.1 - - [22/Aug/2022 16:10:59] \"POST /_dash-update-component HTTP/1.1\" 200 -\n",
      "127.0.0.1 - - [22/Aug/2022 16:10:59] \"POST /_dash-update-component HTTP/1.1\" 200 -\n"
     ]
    },
    {
     "name": "stdout",
     "output_type": "stream",
     "text": [
      "     Gene_Knock  chondrocranium\n",
      "0       Control             9.0\n",
      "1       Control            12.0\n",
      "2       Control            12.0\n",
      "3       Control            12.0\n",
      "4       Control            19.0\n",
      "...         ...             ...\n",
      "3199    LinPred             8.0\n",
      "3200    LinPred             7.0\n",
      "3201    LinPred             7.0\n",
      "3202    LinPred            10.0\n",
      "3203    LinPred             9.0\n",
      "\n",
      "[3204 rows x 2 columns]\n",
      "     Gene_Knock  basal cell (late)\n",
      "0       Control               35.0\n",
      "1       Control               22.0\n",
      "2       Control               26.0\n",
      "3       Control               23.0\n",
      "4       Control               13.0\n",
      "...         ...                ...\n",
      "3199    LinPred                0.0\n",
      "3200    LinPred                0.0\n",
      "3201    LinPred                0.0\n",
      "3202    LinPred                0.0\n",
      "3203    LinPred                0.0\n",
      "\n",
      "[3204 rows x 2 columns]\n"
     ]
    },
    {
     "name": "stderr",
     "output_type": "stream",
     "text": [
      "/var/folders/cb/y_45syrn4kd26w8rrdgvk_3r0000gn/T/ipykernel_53661/627631000.py:24: PerformanceWarning:\n",
      "\n",
      "DataFrame is highly fragmented.  This is usually the result of calling `frame.insert` many times, which has poor performance.  Consider joining all columns at once using pd.concat(axis=1) instead.  To get a de-fragmented frame, use `newframe = frame.copy()`\n",
      "\n",
      "127.0.0.1 - - [22/Aug/2022 16:11:03] \"POST /_dash-update-component HTTP/1.1\" 200 -\n"
     ]
    },
    {
     "name": "stdout",
     "output_type": "stream",
     "text": [
      "     Gene_Knock  connective tissue-meninges-dermal FB (early)\n",
      "0       Control                                           0.0\n",
      "1       Control                                           0.0\n",
      "2       Control                                           1.0\n",
      "3       Control                                           0.0\n",
      "4       Control                                           0.0\n",
      "...         ...                                           ...\n",
      "3199    LinPred                                           2.0\n",
      "3200    LinPred                                           2.0\n",
      "3201    LinPred                                           3.0\n",
      "3202    LinPred                                           2.0\n",
      "3203    LinPred                                           3.0\n",
      "\n",
      "[3204 rows x 2 columns]\n"
     ]
    },
    {
     "name": "stderr",
     "output_type": "stream",
     "text": [
      "/var/folders/cb/y_45syrn4kd26w8rrdgvk_3r0000gn/T/ipykernel_53661/627631000.py:24: PerformanceWarning:\n",
      "\n",
      "DataFrame is highly fragmented.  This is usually the result of calling `frame.insert` many times, which has poor performance.  Consider joining all columns at once using pd.concat(axis=1) instead.  To get a de-fragmented frame, use `newframe = frame.copy()`\n",
      "\n",
      "127.0.0.1 - - [22/Aug/2022 16:11:04] \"POST /_dash-update-component HTTP/1.1\" 200 -\n"
     ]
    },
    {
     "name": "stdout",
     "output_type": "stream",
     "text": [
      "     Gene_Knock  intestine (mid)\n",
      "0       Control             35.0\n",
      "1       Control             21.0\n",
      "2       Control             25.0\n",
      "3       Control             48.0\n",
      "4       Control             18.0\n",
      "...         ...              ...\n",
      "3199    LinPred             10.0\n",
      "3200    LinPred             11.0\n",
      "3201    LinPred              7.0\n",
      "3202    LinPred              0.0\n",
      "3203    LinPred             16.0\n",
      "\n",
      "[3204 rows x 2 columns]\n"
     ]
    },
    {
     "name": "stderr",
     "output_type": "stream",
     "text": [
      "/var/folders/cb/y_45syrn4kd26w8rrdgvk_3r0000gn/T/ipykernel_53661/627631000.py:24: PerformanceWarning:\n",
      "\n",
      "DataFrame is highly fragmented.  This is usually the result of calling `frame.insert` many times, which has poor performance.  Consider joining all columns at once using pd.concat(axis=1) instead.  To get a de-fragmented frame, use `newframe = frame.copy()`\n",
      "\n",
      "127.0.0.1 - - [22/Aug/2022 16:11:07] \"POST /_dash-update-component HTTP/1.1\" 200 -\n"
     ]
    },
    {
     "name": "stdout",
     "output_type": "stream",
     "text": [
      "     Gene_Knock  hatching gland 2\n",
      "0       Control              59.0\n",
      "1       Control              93.0\n",
      "2       Control              57.0\n",
      "3       Control              28.0\n",
      "4       Control              65.0\n",
      "...         ...               ...\n",
      "3199    LinPred              17.0\n",
      "3200    LinPred              37.0\n",
      "3201    LinPred              14.0\n",
      "3202    LinPred              28.0\n",
      "3203    LinPred              17.0\n",
      "\n",
      "[3204 rows x 2 columns]\n"
     ]
    },
    {
     "name": "stderr",
     "output_type": "stream",
     "text": [
      "/var/folders/cb/y_45syrn4kd26w8rrdgvk_3r0000gn/T/ipykernel_53661/627631000.py:24: PerformanceWarning:\n",
      "\n",
      "DataFrame is highly fragmented.  This is usually the result of calling `frame.insert` many times, which has poor performance.  Consider joining all columns at once using pd.concat(axis=1) instead.  To get a de-fragmented frame, use `newframe = frame.copy()`\n",
      "\n"
     ]
    },
    {
     "name": "stdout",
     "output_type": "stream",
     "text": [
      "     Gene_Knock  periderm 17\n",
      "0       Control         15.0\n",
      "1       Control         23.0\n",
      "2       Control         24.0\n",
      "3       Control         19.0\n",
      "4       Control         29.0\n",
      "...         ...          ...\n",
      "3199    LinPred          9.0\n",
      "3200    LinPred          2.0\n",
      "3201    LinPred         15.0\n",
      "3202    LinPred         13.0\n",
      "3203    LinPred          4.0\n",
      "\n",
      "[3204 rows x 2 columns]\n",
      "     Gene_Knock  periderm 18\n",
      "0       Control          1.0\n",
      "1       Control         45.0\n",
      "2       Control          0.0\n",
      "3       Control          0.0\n",
      "4       Control         20.0\n",
      "...         ...          ...\n",
      "3199    LinPred          0.0\n",
      "3200    LinPred          0.0\n",
      "3201    LinPred          0.0\n",
      "3202    LinPred          0.0\n",
      "3203    LinPred          0.0\n",
      "\n",
      "[3204 rows x 2 columns]     Gene_Knock  periderm 3\n",
      "0       Control         1.0\n",
      "1       Control         0.0\n",
      "2       Control         2.0\n",
      "3       Control         1.0\n",
      "4       Control         0.0\n",
      "...         ...         ...\n",
      "3199    LinPred         0.0\n",
      "3200    LinPred         0.0\n",
      "3201    LinPred         0.0\n",
      "3202    LinPred         0.0\n",
      "3203    LinPred         0.0\n",
      "\n",
      "[3204 rows x 2 columns]\n",
      "\n"
     ]
    },
    {
     "name": "stderr",
     "output_type": "stream",
     "text": [
      "127.0.0.1 - - [22/Aug/2022 16:11:11] \"POST /_dash-update-component HTTP/1.1\" 200 -\n",
      "127.0.0.1 - - [22/Aug/2022 16:11:12] \"POST /_dash-update-component HTTP/1.1\" 200 -\n",
      "/var/folders/cb/y_45syrn4kd26w8rrdgvk_3r0000gn/T/ipykernel_53661/627631000.py:24: PerformanceWarning:\n",
      "\n",
      "DataFrame is highly fragmented.  This is usually the result of calling `frame.insert` many times, which has poor performance.  Consider joining all columns at once using pd.concat(axis=1) instead.  To get a de-fragmented frame, use `newframe = frame.copy()`\n",
      "\n",
      "127.0.0.1 - - [22/Aug/2022 16:11:12] \"POST /_dash-update-component HTTP/1.1\" 200 -\n"
     ]
    },
    {
     "name": "stdout",
     "output_type": "stream",
     "text": [
      "     Gene_Knock  periderm 18\n",
      "0       Control          1.0\n",
      "1       Control         45.0\n",
      "2       Control          0.0\n",
      "3       Control          0.0\n",
      "4       Control         20.0\n",
      "...         ...          ...\n",
      "3199    LinPred          0.0\n",
      "3200    LinPred          0.0\n",
      "3201    LinPred          0.0\n",
      "3202    LinPred          0.0\n",
      "3203    LinPred          0.0\n",
      "\n",
      "[3204 rows x 2 columns]\n",
      "     Gene_Knock  periderm 17\n",
      "0       Control         15.0\n",
      "1       Control         23.0\n",
      "2       Control         24.0\n",
      "3       Control         19.0\n",
      "4       Control         29.0\n",
      "...         ...          ...\n",
      "3199    LinPred          9.0\n",
      "3200    LinPred          2.0\n",
      "3201    LinPred         15.0\n",
      "3202    LinPred         13.0\n",
      "3203    LinPred          4.0\n",
      "\n",
      "[3204 rows x 2 columns]\n"
     ]
    },
    {
     "name": "stderr",
     "output_type": "stream",
     "text": [
      "127.0.0.1 - - [22/Aug/2022 16:11:12] \"POST /_dash-update-component HTTP/1.1\" 200 -\n",
      "127.0.0.1 - - [22/Aug/2022 16:11:12] \"POST /_dash-update-component HTTP/1.1\" 200 -\n",
      "/var/folders/cb/y_45syrn4kd26w8rrdgvk_3r0000gn/T/ipykernel_53661/627631000.py:24: PerformanceWarning:\n",
      "\n",
      "DataFrame is highly fragmented.  This is usually the result of calling `frame.insert` many times, which has poor performance.  Consider joining all columns at once using pd.concat(axis=1) instead.  To get a de-fragmented frame, use `newframe = frame.copy()`\n",
      "\n",
      "127.0.0.1 - - [22/Aug/2022 16:11:12] \"POST /_dash-update-component HTTP/1.1\" 200 -\n",
      "127.0.0.1 - - [22/Aug/2022 16:11:12] \"POST /_dash-update-component HTTP/1.1\" 200 -\n",
      "127.0.0.1 - - [22/Aug/2022 16:11:12] \"POST /_dash-update-component HTTP/1.1\" 200 -\n"
     ]
    },
    {
     "name": "stdout",
     "output_type": "stream",
     "text": [
      "     Gene_Knock  periderm 18\n",
      "0       Control          1.0\n",
      "1       Control         45.0\n",
      "2       Control          0.0\n",
      "3       Control          0.0\n",
      "4       Control         20.0\n",
      "...         ...          ...\n",
      "3199    LinPred          0.0\n",
      "3200    LinPred          0.0\n",
      "3201    LinPred          0.0\n",
      "3202    LinPred          0.0\n",
      "3203    LinPred          0.0\n",
      "\n",
      "[3204 rows x 2 columns]\n",
      "     Gene_Knock  pharyngeal arch (contains muscle, early cartilage)\n",
      "0       Control                                               71.0 \n",
      "1       Control                                               77.0 \n",
      "2       Control                                               62.0 \n",
      "3       Control                                               89.0 \n",
      "4       Control                                               85.0 \n",
      "...         ...                                                ... \n",
      "3199    LinPred                                               53.0 \n",
      "3200    LinPred                                               55.0 \n",
      "3201    LinPred                                               40.0 \n",
      "3202    LinPred                                               66.0 \n",
      "3203    LinPred                                               42.0 \n",
      "\n",
      "[3204 rows x 2 columns]\n",
      "     Gene_Knock  pharyngeal arch (NC-derived)\n",
      "0       Control                           0.0\n",
      "1       Control                           0.0\n",
      "2       Control                           0.0\n",
      "3       Control                           0.0\n",
      "4       Control                           0.0\n",
      "...         ...                           ...\n",
      "3199    LinPred                           1.0\n",
      "3200    LinPred                           1.0\n",
      "3201    LinPred                           1.0\n",
      "3202    LinPred                           3.0\n",
      "3203    LinPred                           1.0\n",
      "\n",
      "[3204 rows x 2 columns]\n"
     ]
    },
    {
     "name": "stderr",
     "output_type": "stream",
     "text": [
      "/var/folders/cb/y_45syrn4kd26w8rrdgvk_3r0000gn/T/ipykernel_53661/627631000.py:24: PerformanceWarning:\n",
      "\n",
      "DataFrame is highly fragmented.  This is usually the result of calling `frame.insert` many times, which has poor performance.  Consider joining all columns at once using pd.concat(axis=1) instead.  To get a de-fragmented frame, use `newframe = frame.copy()`\n",
      "\n",
      "127.0.0.1 - - [22/Aug/2022 16:12:13] \"POST /_dash-update-component HTTP/1.1\" 200 -\n",
      "127.0.0.1 - - [22/Aug/2022 16:12:13] \"POST /_dash-update-component HTTP/1.1\" 200 -\n"
     ]
    },
    {
     "name": "stdout",
     "output_type": "stream",
     "text": [
      "     Gene_Knock  periderm 17\n",
      "0       Control         15.0\n",
      "1       Control         23.0\n",
      "2       Control         24.0\n",
      "3       Control         19.0\n",
      "4       Control         29.0\n",
      "...         ...          ...\n",
      "3199    LinPred          9.0\n",
      "3200    LinPred          2.0\n",
      "3201    LinPred         15.0\n",
      "3202    LinPred         13.0\n",
      "3203    LinPred          4.0\n",
      "\n",
      "[3204 rows x 2 columns]\n",
      "     Gene_Knock  periderm 18\n",
      "0       Control          1.0\n",
      "1       Control         45.0\n",
      "2       Control          0.0\n",
      "3       Control          0.0\n",
      "4       Control         20.0\n",
      "...         ...          ...\n",
      "3199    LinPred          0.0\n",
      "3200    LinPred          0.0\n",
      "3201    LinPred          0.0\n",
      "3202    LinPred          0.0\n",
      "3203    LinPred          0.0\n",
      "\n",
      "[3204 rows x 2 columns]\n"
     ]
    },
    {
     "name": "stderr",
     "output_type": "stream",
     "text": [
      "/var/folders/cb/y_45syrn4kd26w8rrdgvk_3r0000gn/T/ipykernel_53661/627631000.py:24: PerformanceWarning:\n",
      "\n",
      "DataFrame is highly fragmented.  This is usually the result of calling `frame.insert` many times, which has poor performance.  Consider joining all columns at once using pd.concat(axis=1) instead.  To get a de-fragmented frame, use `newframe = frame.copy()`\n",
      "\n",
      "127.0.0.1 - - [22/Aug/2022 16:12:14] \"POST /_dash-update-component HTTP/1.1\" 200 -\n"
     ]
    },
    {
     "name": "stdout",
     "output_type": "stream",
     "text": [
      "     Gene_Knock  periderm 3\n",
      "0       Control         1.0\n",
      "1       Control         0.0\n",
      "2       Control         2.0\n",
      "3       Control         1.0\n",
      "4       Control         0.0\n",
      "...         ...         ...\n",
      "3199    LinPred         0.0\n",
      "3200    LinPred         0.0\n",
      "3201    LinPred         0.0\n",
      "3202    LinPred         0.0\n",
      "3203    LinPred         0.0\n",
      "\n",
      "[3204 rows x 2 columns]\n"
     ]
    },
    {
     "name": "stderr",
     "output_type": "stream",
     "text": [
      "/var/folders/cb/y_45syrn4kd26w8rrdgvk_3r0000gn/T/ipykernel_53661/627631000.py:24: PerformanceWarning:\n",
      "\n",
      "DataFrame is highly fragmented.  This is usually the result of calling `frame.insert` many times, which has poor performance.  Consider joining all columns at once using pd.concat(axis=1) instead.  To get a de-fragmented frame, use `newframe = frame.copy()`\n",
      "\n",
      "127.0.0.1 - - [22/Aug/2022 16:12:14] \"POST /_dash-update-component HTTP/1.1\" 200 -\n",
      "127.0.0.1 - - [22/Aug/2022 16:12:14] \"POST /_dash-update-component HTTP/1.1\" 200 -\n"
     ]
    },
    {
     "name": "stdout",
     "output_type": "stream",
     "text": [
      "     Gene_Knock  pharyngeal arch (NC-derived)\n",
      "0       Control                           0.0\n",
      "1       Control                           0.0\n",
      "2       Control                           0.0\n",
      "3       Control                           0.0\n",
      "4       Control                           0.0\n",
      "...         ...                           ...\n",
      "3199    LinPred                           1.0\n",
      "3200    LinPred                           1.0\n",
      "3201    LinPred                           1.0\n",
      "3202    LinPred                           3.0\n",
      "3203    LinPred                           1.0\n",
      "\n",
      "[3204 rows x 2 columns]\n",
      "     Gene_Knock  pharyngeal arch (contains muscle, early cartilage)\n",
      "0       Control                                               71.0 \n",
      "1       Control                                               77.0 \n",
      "2       Control                                               62.0 \n",
      "3       Control                                               89.0 \n",
      "4       Control                                               85.0 \n",
      "...         ...                                                ... \n",
      "3199    LinPred                                               53.0 \n",
      "3200    LinPred                                               55.0 \n",
      "3201    LinPred                                               40.0 \n",
      "3202    LinPred                                               66.0 \n",
      "3203    LinPred                                               42.0 \n",
      "\n",
      "[3204 rows x 2 columns]\n",
      "     Gene_Knock  radial glia\n",
      "0       Control          3.0\n",
      "1       Control          6.0\n",
      "2       Control          2.0\n",
      "3       Control         10.0\n",
      "4       Control          9.0\n",
      "...         ...          ...\n",
      "3199    LinPred          0.0\n",
      "3200    LinPred          0.0\n",
      "3201    LinPred          0.0\n",
      "3202    LinPred          0.0\n",
      "3203    LinPred          0.0\n",
      "\n",
      "[3204 rows x 2 columns]\n"
     ]
    },
    {
     "name": "stderr",
     "output_type": "stream",
     "text": [
      "/var/folders/cb/y_45syrn4kd26w8rrdgvk_3r0000gn/T/ipykernel_53661/627631000.py:24: PerformanceWarning:\n",
      "\n",
      "DataFrame is highly fragmented.  This is usually the result of calling `frame.insert` many times, which has poor performance.  Consider joining all columns at once using pd.concat(axis=1) instead.  To get a de-fragmented frame, use `newframe = frame.copy()`\n",
      "\n",
      "127.0.0.1 - - [22/Aug/2022 16:12:14] \"POST /_dash-update-component HTTP/1.1\" 200 -\n",
      "/var/folders/cb/y_45syrn4kd26w8rrdgvk_3r0000gn/T/ipykernel_53661/627631000.py:24: PerformanceWarning:\n",
      "\n",
      "DataFrame is highly fragmented.  This is usually the result of calling `frame.insert` many times, which has poor performance.  Consider joining all columns at once using pd.concat(axis=1) instead.  To get a de-fragmented frame, use `newframe = frame.copy()`\n",
      "\n",
      "127.0.0.1 - - [22/Aug/2022 16:12:14] \"POST /_dash-update-component HTTP/1.1\" 200 -\n"
     ]
    },
    {
     "name": "stdout",
     "output_type": "stream",
     "text": [
      "     Gene_Knock  retinal neuron (RGC, photoreceptor, bipolar cell)\n",
      "0       Control                                               15.0\n",
      "1       Control                                               18.0\n",
      "2       Control                                               22.0\n",
      "3       Control                                               36.0\n",
      "4       Control                                               25.0\n",
      "...         ...                                                ...\n",
      "3199    LinPred                                                6.0\n",
      "3200    LinPred                                                9.0\n",
      "3201    LinPred                                                3.0\n",
      "3202    LinPred                                               10.0\n",
      "3203    LinPred                                                9.0\n",
      "\n",
      "[3204 rows x 2 columns]\n"
     ]
    },
    {
     "name": "stderr",
     "output_type": "stream",
     "text": [
      "/var/folders/cb/y_45syrn4kd26w8rrdgvk_3r0000gn/T/ipykernel_53661/627631000.py:24: PerformanceWarning:\n",
      "\n",
      "DataFrame is highly fragmented.  This is usually the result of calling `frame.insert` many times, which has poor performance.  Consider joining all columns at once using pd.concat(axis=1) instead.  To get a de-fragmented frame, use `newframe = frame.copy()`\n",
      "\n",
      "127.0.0.1 - - [22/Aug/2022 16:12:15] \"POST /_dash-update-component HTTP/1.1\" 200 -\n",
      "127.0.0.1 - - [22/Aug/2022 16:12:15] \"POST /_dash-update-component HTTP/1.1\" 200 -\n"
     ]
    },
    {
     "name": "stdout",
     "output_type": "stream",
     "text": [
      "     Gene_Knock  pharyngeal arch (contains muscle, early cartilage)\n",
      "0       Control                                               71.0 \n",
      "1       Control                                               77.0 \n",
      "2       Control                                               62.0 \n",
      "3       Control                                               89.0 \n",
      "4       Control                                               85.0 \n",
      "...         ...                                                ... \n",
      "3199    LinPred                                               53.0 \n",
      "3200    LinPred                                               55.0 \n",
      "3201    LinPred                                               40.0 \n",
      "3202    LinPred                                               66.0 \n",
      "3203    LinPred                                               42.0 \n",
      "\n",
      "[3204 rows x 2 columns]\n",
      "     Gene_Knock  pharyngeal arch (NC-derived)\n",
      "0       Control                           0.0\n",
      "1       Control                           0.0\n",
      "2       Control                           0.0\n",
      "3       Control                           0.0\n",
      "4       Control                           0.0\n",
      "...         ...                           ...\n",
      "3199    LinPred                           1.0\n",
      "3200    LinPred                           1.0\n",
      "3201    LinPred                           1.0\n",
      "3202    LinPred                           3.0\n",
      "3203    LinPred                           1.0\n",
      "\n",
      "[3204 rows x 2 columns]\n"
     ]
    },
    {
     "name": "stderr",
     "output_type": "stream",
     "text": [
      "/var/folders/cb/y_45syrn4kd26w8rrdgvk_3r0000gn/T/ipykernel_53661/627631000.py:24: PerformanceWarning:\n",
      "\n",
      "DataFrame is highly fragmented.  This is usually the result of calling `frame.insert` many times, which has poor performance.  Consider joining all columns at once using pd.concat(axis=1) instead.  To get a de-fragmented frame, use `newframe = frame.copy()`\n",
      "\n",
      "/var/folders/cb/y_45syrn4kd26w8rrdgvk_3r0000gn/T/ipykernel_53661/627631000.py:24: PerformanceWarning:\n",
      "\n",
      "DataFrame is highly fragmented.  This is usually the result of calling `frame.insert` many times, which has poor performance.  Consider joining all columns at once using pd.concat(axis=1) instead.  To get a de-fragmented frame, use `newframe = frame.copy()`\n",
      "\n",
      "/var/folders/cb/y_45syrn4kd26w8rrdgvk_3r0000gn/T/ipykernel_53661/627631000.py:24: PerformanceWarning:\n",
      "\n",
      "DataFrame is highly fragmented.  This is usually the result of calling `frame.insert` many times, which has poor performance.  Consider joining all columns at once using pd.concat(axis=1) instead.  To get a de-fragmented frame, use `newframe = frame.copy()`\n",
      "\n",
      "127.0.0.1 - - [22/Aug/2022 16:12:16] \"POST /_dash-update-component HTTP/1.1\" 200 -\n",
      "127.0.0.1 - - [22/Aug/2022 16:12:16] \"POST /_dash-update-component HTTP/1.1\" 200 -\n"
     ]
    },
    {
     "name": "stdout",
     "output_type": "stream",
     "text": [
      "     Gene_Knock  periderm 3\n",
      "0       Control         1.0\n",
      "1       Control         0.0\n",
      "2       Control         2.0\n",
      "3       Control         1.0\n",
      "4       Control         0.0\n",
      "...         ...         ...\n",
      "3199    LinPred         0.0\n",
      "3200    LinPred         0.0\n",
      "3201    LinPred         0.0\n",
      "3202    LinPred         0.0\n",
      "3203    LinPred         0.0\n",
      "\n",
      "[3204 rows x 2 columns]\n",
      "     Gene_Knock  periderm 17\n",
      "0       Control         15.0\n",
      "1       Control         23.0\n",
      "2       Control         24.0\n",
      "3       Control         19.0\n",
      "4       Control         29.0\n",
      "...         ...          ...\n",
      "3199    LinPred          9.0\n",
      "3200    LinPred          2.0\n",
      "3201    LinPred         15.0\n",
      "3202    LinPred         13.0\n",
      "3203    LinPred          4.0\n",
      "\n",
      "[3204 rows x 2 columns]\n"
     ]
    },
    {
     "name": "stderr",
     "output_type": "stream",
     "text": [
      "/var/folders/cb/y_45syrn4kd26w8rrdgvk_3r0000gn/T/ipykernel_53661/627631000.py:24: PerformanceWarning:\n",
      "\n",
      "DataFrame is highly fragmented.  This is usually the result of calling `frame.insert` many times, which has poor performance.  Consider joining all columns at once using pd.concat(axis=1) instead.  To get a de-fragmented frame, use `newframe = frame.copy()`\n",
      "\n",
      "127.0.0.1 - - [22/Aug/2022 16:12:16] \"POST /_dash-update-component HTTP/1.1\" 200 -\n",
      "127.0.0.1 - - [22/Aug/2022 16:12:16] \"POST /_dash-update-component HTTP/1.1\" 200 -\n"
     ]
    },
    {
     "name": "stdout",
     "output_type": "stream",
     "text": [
      "     Gene_Knock  periderm 14\n",
      "0       Control        444.0\n",
      "1       Control        417.0\n",
      "2       Control         96.0\n",
      "3       Control         38.0\n",
      "4       Control        486.0\n",
      "...         ...          ...\n",
      "3199    LinPred         52.0\n",
      "3200    LinPred          0.0\n",
      "3201    LinPred          0.0\n",
      "3202    LinPred          0.0\n",
      "3203    LinPred          0.0\n",
      "\n",
      "[3204 rows x 2 columns]\n",
      "     Gene_Knock  pancreas (exocrine)\n",
      "0       Control                  3.0\n",
      "1       Control                  2.0\n",
      "2       Control                  4.0\n",
      "3       Control                  1.0\n",
      "4       Control                  3.0\n",
      "...         ...                  ...\n",
      "3199    LinPred                  8.0\n",
      "3200    LinPred                  9.0\n",
      "3201    LinPred                  8.0\n",
      "3202    LinPred                  8.0\n",
      "3203    LinPred                  7.0\n",
      "\n",
      "[3204 rows x 2 columns]\n"
     ]
    },
    {
     "name": "stderr",
     "output_type": "stream",
     "text": [
      "/var/folders/cb/y_45syrn4kd26w8rrdgvk_3r0000gn/T/ipykernel_53661/627631000.py:24: PerformanceWarning:\n",
      "\n",
      "DataFrame is highly fragmented.  This is usually the result of calling `frame.insert` many times, which has poor performance.  Consider joining all columns at once using pd.concat(axis=1) instead.  To get a de-fragmented frame, use `newframe = frame.copy()`\n",
      "\n",
      "127.0.0.1 - - [22/Aug/2022 16:12:17] \"POST /_dash-update-component HTTP/1.1\" 200 -\n"
     ]
    },
    {
     "name": "stdout",
     "output_type": "stream",
     "text": [
      "     Gene_Knock  mature fast muscle 1\n",
      "0       Control                   0.0\n",
      "1       Control                   1.0\n",
      "2       Control                   0.0\n",
      "3       Control                   1.0\n",
      "4       Control                   0.0\n",
      "...         ...                   ...\n",
      "3199    LinPred                   2.0\n",
      "3200    LinPred                   3.0\n",
      "3201    LinPred                   2.0\n",
      "3202    LinPred                   3.0\n",
      "3203    LinPred                   2.0\n",
      "\n",
      "[3204 rows x 2 columns]\n"
     ]
    },
    {
     "name": "stderr",
     "output_type": "stream",
     "text": [
      "/var/folders/cb/y_45syrn4kd26w8rrdgvk_3r0000gn/T/ipykernel_53661/627631000.py:24: PerformanceWarning:\n",
      "\n",
      "DataFrame is highly fragmented.  This is usually the result of calling `frame.insert` many times, which has poor performance.  Consider joining all columns at once using pd.concat(axis=1) instead.  To get a de-fragmented frame, use `newframe = frame.copy()`\n",
      "\n",
      "127.0.0.1 - - [22/Aug/2022 16:12:18] \"POST /_dash-update-component HTTP/1.1\" 200 -\n",
      "127.0.0.1 - - [22/Aug/2022 16:12:20] \"POST /_dash-update-component HTTP/1.1\" 200 -\n",
      "127.0.0.1 - - [22/Aug/2022 16:12:20] \"POST /_dash-update-component HTTP/1.1\" 200 -\n",
      "127.0.0.1 - - [22/Aug/2022 16:12:20] \"POST /_dash-update-component HTTP/1.1\" 200 -\n"
     ]
    },
    {
     "name": "stdout",
     "output_type": "stream",
     "text": [
      "     Gene_Knock  mesodermal progenitor cells (contains PSM)\n",
      "0       Control                                         0.0\n",
      "1       Control                                         0.0\n",
      "2       Control                                         0.0\n",
      "3       Control                                         0.0\n",
      "4       Control                                         0.0\n",
      "...         ...                                         ...\n",
      "3199    LinPred                                         0.0\n",
      "3200    LinPred                                         0.0\n",
      "3201    LinPred                                         1.0\n",
      "3202    LinPred                                         0.0\n",
      "3203    LinPred                                         0.0\n",
      "\n",
      "[3204 rows x 2 columns]\n",
      "     Gene_Knock  neuron (+ spinal cord)\n",
      "0       Control                    10.0\n",
      "1       Control                     7.0\n",
      "2       Control                    15.0\n",
      "3       Control                     3.0\n",
      "4       Control                     7.0\n",
      "...         ...                     ...\n",
      "3199    LinPred                     0.0\n",
      "3200    LinPred                     6.0\n",
      "3201    LinPred                     6.0\n",
      "3202    LinPred                     0.0\n",
      "3203    LinPred                     5.0\n",
      "\n",
      "[3204 rows x 2 columns]\n",
      "     Gene_Knock  osteoblast\n",
      "0       Control         4.0\n",
      "1       Control         4.0\n",
      "2       Control         4.0\n",
      "3       Control         9.0\n",
      "4       Control         2.0\n",
      "...         ...         ...\n",
      "3199    LinPred         0.0\n",
      "3200    LinPred         0.0\n",
      "3201    LinPred         0.0\n",
      "3202    LinPred         0.0\n",
      "3203    LinPred         0.0\n",
      "\n",
      "[3204 rows x 2 columns]\n"
     ]
    },
    {
     "name": "stderr",
     "output_type": "stream",
     "text": [
      "/var/folders/cb/y_45syrn4kd26w8rrdgvk_3r0000gn/T/ipykernel_53661/627631000.py:24: PerformanceWarning:\n",
      "\n",
      "DataFrame is highly fragmented.  This is usually the result of calling `frame.insert` many times, which has poor performance.  Consider joining all columns at once using pd.concat(axis=1) instead.  To get a de-fragmented frame, use `newframe = frame.copy()`\n",
      "\n",
      "127.0.0.1 - - [22/Aug/2022 16:12:25] \"POST /_dash-update-component HTTP/1.1\" 200 -\n"
     ]
    },
    {
     "name": "stdout",
     "output_type": "stream",
     "text": [
      "     Gene_Knock  head mesenchyme (maybe ventral, hand2+)\n",
      "0       Control                                     73.0\n",
      "1       Control                                     75.0\n",
      "2       Control                                     53.0\n",
      "3       Control                                    101.0\n",
      "4       Control                                    101.0\n",
      "...         ...                                      ...\n",
      "3199    LinPred                                     73.0\n",
      "3200    LinPred                                    135.0\n",
      "3201    LinPred                                    158.0\n",
      "3202    LinPred                                    125.0\n",
      "3203    LinPred                                    126.0\n",
      "\n",
      "[3204 rows x 2 columns]\n"
     ]
    },
    {
     "name": "stderr",
     "output_type": "stream",
     "text": [
      "/var/folders/cb/y_45syrn4kd26w8rrdgvk_3r0000gn/T/ipykernel_53661/627631000.py:24: PerformanceWarning:\n",
      "\n",
      "DataFrame is highly fragmented.  This is usually the result of calling `frame.insert` many times, which has poor performance.  Consider joining all columns at once using pd.concat(axis=1) instead.  To get a de-fragmented frame, use `newframe = frame.copy()`\n",
      "\n",
      "127.0.0.1 - - [22/Aug/2022 16:12:46] \"POST /_dash-update-component HTTP/1.1\" 200 -\n"
     ]
    },
    {
     "name": "stdout",
     "output_type": "stream",
     "text": [
      "     Gene_Knock  pharyngeal arch (NC-derived)\n",
      "0       Control                           0.0\n",
      "1       Control                           0.0\n",
      "2       Control                           0.0\n",
      "3       Control                           0.0\n",
      "4       Control                           0.0\n",
      "...         ...                           ...\n",
      "3199    LinPred                           1.0\n",
      "3200    LinPred                           1.0\n",
      "3201    LinPred                           1.0\n",
      "3202    LinPred                           3.0\n",
      "3203    LinPred                           1.0\n",
      "\n",
      "[3204 rows x 2 columns]\n"
     ]
    },
    {
     "name": "stderr",
     "output_type": "stream",
     "text": [
      "/var/folders/cb/y_45syrn4kd26w8rrdgvk_3r0000gn/T/ipykernel_53661/627631000.py:24: PerformanceWarning:\n",
      "\n",
      "DataFrame is highly fragmented.  This is usually the result of calling `frame.insert` many times, which has poor performance.  Consider joining all columns at once using pd.concat(axis=1) instead.  To get a de-fragmented frame, use `newframe = frame.copy()`\n",
      "\n",
      "127.0.0.1 - - [22/Aug/2022 16:12:47] \"POST /_dash-update-component HTTP/1.1\" 200 -\n",
      "/var/folders/cb/y_45syrn4kd26w8rrdgvk_3r0000gn/T/ipykernel_53661/627631000.py:24: PerformanceWarning:\n",
      "\n",
      "DataFrame is highly fragmented.  This is usually the result of calling `frame.insert` many times, which has poor performance.  Consider joining all columns at once using pd.concat(axis=1) instead.  To get a de-fragmented frame, use `newframe = frame.copy()`\n",
      "\n"
     ]
    },
    {
     "name": "stdout",
     "output_type": "stream",
     "text": [
      "     Gene_Knock  osteoblast\n",
      "0       Control         4.0\n",
      "1       Control         4.0\n",
      "2       Control         4.0\n",
      "3       Control         9.0\n",
      "4       Control         2.0\n",
      "...         ...         ...\n",
      "3199    LinPred         0.0\n",
      "3200    LinPred         0.0\n",
      "3201    LinPred         0.0\n",
      "3202    LinPred         0.0\n",
      "3203    LinPred         0.0\n",
      "\n",
      "[3204 rows x 2 columns]\n"
     ]
    },
    {
     "name": "stderr",
     "output_type": "stream",
     "text": [
      "127.0.0.1 - - [22/Aug/2022 16:12:47] \"POST /_dash-update-component HTTP/1.1\" 200 -\n",
      "127.0.0.1 - - [22/Aug/2022 16:12:47] \"POST /_dash-update-component HTTP/1.1\" 200 -\n"
     ]
    },
    {
     "name": "stdout",
     "output_type": "stream",
     "text": [
      "     Gene_Knock  periderm 11\n",
      "0       Control         83.0\n",
      "1       Control         60.0\n",
      "2       Control        127.0\n",
      "3       Control         73.0\n",
      "4       Control         49.0\n",
      "...         ...          ...\n",
      "3199    LinPred         65.0\n",
      "3200    LinPred         50.0\n",
      "3201    LinPred         19.0\n",
      "3202    LinPred         63.0\n",
      "3203    LinPred         47.0\n",
      "\n",
      "[3204 rows x 2 columns]\n",
      "     Gene_Knock  periderm 12\n",
      "0       Control          1.0\n",
      "1       Control         18.0\n",
      "2       Control          0.0\n",
      "3       Control          1.0\n",
      "4       Control         15.0\n",
      "...         ...          ...\n",
      "3199    LinPred          0.0\n",
      "3200    LinPred          4.0\n",
      "3201    LinPred          0.0\n",
      "3202    LinPred          0.0\n",
      "3203    LinPred          1.0\n",
      "\n",
      "[3204 rows x 2 columns]\n"
     ]
    },
    {
     "name": "stderr",
     "output_type": "stream",
     "text": [
      "/var/folders/cb/y_45syrn4kd26w8rrdgvk_3r0000gn/T/ipykernel_53661/627631000.py:24: PerformanceWarning:\n",
      "\n",
      "DataFrame is highly fragmented.  This is usually the result of calling `frame.insert` many times, which has poor performance.  Consider joining all columns at once using pd.concat(axis=1) instead.  To get a de-fragmented frame, use `newframe = frame.copy()`\n",
      "\n",
      "127.0.0.1 - - [22/Aug/2022 16:12:48] \"POST /_dash-update-component HTTP/1.1\" 200 -\n"
     ]
    },
    {
     "name": "stdout",
     "output_type": "stream",
     "text": [
      "     Gene_Knock  pancreas (exocrine)\n",
      "0       Control                  3.0\n",
      "1       Control                  2.0\n",
      "2       Control                  4.0\n",
      "3       Control                  1.0\n",
      "4       Control                  3.0\n",
      "...         ...                  ...\n",
      "3199    LinPred                  8.0\n",
      "3200    LinPred                  9.0\n",
      "3201    LinPred                  8.0\n",
      "3202    LinPred                  8.0\n",
      "3203    LinPred                  7.0\n",
      "\n",
      "[3204 rows x 2 columns]\n"
     ]
    },
    {
     "name": "stderr",
     "output_type": "stream",
     "text": [
      "127.0.0.1 - - [22/Aug/2022 16:16:35] \"GET / HTTP/1.1\" 200 -\n",
      "127.0.0.1 - - [22/Aug/2022 16:16:35] \"GET /_dash-layout HTTP/1.1\" 200 -\n",
      "127.0.0.1 - - [22/Aug/2022 16:16:35] \"GET /_dash-dependencies HTTP/1.1\" 200 -\n",
      "127.0.0.1 - - [22/Aug/2022 16:16:35] \"GET /_dash-component-suites/dash/dcc/async-dropdown.js HTTP/1.1\" 200 -\n",
      "127.0.0.1 - - [22/Aug/2022 16:16:35] \"GET /_dash-component-suites/dash/dcc/async-slider.js HTTP/1.1\" 200 -\n",
      "127.0.0.1 - - [22/Aug/2022 16:16:35] \"GET /_dash-component-suites/dash/dcc/async-graph.js HTTP/1.1\" 200 -\n"
     ]
    },
    {
     "name": "stdout",
     "output_type": "stream",
     "text": [
      "Exception on /_dash-update-component [POST]\n",
      "Traceback (most recent call last):\n",
      "  File \"/opt/miniconda3/lib/python3.9/site-packages/flask/app.py\", line 2073, in wsgi_app\n",
      "    response = self.full_dispatch_request()\n",
      "  File \"/opt/miniconda3/lib/python3.9/site-packages/flask/app.py\", line 1518, in full_dispatch_request\n",
      "    rv = self.handle_user_exception(e)\n",
      "  File \"/opt/miniconda3/lib/python3.9/site-packages/flask/app.py\", line 1516, in full_dispatch_request\n",
      "    rv = self.dispatch_request()\n",
      "  File \"/opt/miniconda3/lib/python3.9/site-packages/flask/app.py\", line 1502, in dispatch_request\n",
      "    return self.ensure_sync(self.view_functions[rule.endpoint])(**req.view_args)\n",
      "  File \"/opt/miniconda3/lib/python3.9/site-packages/dash/dash.py\", line 1336, in dispatch\n",
      "    response.set_data(func(*args, outputs_list=outputs_list))\n",
      "  File \"/opt/miniconda3/lib/python3.9/site-packages/dash/_callback.py\", line 151, in add_context\n",
      "    output_value = func(*func_args, **func_kwargs)  # %% callback invoked %%\n",
      "  File \"/var/folders/cb/y_45syrn4kd26w8rrdgvk_3r0000gn/T/ipykernel_53661/627631000.py\", line 129, in gene1_dropdown_avail\n",
      "    return [{'label': i, 'value': i} for i in dict_gene_string_list[hour]]\n",
      "KeyError: None\n"
     ]
    },
    {
     "name": "stderr",
     "output_type": "stream",
     "text": [
      "127.0.0.1 - - [22/Aug/2022 16:16:35] \"GET /_dash-component-suites/dash/dcc/async-plotlyjs.js HTTP/1.1\" 200 -\n"
     ]
    },
    {
     "name": "stdout",
     "output_type": "stream",
     "text": [
      "Exception on /_dash-update-component [POST]\n",
      "Traceback (most recent call last):\n",
      "  File \"/opt/miniconda3/lib/python3.9/site-packages/flask/app.py\", line 2073, in wsgi_app\n",
      "    response = self.full_dispatch_request()\n",
      "  File \"/opt/miniconda3/lib/python3.9/site-packages/flask/app.py\", line 1518, in full_dispatch_request\n",
      "    rv = self.handle_user_exception(e)\n",
      "  File \"/opt/miniconda3/lib/python3.9/site-packages/flask/app.py\", line 1516, in full_dispatch_request\n",
      "    rv = self.dispatch_request()\n",
      "  File \"/opt/miniconda3/lib/python3.9/site-packages/flask/app.py\", line 1502, in dispatch_request\n",
      "    return self.ensure_sync(self.view_functions[rule.endpoint])(**req.view_args)\n",
      "  File \"/opt/miniconda3/lib/python3.9/site-packages/dash/dash.py\", line 1336, in dispatch\n",
      "    response.set_data(func(*args, outputs_list=outputs_list))\n",
      "  File \"/opt/miniconda3/lib/python3.9/site-packages/dash/_callback.py\", line 151, in add_context\n",
      "    output_value = func(*func_args, **func_kwargs)  # %% callback invoked %%\n",
      "  File \"/var/folders/cb/y_45syrn4kd26w8rrdgvk_3r0000gn/T/ipykernel_53661/627631000.py\", line 138, in gene2_dropdown_avail\n",
      "    string_to_show = list(dict_gene_string_list[hour])\n",
      "KeyError: None\n"
     ]
    },
    {
     "name": "stderr",
     "output_type": "stream",
     "text": [
      "127.0.0.1 - - [22/Aug/2022 16:16:35] \"\u001b[35m\u001b[1mPOST /_dash-update-component HTTP/1.1\u001b[0m\" 500 -\n"
     ]
    },
    {
     "name": "stdout",
     "output_type": "stream",
     "text": [
      "Exception on /_dash-update-component [POST]\n",
      "Traceback (most recent call last):\n",
      "  File \"/opt/miniconda3/lib/python3.9/site-packages/flask/app.py\", line 2073, in wsgi_app\n",
      "    response = self.full_dispatch_request()\n",
      "  File \"/opt/miniconda3/lib/python3.9/site-packages/flask/app.py\", line 1518, in full_dispatch_request\n",
      "    rv = self.handle_user_exception(e)\n",
      "  File \"/opt/miniconda3/lib/python3.9/site-packages/flask/app.py\", line 1516, in full_dispatch_request\n",
      "    rv = self.dispatch_request()\n",
      "  File \"/opt/miniconda3/lib/python3.9/site-packages/flask/app.py\", line 1502, in dispatch_request\n",
      "    return self.ensure_sync(self.view_functions[rule.endpoint])(**req.view_args)\n",
      "  File \"/opt/miniconda3/lib/python3.9/site-packages/dash/dash.py\", line 1336, in dispatch\n",
      "    response.set_data(func(*args, outputs_list=outputs_list))\n",
      "  File \"/opt/miniconda3/lib/python3.9/site-packages/dash/_callback.py\", line 151, in add_context\n",
      "    output_value = func(*func_args, **func_kwargs)  # %% callback invoked %%\n",
      "  File \"/var/folders/cb/y_45syrn4kd26w8rrdgvk_3r0000gn/T/ipykernel_53661/627631000.py\", line 154, in make_heatmap\n",
      "    hour_readable = hour_string_dict[hour]\n",
      "KeyError: None\n"
     ]
    },
    {
     "name": "stderr",
     "output_type": "stream",
     "text": [
      "127.0.0.1 - - [22/Aug/2022 16:16:35] \"\u001b[35m\u001b[1mPOST /_dash-update-component HTTP/1.1\u001b[0m\" 500 -\n",
      "127.0.0.1 - - [22/Aug/2022 16:16:35] \"\u001b[35m\u001b[1mPOST /_dash-update-component HTTP/1.1\u001b[0m\" 500 -\n"
     ]
    },
    {
     "name": "stdout",
     "output_type": "stream",
     "text": [
      "Exception on /_dash-update-component [POST]\n",
      "Traceback (most recent call last):\n",
      "  File \"/opt/miniconda3/lib/python3.9/site-packages/flask/app.py\", line 2073, in wsgi_app\n",
      "    response = self.full_dispatch_request()\n",
      "  File \"/opt/miniconda3/lib/python3.9/site-packages/flask/app.py\", line 1518, in full_dispatch_request\n",
      "    rv = self.handle_user_exception(e)\n",
      "  File \"/opt/miniconda3/lib/python3.9/site-packages/flask/app.py\", line 1516, in full_dispatch_request\n",
      "    rv = self.dispatch_request()\n",
      "  File \"/opt/miniconda3/lib/python3.9/site-packages/flask/app.py\", line 1502, in dispatch_request\n",
      "    return self.ensure_sync(self.view_functions[rule.endpoint])(**req.view_args)\n",
      "  File \"/opt/miniconda3/lib/python3.9/site-packages/dash/dash.py\", line 1336, in dispatch\n",
      "    response.set_data(func(*args, outputs_list=outputs_list))\n",
      "  File \"/opt/miniconda3/lib/python3.9/site-packages/dash/_callback.py\", line 151, in add_context\n",
      "    output_value = func(*func_args, **func_kwargs)  # %% callback invoked %%\n",
      "  File \"/var/folders/cb/y_45syrn4kd26w8rrdgvk_3r0000gn/T/ipykernel_53661/627631000.py\", line 319, in HoverToBoxPlot\n",
      "    genes = hoverdata['points'][0]['x'].split('-')\n",
      "TypeError: 'NoneType' object is not subscriptable\n"
     ]
    },
    {
     "name": "stderr",
     "output_type": "stream",
     "text": [
      "127.0.0.1 - - [22/Aug/2022 16:16:35] \"\u001b[35m\u001b[1mPOST /_dash-update-component HTTP/1.1\u001b[0m\" 500 -\n",
      "127.0.0.1 - - [22/Aug/2022 16:16:41] \"POST /_dash-update-component HTTP/1.1\" 200 -\n"
     ]
    },
    {
     "name": "stdout",
     "output_type": "stream",
     "text": [
      "Exception on /_dash-update-component [POST]\n",
      "Traceback (most recent call last):\n",
      "  File \"/opt/miniconda3/lib/python3.9/site-packages/flask/app.py\", line 2073, in wsgi_app\n",
      "    response = self.full_dispatch_request()\n",
      "  File \"/opt/miniconda3/lib/python3.9/site-packages/flask/app.py\", line 1518, in full_dispatch_request\n",
      "    rv = self.handle_user_exception(e)\n",
      "  File \"/opt/miniconda3/lib/python3.9/site-packages/flask/app.py\", line 1516, in full_dispatch_request\n",
      "    rv = self.dispatch_request()\n",
      "  File \"/opt/miniconda3/lib/python3.9/site-packages/flask/app.py\", line 1502, in dispatch_request\n",
      "    return self.ensure_sync(self.view_functions[rule.endpoint])(**req.view_args)\n",
      "  File \"/opt/miniconda3/lib/python3.9/site-packages/dash/dash.py\", line 1336, in dispatch\n",
      "    response.set_data(func(*args, outputs_list=outputs_list))\n",
      "  File \"/opt/miniconda3/lib/python3.9/site-packages/dash/_callback.py\", line 151, in add_context\n",
      "    output_value = func(*func_args, **func_kwargs)  # %% callback invoked %%\n",
      "  File \"/var/folders/cb/y_45syrn4kd26w8rrdgvk_3r0000gn/T/ipykernel_53661/627631000.py\", line 139, in gene2_dropdown_avail\n",
      "    string_to_show.remove(gene1)\n",
      "ValueError: list.remove(x): x not in list\n"
     ]
    },
    {
     "name": "stderr",
     "output_type": "stream",
     "text": [
      "127.0.0.1 - - [22/Aug/2022 16:16:41] \"\u001b[35m\u001b[1mPOST /_dash-update-component HTTP/1.1\u001b[0m\" 500 -\n"
     ]
    },
    {
     "name": "stdout",
     "output_type": "stream",
     "text": [
      "Exception on /_dash-update-component [POST]\n",
      "Traceback (most recent call last):\n",
      "  File \"/opt/miniconda3/lib/python3.9/site-packages/flask/app.py\", line 2073, in wsgi_app\n",
      "    response = self.full_dispatch_request()\n",
      "  File \"/opt/miniconda3/lib/python3.9/site-packages/flask/app.py\", line 1518, in full_dispatch_request\n",
      "    rv = self.handle_user_exception(e)\n",
      "  File \"/opt/miniconda3/lib/python3.9/site-packages/flask/app.py\", line 1516, in full_dispatch_request\n",
      "    rv = self.dispatch_request()\n",
      "  File \"/opt/miniconda3/lib/python3.9/site-packages/flask/app.py\", line 1502, in dispatch_request\n",
      "    return self.ensure_sync(self.view_functions[rule.endpoint])(**req.view_args)\n",
      "  File \"/opt/miniconda3/lib/python3.9/site-packages/dash/dash.py\", line 1336, in dispatch\n",
      "    response.set_data(func(*args, outputs_list=outputs_list))\n",
      "  File \"/opt/miniconda3/lib/python3.9/site-packages/dash/_callback.py\", line 151, in add_context\n",
      "    output_value = func(*func_args, **func_kwargs)  # %% callback invoked %%\n",
      "  File \"/var/folders/cb/y_45syrn4kd26w8rrdgvk_3r0000gn/T/ipykernel_53661/627631000.py\", line 181, in make_heatmap\n",
      "    for gene2 in gene2_muti:\n",
      "TypeError: 'NoneType' object is not iterable\n"
     ]
    },
    {
     "name": "stderr",
     "output_type": "stream",
     "text": [
      "127.0.0.1 - - [22/Aug/2022 16:16:41] \"\u001b[35m\u001b[1mPOST /_dash-update-component HTTP/1.1\u001b[0m\" 500 -\n"
     ]
    },
    {
     "name": "stdout",
     "output_type": "stream",
     "text": [
      "Exception on /_dash-update-component [POST]\n",
      "Traceback (most recent call last):\n",
      "  File \"/opt/miniconda3/lib/python3.9/site-packages/flask/app.py\", line 2073, in wsgi_app\n",
      "    response = self.full_dispatch_request()\n",
      "  File \"/opt/miniconda3/lib/python3.9/site-packages/flask/app.py\", line 1518, in full_dispatch_request\n",
      "    rv = self.handle_user_exception(e)\n",
      "  File \"/opt/miniconda3/lib/python3.9/site-packages/flask/app.py\", line 1516, in full_dispatch_request\n",
      "    rv = self.dispatch_request()\n",
      "  File \"/opt/miniconda3/lib/python3.9/site-packages/flask/app.py\", line 1502, in dispatch_request\n",
      "    return self.ensure_sync(self.view_functions[rule.endpoint])(**req.view_args)\n",
      "  File \"/opt/miniconda3/lib/python3.9/site-packages/dash/dash.py\", line 1336, in dispatch\n",
      "    response.set_data(func(*args, outputs_list=outputs_list))\n",
      "  File \"/opt/miniconda3/lib/python3.9/site-packages/dash/_callback.py\", line 151, in add_context\n",
      "    output_value = func(*func_args, **func_kwargs)  # %% callback invoked %%\n",
      "  File \"/var/folders/cb/y_45syrn4kd26w8rrdgvk_3r0000gn/T/ipykernel_53661/627631000.py\", line 319, in HoverToBoxPlot\n",
      "    genes = hoverdata['points'][0]['x'].split('-')\n",
      "TypeError: 'NoneType' object is not subscriptable\n"
     ]
    },
    {
     "name": "stderr",
     "output_type": "stream",
     "text": [
      "127.0.0.1 - - [22/Aug/2022 16:16:41] \"\u001b[35m\u001b[1mPOST /_dash-update-component HTTP/1.1\u001b[0m\" 500 -\n"
     ]
    },
    {
     "name": "stdout",
     "output_type": "stream",
     "text": [
      "Exception on /_dash-update-component [POST]\n",
      "Traceback (most recent call last):\n",
      "  File \"/opt/miniconda3/lib/python3.9/site-packages/flask/app.py\", line 2073, in wsgi_app\n",
      "    response = self.full_dispatch_request()\n",
      "  File \"/opt/miniconda3/lib/python3.9/site-packages/flask/app.py\", line 1518, in full_dispatch_request\n",
      "    rv = self.handle_user_exception(e)\n",
      "  File \"/opt/miniconda3/lib/python3.9/site-packages/flask/app.py\", line 1516, in full_dispatch_request\n",
      "    rv = self.dispatch_request()\n",
      "  File \"/opt/miniconda3/lib/python3.9/site-packages/flask/app.py\", line 1502, in dispatch_request\n",
      "    return self.ensure_sync(self.view_functions[rule.endpoint])(**req.view_args)\n",
      "  File \"/opt/miniconda3/lib/python3.9/site-packages/dash/dash.py\", line 1336, in dispatch\n",
      "    response.set_data(func(*args, outputs_list=outputs_list))\n",
      "  File \"/opt/miniconda3/lib/python3.9/site-packages/dash/_callback.py\", line 151, in add_context\n",
      "    output_value = func(*func_args, **func_kwargs)  # %% callback invoked %%\n",
      "  File \"/var/folders/cb/y_45syrn4kd26w8rrdgvk_3r0000gn/T/ipykernel_53661/627631000.py\", line 181, in make_heatmap\n",
      "    for gene2 in gene2_muti:\n",
      "TypeError: 'NoneType' object is not iterable\n"
     ]
    },
    {
     "name": "stderr",
     "output_type": "stream",
     "text": [
      "127.0.0.1 - - [22/Aug/2022 16:16:54] \"\u001b[35m\u001b[1mPOST /_dash-update-component HTTP/1.1\u001b[0m\" 500 -\n"
     ]
    },
    {
     "name": "stdout",
     "output_type": "stream",
     "text": [
      "Exception on /_dash-update-component [POST]\n",
      "Traceback (most recent call last):\n",
      "  File \"/opt/miniconda3/lib/python3.9/site-packages/flask/app.py\", line 2073, in wsgi_app\n",
      "    response = self.full_dispatch_request()\n",
      "  File \"/opt/miniconda3/lib/python3.9/site-packages/flask/app.py\", line 1518, in full_dispatch_request\n",
      "    rv = self.handle_user_exception(e)\n",
      "  File \"/opt/miniconda3/lib/python3.9/site-packages/flask/app.py\", line 1516, in full_dispatch_request\n",
      "    rv = self.dispatch_request()\n",
      "  File \"/opt/miniconda3/lib/python3.9/site-packages/flask/app.py\", line 1502, in dispatch_request\n",
      "    return self.ensure_sync(self.view_functions[rule.endpoint])(**req.view_args)\n",
      "  File \"/opt/miniconda3/lib/python3.9/site-packages/dash/dash.py\", line 1336, in dispatch\n",
      "    response.set_data(func(*args, outputs_list=outputs_list))\n",
      "  File \"/opt/miniconda3/lib/python3.9/site-packages/dash/_callback.py\", line 151, in add_context\n",
      "    output_value = func(*func_args, **func_kwargs)  # %% callback invoked %%\n",
      "  File \"/var/folders/cb/y_45syrn4kd26w8rrdgvk_3r0000gn/T/ipykernel_53661/627631000.py\", line 319, in HoverToBoxPlot\n",
      "    genes = hoverdata['points'][0]['x'].split('-')\n",
      "TypeError: 'NoneType' object is not subscriptable\n"
     ]
    },
    {
     "name": "stderr",
     "output_type": "stream",
     "text": [
      "127.0.0.1 - - [22/Aug/2022 16:16:54] \"\u001b[35m\u001b[1mPOST /_dash-update-component HTTP/1.1\u001b[0m\" 500 -\n"
     ]
    },
    {
     "name": "stdout",
     "output_type": "stream",
     "text": [
      "Exception on /_dash-update-component [POST]\n",
      "Traceback (most recent call last):\n",
      "  File \"/opt/miniconda3/lib/python3.9/site-packages/flask/app.py\", line 2073, in wsgi_app\n",
      "    response = self.full_dispatch_request()\n",
      "  File \"/opt/miniconda3/lib/python3.9/site-packages/flask/app.py\", line 1518, in full_dispatch_request\n",
      "    rv = self.handle_user_exception(e)\n",
      "  File \"/opt/miniconda3/lib/python3.9/site-packages/flask/app.py\", line 1516, in full_dispatch_request\n",
      "    rv = self.dispatch_request()\n",
      "  File \"/opt/miniconda3/lib/python3.9/site-packages/flask/app.py\", line 1502, in dispatch_request\n",
      "    return self.ensure_sync(self.view_functions[rule.endpoint])(**req.view_args)\n",
      "  File \"/opt/miniconda3/lib/python3.9/site-packages/dash/dash.py\", line 1336, in dispatch\n",
      "    response.set_data(func(*args, outputs_list=outputs_list))\n",
      "  File \"/opt/miniconda3/lib/python3.9/site-packages/dash/_callback.py\", line 151, in add_context\n",
      "    output_value = func(*func_args, **func_kwargs)  # %% callback invoked %%\n",
      "  File \"/var/folders/cb/y_45syrn4kd26w8rrdgvk_3r0000gn/T/ipykernel_53661/627631000.py\", line 181, in make_heatmap\n",
      "    for gene2 in gene2_muti:\n",
      "TypeError: 'NoneType' object is not iterable\n"
     ]
    },
    {
     "name": "stderr",
     "output_type": "stream",
     "text": [
      "127.0.0.1 - - [22/Aug/2022 16:16:56] \"\u001b[35m\u001b[1mPOST /_dash-update-component HTTP/1.1\u001b[0m\" 500 -\n"
     ]
    },
    {
     "name": "stdout",
     "output_type": "stream",
     "text": [
      "Exception on /_dash-update-component [POST]\n",
      "Traceback (most recent call last):\n",
      "  File \"/opt/miniconda3/lib/python3.9/site-packages/flask/app.py\", line 2073, in wsgi_app\n",
      "    response = self.full_dispatch_request()\n",
      "  File \"/opt/miniconda3/lib/python3.9/site-packages/flask/app.py\", line 1518, in full_dispatch_request\n",
      "    rv = self.handle_user_exception(e)\n",
      "  File \"/opt/miniconda3/lib/python3.9/site-packages/flask/app.py\", line 1516, in full_dispatch_request\n",
      "    rv = self.dispatch_request()\n",
      "  File \"/opt/miniconda3/lib/python3.9/site-packages/flask/app.py\", line 1502, in dispatch_request\n",
      "    return self.ensure_sync(self.view_functions[rule.endpoint])(**req.view_args)\n",
      "  File \"/opt/miniconda3/lib/python3.9/site-packages/dash/dash.py\", line 1336, in dispatch\n",
      "    response.set_data(func(*args, outputs_list=outputs_list))\n",
      "  File \"/opt/miniconda3/lib/python3.9/site-packages/dash/_callback.py\", line 151, in add_context\n",
      "    output_value = func(*func_args, **func_kwargs)  # %% callback invoked %%\n",
      "  File \"/var/folders/cb/y_45syrn4kd26w8rrdgvk_3r0000gn/T/ipykernel_53661/627631000.py\", line 319, in HoverToBoxPlot\n",
      "    genes = hoverdata['points'][0]['x'].split('-')\n",
      "TypeError: 'NoneType' object is not subscriptable\n"
     ]
    },
    {
     "name": "stderr",
     "output_type": "stream",
     "text": [
      "127.0.0.1 - - [22/Aug/2022 16:16:56] \"\u001b[35m\u001b[1mPOST /_dash-update-component HTTP/1.1\u001b[0m\" 500 -\n",
      "127.0.0.1 - - [22/Aug/2022 16:17:00] \"POST /_dash-update-component HTTP/1.1\" 200 -\n"
     ]
    },
    {
     "name": "stdout",
     "output_type": "stream",
     "text": [
      "Exception on /_dash-update-component [POST]\n",
      "Traceback (most recent call last):\n",
      "  File \"/opt/miniconda3/lib/python3.9/site-packages/flask/app.py\", line 2073, in wsgi_app\n",
      "    response = self.full_dispatch_request()\n",
      "  File \"/opt/miniconda3/lib/python3.9/site-packages/flask/app.py\", line 1518, in full_dispatch_request\n",
      "    rv = self.handle_user_exception(e)\n",
      "  File \"/opt/miniconda3/lib/python3.9/site-packages/flask/app.py\", line 1516, in full_dispatch_request\n",
      "    rv = self.dispatch_request()\n",
      "  File \"/opt/miniconda3/lib/python3.9/site-packages/flask/app.py\", line 1502, in dispatch_request\n",
      "    return self.ensure_sync(self.view_functions[rule.endpoint])(**req.view_args)\n",
      "  File \"/opt/miniconda3/lib/python3.9/site-packages/dash/dash.py\", line 1336, in dispatch\n",
      "    response.set_data(func(*args, outputs_list=outputs_list))\n",
      "  File \"/opt/miniconda3/lib/python3.9/site-packages/dash/_callback.py\", line 151, in add_context\n",
      "    output_value = func(*func_args, **func_kwargs)  # %% callback invoked %%\n",
      "  File \"/var/folders/cb/y_45syrn4kd26w8rrdgvk_3r0000gn/T/ipykernel_53661/627631000.py\", line 181, in make_heatmap\n",
      "    for gene2 in gene2_muti:\n",
      "TypeError: 'NoneType' object is not iterable\n"
     ]
    },
    {
     "name": "stderr",
     "output_type": "stream",
     "text": [
      "127.0.0.1 - - [22/Aug/2022 16:17:00] \"\u001b[35m\u001b[1mPOST /_dash-update-component HTTP/1.1\u001b[0m\" 500 -\n",
      "/var/folders/cb/y_45syrn4kd26w8rrdgvk_3r0000gn/T/ipykernel_53661/627631000.py:24: PerformanceWarning:\n",
      "\n",
      "DataFrame is highly fragmented.  This is usually the result of calling `frame.insert` many times, which has poor performance.  Consider joining all columns at once using pd.concat(axis=1) instead.  To get a de-fragmented frame, use `newframe = frame.copy()`\n",
      "\n",
      "127.0.0.1 - - [22/Aug/2022 16:17:07] \"POST /_dash-update-component HTTP/1.1\" 200 -\n"
     ]
    },
    {
     "name": "stdout",
     "output_type": "stream",
     "text": [
      "Exception on /_dash-update-component [POST]\n",
      "Traceback (most recent call last):\n",
      "  File \"/opt/miniconda3/lib/python3.9/site-packages/flask/app.py\", line 2073, in wsgi_app\n",
      "    response = self.full_dispatch_request()\n",
      "  File \"/opt/miniconda3/lib/python3.9/site-packages/flask/app.py\", line 1518, in full_dispatch_request\n",
      "    rv = self.handle_user_exception(e)\n",
      "  File \"/opt/miniconda3/lib/python3.9/site-packages/flask/app.py\", line 1516, in full_dispatch_request\n",
      "    rv = self.dispatch_request()\n",
      "  File \"/opt/miniconda3/lib/python3.9/site-packages/flask/app.py\", line 1502, in dispatch_request\n",
      "    return self.ensure_sync(self.view_functions[rule.endpoint])(**req.view_args)\n",
      "  File \"/opt/miniconda3/lib/python3.9/site-packages/dash/dash.py\", line 1336, in dispatch\n",
      "    response.set_data(func(*args, outputs_list=outputs_list))\n",
      "  File \"/opt/miniconda3/lib/python3.9/site-packages/dash/_callback.py\", line 151, in add_context\n",
      "    output_value = func(*func_args, **func_kwargs)  # %% callback invoked %%\n",
      "  File \"/var/folders/cb/y_45syrn4kd26w8rrdgvk_3r0000gn/T/ipykernel_53661/627631000.py\", line 319, in HoverToBoxPlot\n",
      "    genes = hoverdata['points'][0]['x'].split('-')\n",
      "TypeError: 'NoneType' object is not subscriptable\n"
     ]
    },
    {
     "name": "stderr",
     "output_type": "stream",
     "text": [
      "127.0.0.1 - - [22/Aug/2022 16:17:10] \"\u001b[35m\u001b[1mPOST /_dash-update-component HTTP/1.1\u001b[0m\" 500 -\n"
     ]
    },
    {
     "name": "stdout",
     "output_type": "stream",
     "text": [
      "Exception on /_dash-update-component [POST]\n",
      "Traceback (most recent call last):\n",
      "  File \"/opt/miniconda3/lib/python3.9/site-packages/flask/app.py\", line 2073, in wsgi_app\n",
      "    response = self.full_dispatch_request()\n",
      "  File \"/opt/miniconda3/lib/python3.9/site-packages/flask/app.py\", line 1518, in full_dispatch_request\n",
      "    rv = self.handle_user_exception(e)\n",
      "  File \"/opt/miniconda3/lib/python3.9/site-packages/flask/app.py\", line 1516, in full_dispatch_request\n",
      "    rv = self.dispatch_request()\n",
      "  File \"/opt/miniconda3/lib/python3.9/site-packages/flask/app.py\", line 1502, in dispatch_request\n",
      "    return self.ensure_sync(self.view_functions[rule.endpoint])(**req.view_args)\n",
      "  File \"/opt/miniconda3/lib/python3.9/site-packages/dash/dash.py\", line 1336, in dispatch\n",
      "    response.set_data(func(*args, outputs_list=outputs_list))\n",
      "  File \"/opt/miniconda3/lib/python3.9/site-packages/dash/_callback.py\", line 151, in add_context\n",
      "    output_value = func(*func_args, **func_kwargs)  # %% callback invoked %%\n",
      "  File \"/var/folders/cb/y_45syrn4kd26w8rrdgvk_3r0000gn/T/ipykernel_53661/627631000.py\", line 319, in HoverToBoxPlot\n",
      "    genes = hoverdata['points'][0]['x'].split('-')\n",
      "TypeError: 'NoneType' object is not subscriptable\n"
     ]
    },
    {
     "name": "stderr",
     "output_type": "stream",
     "text": [
      "127.0.0.1 - - [22/Aug/2022 16:17:11] \"\u001b[35m\u001b[1mPOST /_dash-update-component HTTP/1.1\u001b[0m\" 500 -\n",
      "127.0.0.1 - - [22/Aug/2022 16:17:11] \"POST /_dash-update-component HTTP/1.1\" 200 -\n",
      "127.0.0.1 - - [22/Aug/2022 16:17:11] \"POST /_dash-update-component HTTP/1.1\" 200 -\n"
     ]
    },
    {
     "name": "stdout",
     "output_type": "stream",
     "text": [
      "Exception on /_dash-update-component [POST]\n",
      "Traceback (most recent call last):\n",
      "  File \"/opt/miniconda3/lib/python3.9/site-packages/flask/app.py\", line 2073, in wsgi_app\n",
      "    response = self.full_dispatch_request()\n",
      "  File \"/opt/miniconda3/lib/python3.9/site-packages/flask/app.py\", line 1518, in full_dispatch_request\n",
      "    rv = self.handle_user_exception(e)\n",
      "  File \"/opt/miniconda3/lib/python3.9/site-packages/flask/app.py\", line 1516, in full_dispatch_request\n",
      "    rv = self.dispatch_request()\n",
      "  File \"/opt/miniconda3/lib/python3.9/site-packages/flask/app.py\", line 1502, in dispatch_request\n",
      "    return self.ensure_sync(self.view_functions[rule.endpoint])(**req.view_args)\n",
      "  File \"/opt/miniconda3/lib/python3.9/site-packages/dash/dash.py\", line 1336, in dispatch\n",
      "    response.set_data(func(*args, outputs_list=outputs_list))\n",
      "  File \"/opt/miniconda3/lib/python3.9/site-packages/dash/_callback.py\", line 151, in add_context\n",
      "    output_value = func(*func_args, **func_kwargs)  # %% callback invoked %%\n",
      "  File \"/var/folders/cb/y_45syrn4kd26w8rrdgvk_3r0000gn/T/ipykernel_53661/627631000.py\", line 319, in HoverToBoxPlot\n",
      "    genes = hoverdata['points'][0]['x'].split('-')\n",
      "TypeError: 'NoneType' object is not subscriptable\n"
     ]
    },
    {
     "name": "stderr",
     "output_type": "stream",
     "text": [
      "127.0.0.1 - - [22/Aug/2022 16:17:13] \"\u001b[35m\u001b[1mPOST /_dash-update-component HTTP/1.1\u001b[0m\" 500 -\n",
      "127.0.0.1 - - [22/Aug/2022 16:17:13] \"POST /_dash-update-component HTTP/1.1\" 200 -\n"
     ]
    },
    {
     "name": "stdout",
     "output_type": "stream",
     "text": [
      "Exception on /_dash-update-component [POST]\n",
      "Traceback (most recent call last):\n",
      "  File \"/opt/miniconda3/lib/python3.9/site-packages/flask/app.py\", line 2073, in wsgi_app\n",
      "    response = self.full_dispatch_request()\n",
      "  File \"/opt/miniconda3/lib/python3.9/site-packages/flask/app.py\", line 1518, in full_dispatch_request\n",
      "    rv = self.handle_user_exception(e)\n",
      "  File \"/opt/miniconda3/lib/python3.9/site-packages/flask/app.py\", line 1516, in full_dispatch_request\n",
      "    rv = self.dispatch_request()\n",
      "  File \"/opt/miniconda3/lib/python3.9/site-packages/flask/app.py\", line 1502, in dispatch_request\n",
      "    return self.ensure_sync(self.view_functions[rule.endpoint])(**req.view_args)\n",
      "  File \"/opt/miniconda3/lib/python3.9/site-packages/dash/dash.py\", line 1336, in dispatch\n",
      "    response.set_data(func(*args, outputs_list=outputs_list))\n",
      "  File \"/opt/miniconda3/lib/python3.9/site-packages/dash/_callback.py\", line 151, in add_context\n",
      "    output_value = func(*func_args, **func_kwargs)  # %% callback invoked %%\n",
      "  File \"/var/folders/cb/y_45syrn4kd26w8rrdgvk_3r0000gn/T/ipykernel_53661/627631000.py\", line 319, in HoverToBoxPlot\n",
      "    genes = hoverdata['points'][0]['x'].split('-')\n",
      "TypeError: 'NoneType' object is not subscriptable\n"
     ]
    },
    {
     "name": "stderr",
     "output_type": "stream",
     "text": [
      "127.0.0.1 - - [22/Aug/2022 16:17:13] \"\u001b[35m\u001b[1mPOST /_dash-update-component HTTP/1.1\u001b[0m\" 500 -\n",
      "127.0.0.1 - - [22/Aug/2022 16:17:13] \"POST /_dash-update-component HTTP/1.1\" 200 -\n"
     ]
    },
    {
     "name": "stdout",
     "output_type": "stream",
     "text": [
      "Exception on /_dash-update-component [POST]\n",
      "Traceback (most recent call last):\n",
      "  File \"/opt/miniconda3/lib/python3.9/site-packages/flask/app.py\", line 2073, in wsgi_app\n",
      "    response = self.full_dispatch_request()\n",
      "  File \"/opt/miniconda3/lib/python3.9/site-packages/flask/app.py\", line 1518, in full_dispatch_request\n",
      "    rv = self.handle_user_exception(e)\n",
      "  File \"/opt/miniconda3/lib/python3.9/site-packages/flask/app.py\", line 1516, in full_dispatch_request\n",
      "    rv = self.dispatch_request()\n",
      "  File \"/opt/miniconda3/lib/python3.9/site-packages/flask/app.py\", line 1502, in dispatch_request\n",
      "    return self.ensure_sync(self.view_functions[rule.endpoint])(**req.view_args)\n",
      "  File \"/opt/miniconda3/lib/python3.9/site-packages/dash/dash.py\", line 1336, in dispatch\n",
      "    response.set_data(func(*args, outputs_list=outputs_list))\n",
      "  File \"/opt/miniconda3/lib/python3.9/site-packages/dash/_callback.py\", line 151, in add_context\n",
      "    output_value = func(*func_args, **func_kwargs)  # %% callback invoked %%\n",
      "  File \"/var/folders/cb/y_45syrn4kd26w8rrdgvk_3r0000gn/T/ipykernel_53661/627631000.py\", line 319, in HoverToBoxPlot\n",
      "    genes = hoverdata['points'][0]['x'].split('-')\n",
      "TypeError: 'NoneType' object is not subscriptable\n"
     ]
    },
    {
     "name": "stderr",
     "output_type": "stream",
     "text": [
      "127.0.0.1 - - [22/Aug/2022 16:17:15] \"\u001b[35m\u001b[1mPOST /_dash-update-component HTTP/1.1\u001b[0m\" 500 -\n",
      "127.0.0.1 - - [22/Aug/2022 16:17:15] \"POST /_dash-update-component HTTP/1.1\" 200 -\n",
      "127.0.0.1 - - [22/Aug/2022 16:17:17] \"POST /_dash-update-component HTTP/1.1\" 200 -\n"
     ]
    },
    {
     "name": "stdout",
     "output_type": "stream",
     "text": [
      "     Gene_Knock  NaK ionocyte\n",
      "0       Control           4.0\n",
      "1       Control           3.0\n",
      "2       Control           3.0\n",
      "3       Control           4.0\n",
      "4       Control           1.0\n",
      "...         ...           ...\n",
      "3199    LinPred           1.0\n",
      "3200    LinPred           3.0\n",
      "3201    LinPred           1.0\n",
      "3202    LinPred           0.0\n",
      "3203    LinPred           0.0\n",
      "\n",
      "[3204 rows x 2 columns]\n"
     ]
    },
    {
     "name": "stderr",
     "output_type": "stream",
     "text": [
      "/var/folders/cb/y_45syrn4kd26w8rrdgvk_3r0000gn/T/ipykernel_53661/627631000.py:24: PerformanceWarning:\n",
      "\n",
      "DataFrame is highly fragmented.  This is usually the result of calling `frame.insert` many times, which has poor performance.  Consider joining all columns at once using pd.concat(axis=1) instead.  To get a de-fragmented frame, use `newframe = frame.copy()`\n",
      "\n",
      "127.0.0.1 - - [22/Aug/2022 16:17:18] \"POST /_dash-update-component HTTP/1.1\" 200 -\n"
     ]
    },
    {
     "name": "stdout",
     "output_type": "stream",
     "text": [
      "     Gene_Knock  adrenal gland\n",
      "0       Control            1.0\n",
      "1       Control            3.0\n",
      "2       Control            0.0\n",
      "3       Control            1.0\n",
      "4       Control            1.0\n",
      "...         ...            ...\n",
      "3199    LinPred            2.0\n",
      "3200    LinPred            3.0\n",
      "3201    LinPred            5.0\n",
      "3202    LinPred            5.0\n",
      "3203    LinPred            6.0\n",
      "\n",
      "[3204 rows x 2 columns]\n"
     ]
    },
    {
     "name": "stderr",
     "output_type": "stream",
     "text": [
      "/var/folders/cb/y_45syrn4kd26w8rrdgvk_3r0000gn/T/ipykernel_53661/627631000.py:24: PerformanceWarning:\n",
      "\n",
      "DataFrame is highly fragmented.  This is usually the result of calling `frame.insert` many times, which has poor performance.  Consider joining all columns at once using pd.concat(axis=1) instead.  To get a de-fragmented frame, use `newframe = frame.copy()`\n",
      "\n",
      "127.0.0.1 - - [22/Aug/2022 16:17:19] \"POST /_dash-update-component HTTP/1.1\" 200 -\n",
      "127.0.0.1 - - [22/Aug/2022 16:17:19] \"POST /_dash-update-component HTTP/1.1\" 200 -\n",
      "127.0.0.1 - - [22/Aug/2022 16:17:19] \"POST /_dash-update-component HTTP/1.1\" 200 -\n",
      "127.0.0.1 - - [22/Aug/2022 16:17:20] \"POST /_dash-update-component HTTP/1.1\" 200 -\n"
     ]
    },
    {
     "name": "stdout",
     "output_type": "stream",
     "text": [
      "     Gene_Knock  basal cell (late)\n",
      "0       Control               35.0\n",
      "1       Control               22.0\n",
      "2       Control               26.0\n",
      "3       Control               23.0\n",
      "4       Control               13.0\n",
      "...         ...                ...\n",
      "3199    LinPred                0.0\n",
      "3200    LinPred                0.0\n",
      "3201    LinPred                0.0\n",
      "3202    LinPred                0.0\n",
      "3203    LinPred                0.0\n",
      "\n",
      "[3204 rows x 2 columns]\n",
      "     Gene_Knock  chondrocranium\n",
      "0       Control             9.0\n",
      "1       Control            12.0\n",
      "2       Control            12.0\n",
      "3       Control            12.0\n",
      "4       Control            19.0\n",
      "...         ...             ...\n",
      "3199    LinPred             8.0\n",
      "3200    LinPred             7.0\n",
      "3201    LinPred             7.0\n",
      "3202    LinPred            10.0\n",
      "3203    LinPred             9.0\n",
      "\n",
      "[3204 rows x 2 columns]\n",
      "     Gene_Knock  connective tissue-meninges-dermal FB (early)\n",
      "0       Control                                           0.0\n",
      "1       Control                                           0.0\n",
      "2       Control                                           1.0\n",
      "3       Control                                           0.0\n",
      "4       Control                                           0.0\n",
      "...         ...                                           ...\n",
      "3199    LinPred                                           2.0\n",
      "3200    LinPred                                           2.0\n",
      "3201    LinPred                                           3.0\n",
      "3202    LinPred                                           2.0\n",
      "3203    LinPred                                           3.0\n",
      "\n",
      "[3204 rows x 2 columns]\n",
      "     Gene_Knock  cranial muscle (late)\n",
      "0       Control                    5.0\n",
      "1       Control                    9.0\n",
      "2       Control                    1.0\n",
      "3       Control                    7.0\n",
      "4       Control                    3.0\n",
      "...         ...                    ...\n",
      "3199    LinPred                    0.0\n",
      "3200    LinPred                    0.0\n",
      "3201    LinPred                    0.0\n",
      "3202    LinPred                    0.0\n",
      "3203    LinPred                    0.0\n",
      "\n",
      "[3204 rows x 2 columns]\n"
     ]
    },
    {
     "name": "stderr",
     "output_type": "stream",
     "text": [
      "/var/folders/cb/y_45syrn4kd26w8rrdgvk_3r0000gn/T/ipykernel_53661/627631000.py:24: PerformanceWarning:\n",
      "\n",
      "DataFrame is highly fragmented.  This is usually the result of calling `frame.insert` many times, which has poor performance.  Consider joining all columns at once using pd.concat(axis=1) instead.  To get a de-fragmented frame, use `newframe = frame.copy()`\n",
      "\n",
      "127.0.0.1 - - [22/Aug/2022 16:17:20] \"POST /_dash-update-component HTTP/1.1\" 200 -\n"
     ]
    },
    {
     "name": "stdout",
     "output_type": "stream",
     "text": [
      "     Gene_Knock  endothelium (dorsal aorta)\n",
      "0       Control                        29.0\n",
      "1       Control                        67.0\n",
      "2       Control                        59.0\n",
      "3       Control                        71.0\n",
      "4       Control                        72.0\n",
      "...         ...                         ...\n",
      "3199    LinPred                        51.0\n",
      "3200    LinPred                        58.0\n",
      "3201    LinPred                        71.0\n",
      "3202    LinPred                        58.0\n",
      "3203    LinPred                        52.0\n",
      "\n",
      "[3204 rows x 2 columns]\n"
     ]
    },
    {
     "name": "stderr",
     "output_type": "stream",
     "text": [
      "/var/folders/cb/y_45syrn4kd26w8rrdgvk_3r0000gn/T/ipykernel_53661/627631000.py:24: PerformanceWarning:\n",
      "\n",
      "DataFrame is highly fragmented.  This is usually the result of calling `frame.insert` many times, which has poor performance.  Consider joining all columns at once using pd.concat(axis=1) instead.  To get a de-fragmented frame, use `newframe = frame.copy()`\n",
      "\n",
      "127.0.0.1 - - [22/Aug/2022 16:17:21] \"POST /_dash-update-component HTTP/1.1\" 200 -\n"
     ]
    },
    {
     "name": "stdout",
     "output_type": "stream",
     "text": [
      "     Gene_Knock  fast-committed myocyte (fusing)\n",
      "0       Control                              0.0\n",
      "1       Control                              0.0\n",
      "2       Control                              0.0\n",
      "3       Control                              0.0\n",
      "4       Control                              1.0\n",
      "...         ...                              ...\n",
      "3199    LinPred                              2.0\n",
      "3200    LinPred                              2.0\n",
      "3201    LinPred                              2.0\n",
      "3202    LinPred                              2.0\n",
      "3203    LinPred                              2.0\n",
      "\n",
      "[3204 rows x 2 columns]\n"
     ]
    },
    {
     "name": "stderr",
     "output_type": "stream",
     "text": [
      "/var/folders/cb/y_45syrn4kd26w8rrdgvk_3r0000gn/T/ipykernel_53661/627631000.py:24: PerformanceWarning:\n",
      "\n",
      "DataFrame is highly fragmented.  This is usually the result of calling `frame.insert` many times, which has poor performance.  Consider joining all columns at once using pd.concat(axis=1) instead.  To get a de-fragmented frame, use `newframe = frame.copy()`\n",
      "\n",
      "127.0.0.1 - - [22/Aug/2022 16:17:23] \"POST /_dash-update-component HTTP/1.1\" 200 -\n"
     ]
    },
    {
     "name": "stdout",
     "output_type": "stream",
     "text": [
      "     Gene_Knock  fin mesenchyme\n",
      "0       Control             0.0\n",
      "1       Control             0.0\n",
      "2       Control             0.0\n",
      "3       Control             1.0\n",
      "4       Control             0.0\n",
      "...         ...             ...\n",
      "3199    LinPred             0.0\n",
      "3200    LinPred             0.0\n",
      "3201    LinPred             0.0\n",
      "3202    LinPred             0.0\n",
      "3203    LinPred             0.0\n",
      "\n",
      "[3204 rows x 2 columns]\n"
     ]
    },
    {
     "name": "stderr",
     "output_type": "stream",
     "text": [
      "/var/folders/cb/y_45syrn4kd26w8rrdgvk_3r0000gn/T/ipykernel_53661/627631000.py:24: PerformanceWarning:\n",
      "\n",
      "DataFrame is highly fragmented.  This is usually the result of calling `frame.insert` many times, which has poor performance.  Consider joining all columns at once using pd.concat(axis=1) instead.  To get a de-fragmented frame, use `newframe = frame.copy()`\n",
      "\n",
      "127.0.0.1 - - [22/Aug/2022 16:17:24] \"POST /_dash-update-component HTTP/1.1\" 200 -\n"
     ]
    },
    {
     "name": "stdout",
     "output_type": "stream",
     "text": [
      "     Gene_Knock  fast-committed myocyte (fusing)\n",
      "0       Control                              0.0\n",
      "1       Control                              0.0\n",
      "2       Control                              0.0\n",
      "3       Control                              0.0\n",
      "4       Control                              1.0\n",
      "...         ...                              ...\n",
      "3199    LinPred                              2.0\n",
      "3200    LinPred                              2.0\n",
      "3201    LinPred                              2.0\n",
      "3202    LinPred                              2.0\n",
      "3203    LinPred                              2.0\n",
      "\n",
      "[3204 rows x 2 columns]\n"
     ]
    },
    {
     "name": "stderr",
     "output_type": "stream",
     "text": [
      "/var/folders/cb/y_45syrn4kd26w8rrdgvk_3r0000gn/T/ipykernel_53661/627631000.py:24: PerformanceWarning:\n",
      "\n",
      "DataFrame is highly fragmented.  This is usually the result of calling `frame.insert` many times, which has poor performance.  Consider joining all columns at once using pd.concat(axis=1) instead.  To get a de-fragmented frame, use `newframe = frame.copy()`\n",
      "\n",
      "127.0.0.1 - - [22/Aug/2022 16:17:27] \"POST /_dash-update-component HTTP/1.1\" 200 -\n"
     ]
    },
    {
     "name": "stdout",
     "output_type": "stream",
     "text": [
      "     Gene_Knock  fin mesenchyme\n",
      "0       Control             0.0\n",
      "1       Control             0.0\n",
      "2       Control             0.0\n",
      "3       Control             1.0\n",
      "4       Control             0.0\n",
      "...         ...             ...\n",
      "3199    LinPred             0.0\n",
      "3200    LinPred             0.0\n",
      "3201    LinPred             0.0\n",
      "3202    LinPred             0.0\n",
      "3203    LinPred             0.0\n",
      "\n",
      "[3204 rows x 2 columns]\n"
     ]
    },
    {
     "name": "stderr",
     "output_type": "stream",
     "text": [
      "/var/folders/cb/y_45syrn4kd26w8rrdgvk_3r0000gn/T/ipykernel_53661/627631000.py:24: PerformanceWarning:\n",
      "\n",
      "DataFrame is highly fragmented.  This is usually the result of calling `frame.insert` many times, which has poor performance.  Consider joining all columns at once using pd.concat(axis=1) instead.  To get a de-fragmented frame, use `newframe = frame.copy()`\n",
      "\n",
      "127.0.0.1 - - [22/Aug/2022 16:17:28] \"POST /_dash-update-component HTTP/1.1\" 200 -\n"
     ]
    },
    {
     "name": "stdout",
     "output_type": "stream",
     "text": [
      "     Gene_Knock  fast-committed myocyte (fusing)\n",
      "0       Control                              0.0\n",
      "1       Control                              0.0\n",
      "2       Control                              0.0\n",
      "3       Control                              0.0\n",
      "4       Control                              1.0\n",
      "...         ...                              ...\n",
      "3199    LinPred                              2.0\n",
      "3200    LinPred                              2.0\n",
      "3201    LinPred                              2.0\n",
      "3202    LinPred                              2.0\n",
      "3203    LinPred                              2.0\n",
      "\n",
      "[3204 rows x 2 columns]\n"
     ]
    },
    {
     "name": "stderr",
     "output_type": "stream",
     "text": [
      "/var/folders/cb/y_45syrn4kd26w8rrdgvk_3r0000gn/T/ipykernel_53661/627631000.py:24: PerformanceWarning:\n",
      "\n",
      "DataFrame is highly fragmented.  This is usually the result of calling `frame.insert` many times, which has poor performance.  Consider joining all columns at once using pd.concat(axis=1) instead.  To get a de-fragmented frame, use `newframe = frame.copy()`\n",
      "\n",
      "127.0.0.1 - - [22/Aug/2022 16:17:28] \"POST /_dash-update-component HTTP/1.1\" 200 -\n"
     ]
    },
    {
     "name": "stdout",
     "output_type": "stream",
     "text": [
      "     Gene_Knock  fin mesenchyme\n",
      "0       Control             0.0\n",
      "1       Control             0.0\n",
      "2       Control             0.0\n",
      "3       Control             1.0\n",
      "4       Control             0.0\n",
      "...         ...             ...\n",
      "3199    LinPred             0.0\n",
      "3200    LinPred             0.0\n",
      "3201    LinPred             0.0\n",
      "3202    LinPred             0.0\n",
      "3203    LinPred             0.0\n",
      "\n",
      "[3204 rows x 2 columns]\n"
     ]
    },
    {
     "name": "stderr",
     "output_type": "stream",
     "text": [
      "/var/folders/cb/y_45syrn4kd26w8rrdgvk_3r0000gn/T/ipykernel_53661/627631000.py:24: PerformanceWarning:\n",
      "\n",
      "DataFrame is highly fragmented.  This is usually the result of calling `frame.insert` many times, which has poor performance.  Consider joining all columns at once using pd.concat(axis=1) instead.  To get a de-fragmented frame, use `newframe = frame.copy()`\n",
      "\n",
      "127.0.0.1 - - [22/Aug/2022 16:17:30] \"POST /_dash-update-component HTTP/1.1\" 200 -\n"
     ]
    },
    {
     "name": "stdout",
     "output_type": "stream",
     "text": [
      "     Gene_Knock  intestine (mid)\n",
      "0       Control             35.0\n",
      "1       Control             21.0\n",
      "2       Control             25.0\n",
      "3       Control             48.0\n",
      "4       Control             18.0\n",
      "...         ...              ...\n",
      "3199    LinPred             10.0\n",
      "3200    LinPred             11.0\n",
      "3201    LinPred              7.0\n",
      "3202    LinPred              0.0\n",
      "3203    LinPred             16.0\n",
      "\n",
      "[3204 rows x 2 columns]\n"
     ]
    },
    {
     "name": "stderr",
     "output_type": "stream",
     "text": [
      "/var/folders/cb/y_45syrn4kd26w8rrdgvk_3r0000gn/T/ipykernel_53661/627631000.py:24: PerformanceWarning:\n",
      "\n",
      "DataFrame is highly fragmented.  This is usually the result of calling `frame.insert` many times, which has poor performance.  Consider joining all columns at once using pd.concat(axis=1) instead.  To get a de-fragmented frame, use `newframe = frame.copy()`\n",
      "\n",
      "127.0.0.1 - - [22/Aug/2022 16:17:33] \"POST /_dash-update-component HTTP/1.1\" 200 -\n"
     ]
    },
    {
     "name": "stdout",
     "output_type": "stream",
     "text": [
      "     Gene_Knock  iridophore\n",
      "0       Control        11.0\n",
      "1       Control        12.0\n",
      "2       Control        15.0\n",
      "3       Control        29.0\n",
      "4       Control        14.0\n",
      "...         ...         ...\n",
      "3199    LinPred         3.0\n",
      "3200    LinPred         2.0\n",
      "3201    LinPred         3.0\n",
      "3202    LinPred         7.0\n",
      "3203    LinPred         3.0\n",
      "\n",
      "[3204 rows x 2 columns]\n"
     ]
    },
    {
     "name": "stderr",
     "output_type": "stream",
     "text": [
      "/var/folders/cb/y_45syrn4kd26w8rrdgvk_3r0000gn/T/ipykernel_53661/627631000.py:24: PerformanceWarning:\n",
      "\n",
      "DataFrame is highly fragmented.  This is usually the result of calling `frame.insert` many times, which has poor performance.  Consider joining all columns at once using pd.concat(axis=1) instead.  To get a de-fragmented frame, use `newframe = frame.copy()`\n",
      "\n",
      "127.0.0.1 - - [22/Aug/2022 16:17:34] \"POST /_dash-update-component HTTP/1.1\" 200 -\n"
     ]
    },
    {
     "name": "stdout",
     "output_type": "stream",
     "text": [
      "     Gene_Knock  jaw chondrocyte\n",
      "0       Control             12.0\n",
      "1       Control              8.0\n",
      "2       Control             20.0\n",
      "3       Control             12.0\n",
      "4       Control             12.0\n",
      "...         ...              ...\n",
      "3199    LinPred              0.0\n",
      "3200    LinPred              0.0\n",
      "3201    LinPred              0.0\n",
      "3202    LinPred              0.0\n",
      "3203    LinPred              0.0\n",
      "\n",
      "[3204 rows x 2 columns]\n"
     ]
    },
    {
     "name": "stderr",
     "output_type": "stream",
     "text": [
      "/var/folders/cb/y_45syrn4kd26w8rrdgvk_3r0000gn/T/ipykernel_53661/627631000.py:24: PerformanceWarning:\n",
      "\n",
      "DataFrame is highly fragmented.  This is usually the result of calling `frame.insert` many times, which has poor performance.  Consider joining all columns at once using pd.concat(axis=1) instead.  To get a de-fragmented frame, use `newframe = frame.copy()`\n",
      "\n",
      "127.0.0.1 - - [22/Aug/2022 16:17:36] \"POST /_dash-update-component HTTP/1.1\" 200 -\n",
      "127.0.0.1 - - [22/Aug/2022 16:17:36] \"POST /_dash-update-component HTTP/1.1\" 200 -\n"
     ]
    },
    {
     "name": "stdout",
     "output_type": "stream",
     "text": [
      "     Gene_Knock  liver\n",
      "0       Control   19.0\n",
      "1       Control    5.0\n",
      "2       Control   15.0\n",
      "3       Control    7.0\n",
      "4       Control   10.0\n",
      "...         ...    ...\n",
      "3199    LinPred    3.0\n",
      "3200    LinPred    0.0\n",
      "3201    LinPred    4.0\n",
      "3202    LinPred    2.0\n",
      "3203    LinPred    0.0\n",
      "\n",
      "[3204 rows x 2 columns]\n",
      "     Gene_Knock  mature fast muscle 1\n",
      "0       Control                   0.0\n",
      "1       Control                   1.0\n",
      "2       Control                   0.0\n",
      "3       Control                   1.0\n",
      "4       Control                   0.0\n",
      "...         ...                   ...\n",
      "3199    LinPred                   2.0\n",
      "3200    LinPred                   3.0\n",
      "3201    LinPred                   2.0\n",
      "3202    LinPred                   3.0\n",
      "3203    LinPred                   2.0\n",
      "\n",
      "[3204 rows x 2 columns]\n"
     ]
    },
    {
     "name": "stderr",
     "output_type": "stream",
     "text": [
      "/var/folders/cb/y_45syrn4kd26w8rrdgvk_3r0000gn/T/ipykernel_53661/627631000.py:24: PerformanceWarning:\n",
      "\n",
      "DataFrame is highly fragmented.  This is usually the result of calling `frame.insert` many times, which has poor performance.  Consider joining all columns at once using pd.concat(axis=1) instead.  To get a de-fragmented frame, use `newframe = frame.copy()`\n",
      "\n",
      "127.0.0.1 - - [22/Aug/2022 16:17:38] \"POST /_dash-update-component HTTP/1.1\" 200 -\n"
     ]
    },
    {
     "name": "stdout",
     "output_type": "stream",
     "text": [
      "     Gene_Knock  mature fast muscle 2\n",
      "0       Control                   4.0\n",
      "1       Control                  10.0\n",
      "2       Control                   7.0\n",
      "3       Control                   5.0\n",
      "4       Control                   7.0\n",
      "...         ...                   ...\n",
      "3199    LinPred                  75.0\n",
      "3200    LinPred                  78.0\n",
      "3201    LinPred                  76.0\n",
      "3202    LinPred                  66.0\n",
      "3203    LinPred                  70.0\n",
      "\n",
      "[3204 rows x 2 columns]\n"
     ]
    },
    {
     "name": "stderr",
     "output_type": "stream",
     "text": [
      "/var/folders/cb/y_45syrn4kd26w8rrdgvk_3r0000gn/T/ipykernel_53661/627631000.py:24: PerformanceWarning:\n",
      "\n",
      "DataFrame is highly fragmented.  This is usually the result of calling `frame.insert` many times, which has poor performance.  Consider joining all columns at once using pd.concat(axis=1) instead.  To get a de-fragmented frame, use `newframe = frame.copy()`\n",
      "\n",
      "127.0.0.1 - - [22/Aug/2022 16:17:39] \"POST /_dash-update-component HTTP/1.1\" 200 -\n"
     ]
    },
    {
     "name": "stdout",
     "output_type": "stream",
     "text": [
      "     Gene_Knock  mature fast muscle 4\n",
      "0       Control                  28.0\n",
      "1       Control                  16.0\n",
      "2       Control                  32.0\n",
      "3       Control                  41.0\n",
      "4       Control                 153.0\n",
      "...         ...                   ...\n",
      "3199    LinPred                  53.0\n",
      "3200    LinPred                  57.0\n",
      "3201    LinPred                  47.0\n",
      "3202    LinPred                  34.0\n",
      "3203    LinPred                  56.0\n",
      "\n",
      "[3204 rows x 2 columns]\n"
     ]
    },
    {
     "name": "stderr",
     "output_type": "stream",
     "text": [
      "/var/folders/cb/y_45syrn4kd26w8rrdgvk_3r0000gn/T/ipykernel_53661/627631000.py:24: PerformanceWarning:\n",
      "\n",
      "DataFrame is highly fragmented.  This is usually the result of calling `frame.insert` many times, which has poor performance.  Consider joining all columns at once using pd.concat(axis=1) instead.  To get a de-fragmented frame, use `newframe = frame.copy()`\n",
      "\n",
      "127.0.0.1 - - [22/Aug/2022 16:17:40] \"POST /_dash-update-component HTTP/1.1\" 200 -\n"
     ]
    },
    {
     "name": "stdout",
     "output_type": "stream",
     "text": [
      "     Gene_Knock  mature fast muscle 5\n",
      "0       Control                  13.0\n",
      "1       Control                   4.0\n",
      "2       Control                   7.0\n",
      "3       Control                  10.0\n",
      "4       Control                  33.0\n",
      "...         ...                   ...\n",
      "3199    LinPred                  12.0\n",
      "3200    LinPred                  16.0\n",
      "3201    LinPred                  12.0\n",
      "3202    LinPred                   7.0\n",
      "3203    LinPred                  30.0\n",
      "\n",
      "[3204 rows x 2 columns]\n"
     ]
    },
    {
     "name": "stderr",
     "output_type": "stream",
     "text": [
      "/var/folders/cb/y_45syrn4kd26w8rrdgvk_3r0000gn/T/ipykernel_53661/627631000.py:24: PerformanceWarning:\n",
      "\n",
      "DataFrame is highly fragmented.  This is usually the result of calling `frame.insert` many times, which has poor performance.  Consider joining all columns at once using pd.concat(axis=1) instead.  To get a de-fragmented frame, use `newframe = frame.copy()`\n",
      "\n",
      "127.0.0.1 - - [22/Aug/2022 16:17:41] \"POST /_dash-update-component HTTP/1.1\" 200 -\n"
     ]
    },
    {
     "name": "stdout",
     "output_type": "stream",
     "text": [
      "     Gene_Knock  mature fast muscle 6\n",
      "0       Control                 195.0\n",
      "1       Control                 188.0\n",
      "2       Control                 240.0\n",
      "3       Control                 260.0\n",
      "4       Control                 206.0\n",
      "...         ...                   ...\n",
      "3199    LinPred                 332.0\n",
      "3200    LinPred                 301.0\n",
      "3201    LinPred                 418.0\n",
      "3202    LinPred                 268.0\n",
      "3203    LinPred                 334.0\n",
      "\n",
      "[3204 rows x 2 columns]\n"
     ]
    },
    {
     "name": "stderr",
     "output_type": "stream",
     "text": [
      "/var/folders/cb/y_45syrn4kd26w8rrdgvk_3r0000gn/T/ipykernel_53661/627631000.py:24: PerformanceWarning:\n",
      "\n",
      "DataFrame is highly fragmented.  This is usually the result of calling `frame.insert` many times, which has poor performance.  Consider joining all columns at once using pd.concat(axis=1) instead.  To get a de-fragmented frame, use `newframe = frame.copy()`\n",
      "\n",
      "127.0.0.1 - - [22/Aug/2022 16:17:42] \"POST /_dash-update-component HTTP/1.1\" 200 -\n"
     ]
    },
    {
     "name": "stdout",
     "output_type": "stream",
     "text": [
      "     Gene_Knock  mature slow muscle 1\n",
      "0       Control                   0.0\n",
      "1       Control                   0.0\n",
      "2       Control                   0.0\n",
      "3       Control                   0.0\n",
      "4       Control                   0.0\n",
      "...         ...                   ...\n",
      "3199    LinPred                   0.0\n",
      "3200    LinPred                   0.0\n",
      "3201    LinPred                   0.0\n",
      "3202    LinPred                   0.0\n",
      "3203    LinPred                   0.0\n",
      "\n",
      "[3204 rows x 2 columns]\n"
     ]
    },
    {
     "name": "stderr",
     "output_type": "stream",
     "text": [
      "/var/folders/cb/y_45syrn4kd26w8rrdgvk_3r0000gn/T/ipykernel_53661/627631000.py:24: PerformanceWarning:\n",
      "\n",
      "DataFrame is highly fragmented.  This is usually the result of calling `frame.insert` many times, which has poor performance.  Consider joining all columns at once using pd.concat(axis=1) instead.  To get a de-fragmented frame, use `newframe = frame.copy()`\n",
      "\n",
      "127.0.0.1 - - [22/Aug/2022 16:17:43] \"POST /_dash-update-component HTTP/1.1\" 200 -\n"
     ]
    },
    {
     "name": "stdout",
     "output_type": "stream",
     "text": [
      "     Gene_Knock  mesodermal progenitor cells (contains PSM)\n",
      "0       Control                                         0.0\n",
      "1       Control                                         0.0\n",
      "2       Control                                         0.0\n",
      "3       Control                                         0.0\n",
      "4       Control                                         0.0\n",
      "...         ...                                         ...\n",
      "3199    LinPred                                         0.0\n",
      "3200    LinPred                                         0.0\n",
      "3201    LinPred                                         1.0\n",
      "3202    LinPred                                         0.0\n",
      "3203    LinPred                                         0.0\n",
      "\n",
      "[3204 rows x 2 columns]\n"
     ]
    },
    {
     "name": "stderr",
     "output_type": "stream",
     "text": [
      "/var/folders/cb/y_45syrn4kd26w8rrdgvk_3r0000gn/T/ipykernel_53661/627631000.py:24: PerformanceWarning:\n",
      "\n",
      "DataFrame is highly fragmented.  This is usually the result of calling `frame.insert` many times, which has poor performance.  Consider joining all columns at once using pd.concat(axis=1) instead.  To get a de-fragmented frame, use `newframe = frame.copy()`\n",
      "\n",
      "127.0.0.1 - - [22/Aug/2022 16:17:44] \"POST /_dash-update-component HTTP/1.1\" 200 -\n"
     ]
    },
    {
     "name": "stdout",
     "output_type": "stream",
     "text": [
      "     Gene_Knock  neural progenitor (hindbrain)\n",
      "0       Control                            1.0\n",
      "1       Control                            0.0\n",
      "2       Control                            4.0\n",
      "3       Control                            1.0\n",
      "4       Control                            0.0\n",
      "...         ...                            ...\n",
      "3199    LinPred                            2.0\n",
      "3200    LinPred                            3.0\n",
      "3201    LinPred                            1.0\n",
      "3202    LinPred                            2.0\n",
      "3203    LinPred                            1.0\n",
      "\n",
      "[3204 rows x 2 columns]\n"
     ]
    },
    {
     "name": "stderr",
     "output_type": "stream",
     "text": [
      "/var/folders/cb/y_45syrn4kd26w8rrdgvk_3r0000gn/T/ipykernel_53661/627631000.py:24: PerformanceWarning:\n",
      "\n",
      "DataFrame is highly fragmented.  This is usually the result of calling `frame.insert` many times, which has poor performance.  Consider joining all columns at once using pd.concat(axis=1) instead.  To get a de-fragmented frame, use `newframe = frame.copy()`\n",
      "\n",
      "127.0.0.1 - - [22/Aug/2022 16:17:45] \"POST /_dash-update-component HTTP/1.1\" 200 -\n"
     ]
    },
    {
     "name": "stdout",
     "output_type": "stream",
     "text": [
      "     Gene_Knock  neuron (+ spinal cord)\n",
      "0       Control                    10.0\n",
      "1       Control                     7.0\n",
      "2       Control                    15.0\n",
      "3       Control                     3.0\n",
      "4       Control                     7.0\n",
      "...         ...                     ...\n",
      "3199    LinPred                     0.0\n",
      "3200    LinPred                     6.0\n",
      "3201    LinPred                     6.0\n",
      "3202    LinPred                     0.0\n",
      "3203    LinPred                     5.0\n",
      "\n",
      "[3204 rows x 2 columns]\n"
     ]
    },
    {
     "name": "stderr",
     "output_type": "stream",
     "text": [
      "/var/folders/cb/y_45syrn4kd26w8rrdgvk_3r0000gn/T/ipykernel_53661/627631000.py:24: PerformanceWarning:\n",
      "\n",
      "DataFrame is highly fragmented.  This is usually the result of calling `frame.insert` many times, which has poor performance.  Consider joining all columns at once using pd.concat(axis=1) instead.  To get a de-fragmented frame, use `newframe = frame.copy()`\n",
      "\n",
      "127.0.0.1 - - [22/Aug/2022 16:17:47] \"POST /_dash-update-component HTTP/1.1\" 200 -\n"
     ]
    },
    {
     "name": "stdout",
     "output_type": "stream",
     "text": [
      "     Gene_Knock  osteoblast\n",
      "0       Control         4.0\n",
      "1       Control         4.0\n",
      "2       Control         4.0\n",
      "3       Control         9.0\n",
      "4       Control         2.0\n",
      "...         ...         ...\n",
      "3199    LinPred         0.0\n",
      "3200    LinPred         0.0\n",
      "3201    LinPred         0.0\n",
      "3202    LinPred         0.0\n",
      "3203    LinPred         0.0\n",
      "\n",
      "[3204 rows x 2 columns]\n"
     ]
    },
    {
     "name": "stderr",
     "output_type": "stream",
     "text": [
      "/var/folders/cb/y_45syrn4kd26w8rrdgvk_3r0000gn/T/ipykernel_53661/627631000.py:24: PerformanceWarning:\n",
      "\n",
      "DataFrame is highly fragmented.  This is usually the result of calling `frame.insert` many times, which has poor performance.  Consider joining all columns at once using pd.concat(axis=1) instead.  To get a de-fragmented frame, use `newframe = frame.copy()`\n",
      "\n",
      "127.0.0.1 - - [22/Aug/2022 16:17:49] \"POST /_dash-update-component HTTP/1.1\" 200 -\n"
     ]
    },
    {
     "name": "stdout",
     "output_type": "stream",
     "text": [
      "     Gene_Knock  pancreas\n",
      "0       Control       4.0\n",
      "1       Control       5.0\n",
      "2       Control       7.0\n",
      "3       Control       4.0\n",
      "4       Control       6.0\n",
      "...         ...       ...\n",
      "3199    LinPred       8.0\n",
      "3200    LinPred       4.0\n",
      "3201    LinPred       0.0\n",
      "3202    LinPred       0.0\n",
      "3203    LinPred       0.0\n",
      "\n",
      "[3204 rows x 2 columns]\n"
     ]
    },
    {
     "name": "stderr",
     "output_type": "stream",
     "text": [
      "/var/folders/cb/y_45syrn4kd26w8rrdgvk_3r0000gn/T/ipykernel_53661/627631000.py:24: PerformanceWarning:\n",
      "\n",
      "DataFrame is highly fragmented.  This is usually the result of calling `frame.insert` many times, which has poor performance.  Consider joining all columns at once using pd.concat(axis=1) instead.  To get a de-fragmented frame, use `newframe = frame.copy()`\n",
      "\n",
      "127.0.0.1 - - [22/Aug/2022 16:17:50] \"POST /_dash-update-component HTTP/1.1\" 200 -\n"
     ]
    },
    {
     "name": "stdout",
     "output_type": "stream",
     "text": [
      "     Gene_Knock  pancreas (exocrine)\n",
      "0       Control                  3.0\n",
      "1       Control                  2.0\n",
      "2       Control                  4.0\n",
      "3       Control                  1.0\n",
      "4       Control                  3.0\n",
      "...         ...                  ...\n",
      "3199    LinPred                  8.0\n",
      "3200    LinPred                  9.0\n",
      "3201    LinPred                  8.0\n",
      "3202    LinPred                  8.0\n",
      "3203    LinPred                  7.0\n",
      "\n",
      "[3204 rows x 2 columns]\n"
     ]
    },
    {
     "name": "stderr",
     "output_type": "stream",
     "text": [
      "/var/folders/cb/y_45syrn4kd26w8rrdgvk_3r0000gn/T/ipykernel_53661/627631000.py:24: PerformanceWarning:\n",
      "\n",
      "DataFrame is highly fragmented.  This is usually the result of calling `frame.insert` many times, which has poor performance.  Consider joining all columns at once using pd.concat(axis=1) instead.  To get a de-fragmented frame, use `newframe = frame.copy()`\n",
      "\n",
      "127.0.0.1 - - [22/Aug/2022 16:17:53] \"POST /_dash-update-component HTTP/1.1\" 200 -\n"
     ]
    },
    {
     "name": "stdout",
     "output_type": "stream",
     "text": [
      "     Gene_Knock  periderm 12\n",
      "0       Control          1.0\n",
      "1       Control         18.0\n",
      "2       Control          0.0\n",
      "3       Control          1.0\n",
      "4       Control         15.0\n",
      "...         ...          ...\n",
      "3199    LinPred          0.0\n",
      "3200    LinPred          4.0\n",
      "3201    LinPred          0.0\n",
      "3202    LinPred          0.0\n",
      "3203    LinPred          1.0\n",
      "\n",
      "[3204 rows x 2 columns]\n"
     ]
    },
    {
     "name": "stderr",
     "output_type": "stream",
     "text": [
      "/var/folders/cb/y_45syrn4kd26w8rrdgvk_3r0000gn/T/ipykernel_53661/627631000.py:24: PerformanceWarning:\n",
      "\n",
      "DataFrame is highly fragmented.  This is usually the result of calling `frame.insert` many times, which has poor performance.  Consider joining all columns at once using pd.concat(axis=1) instead.  To get a de-fragmented frame, use `newframe = frame.copy()`\n",
      "\n",
      "127.0.0.1 - - [22/Aug/2022 16:17:55] \"POST /_dash-update-component HTTP/1.1\" 200 -\n"
     ]
    },
    {
     "name": "stdout",
     "output_type": "stream",
     "text": [
      "     Gene_Knock  periderm 14\n",
      "0       Control        444.0\n",
      "1       Control        417.0\n",
      "2       Control         96.0\n",
      "3       Control         38.0\n",
      "4       Control        486.0\n",
      "...         ...          ...\n",
      "3199    LinPred         52.0\n",
      "3200    LinPred          0.0\n",
      "3201    LinPred          0.0\n",
      "3202    LinPred          0.0\n",
      "3203    LinPred          0.0\n",
      "\n",
      "[3204 rows x 2 columns]\n"
     ]
    },
    {
     "name": "stderr",
     "output_type": "stream",
     "text": [
      "/var/folders/cb/y_45syrn4kd26w8rrdgvk_3r0000gn/T/ipykernel_53661/627631000.py:24: PerformanceWarning:\n",
      "\n",
      "DataFrame is highly fragmented.  This is usually the result of calling `frame.insert` many times, which has poor performance.  Consider joining all columns at once using pd.concat(axis=1) instead.  To get a de-fragmented frame, use `newframe = frame.copy()`\n",
      "\n",
      "127.0.0.1 - - [22/Aug/2022 16:17:57] \"POST /_dash-update-component HTTP/1.1\" 200 -\n"
     ]
    },
    {
     "name": "stdout",
     "output_type": "stream",
     "text": [
      "     Gene_Knock  periderm 17\n",
      "0       Control         15.0\n",
      "1       Control         23.0\n",
      "2       Control         24.0\n",
      "3       Control         19.0\n",
      "4       Control         29.0\n",
      "...         ...          ...\n",
      "3199    LinPred          9.0\n",
      "3200    LinPred          2.0\n",
      "3201    LinPred         15.0\n",
      "3202    LinPred         13.0\n",
      "3203    LinPred          4.0\n",
      "\n",
      "[3204 rows x 2 columns]\n"
     ]
    },
    {
     "name": "stderr",
     "output_type": "stream",
     "text": [
      "/var/folders/cb/y_45syrn4kd26w8rrdgvk_3r0000gn/T/ipykernel_53661/627631000.py:24: PerformanceWarning:\n",
      "\n",
      "DataFrame is highly fragmented.  This is usually the result of calling `frame.insert` many times, which has poor performance.  Consider joining all columns at once using pd.concat(axis=1) instead.  To get a de-fragmented frame, use `newframe = frame.copy()`\n",
      "\n",
      "127.0.0.1 - - [22/Aug/2022 16:18:00] \"POST /_dash-update-component HTTP/1.1\" 200 -\n"
     ]
    },
    {
     "name": "stdout",
     "output_type": "stream",
     "text": [
      "     Gene_Knock  periderm 18\n",
      "0       Control          1.0\n",
      "1       Control         45.0\n",
      "2       Control          0.0\n",
      "3       Control          0.0\n",
      "4       Control         20.0\n",
      "...         ...          ...\n",
      "3199    LinPred          0.0\n",
      "3200    LinPred          0.0\n",
      "3201    LinPred          0.0\n",
      "3202    LinPred          0.0\n",
      "3203    LinPred          0.0\n",
      "\n",
      "[3204 rows x 2 columns]\n"
     ]
    },
    {
     "name": "stderr",
     "output_type": "stream",
     "text": [
      "/var/folders/cb/y_45syrn4kd26w8rrdgvk_3r0000gn/T/ipykernel_53661/627631000.py:24: PerformanceWarning:\n",
      "\n",
      "DataFrame is highly fragmented.  This is usually the result of calling `frame.insert` many times, which has poor performance.  Consider joining all columns at once using pd.concat(axis=1) instead.  To get a de-fragmented frame, use `newframe = frame.copy()`\n",
      "\n",
      "127.0.0.1 - - [22/Aug/2022 16:18:02] \"POST /_dash-update-component HTTP/1.1\" 200 -\n"
     ]
    },
    {
     "name": "stdout",
     "output_type": "stream",
     "text": [
      "     Gene_Knock  periderm 3\n",
      "0       Control         1.0\n",
      "1       Control         0.0\n",
      "2       Control         2.0\n",
      "3       Control         1.0\n",
      "4       Control         0.0\n",
      "...         ...         ...\n",
      "3199    LinPred         0.0\n",
      "3200    LinPred         0.0\n",
      "3201    LinPred         0.0\n",
      "3202    LinPred         0.0\n",
      "3203    LinPred         0.0\n",
      "\n",
      "[3204 rows x 2 columns]\n"
     ]
    },
    {
     "name": "stderr",
     "output_type": "stream",
     "text": [
      "/var/folders/cb/y_45syrn4kd26w8rrdgvk_3r0000gn/T/ipykernel_53661/627631000.py:24: PerformanceWarning:\n",
      "\n",
      "DataFrame is highly fragmented.  This is usually the result of calling `frame.insert` many times, which has poor performance.  Consider joining all columns at once using pd.concat(axis=1) instead.  To get a de-fragmented frame, use `newframe = frame.copy()`\n",
      "\n",
      "127.0.0.1 - - [22/Aug/2022 16:18:03] \"POST /_dash-update-component HTTP/1.1\" 200 -\n"
     ]
    },
    {
     "name": "stdout",
     "output_type": "stream",
     "text": [
      "     Gene_Knock  pharyngeal arch (NC-derived)\n",
      "0       Control                           0.0\n",
      "1       Control                           0.0\n",
      "2       Control                           0.0\n",
      "3       Control                           0.0\n",
      "4       Control                           0.0\n",
      "...         ...                           ...\n",
      "3199    LinPred                           1.0\n",
      "3200    LinPred                           1.0\n",
      "3201    LinPred                           1.0\n",
      "3202    LinPred                           3.0\n",
      "3203    LinPred                           1.0\n",
      "\n",
      "[3204 rows x 2 columns]\n"
     ]
    },
    {
     "name": "stderr",
     "output_type": "stream",
     "text": [
      "/var/folders/cb/y_45syrn4kd26w8rrdgvk_3r0000gn/T/ipykernel_53661/627631000.py:24: PerformanceWarning:\n",
      "\n",
      "DataFrame is highly fragmented.  This is usually the result of calling `frame.insert` many times, which has poor performance.  Consider joining all columns at once using pd.concat(axis=1) instead.  To get a de-fragmented frame, use `newframe = frame.copy()`\n",
      "\n",
      "127.0.0.1 - - [22/Aug/2022 16:18:04] \"POST /_dash-update-component HTTP/1.1\" 200 -\n"
     ]
    },
    {
     "name": "stdout",
     "output_type": "stream",
     "text": [
      "     Gene_Knock  pharyngeal arch (contains muscle, early cartilage)\n",
      "0       Control                                               71.0 \n",
      "1       Control                                               77.0 \n",
      "2       Control                                               62.0 \n",
      "3       Control                                               89.0 \n",
      "4       Control                                               85.0 \n",
      "...         ...                                                ... \n",
      "3199    LinPred                                               53.0 \n",
      "3200    LinPred                                               55.0 \n",
      "3201    LinPred                                               40.0 \n",
      "3202    LinPred                                               66.0 \n",
      "3203    LinPred                                               42.0 \n",
      "\n",
      "[3204 rows x 2 columns]\n"
     ]
    },
    {
     "name": "stderr",
     "output_type": "stream",
     "text": [
      "/var/folders/cb/y_45syrn4kd26w8rrdgvk_3r0000gn/T/ipykernel_53661/627631000.py:24: PerformanceWarning:\n",
      "\n",
      "DataFrame is highly fragmented.  This is usually the result of calling `frame.insert` many times, which has poor performance.  Consider joining all columns at once using pd.concat(axis=1) instead.  To get a de-fragmented frame, use `newframe = frame.copy()`\n",
      "\n",
      "127.0.0.1 - - [22/Aug/2022 16:18:06] \"POST /_dash-update-component HTTP/1.1\" 200 -\n"
     ]
    },
    {
     "name": "stdout",
     "output_type": "stream",
     "text": [
      "     Gene_Knock  radial glia\n",
      "0       Control          3.0\n",
      "1       Control          6.0\n",
      "2       Control          2.0\n",
      "3       Control         10.0\n",
      "4       Control          9.0\n",
      "...         ...          ...\n",
      "3199    LinPred          0.0\n",
      "3200    LinPred          0.0\n",
      "3201    LinPred          0.0\n",
      "3202    LinPred          0.0\n",
      "3203    LinPred          0.0\n",
      "\n",
      "[3204 rows x 2 columns]\n"
     ]
    },
    {
     "name": "stderr",
     "output_type": "stream",
     "text": [
      "/var/folders/cb/y_45syrn4kd26w8rrdgvk_3r0000gn/T/ipykernel_53661/627631000.py:24: PerformanceWarning:\n",
      "\n",
      "DataFrame is highly fragmented.  This is usually the result of calling `frame.insert` many times, which has poor performance.  Consider joining all columns at once using pd.concat(axis=1) instead.  To get a de-fragmented frame, use `newframe = frame.copy()`\n",
      "\n",
      "127.0.0.1 - - [22/Aug/2022 16:18:08] \"POST /_dash-update-component HTTP/1.1\" 200 -\n"
     ]
    },
    {
     "name": "stdout",
     "output_type": "stream",
     "text": [
      "     Gene_Knock  retinal neuron (RGC, photoreceptor, bipolar cell)\n",
      "0       Control                                               15.0\n",
      "1       Control                                               18.0\n",
      "2       Control                                               22.0\n",
      "3       Control                                               36.0\n",
      "4       Control                                               25.0\n",
      "...         ...                                                ...\n",
      "3199    LinPred                                                6.0\n",
      "3200    LinPred                                                9.0\n",
      "3201    LinPred                                                3.0\n",
      "3202    LinPred                                               10.0\n",
      "3203    LinPred                                                9.0\n",
      "\n",
      "[3204 rows x 2 columns]\n"
     ]
    },
    {
     "name": "stderr",
     "output_type": "stream",
     "text": [
      "/var/folders/cb/y_45syrn4kd26w8rrdgvk_3r0000gn/T/ipykernel_53661/627631000.py:24: PerformanceWarning:\n",
      "\n",
      "DataFrame is highly fragmented.  This is usually the result of calling `frame.insert` many times, which has poor performance.  Consider joining all columns at once using pd.concat(axis=1) instead.  To get a de-fragmented frame, use `newframe = frame.copy()`\n",
      "\n",
      "127.0.0.1 - - [22/Aug/2022 16:18:12] \"POST /_dash-update-component HTTP/1.1\" 200 -\n"
     ]
    },
    {
     "name": "stdout",
     "output_type": "stream",
     "text": [
      "     Gene_Knock  radial glia\n",
      "0       Control          3.0\n",
      "1       Control          6.0\n",
      "2       Control          2.0\n",
      "3       Control         10.0\n",
      "4       Control          9.0\n",
      "...         ...          ...\n",
      "3199    LinPred          0.0\n",
      "3200    LinPred          0.0\n",
      "3201    LinPred          0.0\n",
      "3202    LinPred          0.0\n",
      "3203    LinPred          0.0\n",
      "\n",
      "[3204 rows x 2 columns]\n"
     ]
    },
    {
     "name": "stderr",
     "output_type": "stream",
     "text": [
      "/var/folders/cb/y_45syrn4kd26w8rrdgvk_3r0000gn/T/ipykernel_53661/627631000.py:24: PerformanceWarning:\n",
      "\n",
      "DataFrame is highly fragmented.  This is usually the result of calling `frame.insert` many times, which has poor performance.  Consider joining all columns at once using pd.concat(axis=1) instead.  To get a de-fragmented frame, use `newframe = frame.copy()`\n",
      "\n",
      "127.0.0.1 - - [22/Aug/2022 16:18:14] \"POST /_dash-update-component HTTP/1.1\" 200 -\n"
     ]
    },
    {
     "name": "stdout",
     "output_type": "stream",
     "text": [
      "     Gene_Knock  pharyngeal arch (contains muscle, early cartilage)\n",
      "0       Control                                               71.0 \n",
      "1       Control                                               77.0 \n",
      "2       Control                                               62.0 \n",
      "3       Control                                               89.0 \n",
      "4       Control                                               85.0 \n",
      "...         ...                                                ... \n",
      "3199    LinPred                                               53.0 \n",
      "3200    LinPred                                               55.0 \n",
      "3201    LinPred                                               40.0 \n",
      "3202    LinPred                                               66.0 \n",
      "3203    LinPred                                               42.0 \n",
      "\n",
      "[3204 rows x 2 columns]\n"
     ]
    },
    {
     "name": "stderr",
     "output_type": "stream",
     "text": [
      "/var/folders/cb/y_45syrn4kd26w8rrdgvk_3r0000gn/T/ipykernel_53661/627631000.py:24: PerformanceWarning:\n",
      "\n",
      "DataFrame is highly fragmented.  This is usually the result of calling `frame.insert` many times, which has poor performance.  Consider joining all columns at once using pd.concat(axis=1) instead.  To get a de-fragmented frame, use `newframe = frame.copy()`\n",
      "\n",
      "127.0.0.1 - - [22/Aug/2022 16:18:15] \"POST /_dash-update-component HTTP/1.1\" 200 -\n"
     ]
    },
    {
     "name": "stdout",
     "output_type": "stream",
     "text": [
      "     Gene_Knock  radial glia\n",
      "0       Control          3.0\n",
      "1       Control          6.0\n",
      "2       Control          2.0\n",
      "3       Control         10.0\n",
      "4       Control          9.0\n",
      "...         ...          ...\n",
      "3199    LinPred          0.0\n",
      "3200    LinPred          0.0\n",
      "3201    LinPred          0.0\n",
      "3202    LinPred          0.0\n",
      "3203    LinPred          0.0\n",
      "\n",
      "[3204 rows x 2 columns]\n"
     ]
    },
    {
     "name": "stderr",
     "output_type": "stream",
     "text": [
      "/var/folders/cb/y_45syrn4kd26w8rrdgvk_3r0000gn/T/ipykernel_53661/627631000.py:24: PerformanceWarning:\n",
      "\n",
      "DataFrame is highly fragmented.  This is usually the result of calling `frame.insert` many times, which has poor performance.  Consider joining all columns at once using pd.concat(axis=1) instead.  To get a de-fragmented frame, use `newframe = frame.copy()`\n",
      "\n",
      "127.0.0.1 - - [22/Aug/2022 16:18:17] \"POST /_dash-update-component HTTP/1.1\" 200 -\n"
     ]
    },
    {
     "name": "stdout",
     "output_type": "stream",
     "text": [
      "     Gene_Knock  retinal neuron (RGC, photoreceptor, bipolar cell)\n",
      "0       Control                                               15.0\n",
      "1       Control                                               18.0\n",
      "2       Control                                               22.0\n",
      "3       Control                                               36.0\n",
      "4       Control                                               25.0\n",
      "...         ...                                                ...\n",
      "3199    LinPred                                                6.0\n",
      "3200    LinPred                                                9.0\n",
      "3201    LinPred                                                3.0\n",
      "3202    LinPred                                               10.0\n",
      "3203    LinPred                                                9.0\n",
      "\n",
      "[3204 rows x 2 columns]\n"
     ]
    },
    {
     "name": "stderr",
     "output_type": "stream",
     "text": [
      "/var/folders/cb/y_45syrn4kd26w8rrdgvk_3r0000gn/T/ipykernel_53661/627631000.py:24: PerformanceWarning:\n",
      "\n",
      "DataFrame is highly fragmented.  This is usually the result of calling `frame.insert` many times, which has poor performance.  Consider joining all columns at once using pd.concat(axis=1) instead.  To get a de-fragmented frame, use `newframe = frame.copy()`\n",
      "\n",
      "127.0.0.1 - - [22/Aug/2022 16:19:50] \"POST /_dash-update-component HTTP/1.1\" 200 -\n"
     ]
    },
    {
     "name": "stdout",
     "output_type": "stream",
     "text": [
      "     Gene_Knock  schwann cell, oligodendrocyte\n",
      "0       Control                            5.0\n",
      "1       Control                            4.0\n",
      "2       Control                            7.0\n",
      "3       Control                            7.0\n",
      "4       Control                            7.0\n",
      "...         ...                            ...\n",
      "3199    LinPred                            2.0\n",
      "3200    LinPred                            2.0\n",
      "3201    LinPred                            0.0\n",
      "3202    LinPred                            0.0\n",
      "3203    LinPred                            4.0\n",
      "\n",
      "[3204 rows x 2 columns]\n"
     ]
    },
    {
     "name": "stderr",
     "output_type": "stream",
     "text": [
      "/var/folders/cb/y_45syrn4kd26w8rrdgvk_3r0000gn/T/ipykernel_53661/627631000.py:24: PerformanceWarning:\n",
      "\n",
      "DataFrame is highly fragmented.  This is usually the result of calling `frame.insert` many times, which has poor performance.  Consider joining all columns at once using pd.concat(axis=1) instead.  To get a de-fragmented frame, use `newframe = frame.copy()`\n",
      "\n",
      "127.0.0.1 - - [22/Aug/2022 16:19:50] \"POST /_dash-update-component HTTP/1.1\" 200 -\n"
     ]
    },
    {
     "name": "stdout",
     "output_type": "stream",
     "text": [
      "     Gene_Knock  retinal pigmented epithelium (late)\n",
      "0       Control                                  0.0\n",
      "1       Control                                  1.0\n",
      "2       Control                                  2.0\n",
      "3       Control                                  1.0\n",
      "4       Control                                  2.0\n",
      "...         ...                                  ...\n",
      "3199    LinPred                                  0.0\n",
      "3200    LinPred                                  0.0\n",
      "3201    LinPred                                  0.0\n",
      "3202    LinPred                                  0.0\n",
      "3203    LinPred                                  0.0\n",
      "\n",
      "[3204 rows x 2 columns]\n"
     ]
    },
    {
     "name": "stderr",
     "output_type": "stream",
     "text": [
      "/var/folders/cb/y_45syrn4kd26w8rrdgvk_3r0000gn/T/ipykernel_53661/627631000.py:24: PerformanceWarning:\n",
      "\n",
      "DataFrame is highly fragmented.  This is usually the result of calling `frame.insert` many times, which has poor performance.  Consider joining all columns at once using pd.concat(axis=1) instead.  To get a de-fragmented frame, use `newframe = frame.copy()`\n",
      "\n",
      "127.0.0.1 - - [22/Aug/2022 16:19:52] \"POST /_dash-update-component HTTP/1.1\" 200 -\n"
     ]
    },
    {
     "name": "stdout",
     "output_type": "stream",
     "text": [
      "     Gene_Knock  retinal neuron (RGC, photoreceptor, bipolar cell)\n",
      "0       Control                                               15.0\n",
      "1       Control                                               18.0\n",
      "2       Control                                               22.0\n",
      "3       Control                                               36.0\n",
      "4       Control                                               25.0\n",
      "...         ...                                                ...\n",
      "3199    LinPred                                                6.0\n",
      "3200    LinPred                                                9.0\n",
      "3201    LinPred                                                3.0\n",
      "3202    LinPred                                               10.0\n",
      "3203    LinPred                                                9.0\n",
      "\n",
      "[3204 rows x 2 columns]\n"
     ]
    },
    {
     "name": "stderr",
     "output_type": "stream",
     "text": [
      "/var/folders/cb/y_45syrn4kd26w8rrdgvk_3r0000gn/T/ipykernel_53661/627631000.py:24: PerformanceWarning:\n",
      "\n",
      "DataFrame is highly fragmented.  This is usually the result of calling `frame.insert` many times, which has poor performance.  Consider joining all columns at once using pd.concat(axis=1) instead.  To get a de-fragmented frame, use `newframe = frame.copy()`\n",
      "\n",
      "127.0.0.1 - - [22/Aug/2022 16:19:52] \"POST /_dash-update-component HTTP/1.1\" 200 -\n"
     ]
    },
    {
     "name": "stdout",
     "output_type": "stream",
     "text": [
      "     Gene_Knock  radial glia\n",
      "0       Control          3.0\n",
      "1       Control          6.0\n",
      "2       Control          2.0\n",
      "3       Control         10.0\n",
      "4       Control          9.0\n",
      "...         ...          ...\n",
      "3199    LinPred          0.0\n",
      "3200    LinPred          0.0\n",
      "3201    LinPred          0.0\n",
      "3202    LinPred          0.0\n",
      "3203    LinPred          0.0\n",
      "\n",
      "[3204 rows x 2 columns]\n"
     ]
    },
    {
     "name": "stderr",
     "output_type": "stream",
     "text": [
      "/var/folders/cb/y_45syrn4kd26w8rrdgvk_3r0000gn/T/ipykernel_53661/627631000.py:24: PerformanceWarning:\n",
      "\n",
      "DataFrame is highly fragmented.  This is usually the result of calling `frame.insert` many times, which has poor performance.  Consider joining all columns at once using pd.concat(axis=1) instead.  To get a de-fragmented frame, use `newframe = frame.copy()`\n",
      "\n",
      "/var/folders/cb/y_45syrn4kd26w8rrdgvk_3r0000gn/T/ipykernel_53661/627631000.py:24: PerformanceWarning:\n",
      "\n",
      "DataFrame is highly fragmented.  This is usually the result of calling `frame.insert` many times, which has poor performance.  Consider joining all columns at once using pd.concat(axis=1) instead.  To get a de-fragmented frame, use `newframe = frame.copy()`\n",
      "\n",
      "/var/folders/cb/y_45syrn4kd26w8rrdgvk_3r0000gn/T/ipykernel_53661/627631000.py:24: PerformanceWarning:\n",
      "\n",
      "DataFrame is highly fragmented.  This is usually the result of calling `frame.insert` many times, which has poor performance.  Consider joining all columns at once using pd.concat(axis=1) instead.  To get a de-fragmented frame, use `newframe = frame.copy()`\n",
      "\n",
      "127.0.0.1 - - [22/Aug/2022 16:19:54] \"POST /_dash-update-component HTTP/1.1\" 200 -\n"
     ]
    },
    {
     "name": "stdout",
     "output_type": "stream",
     "text": [
      "     Gene_Knock  pharyngeal arch (contains muscle, early cartilage)\n",
      "0       Control                                               71.0 \n",
      "1       Control                                               77.0 \n",
      "2       Control                                               62.0 \n",
      "3       Control                                               89.0 \n",
      "4       Control                                               85.0 \n",
      "...         ...                                                ... \n",
      "3199    LinPred                                               53.0 \n",
      "3200    LinPred                                               55.0 \n",
      "3201    LinPred                                               40.0 \n",
      "3202    LinPred                                               66.0 \n",
      "3203    LinPred                                               42.0 \n",
      "\n",
      "[3204 rows x 2 columns]     Gene_Knock  periderm 3\n",
      "0       Control         1.0\n",
      "1       Control         0.0\n",
      "2       Control         2.0\n",
      "3       Control         1.0\n",
      "4       Control         0.0\n",
      "...         ...         ...\n",
      "3199    LinPred         0.0\n",
      "3200    LinPred         0.0\n",
      "3201    LinPred         0.0\n",
      "3202    LinPred         0.0\n",
      "3203    LinPred         0.0\n",
      "\n",
      "[3204 rows x 2 columns]\n",
      "\n"
     ]
    },
    {
     "name": "stderr",
     "output_type": "stream",
     "text": [
      "127.0.0.1 - - [22/Aug/2022 16:19:54] \"POST /_dash-update-component HTTP/1.1\" 200 -\n",
      "/var/folders/cb/y_45syrn4kd26w8rrdgvk_3r0000gn/T/ipykernel_53661/627631000.py:24: PerformanceWarning:\n",
      "\n",
      "DataFrame is highly fragmented.  This is usually the result of calling `frame.insert` many times, which has poor performance.  Consider joining all columns at once using pd.concat(axis=1) instead.  To get a de-fragmented frame, use `newframe = frame.copy()`\n",
      "\n",
      "/var/folders/cb/y_45syrn4kd26w8rrdgvk_3r0000gn/T/ipykernel_53661/627631000.py:24: PerformanceWarning:\n",
      "\n",
      "DataFrame is highly fragmented.  This is usually the result of calling `frame.insert` many times, which has poor performance.  Consider joining all columns at once using pd.concat(axis=1) instead.  To get a de-fragmented frame, use `newframe = frame.copy()`\n",
      "\n",
      "/var/folders/cb/y_45syrn4kd26w8rrdgvk_3r0000gn/T/ipykernel_53661/627631000.py:24: PerformanceWarning:\n",
      "\n",
      "DataFrame is highly fragmented.  This is usually the result of calling `frame.insert` many times, which has poor performance.  Consider joining all columns at once using pd.concat(axis=1) instead.  To get a de-fragmented frame, use `newframe = frame.copy()`\n",
      "\n",
      "127.0.0.1 - - [22/Aug/2022 16:19:54] \"POST /_dash-update-component HTTP/1.1\" 200 -\n",
      "127.0.0.1 - - [22/Aug/2022 16:19:54] \"POST /_dash-update-component HTTP/1.1\" 200 -\n"
     ]
    },
    {
     "name": "stdout",
     "output_type": "stream",
     "text": [
      "     Gene_Knock  periderm 17\n",
      "0       Control         15.0\n",
      "1       Control         23.0\n",
      "2       Control         24.0\n",
      "3       Control         19.0\n",
      "4       Control         29.0\n",
      "...         ...          ...\n",
      "3199    LinPred          9.0\n",
      "3200    LinPred          2.0\n",
      "3201    LinPred         15.0\n",
      "3202    LinPred         13.0\n",
      "3203    LinPred          4.0\n",
      "\n",
      "[3204 rows x 2 columns]\n",
      "     Gene_Knock  mature fast muscle 5\n",
      "0       Control                  13.0\n",
      "1       Control                   4.0\n",
      "2       Control                   7.0\n",
      "3       Control                  10.0\n",
      "4       Control                  33.0\n",
      "...         ...                   ...\n",
      "3199    LinPred                  12.0\n",
      "3200    LinPred                  16.0\n",
      "3201    LinPred                  12.0\n",
      "3202    LinPred                   7.0\n",
      "3203    LinPred                  30.0\n",
      "\n",
      "[3204 rows x 2 columns]\n"
     ]
    },
    {
     "name": "stderr",
     "output_type": "stream",
     "text": [
      "/var/folders/cb/y_45syrn4kd26w8rrdgvk_3r0000gn/T/ipykernel_53661/627631000.py:24: PerformanceWarning:\n",
      "\n",
      "DataFrame is highly fragmented.  This is usually the result of calling `frame.insert` many times, which has poor performance.  Consider joining all columns at once using pd.concat(axis=1) instead.  To get a de-fragmented frame, use `newframe = frame.copy()`\n",
      "\n",
      "127.0.0.1 - - [22/Aug/2022 16:19:54] \"POST /_dash-update-component HTTP/1.1\" 200 -\n"
     ]
    },
    {
     "name": "stdout",
     "output_type": "stream",
     "text": [
      "     Gene_Knock  iridophore\n",
      "0       Control        11.0\n",
      "1       Control        12.0\n",
      "2       Control        15.0\n",
      "3       Control        29.0\n",
      "4       Control        14.0\n",
      "...         ...         ...\n",
      "3199    LinPred         3.0\n",
      "3200    LinPred         2.0\n",
      "3201    LinPred         3.0\n",
      "3202    LinPred         7.0\n",
      "3203    LinPred         3.0\n",
      "\n",
      "[3204 rows x 2 columns]     Gene_Knock  hair cell\n",
      "0       Control        3.0\n",
      "1       Control        5.0\n",
      "2       Control        7.0\n",
      "3       Control        3.0\n",
      "4       Control        3.0\n",
      "...         ...        ...\n",
      "3199    LinPred        0.0\n",
      "3200    LinPred        2.0\n",
      "3201    LinPred        5.0\n",
      "3202    LinPred        2.0\n",
      "3203    LinPred        0.0\n",
      "\n",
      "[3204 rows x 2 columns]\n",
      "\n"
     ]
    },
    {
     "name": "stderr",
     "output_type": "stream",
     "text": [
      "127.0.0.1 - - [22/Aug/2022 16:19:54] \"POST /_dash-update-component HTTP/1.1\" 200 -\n",
      "/var/folders/cb/y_45syrn4kd26w8rrdgvk_3r0000gn/T/ipykernel_53661/627631000.py:24: PerformanceWarning:\n",
      "\n",
      "DataFrame is highly fragmented.  This is usually the result of calling `frame.insert` many times, which has poor performance.  Consider joining all columns at once using pd.concat(axis=1) instead.  To get a de-fragmented frame, use `newframe = frame.copy()`\n",
      "\n",
      "127.0.0.1 - - [22/Aug/2022 16:19:54] \"POST /_dash-update-component HTTP/1.1\" 200 -\n"
     ]
    },
    {
     "name": "stdout",
     "output_type": "stream",
     "text": [
      "     Gene_Knock  adrenal gland\n",
      "0       Control            1.0\n",
      "1       Control            3.0\n",
      "2       Control            0.0\n",
      "3       Control            1.0\n",
      "4       Control            1.0\n",
      "...         ...            ...\n",
      "3199    LinPred            2.0\n",
      "3200    LinPred            3.0\n",
      "3201    LinPred            5.0\n",
      "3202    LinPred            5.0\n",
      "3203    LinPred            6.0\n",
      "\n",
      "[3204 rows x 2 columns]\n",
      "     Gene_Knock  cranial muscle (late)\n",
      "0       Control                    5.0\n",
      "1       Control                    9.0\n",
      "2       Control                    1.0\n",
      "3       Control                    7.0\n",
      "4       Control                    3.0\n",
      "...         ...                    ...\n",
      "3199    LinPred                    0.0\n",
      "3200    LinPred                    0.0\n",
      "3201    LinPred                    0.0\n",
      "3202    LinPred                    0.0\n",
      "3203    LinPred                    0.0\n",
      "\n",
      "[3204 rows x 2 columns]\n"
     ]
    },
    {
     "name": "stderr",
     "output_type": "stream",
     "text": [
      "/var/folders/cb/y_45syrn4kd26w8rrdgvk_3r0000gn/T/ipykernel_53661/627631000.py:24: PerformanceWarning:\n",
      "\n",
      "DataFrame is highly fragmented.  This is usually the result of calling `frame.insert` many times, which has poor performance.  Consider joining all columns at once using pd.concat(axis=1) instead.  To get a de-fragmented frame, use `newframe = frame.copy()`\n",
      "\n",
      "/var/folders/cb/y_45syrn4kd26w8rrdgvk_3r0000gn/T/ipykernel_53661/627631000.py:24: PerformanceWarning:\n",
      "\n",
      "DataFrame is highly fragmented.  This is usually the result of calling `frame.insert` many times, which has poor performance.  Consider joining all columns at once using pd.concat(axis=1) instead.  To get a de-fragmented frame, use `newframe = frame.copy()`\n",
      "\n",
      "127.0.0.1 - - [22/Aug/2022 16:19:55] \"POST /_dash-update-component HTTP/1.1\" 200 -\n",
      "127.0.0.1 - - [22/Aug/2022 16:19:55] \"POST /_dash-update-component HTTP/1.1\" 200 -\n",
      "127.0.0.1 - - [22/Aug/2022 16:19:55] \"POST /_dash-update-component HTTP/1.1\" 200 -\n",
      "127.0.0.1 - - [22/Aug/2022 16:19:55] \"POST /_dash-update-component HTTP/1.1\" 200 -\n"
     ]
    },
    {
     "name": "stdout",
     "output_type": "stream",
     "text": [
      "     Gene_Knock  basal cell (late)\n",
      "0       Control               35.0\n",
      "1       Control               22.0\n",
      "2       Control               26.0\n",
      "3       Control               23.0\n",
      "4       Control               13.0\n",
      "...         ...                ...\n",
      "3199    LinPred                0.0\n",
      "3200    LinPred                0.0\n",
      "3201    LinPred                0.0\n",
      "3202    LinPred                0.0\n",
      "3203    LinPred                0.0\n",
      "\n",
      "[3204 rows x 2 columns]\n",
      "     Gene_Knock  chondrocranium\n",
      "0       Control             9.0\n",
      "1       Control            12.0\n",
      "2       Control            12.0\n",
      "3       Control            12.0\n",
      "4       Control            19.0\n",
      "...         ...             ...\n",
      "3199    LinPred             8.0\n",
      "3200    LinPred             7.0\n",
      "3201    LinPred             7.0\n",
      "3202    LinPred            10.0\n",
      "3203    LinPred             9.0\n",
      "\n",
      "[3204 rows x 2 columns]\n",
      "     Gene_Knock  connective tissue-meninges-dermal FB (early)\n",
      "0       Control                                           0.0\n",
      "1       Control                                           0.0\n",
      "2       Control                                           1.0\n",
      "3       Control                                           0.0\n",
      "4       Control                                           0.0\n",
      "...         ...                                           ...\n",
      "3199    LinPred                                           2.0\n",
      "3200    LinPred                                           2.0\n",
      "3201    LinPred                                           3.0\n",
      "3202    LinPred                                           2.0\n",
      "3203    LinPred                                           3.0\n",
      "\n",
      "[3204 rows x 2 columns]\n"
     ]
    },
    {
     "name": "stderr",
     "output_type": "stream",
     "text": [
      "/var/folders/cb/y_45syrn4kd26w8rrdgvk_3r0000gn/T/ipykernel_53661/627631000.py:24: PerformanceWarning:\n",
      "\n",
      "DataFrame is highly fragmented.  This is usually the result of calling `frame.insert` many times, which has poor performance.  Consider joining all columns at once using pd.concat(axis=1) instead.  To get a de-fragmented frame, use `newframe = frame.copy()`\n",
      "\n",
      "127.0.0.1 - - [22/Aug/2022 16:19:58] \"POST /_dash-update-component HTTP/1.1\" 200 -\n"
     ]
    },
    {
     "name": "stdout",
     "output_type": "stream",
     "text": [
      "     Gene_Knock  cranial muscle (late)\n",
      "0       Control                    5.0\n",
      "1       Control                    9.0\n",
      "2       Control                    1.0\n",
      "3       Control                    7.0\n",
      "4       Control                    3.0\n",
      "...         ...                    ...\n",
      "3199    LinPred                    0.0\n",
      "3200    LinPred                    0.0\n",
      "3201    LinPred                    0.0\n",
      "3202    LinPred                    0.0\n",
      "3203    LinPred                    0.0\n",
      "\n",
      "[3204 rows x 2 columns]\n"
     ]
    },
    {
     "name": "stderr",
     "output_type": "stream",
     "text": [
      "/var/folders/cb/y_45syrn4kd26w8rrdgvk_3r0000gn/T/ipykernel_53661/627631000.py:24: PerformanceWarning:\n",
      "\n",
      "DataFrame is highly fragmented.  This is usually the result of calling `frame.insert` many times, which has poor performance.  Consider joining all columns at once using pd.concat(axis=1) instead.  To get a de-fragmented frame, use `newframe = frame.copy()`\n",
      "\n",
      "127.0.0.1 - - [22/Aug/2022 16:19:59] \"POST /_dash-update-component HTTP/1.1\" 200 -\n"
     ]
    },
    {
     "name": "stdout",
     "output_type": "stream",
     "text": [
      "     Gene_Knock  connective tissue-meninges-dermal FB (early)\n",
      "0       Control                                           0.0\n",
      "1       Control                                           0.0\n",
      "2       Control                                           1.0\n",
      "3       Control                                           0.0\n",
      "4       Control                                           0.0\n",
      "...         ...                                           ...\n",
      "3199    LinPred                                           2.0\n",
      "3200    LinPred                                           2.0\n",
      "3201    LinPred                                           3.0\n",
      "3202    LinPred                                           2.0\n",
      "3203    LinPred                                           3.0\n",
      "\n",
      "[3204 rows x 2 columns]\n"
     ]
    },
    {
     "name": "stderr",
     "output_type": "stream",
     "text": [
      "/var/folders/cb/y_45syrn4kd26w8rrdgvk_3r0000gn/T/ipykernel_53661/627631000.py:24: PerformanceWarning:\n",
      "\n",
      "DataFrame is highly fragmented.  This is usually the result of calling `frame.insert` many times, which has poor performance.  Consider joining all columns at once using pd.concat(axis=1) instead.  To get a de-fragmented frame, use `newframe = frame.copy()`\n",
      "\n",
      "127.0.0.1 - - [22/Aug/2022 16:20:01] \"POST /_dash-update-component HTTP/1.1\" 200 -\n",
      "127.0.0.1 - - [22/Aug/2022 16:20:01] \"POST /_dash-update-component HTTP/1.1\" 200 -\n"
     ]
    },
    {
     "name": "stdout",
     "output_type": "stream",
     "text": [
      "     Gene_Knock  cranial muscle (late)\n",
      "0       Control                    5.0\n",
      "1       Control                    9.0\n",
      "2       Control                    1.0\n",
      "3       Control                    7.0\n",
      "4       Control                    3.0\n",
      "...         ...                    ...\n",
      "3199    LinPred                    0.0\n",
      "3200    LinPred                    0.0\n",
      "3201    LinPred                    0.0\n",
      "3202    LinPred                    0.0\n",
      "3203    LinPred                    0.0\n",
      "\n",
      "[3204 rows x 2 columns]\n",
      "     Gene_Knock  endothelium (dorsal aorta)\n",
      "0       Control                        29.0\n",
      "1       Control                        67.0\n",
      "2       Control                        59.0\n",
      "3       Control                        71.0\n",
      "4       Control                        72.0\n",
      "...         ...                         ...\n",
      "3199    LinPred                        51.0\n",
      "3200    LinPred                        58.0\n",
      "3201    LinPred                        71.0\n",
      "3202    LinPred                        58.0\n",
      "3203    LinPred                        52.0\n",
      "\n",
      "[3204 rows x 2 columns]\n"
     ]
    },
    {
     "name": "stderr",
     "output_type": "stream",
     "text": [
      "/var/folders/cb/y_45syrn4kd26w8rrdgvk_3r0000gn/T/ipykernel_53661/627631000.py:24: PerformanceWarning:\n",
      "\n",
      "DataFrame is highly fragmented.  This is usually the result of calling `frame.insert` many times, which has poor performance.  Consider joining all columns at once using pd.concat(axis=1) instead.  To get a de-fragmented frame, use `newframe = frame.copy()`\n",
      "\n",
      "/var/folders/cb/y_45syrn4kd26w8rrdgvk_3r0000gn/T/ipykernel_53661/627631000.py:24: PerformanceWarning:\n",
      "\n",
      "DataFrame is highly fragmented.  This is usually the result of calling `frame.insert` many times, which has poor performance.  Consider joining all columns at once using pd.concat(axis=1) instead.  To get a de-fragmented frame, use `newframe = frame.copy()`\n",
      "\n",
      "127.0.0.1 - - [22/Aug/2022 16:20:05] \"POST /_dash-update-component HTTP/1.1\" 200 -\n",
      "127.0.0.1 - - [22/Aug/2022 16:20:05] \"POST /_dash-update-component HTTP/1.1\" 200 -\n"
     ]
    },
    {
     "name": "stdout",
     "output_type": "stream",
     "text": [
      "     Gene_Knock  fin mesenchyme\n",
      "0       Control             0.0\n",
      "1       Control             0.0\n",
      "2       Control             0.0\n",
      "3       Control             1.0\n",
      "4       Control             0.0\n",
      "...         ...             ...\n",
      "3199    LinPred             0.0\n",
      "3200    LinPred             0.0\n",
      "3201    LinPred             0.0\n",
      "3202    LinPred             0.0\n",
      "3203    LinPred             0.0\n",
      "\n",
      "[3204 rows x 2 columns]\n",
      "     Gene_Knock  hair cell\n",
      "0       Control        3.0\n",
      "1       Control        5.0\n",
      "2       Control        7.0\n",
      "3       Control        3.0\n",
      "4       Control        3.0\n",
      "...         ...        ...\n",
      "3199    LinPred        0.0\n",
      "3200    LinPred        2.0\n",
      "3201    LinPred        5.0\n",
      "3202    LinPred        2.0\n",
      "3203    LinPred        0.0\n",
      "\n",
      "[3204 rows x 2 columns]\n"
     ]
    },
    {
     "name": "stderr",
     "output_type": "stream",
     "text": [
      "/var/folders/cb/y_45syrn4kd26w8rrdgvk_3r0000gn/T/ipykernel_53661/627631000.py:24: PerformanceWarning:\n",
      "\n",
      "DataFrame is highly fragmented.  This is usually the result of calling `frame.insert` many times, which has poor performance.  Consider joining all columns at once using pd.concat(axis=1) instead.  To get a de-fragmented frame, use `newframe = frame.copy()`\n",
      "\n",
      "127.0.0.1 - - [22/Aug/2022 16:20:05] \"POST /_dash-update-component HTTP/1.1\" 200 -\n"
     ]
    },
    {
     "name": "stdout",
     "output_type": "stream",
     "text": [
      "     Gene_Knock  hatching gland 2\n",
      "0       Control              59.0\n",
      "1       Control              93.0\n",
      "2       Control              57.0\n",
      "3       Control              28.0\n",
      "4       Control              65.0\n",
      "...         ...               ...\n",
      "3199    LinPred              17.0\n",
      "3200    LinPred              37.0\n",
      "3201    LinPred              14.0\n",
      "3202    LinPred              28.0\n",
      "3203    LinPred              17.0\n",
      "\n",
      "[3204 rows x 2 columns]\n"
     ]
    },
    {
     "name": "stderr",
     "output_type": "stream",
     "text": [
      "/var/folders/cb/y_45syrn4kd26w8rrdgvk_3r0000gn/T/ipykernel_53661/627631000.py:24: PerformanceWarning:\n",
      "\n",
      "DataFrame is highly fragmented.  This is usually the result of calling `frame.insert` many times, which has poor performance.  Consider joining all columns at once using pd.concat(axis=1) instead.  To get a de-fragmented frame, use `newframe = frame.copy()`\n",
      "\n",
      "127.0.0.1 - - [22/Aug/2022 16:20:06] \"POST /_dash-update-component HTTP/1.1\" 200 -\n"
     ]
    },
    {
     "name": "stdout",
     "output_type": "stream",
     "text": [
      "     Gene_Knock  intestine (mid)\n",
      "0       Control             35.0\n",
      "1       Control             21.0\n",
      "2       Control             25.0\n",
      "3       Control             48.0\n",
      "4       Control             18.0\n",
      "...         ...              ...\n",
      "3199    LinPred             10.0\n",
      "3200    LinPred             11.0\n",
      "3201    LinPred              7.0\n",
      "3202    LinPred              0.0\n",
      "3203    LinPred             16.0\n",
      "\n",
      "[3204 rows x 2 columns]\n"
     ]
    },
    {
     "name": "stderr",
     "output_type": "stream",
     "text": [
      "/var/folders/cb/y_45syrn4kd26w8rrdgvk_3r0000gn/T/ipykernel_53661/627631000.py:24: PerformanceWarning:\n",
      "\n",
      "DataFrame is highly fragmented.  This is usually the result of calling `frame.insert` many times, which has poor performance.  Consider joining all columns at once using pd.concat(axis=1) instead.  To get a de-fragmented frame, use `newframe = frame.copy()`\n",
      "\n",
      "127.0.0.1 - - [22/Aug/2022 16:20:08] \"POST /_dash-update-component HTTP/1.1\" 200 -\n"
     ]
    },
    {
     "name": "stdout",
     "output_type": "stream",
     "text": [
      "     Gene_Knock  iridophore\n",
      "0       Control        11.0\n",
      "1       Control        12.0\n",
      "2       Control        15.0\n",
      "3       Control        29.0\n",
      "4       Control        14.0\n",
      "...         ...         ...\n",
      "3199    LinPred         3.0\n",
      "3200    LinPred         2.0\n",
      "3201    LinPred         3.0\n",
      "3202    LinPred         7.0\n",
      "3203    LinPred         3.0\n",
      "\n",
      "[3204 rows x 2 columns]\n"
     ]
    },
    {
     "name": "stderr",
     "output_type": "stream",
     "text": [
      "/var/folders/cb/y_45syrn4kd26w8rrdgvk_3r0000gn/T/ipykernel_53661/627631000.py:24: PerformanceWarning:\n",
      "\n",
      "DataFrame is highly fragmented.  This is usually the result of calling `frame.insert` many times, which has poor performance.  Consider joining all columns at once using pd.concat(axis=1) instead.  To get a de-fragmented frame, use `newframe = frame.copy()`\n",
      "\n",
      "127.0.0.1 - - [22/Aug/2022 16:20:10] \"POST /_dash-update-component HTTP/1.1\" 200 -\n"
     ]
    },
    {
     "name": "stdout",
     "output_type": "stream",
     "text": [
      "     Gene_Knock  jaw chondrocyte\n",
      "0       Control             12.0\n",
      "1       Control              8.0\n",
      "2       Control             20.0\n",
      "3       Control             12.0\n",
      "4       Control             12.0\n",
      "...         ...              ...\n",
      "3199    LinPred              0.0\n",
      "3200    LinPred              0.0\n",
      "3201    LinPred              0.0\n",
      "3202    LinPred              0.0\n",
      "3203    LinPred              0.0\n",
      "\n",
      "[3204 rows x 2 columns]\n"
     ]
    },
    {
     "name": "stderr",
     "output_type": "stream",
     "text": [
      "/var/folders/cb/y_45syrn4kd26w8rrdgvk_3r0000gn/T/ipykernel_53661/627631000.py:24: PerformanceWarning:\n",
      "\n",
      "DataFrame is highly fragmented.  This is usually the result of calling `frame.insert` many times, which has poor performance.  Consider joining all columns at once using pd.concat(axis=1) instead.  To get a de-fragmented frame, use `newframe = frame.copy()`\n",
      "\n",
      "127.0.0.1 - - [22/Aug/2022 16:20:12] \"POST /_dash-update-component HTTP/1.1\" 200 -\n"
     ]
    },
    {
     "name": "stdout",
     "output_type": "stream",
     "text": [
      "     Gene_Knock  liver\n",
      "0       Control   19.0\n",
      "1       Control    5.0\n",
      "2       Control   15.0\n",
      "3       Control    7.0\n",
      "4       Control   10.0\n",
      "...         ...    ...\n",
      "3199    LinPred    3.0\n",
      "3200    LinPred    0.0\n",
      "3201    LinPred    4.0\n",
      "3202    LinPred    2.0\n",
      "3203    LinPred    0.0\n",
      "\n",
      "[3204 rows x 2 columns]\n"
     ]
    },
    {
     "name": "stderr",
     "output_type": "stream",
     "text": [
      "/var/folders/cb/y_45syrn4kd26w8rrdgvk_3r0000gn/T/ipykernel_53661/627631000.py:24: PerformanceWarning:\n",
      "\n",
      "DataFrame is highly fragmented.  This is usually the result of calling `frame.insert` many times, which has poor performance.  Consider joining all columns at once using pd.concat(axis=1) instead.  To get a de-fragmented frame, use `newframe = frame.copy()`\n",
      "\n",
      "127.0.0.1 - - [22/Aug/2022 16:20:13] \"POST /_dash-update-component HTTP/1.1\" 200 -\n"
     ]
    },
    {
     "name": "stdout",
     "output_type": "stream",
     "text": [
      "     Gene_Knock  mature fast muscle 1\n",
      "0       Control                   0.0\n",
      "1       Control                   1.0\n",
      "2       Control                   0.0\n",
      "3       Control                   1.0\n",
      "4       Control                   0.0\n",
      "...         ...                   ...\n",
      "3199    LinPred                   2.0\n",
      "3200    LinPred                   3.0\n",
      "3201    LinPred                   2.0\n",
      "3202    LinPred                   3.0\n",
      "3203    LinPred                   2.0\n",
      "\n",
      "[3204 rows x 2 columns]\n"
     ]
    },
    {
     "name": "stderr",
     "output_type": "stream",
     "text": [
      "/var/folders/cb/y_45syrn4kd26w8rrdgvk_3r0000gn/T/ipykernel_53661/627631000.py:24: PerformanceWarning:\n",
      "\n",
      "DataFrame is highly fragmented.  This is usually the result of calling `frame.insert` many times, which has poor performance.  Consider joining all columns at once using pd.concat(axis=1) instead.  To get a de-fragmented frame, use `newframe = frame.copy()`\n",
      "\n",
      "127.0.0.1 - - [22/Aug/2022 16:20:16] \"POST /_dash-update-component HTTP/1.1\" 200 -\n"
     ]
    },
    {
     "name": "stdout",
     "output_type": "stream",
     "text": [
      "     Gene_Knock  liver\n",
      "0       Control   19.0\n",
      "1       Control    5.0\n",
      "2       Control   15.0\n",
      "3       Control    7.0\n",
      "4       Control   10.0\n",
      "...         ...    ...\n",
      "3199    LinPred    3.0\n",
      "3200    LinPred    0.0\n",
      "3201    LinPred    4.0\n",
      "3202    LinPred    2.0\n",
      "3203    LinPred    0.0\n",
      "\n",
      "[3204 rows x 2 columns]\n"
     ]
    },
    {
     "name": "stderr",
     "output_type": "stream",
     "text": [
      "/var/folders/cb/y_45syrn4kd26w8rrdgvk_3r0000gn/T/ipykernel_53661/627631000.py:24: PerformanceWarning:\n",
      "\n",
      "DataFrame is highly fragmented.  This is usually the result of calling `frame.insert` many times, which has poor performance.  Consider joining all columns at once using pd.concat(axis=1) instead.  To get a de-fragmented frame, use `newframe = frame.copy()`\n",
      "\n"
     ]
    },
    {
     "name": "stdout",
     "output_type": "stream",
     "text": [
      "     Gene_Knock  liver\n",
      "0       Control   19.0\n",
      "1       Control    5.0\n",
      "2       Control   15.0\n",
      "3       Control    7.0\n",
      "4       Control   10.0\n",
      "...         ...    ...\n",
      "3199    LinPred    3.0\n",
      "3200    LinPred    0.0\n",
      "3201    LinPred    4.0\n",
      "3202    LinPred    2.0\n",
      "3203    LinPred    0.0\n",
      "\n",
      "[3204 rows x 2 columns]\n"
     ]
    },
    {
     "name": "stderr",
     "output_type": "stream",
     "text": [
      "127.0.0.1 - - [22/Aug/2022 16:20:19] \"POST /_dash-update-component HTTP/1.1\" 200 -\n",
      "127.0.0.1 - - [22/Aug/2022 16:20:19] \"POST /_dash-update-component HTTP/1.1\" 200 -\n",
      "/var/folders/cb/y_45syrn4kd26w8rrdgvk_3r0000gn/T/ipykernel_53661/627631000.py:24: PerformanceWarning:\n",
      "\n",
      "DataFrame is highly fragmented.  This is usually the result of calling `frame.insert` many times, which has poor performance.  Consider joining all columns at once using pd.concat(axis=1) instead.  To get a de-fragmented frame, use `newframe = frame.copy()`\n",
      "\n",
      "127.0.0.1 - - [22/Aug/2022 16:20:20] \"POST /_dash-update-component HTTP/1.1\" 200 -\n"
     ]
    },
    {
     "name": "stdout",
     "output_type": "stream",
     "text": [
      "     Gene_Knock  basal cell (late)\n",
      "0       Control               35.0\n",
      "1       Control               22.0\n",
      "2       Control               26.0\n",
      "3       Control               23.0\n",
      "4       Control               13.0\n",
      "...         ...                ...\n",
      "3199    LinPred                0.0\n",
      "3200    LinPred                0.0\n",
      "3201    LinPred                0.0\n",
      "3202    LinPred                0.0\n",
      "3203    LinPred                0.0\n",
      "\n",
      "[3204 rows x 2 columns]\n"
     ]
    },
    {
     "name": "stderr",
     "output_type": "stream",
     "text": [
      "/var/folders/cb/y_45syrn4kd26w8rrdgvk_3r0000gn/T/ipykernel_53661/627631000.py:24: PerformanceWarning:\n",
      "\n",
      "DataFrame is highly fragmented.  This is usually the result of calling `frame.insert` many times, which has poor performance.  Consider joining all columns at once using pd.concat(axis=1) instead.  To get a de-fragmented frame, use `newframe = frame.copy()`\n",
      "\n",
      "127.0.0.1 - - [22/Aug/2022 16:20:26] \"POST /_dash-update-component HTTP/1.1\" 200 -\n",
      "127.0.0.1 - - [22/Aug/2022 16:20:27] \"POST /_dash-update-component HTTP/1.1\" 200 -\n"
     ]
    },
    {
     "name": "stdout",
     "output_type": "stream",
     "text": [
      "     Gene_Knock  basal cell (late)\n",
      "0       Control               35.0\n",
      "1       Control               22.0\n",
      "2       Control               26.0\n",
      "3       Control               23.0\n",
      "4       Control               13.0\n",
      "...         ...                ...\n",
      "3199    LinPred                0.0\n",
      "3200    LinPred                0.0\n",
      "3201    LinPred                0.0\n",
      "3202    LinPred                0.0\n",
      "3203    LinPred                0.0\n",
      "\n",
      "[3204 rows x 2 columns]\n"
     ]
    },
    {
     "name": "stderr",
     "output_type": "stream",
     "text": [
      "/var/folders/cb/y_45syrn4kd26w8rrdgvk_3r0000gn/T/ipykernel_53661/627631000.py:24: PerformanceWarning:\n",
      "\n",
      "DataFrame is highly fragmented.  This is usually the result of calling `frame.insert` many times, which has poor performance.  Consider joining all columns at once using pd.concat(axis=1) instead.  To get a de-fragmented frame, use `newframe = frame.copy()`\n",
      "\n",
      "127.0.0.1 - - [22/Aug/2022 16:20:29] \"POST /_dash-update-component HTTP/1.1\" 200 -\n"
     ]
    },
    {
     "name": "stdout",
     "output_type": "stream",
     "text": [
      "     Gene_Knock  chondrocranium\n",
      "0       Control             9.0\n",
      "1       Control            12.0\n",
      "2       Control            12.0\n",
      "3       Control            12.0\n",
      "4       Control            19.0\n",
      "...         ...             ...\n",
      "3199    LinPred             8.0\n",
      "3200    LinPred             7.0\n",
      "3201    LinPred             7.0\n",
      "3202    LinPred            10.0\n",
      "3203    LinPred             9.0\n",
      "\n",
      "[3204 rows x 2 columns]\n"
     ]
    },
    {
     "name": "stderr",
     "output_type": "stream",
     "text": [
      "/var/folders/cb/y_45syrn4kd26w8rrdgvk_3r0000gn/T/ipykernel_53661/627631000.py:24: PerformanceWarning:\n",
      "\n",
      "DataFrame is highly fragmented.  This is usually the result of calling `frame.insert` many times, which has poor performance.  Consider joining all columns at once using pd.concat(axis=1) instead.  To get a de-fragmented frame, use `newframe = frame.copy()`\n",
      "\n",
      "127.0.0.1 - - [22/Aug/2022 16:20:32] \"POST /_dash-update-component HTTP/1.1\" 200 -\n"
     ]
    },
    {
     "name": "stdout",
     "output_type": "stream",
     "text": [
      "     Gene_Knock  intestine (mid)\n",
      "0       Control             35.0\n",
      "1       Control             21.0\n",
      "2       Control             25.0\n",
      "3       Control             48.0\n",
      "4       Control             18.0\n",
      "...         ...              ...\n",
      "3199    LinPred             10.0\n",
      "3200    LinPred             11.0\n",
      "3201    LinPred              7.0\n",
      "3202    LinPred              0.0\n",
      "3203    LinPred             16.0\n",
      "\n",
      "[3204 rows x 2 columns]\n"
     ]
    },
    {
     "name": "stderr",
     "output_type": "stream",
     "text": [
      "/var/folders/cb/y_45syrn4kd26w8rrdgvk_3r0000gn/T/ipykernel_53661/627631000.py:24: PerformanceWarning:\n",
      "\n",
      "DataFrame is highly fragmented.  This is usually the result of calling `frame.insert` many times, which has poor performance.  Consider joining all columns at once using pd.concat(axis=1) instead.  To get a de-fragmented frame, use `newframe = frame.copy()`\n",
      "\n",
      "127.0.0.1 - - [22/Aug/2022 16:20:32] \"POST /_dash-update-component HTTP/1.1\" 200 -\n"
     ]
    },
    {
     "name": "stdout",
     "output_type": "stream",
     "text": [
      "     Gene_Knock  jaw chondrocyte\n",
      "0       Control             12.0\n",
      "1       Control              8.0\n",
      "2       Control             20.0\n",
      "3       Control             12.0\n",
      "4       Control             12.0\n",
      "...         ...              ...\n",
      "3199    LinPred              0.0\n",
      "3200    LinPred              0.0\n",
      "3201    LinPred              0.0\n",
      "3202    LinPred              0.0\n",
      "3203    LinPred              0.0\n",
      "\n",
      "[3204 rows x 2 columns]\n"
     ]
    },
    {
     "name": "stderr",
     "output_type": "stream",
     "text": [
      "/var/folders/cb/y_45syrn4kd26w8rrdgvk_3r0000gn/T/ipykernel_53661/627631000.py:24: PerformanceWarning:\n",
      "\n",
      "DataFrame is highly fragmented.  This is usually the result of calling `frame.insert` many times, which has poor performance.  Consider joining all columns at once using pd.concat(axis=1) instead.  To get a de-fragmented frame, use `newframe = frame.copy()`\n",
      "\n"
     ]
    },
    {
     "name": "stdout",
     "output_type": "stream",
     "text": [
      "     Gene_Knock  mature fast muscle 2\n",
      "0       Control                   4.0\n",
      "1       Control                  10.0\n",
      "2       Control                   7.0\n",
      "3       Control                   5.0\n",
      "4       Control                   7.0\n",
      "...         ...                   ...\n",
      "3199    LinPred                  75.0\n",
      "3200    LinPred                  78.0\n",
      "3201    LinPred                  76.0\n",
      "3202    LinPred                  66.0\n",
      "3203    LinPred                  70.0\n",
      "\n",
      "[3204 rows x 2 columns]\n"
     ]
    },
    {
     "name": "stderr",
     "output_type": "stream",
     "text": [
      "/var/folders/cb/y_45syrn4kd26w8rrdgvk_3r0000gn/T/ipykernel_53661/627631000.py:24: PerformanceWarning:\n",
      "\n",
      "DataFrame is highly fragmented.  This is usually the result of calling `frame.insert` many times, which has poor performance.  Consider joining all columns at once using pd.concat(axis=1) instead.  To get a de-fragmented frame, use `newframe = frame.copy()`\n",
      "\n",
      "127.0.0.1 - - [22/Aug/2022 16:20:34] \"POST /_dash-update-component HTTP/1.1\" 200 -\n",
      "127.0.0.1 - - [22/Aug/2022 16:20:34] \"POST /_dash-update-component HTTP/1.1\" 200 -\n",
      "127.0.0.1 - - [22/Aug/2022 16:20:34] \"POST /_dash-update-component HTTP/1.1\" 200 -\n",
      "127.0.0.1 - - [22/Aug/2022 16:20:34] \"POST /_dash-update-component HTTP/1.1\" 200 -\n"
     ]
    },
    {
     "name": "stdout",
     "output_type": "stream",
     "text": [
      "     Gene_Knock  neural progenitor (hindbrain)\n",
      "0       Control                            1.0\n",
      "1       Control                            0.0\n",
      "2       Control                            4.0\n",
      "3       Control                            1.0\n",
      "4       Control                            0.0\n",
      "...         ...                            ...\n",
      "3199    LinPred                            2.0\n",
      "3200    LinPred                            3.0\n",
      "3201    LinPred                            1.0\n",
      "3202    LinPred                            2.0\n",
      "3203    LinPred                            1.0\n",
      "\n",
      "[3204 rows x 2 columns]     Gene_Knock  periderm 18\n",
      "0       Control          1.0\n",
      "1       Control         45.0\n",
      "2       Control          0.0\n",
      "3       Control          0.0\n",
      "4       Control         20.0\n",
      "...         ...          ...\n",
      "3199    LinPred          0.0\n",
      "3200    LinPred          0.0\n",
      "3201    LinPred          0.0\n",
      "3202    LinPred          0.0\n",
      "3203    LinPred          0.0\n",
      "\n",
      "[3204 rows x 2 columns]\n",
      "\n",
      "     Gene_Knock  periderm 17\n",
      "0       Control         15.0\n",
      "1       Control         23.0\n",
      "2       Control         24.0\n",
      "3       Control         19.0\n",
      "4       Control         29.0\n",
      "...         ...          ...\n",
      "3199    LinPred          9.0\n",
      "3200    LinPred          2.0\n",
      "3201    LinPred         15.0\n",
      "3202    LinPred         13.0\n",
      "3203    LinPred          4.0\n",
      "\n",
      "[3204 rows x 2 columns]\n",
      "     Gene_Knock  periderm 17\n",
      "0       Control         15.0\n",
      "1       Control         23.0\n",
      "2       Control         24.0\n",
      "3       Control         19.0\n",
      "4       Control         29.0\n",
      "...         ...          ...\n",
      "3199    LinPred          9.0\n",
      "3200    LinPred          2.0\n",
      "3201    LinPred         15.0\n",
      "3202    LinPred         13.0\n",
      "3203    LinPred          4.0\n",
      "\n",
      "[3204 rows x 2 columns]\n"
     ]
    },
    {
     "name": "stderr",
     "output_type": "stream",
     "text": [
      "127.0.0.1 - - [22/Aug/2022 16:20:34] \"POST /_dash-update-component HTTP/1.1\" 200 -\n",
      "/var/folders/cb/y_45syrn4kd26w8rrdgvk_3r0000gn/T/ipykernel_53661/627631000.py:24: PerformanceWarning:\n",
      "\n",
      "DataFrame is highly fragmented.  This is usually the result of calling `frame.insert` many times, which has poor performance.  Consider joining all columns at once using pd.concat(axis=1) instead.  To get a de-fragmented frame, use `newframe = frame.copy()`\n",
      "\n",
      "127.0.0.1 - - [22/Aug/2022 16:20:34] \"POST /_dash-update-component HTTP/1.1\" 200 -\n"
     ]
    },
    {
     "name": "stdout",
     "output_type": "stream",
     "text": [
      "     Gene_Knock  periderm 3\n",
      "0       Control         1.0\n",
      "1       Control         0.0\n",
      "2       Control         2.0\n",
      "3       Control         1.0\n",
      "4       Control         0.0\n",
      "...         ...         ...\n",
      "3199    LinPred         0.0\n",
      "3200    LinPred         0.0\n",
      "3201    LinPred         0.0\n",
      "3202    LinPred         0.0\n",
      "3203    LinPred         0.0\n",
      "\n",
      "[3204 rows x 2 columns]\n",
      "     Gene_Knock  pharyngeal arch (contains muscle, early cartilage)\n",
      "0       Control                                               71.0 \n",
      "1       Control                                               77.0 \n",
      "2       Control                                               62.0 \n",
      "3       Control                                               89.0 \n",
      "4       Control                                               85.0 \n",
      "...         ...                                                ... \n",
      "3199    LinPred                                               53.0 \n",
      "3200    LinPred                                               55.0 \n",
      "3201    LinPred                                               40.0 \n",
      "3202    LinPred                                               66.0 \n",
      "3203    LinPred                                               42.0 \n",
      "\n",
      "[3204 rows x 2 columns]\n",
      "     Gene_Knock  radial glia\n",
      "0       Control          3.0\n",
      "1       Control          6.0\n",
      "2       Control          2.0\n",
      "3       Control         10.0\n",
      "4       Control          9.0\n",
      "...         ...          ...\n",
      "3199    LinPred          0.0\n",
      "3200    LinPred          0.0\n",
      "3201    LinPred          0.0\n",
      "3202    LinPred          0.0\n",
      "3203    LinPred          0.0\n",
      "\n",
      "[3204 rows x 2 columns]\n"
     ]
    },
    {
     "name": "stderr",
     "output_type": "stream",
     "text": [
      "127.0.0.1 - - [22/Aug/2022 16:20:34] \"POST /_dash-update-component HTTP/1.1\" 200 -\n",
      "127.0.0.1 - - [22/Aug/2022 16:20:34] \"POST /_dash-update-component HTTP/1.1\" 200 -\n",
      "/var/folders/cb/y_45syrn4kd26w8rrdgvk_3r0000gn/T/ipykernel_53661/627631000.py:24: PerformanceWarning:\n",
      "\n",
      "DataFrame is highly fragmented.  This is usually the result of calling `frame.insert` many times, which has poor performance.  Consider joining all columns at once using pd.concat(axis=1) instead.  To get a de-fragmented frame, use `newframe = frame.copy()`\n",
      "\n",
      "127.0.0.1 - - [22/Aug/2022 16:20:35] \"POST /_dash-update-component HTTP/1.1\" 200 -\n"
     ]
    },
    {
     "name": "stdout",
     "output_type": "stream",
     "text": [
      "     Gene_Knock  pharyngeal arch (contains muscle, early cartilage)\n",
      "0       Control                                               71.0 \n",
      "1       Control                                               77.0 \n",
      "2       Control                                               62.0 \n",
      "3       Control                                               89.0 \n",
      "4       Control                                               85.0 \n",
      "...         ...                                                ... \n",
      "3199    LinPred                                               53.0 \n",
      "3200    LinPred                                               55.0 \n",
      "3201    LinPred                                               40.0 \n",
      "3202    LinPred                                               66.0 \n",
      "3203    LinPred                                               42.0 \n",
      "\n",
      "[3204 rows x 2 columns]\n"
     ]
    }
   ],
   "source": [
    "#Dash Imports\n",
    "import dash\n",
    "from dash import dcc\n",
    "from dash import html\n",
    "from dash.dependencies import Input,Output\n",
    "import pandas as pd\n",
    "import plotly.express as px\n",
    "import pickle\n",
    "import math \n",
    "\n",
    "def LinearPrediction(CtrlDf, Gene1Df, Gene2Df):\n",
    "\n",
    "    df_to_return = pd.DataFrame()\n",
    "\n",
    "    for cell in CtrlDf.columns:\n",
    "        list_to_append = []\n",
    "\n",
    "        for Ctrl_Cell in CtrlDf[cell]:\n",
    "            for G1_Cell in Gene1Df[cell]:\n",
    "                for G2_Cell in Gene2Df[cell]:\n",
    "                    LinPre_V = Ctrl_Cell - ((Ctrl_Cell - G1_Cell) + (Ctrl_Cell - G2_Cell)) \n",
    "                    list_to_append.append(LinPre_V)\n",
    "        \n",
    "        df_to_return[cell] = list_to_append\n",
    "    \n",
    "    return df_to_return\n",
    "\n",
    "def Log2(treated_cell_count, control_cell_count, Sudo):\n",
    "    treated_cell_count = float(treated_cell_count)\n",
    "    control_cell_count = float(control_cell_count)\n",
    "\n",
    "    if Sudo == True:\n",
    "        treated_cell_count = treated_cell_count + 1\n",
    "        control_cell_count = control_cell_count + 1\n",
    "    \n",
    "    if treated_cell_count <= 0 or control_cell_count <= 0:\n",
    "        log2 = \"N/A\"\n",
    "    else:\n",
    "        log2 = math.log(((treated_cell_count)/(control_cell_count)), 2)\n",
    "\n",
    "    return log2\n",
    "\n",
    "external_stylesheets= ['https://codepen.io/chriddyp/pen/bWLwgP.css']\n",
    "app = dash.Dash(__name__, external_stylesheets = external_stylesheets)\n",
    "server = app.server\n",
    "\n",
    "Measured_Data = pd.read_csv('./Measured_Data.csv')\n",
    "Measured_Data = Measured_Data.set_index(['Timepoint', 'Gene'])\n",
    "Measured_Data = Measured_Data.sort_index()\n",
    "\n",
    "with open('/Users/samsikora/Desktop/Trapnell Lab Files/Dash Server/scgen_pred.pickle', 'rb') as handle:\n",
    "    predictions = pickle.load(handle)\n",
    "\n",
    "for pre_key in predictions:\n",
    "    for ge_key in predictions[pre_key]:\n",
    "        predictions[pre_key][ge_key] = predictions[pre_key][ge_key].sort_index()\n",
    "\n",
    "hour_string_dict = {'_18_h': '18h', '_24_h': '24h', '_36_h': '36h', '_48_h': '48h', '_72_h': '72h'}\n",
    "_18_h_gene_list = [\"tbx16\", \"epha4a\", \"cdx4\", \"smo\", \"mafba\", \"egr2b\", \"noto\", \"tbxta\"]\n",
    "_24_h_gene_list = [\"cdx4\", \"noto\", \"tbx16\", \"zc4h2\", \"egr2b\", \"smo\", \"tbxta\", \"epha4a\", \"hand2\", \"hoxb1a\", \"tbx1\", \"mafba\"]\n",
    "_36_h_gene_list = [\"tbx1\", \"met\", \"hgfa\", \"hoxb1a\", \"foxd3\", \"zc4h2\", \"smo\", \"phox2a\", \"tbx16\", \"cdx4\", \"tfap2a\", \"hand2\", \"epha4a\", \"noto\", \"tbxta\", \"egr2b\", \"mafba\"]\n",
    "_48_h_gene_list = [\"hand2\", \"tfap2a\", \"foxi1\", \"zc4h2\", \"tbx1\", \"phox2a\", \"foxd3\", \"epha4a\", \"mafba\", \"hoxb1a\", \"egr2b\" ]\n",
    "_72_h_gene_list = [\"foxd3\", \"tfap2a\", \"foxi1\" ]\n",
    "\n",
    "dict_gene_string_list = {'_18_h': _18_h_gene_list, '_24_h': _24_h_gene_list, '_36_h': _36_h_gene_list, '_48_h': _48_h_gene_list, '_72_h': _72_h_gene_list}\n",
    "\n",
    "app.layout = html.Div([\n",
    "    html.H1(\"VAE Double Knockout Data\"),\n",
    "\n",
    "    #----------------------------------------\n",
    "    html.Div([\n",
    "        html.Div([\n",
    "            html.Label(['Hour Selection'], style={'font-weight': 'bold'}),\n",
    "            dcc.Dropdown(id='hour_dropdown', options=[\n",
    "                {'label': '18h', 'value': '_18_h'},\n",
    "                {'label': '24h', 'value': '_24_h'},\n",
    "                {'label': '36h', 'value': '_36_h'},\n",
    "                {'label': '48h', 'value': '_48_h'},\n",
    "                {'label': '72h', 'value': '_72_h'}\n",
    "            ])\n",
    "            ], style={'width': '15%', 'display': 'inline-block'}),\n",
    "        html.Div([\n",
    "            html.Label(['Gene to Focus'], style={'font-weight': 'bold'}),\n",
    "            dcc.Dropdown(id='gene1_dropdown')\n",
    "        ], style={'width': '15%', 'display': 'inline-block'}),\n",
    "        html.Div([\n",
    "            html.Label(['Genes to Test'], style={'font-weight': 'bold'}),\n",
    "            dcc.Dropdown(id='gene2_dropdown', multi = True)\n",
    "        ], style={'width': '70%', 'display': 'inline-block'}),\n",
    "\n",
    "        html.Br(),\n",
    "        \n",
    "        dcc.Checklist(id='checklist',\n",
    "            options=[\n",
    "                {'label': 'Only Report Values that come from more than 10 Cells', 'value': 'BCC'},\n",
    "                {'label': 'Calculate Fold Change from an Average of the Measured Genes Rather than LinPred', 'value': 'DL2'},\n",
    "                {'label': 'Sudo One added to Log2 calculations', 'value': 'SD1'},\n",
    "                {'label': 'Treat Negative Predictions as Zero', 'value': 'NEG'},\n",
    "                {'label': 'Only Report Fold Change Larger than:', 'value': 'BFC'}\n",
    "            ]\n",
    "        ),\n",
    "        html.Div([\n",
    "            dcc.Slider(\n",
    "            id='Big_Fold_Change',\n",
    "            min = 0, max = 2, value = 1, step = 0.1,\n",
    "            marks = {\n",
    "                0: '0',\n",
    "                0.5: '0.5',\n",
    "                1: '1',\n",
    "                1.5: '1.5',\n",
    "                2: '2'\n",
    "            }\n",
    "            )\n",
    "        ], style={'width': '30%', 'display': 'inline-block'})\n",
    "    ]),\n",
    "\n",
    "    #----------------------------------------\n",
    "    html.Div([\n",
    "        dcc.Graph(id='heatmap', style={'width': '48%', 'display': 'inline-block'}),\n",
    "        dcc.Graph(id='boxplot', style={'width': '48%', 'display': 'inline-block'})\n",
    "    ])\n",
    "])\n",
    "\n",
    "@app.callback(\n",
    "    Output('gene1_dropdown', 'options'),\n",
    "    Input(\"hour_dropdown\", \"value\")\n",
    ")\n",
    "def gene1_dropdown_avail(hour):\n",
    "    return [{'label': i, 'value': i} for i in dict_gene_string_list[hour]]\n",
    "#----------------------------------------\n",
    "@app.callback(\n",
    "    Output('gene2_dropdown', 'options'),\n",
    "    Input(\"hour_dropdown\", \"value\"),\n",
    "    Input('gene1_dropdown', 'value')\n",
    ")\n",
    "def gene2_dropdown_avail(hour, gene1):\n",
    "\n",
    "    string_to_show = list(dict_gene_string_list[hour])\n",
    "    string_to_show.remove(gene1)\n",
    "\n",
    "    return [{'label': i, 'value': i} for i in string_to_show]\n",
    "#----------------------------------------\n",
    "@app.callback(\n",
    "    Output('heatmap', 'figure'),\n",
    "    Input(\"hour_dropdown\", \"value\"),\n",
    "    Input(\"gene1_dropdown\", \"value\"),\n",
    "    Input(\"gene2_dropdown\", \"value\"),\n",
    "    Input('checklist', 'value'),\n",
    "    Input('Big_Fold_Change', 'value')\n",
    ")\n",
    "\n",
    "def make_heatmap(hour, gene1, gene2_muti, checklist, BFC_Input):\n",
    "\n",
    "    hour_readable = hour_string_dict[hour]\n",
    "    hour_predictions_string = hour\n",
    "    fold_change_df = pd.DataFrame(columns=['Gene', 'Cell Type', 'Log2'])\n",
    "\n",
    "    Show_Big_Count_Cells = False\n",
    "    Show_Big_Fold_Change = False\n",
    "    Dif_Log2 = False\n",
    "    Negtive_as_Zero = False\n",
    "    Sudo_One = False\n",
    "    title = f'Log2 Fold Change of ScGen Compared to Linear Prediction at {hour_readable}'\n",
    "\n",
    "\n",
    "    if checklist:\n",
    "        if 'BCC' in checklist:\n",
    "            Show_Big_Count_Cells = True\n",
    "            Big_Cell_Count = 10\n",
    "        if 'BFC' in checklist:\n",
    "            Show_Big_Fold_Change =  True\n",
    "            Big_Fold_Change = BFC_Input\n",
    "        if 'DL2' in checklist:\n",
    "            title = f'Log2 Fold Change of ScGen Compared to Measured Counts {hour_readable}'\n",
    "            Dif_Log2 = True\n",
    "        if 'NEG' in checklist:\n",
    "            Negtive_as_Zero = True\n",
    "        if 'SD1' in checklist:\n",
    "            Sudo_One = True\n",
    "\n",
    "    for gene2 in gene2_muti:\n",
    "\n",
    "        #Find the key needed to access the predicition data\n",
    "        for key_test in predictions[hour_predictions_string].keys():\n",
    "            if gene1 in key_test and gene2 in key_test:\n",
    "                gene_key = key_test\n",
    "\n",
    "        #Assign our prediciton and Ctrl Data\n",
    "        gene_1x2_df = predictions[hour_predictions_string][gene_key]\n",
    "\n",
    "        #Set our predictions to be zero\n",
    "        if Negtive_as_Zero == True:\n",
    "            gene_1x2_df[gene_1x2_df < 0] = 0\n",
    "\n",
    "        CtrlData = Measured_Data.loc[hour_readable, 'ctrl-inj'].reset_index(drop=True)\n",
    "\n",
    "        #Get Linear Predictions\n",
    "        LinPredDf = LinearPrediction(CtrlData, Measured_Data.loc[hour_readable, gene1], Measured_Data.loc[hour_readable, gene2])\n",
    "\n",
    "        #Set Predictions to be Zero\n",
    "        if Negtive_as_Zero == True:\n",
    "            LinPredDf[LinPredDf < 0 ] = 0\n",
    "\n",
    "        #Compress Predictions into one average count for each cell.\n",
    "        gene_1x2_df = gene_1x2_df.mean(axis=0)\n",
    "        LinPredDf = LinPredDf.mean(axis=0)\n",
    "        \n",
    "        #Calucate Log2 Variable and Push \n",
    "\n",
    "        if Show_Big_Count_Cells == True:\n",
    "            for cell in gene_1x2_df.index:\n",
    "                if gene_1x2_df[cell] > Big_Cell_Count and LinPredDf[cell] > Big_Cell_Count:\n",
    "                    if Dif_Log2 == True:\n",
    "                        #For every cell, cell count is bigger than Big_Cell_Count and Dif log is ture\n",
    "                        log_GC = Log2(gene_1x2_df[cell], Measured_Data.loc[hour_readable, gene1].reset_index(drop=True).mean(axis=0)[cell], Sudo_One)\n",
    "                        log2_G = Log2(gene_1x2_df[cell], Measured_Data.loc[hour_readable, gene2].reset_index(drop=True).mean(axis=0)[cell], Sudo_One)\n",
    "\n",
    "                        if log_GC != 'N/A' and log2_G != 'N/A':\n",
    "                            log2 = (log_GC + log2_G)/2\n",
    "                        else:\n",
    "                            log2 = 'N/A'\n",
    "\n",
    "                        fold_change_df.loc[len(fold_change_df.index)] = [f'{gene1}-{gene2}', cell, log2]  \n",
    "                    else:\n",
    "                        #For every cell, cell count is bigger than Big_Cell_Count and Dif log is false\n",
    "                        log2 = Log2(gene_1x2_df[cell], LinPredDf[cell], Sudo_One)\n",
    "                        fold_change_df.loc[len(fold_change_df.index)] = [f'{gene1}-{gene2}', cell, log2]\n",
    "                else:\n",
    "                    #For every cell, cell count is smaller than Big_Cell_Count, push NA\n",
    "                    fold_change_df.loc[len(fold_change_df.index)] = [f'{gene1}-{gene2}', cell, 'N/A']  \n",
    "        else:\n",
    "            for cell in gene_1x2_df.index:\n",
    "                if cell == 'liver':\n",
    "                    pass\n",
    "                if Dif_Log2 == True:\n",
    "                    #For every cell, big cell is false, and Dif Log2 is ture\n",
    "                    log_GC = Log2(gene_1x2_df[cell], Measured_Data.loc[hour_readable, gene1].reset_index(drop=True).mean(axis=0)[cell], Sudo_One)\n",
    "                    log2_G = Log2(gene_1x2_df[cell], Measured_Data.loc[hour_readable, gene2].reset_index(drop=True).mean(axis=0)[cell], Sudo_One)\n",
    "\n",
    "                    if log_GC != 'N/A' and log2_G != 'N/A':\n",
    "                        log2 = (log_GC + log2_G)/2\n",
    "                    else:\n",
    "                        log2 = 'N/A'\n",
    "\n",
    "                    fold_change_df.loc[len(fold_change_df.index)] = [f'{gene1}-{gene2}', cell, log2]  \n",
    "                else:\n",
    "                    #For every cell, big cell is false, and Dif Log2 is false\n",
    "                    log2 = Log2(gene_1x2_df[cell], LinPredDf[cell], Sudo_One)\n",
    "                    fold_change_df.loc[len(fold_change_df.index)] = [f'{gene1}-{gene2}', cell, log2] \n",
    "\n",
    "    #Pivot the Table for the Heatmap\n",
    "    fold_change_df = fold_change_df.reset_index()\n",
    "    fold_change_df = fold_change_df.pivot(\"Cell Type\", \"Gene\", \"Log2\")\n",
    "\n",
    "    #Knock out cell types that do not change, had zero or negtive numbers, and knockout 'NA' cell\n",
    "    fold_change_df_T = fold_change_df\n",
    "\n",
    "    cell_type_removed = []\n",
    "\n",
    "    for cell in fold_change_df.index:\n",
    "        \n",
    "        gene_cell_list = fold_change_df.loc[cell].values.flatten().tolist()\n",
    "\n",
    "        if 'N/A' in gene_cell_list:\n",
    "            fold_change_df_T = fold_change_df_T.drop(cell)\n",
    "            cell_type_removed.append(cell)\n",
    "        else:\n",
    "            if len(gene2_muti) > 1:\n",
    "                if gene_cell_list[:-1] == gene_cell_list[1:]:\n",
    "                    cell_type_removed.append(cell)\n",
    "                    fold_change_df_T = fold_change_df_T.drop(cell)\n",
    "\n",
    "    fold_change_df_T = fold_change_df_T.astype('float64')\n",
    "\n",
    "    #Data Transformation Boolean\n",
    "    if Show_Big_Fold_Change == True:\n",
    "        for cell in fold_change_df_T.index:\n",
    "            \n",
    "            gene_cell_list = fold_change_df_T.loc[cell].values.flatten().tolist()\n",
    "\n",
    "            if abs(max(gene_cell_list)) > abs(min(gene_cell_list)):\n",
    "                big_dif = abs(max(gene_cell_list))\n",
    "            else:\n",
    "                big_dif = abs(min(gene_cell_list))\n",
    "\n",
    "            if big_dif < Big_Fold_Change:\n",
    "                fold_change_df_T = fold_change_df_T.drop(cell)\n",
    "\n",
    "    Max_Val = max(fold_change_df_T.max(numeric_only=True).tolist())\n",
    "    Min_Val = min(fold_change_df_T.min(numeric_only=True).tolist())\n",
    "\n",
    "    if Max_Val > abs(Min_Val):\n",
    "        Lg_Rn = Max_Val\n",
    "        Sm_Rn = Lg_Rn * (-1)\n",
    "    else:\n",
    "        Lg_Rn = Min_Val * (-1)\n",
    "        Sm_Rn = Min_Val\n",
    "\n",
    "\n",
    "\n",
    "    HeatMap = px.imshow(fold_change_df_T, \n",
    "        title = title,\n",
    "        range_color = [Sm_Rn, Lg_Rn],\n",
    "        color_continuous_scale = 'RdBu_r'\n",
    "    )\n",
    "\n",
    "    HeatMap.write_html(\"./tfap2a_foxd3_heatmap.html\")\n",
    "\n",
    "    return HeatMap\n",
    "#-----------------------------------------------------------------------------------------------------------------------\n",
    "@app.callback(\n",
    "    Output('boxplot', 'figure'),\n",
    "    Input('hour_dropdown', \"value\"),\n",
    "    Input('heatmap', 'hoverData'),\n",
    "    Input('checklist', 'value')\n",
    ")\n",
    "def HoverToBoxPlot(hour, hoverdata, checklist): \n",
    "\n",
    "    genes = hoverdata['points'][0]['x'].split('-')\n",
    "    gene1 = genes[0]\n",
    "    gene2 = genes[1]\n",
    "\n",
    "    for key_test in predictions[hour].keys():\n",
    "        if gene1 in key_test and gene2 in key_test:\n",
    "            gene_key = key_test\n",
    "\n",
    "    cell = hoverdata['points'][0]['y']\n",
    "\n",
    "    hour_readable = hour_string_dict[hour]\n",
    "    \n",
    "    CtrlData = Measured_Data.loc[hour_readable, 'ctrl-inj'].reset_index(drop=True)\n",
    "    gene1_df = Measured_Data.loc[hour_readable, gene1].reset_index(drop=True)\n",
    "    gene2_df = Measured_Data.loc[hour_readable, gene2].reset_index(drop=True)\n",
    "    gene_1x2_df = predictions[hour][gene_key]\n",
    "    LinPredDf = LinearPrediction(CtrlData, gene1_df, gene2_df)\n",
    "\n",
    "    if checklist:\n",
    "        if 'NEG' in checklist:\n",
    "            gene_1x2_df[gene_1x2_df < 0 ] = 0\n",
    "            LinPredDf[LinPredDf < 0] = 0\n",
    "\n",
    "    DataFrame_Dict = {\n",
    "        \"Control\": CtrlData,\n",
    "        gene1: gene1_df,\n",
    "        gene2: gene2_df,\n",
    "        'Scgen': gene_1x2_df,\n",
    "        'LinPred': LinPredDf\n",
    "    }\n",
    "    \n",
    "    #Add Data to one Dataframe to graph\n",
    "    df_to_graph = pd.DataFrame()\n",
    "    for df in DataFrame_Dict:\n",
    "        df_to_append = DataFrame_Dict[df]\n",
    "        df_to_append = df_to_append[cell].to_frame()\n",
    "        df_to_append.insert(0, 'Gene_Knock', df)\n",
    "        df_to_append = df_to_append.reset_index(drop=True)\n",
    "        df_to_graph = df_to_graph.append(df_to_append)\n",
    "\n",
    "    df_to_graph = df_to_graph.reset_index(drop=True)\n",
    "\n",
    "    print(df_to_graph)\n",
    "    boxplot = px.box(df_to_graph, \n",
    "        x = 'Gene_Knock', y = cell, labels= {'Gene_Knock': 'Condition', cell : 'Number of Cells'},\n",
    "        title = f'Number of {cell} cells at {hour_readable}'\n",
    "    )\n",
    "\n",
    "    \n",
    "    return boxplot\n",
    "\n",
    "#----------------------------------------\n",
    "if __name__ == '__main__':\n",
    "    app.run_server()\n"
   ]
  }
 ],
 "metadata": {
  "kernelspec": {
   "display_name": "Python 3.9.5 ('base')",
   "language": "python",
   "name": "python3"
  },
  "language_info": {
   "codemirror_mode": {
    "name": "ipython",
    "version": 3
   },
   "file_extension": ".py",
   "mimetype": "text/x-python",
   "name": "python",
   "nbconvert_exporter": "python",
   "pygments_lexer": "ipython3",
   "version": "3.9.5"
  },
  "orig_nbformat": 4,
  "vscode": {
   "interpreter": {
    "hash": "3d597f4c481aa0f25dceb95d2a0067e73c0966dcbd003d741d821a7208527ecf"
   }
  }
 },
 "nbformat": 4,
 "nbformat_minor": 2
}
